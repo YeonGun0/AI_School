{
 "cells": [
  {
   "cell_type": "markdown",
   "id": "6913dd93",
   "metadata": {},
   "source": [
    "# 순서\n",
    "* store = pd.merge([features, store])\n",
    "* store 전처리\n",
    "* train.merge(store)\n",
    "* test.merge(store)\n",
    "* X, y split\n",
    "* Model.fit(X_train, y_train)\n",
    "* Model.predict(X_test)\n",
    "* submit"
   ]
  },
  {
   "cell_type": "markdown",
   "id": "a47bf61a",
   "metadata": {},
   "source": [
    "# load data & library"
   ]
  },
  {
   "cell_type": "code",
   "execution_count": 811,
   "id": "2ac2175a",
   "metadata": {},
   "outputs": [],
   "source": [
    "import pandas as pd\n",
    "import numpy as np\n",
    "import seaborn as sns\n",
    "import matplotlib.pyplot as plt"
   ]
  },
  {
   "cell_type": "code",
   "execution_count": 812,
   "id": "99287481",
   "metadata": {},
   "outputs": [
    {
     "name": "stdout",
     "output_type": "stream",
     "text": [
      "(421570, 5)\n"
     ]
    },
    {
     "data": {
      "text/html": [
       "<div>\n",
       "<style scoped>\n",
       "    .dataframe tbody tr th:only-of-type {\n",
       "        vertical-align: middle;\n",
       "    }\n",
       "\n",
       "    .dataframe tbody tr th {\n",
       "        vertical-align: top;\n",
       "    }\n",
       "\n",
       "    .dataframe thead th {\n",
       "        text-align: right;\n",
       "    }\n",
       "</style>\n",
       "<table border=\"1\" class=\"dataframe\">\n",
       "  <thead>\n",
       "    <tr style=\"text-align: right;\">\n",
       "      <th></th>\n",
       "      <th>Store</th>\n",
       "      <th>Dept</th>\n",
       "      <th>Date</th>\n",
       "      <th>Weekly_Sales</th>\n",
       "      <th>IsHoliday</th>\n",
       "    </tr>\n",
       "  </thead>\n",
       "  <tbody>\n",
       "    <tr>\n",
       "      <th>0</th>\n",
       "      <td>1</td>\n",
       "      <td>1</td>\n",
       "      <td>2010-02-05</td>\n",
       "      <td>24924.50</td>\n",
       "      <td>False</td>\n",
       "    </tr>\n",
       "    <tr>\n",
       "      <th>1</th>\n",
       "      <td>1</td>\n",
       "      <td>1</td>\n",
       "      <td>2010-02-12</td>\n",
       "      <td>46039.49</td>\n",
       "      <td>True</td>\n",
       "    </tr>\n",
       "    <tr>\n",
       "      <th>2</th>\n",
       "      <td>1</td>\n",
       "      <td>1</td>\n",
       "      <td>2010-02-19</td>\n",
       "      <td>41595.55</td>\n",
       "      <td>False</td>\n",
       "    </tr>\n",
       "    <tr>\n",
       "      <th>3</th>\n",
       "      <td>1</td>\n",
       "      <td>1</td>\n",
       "      <td>2010-02-26</td>\n",
       "      <td>19403.54</td>\n",
       "      <td>False</td>\n",
       "    </tr>\n",
       "    <tr>\n",
       "      <th>4</th>\n",
       "      <td>1</td>\n",
       "      <td>1</td>\n",
       "      <td>2010-03-05</td>\n",
       "      <td>21827.90</td>\n",
       "      <td>False</td>\n",
       "    </tr>\n",
       "  </tbody>\n",
       "</table>\n",
       "</div>"
      ],
      "text/plain": [
       "   Store  Dept        Date  Weekly_Sales  IsHoliday\n",
       "0      1     1  2010-02-05      24924.50      False\n",
       "1      1     1  2010-02-12      46039.49       True\n",
       "2      1     1  2010-02-19      41595.55      False\n",
       "3      1     1  2010-02-26      19403.54      False\n",
       "4      1     1  2010-03-05      21827.90      False"
      ]
     },
     "execution_count": 812,
     "metadata": {},
     "output_type": "execute_result"
    }
   ],
   "source": [
    "train = pd.read_csv(\"../data/MiniP4/train.csv.zip\")\n",
    "print(train.shape)\n",
    "train.head()"
   ]
  },
  {
   "cell_type": "code",
   "execution_count": 813,
   "id": "c26b22ab",
   "metadata": {},
   "outputs": [
    {
     "name": "stdout",
     "output_type": "stream",
     "text": [
      "(115064, 4)\n"
     ]
    },
    {
     "data": {
      "text/html": [
       "<div>\n",
       "<style scoped>\n",
       "    .dataframe tbody tr th:only-of-type {\n",
       "        vertical-align: middle;\n",
       "    }\n",
       "\n",
       "    .dataframe tbody tr th {\n",
       "        vertical-align: top;\n",
       "    }\n",
       "\n",
       "    .dataframe thead th {\n",
       "        text-align: right;\n",
       "    }\n",
       "</style>\n",
       "<table border=\"1\" class=\"dataframe\">\n",
       "  <thead>\n",
       "    <tr style=\"text-align: right;\">\n",
       "      <th></th>\n",
       "      <th>Store</th>\n",
       "      <th>Dept</th>\n",
       "      <th>Date</th>\n",
       "      <th>IsHoliday</th>\n",
       "    </tr>\n",
       "  </thead>\n",
       "  <tbody>\n",
       "    <tr>\n",
       "      <th>0</th>\n",
       "      <td>1</td>\n",
       "      <td>1</td>\n",
       "      <td>2012-11-02</td>\n",
       "      <td>False</td>\n",
       "    </tr>\n",
       "    <tr>\n",
       "      <th>1</th>\n",
       "      <td>1</td>\n",
       "      <td>1</td>\n",
       "      <td>2012-11-09</td>\n",
       "      <td>False</td>\n",
       "    </tr>\n",
       "    <tr>\n",
       "      <th>2</th>\n",
       "      <td>1</td>\n",
       "      <td>1</td>\n",
       "      <td>2012-11-16</td>\n",
       "      <td>False</td>\n",
       "    </tr>\n",
       "    <tr>\n",
       "      <th>3</th>\n",
       "      <td>1</td>\n",
       "      <td>1</td>\n",
       "      <td>2012-11-23</td>\n",
       "      <td>True</td>\n",
       "    </tr>\n",
       "    <tr>\n",
       "      <th>4</th>\n",
       "      <td>1</td>\n",
       "      <td>1</td>\n",
       "      <td>2012-11-30</td>\n",
       "      <td>False</td>\n",
       "    </tr>\n",
       "  </tbody>\n",
       "</table>\n",
       "</div>"
      ],
      "text/plain": [
       "   Store  Dept        Date  IsHoliday\n",
       "0      1     1  2012-11-02      False\n",
       "1      1     1  2012-11-09      False\n",
       "2      1     1  2012-11-16      False\n",
       "3      1     1  2012-11-23       True\n",
       "4      1     1  2012-11-30      False"
      ]
     },
     "execution_count": 813,
     "metadata": {},
     "output_type": "execute_result"
    }
   ],
   "source": [
    "test = pd.read_csv(\"../data/MiniP4/test.csv.zip\")\n",
    "print(test.shape)\n",
    "test.head()"
   ]
  },
  {
   "cell_type": "code",
   "execution_count": 814,
   "id": "09cad605",
   "metadata": {
    "scrolled": true
   },
   "outputs": [
    {
     "name": "stdout",
     "output_type": "stream",
     "text": [
      "(8190, 12)\n"
     ]
    },
    {
     "data": {
      "text/html": [
       "<div>\n",
       "<style scoped>\n",
       "    .dataframe tbody tr th:only-of-type {\n",
       "        vertical-align: middle;\n",
       "    }\n",
       "\n",
       "    .dataframe tbody tr th {\n",
       "        vertical-align: top;\n",
       "    }\n",
       "\n",
       "    .dataframe thead th {\n",
       "        text-align: right;\n",
       "    }\n",
       "</style>\n",
       "<table border=\"1\" class=\"dataframe\">\n",
       "  <thead>\n",
       "    <tr style=\"text-align: right;\">\n",
       "      <th></th>\n",
       "      <th>Store</th>\n",
       "      <th>Date</th>\n",
       "      <th>Temperature</th>\n",
       "      <th>Fuel_Price</th>\n",
       "      <th>MarkDown1</th>\n",
       "      <th>MarkDown2</th>\n",
       "      <th>MarkDown3</th>\n",
       "      <th>MarkDown4</th>\n",
       "      <th>MarkDown5</th>\n",
       "      <th>CPI</th>\n",
       "      <th>Unemployment</th>\n",
       "      <th>IsHoliday</th>\n",
       "    </tr>\n",
       "  </thead>\n",
       "  <tbody>\n",
       "    <tr>\n",
       "      <th>0</th>\n",
       "      <td>1</td>\n",
       "      <td>2010-02-05</td>\n",
       "      <td>42.31</td>\n",
       "      <td>2.572</td>\n",
       "      <td>NaN</td>\n",
       "      <td>NaN</td>\n",
       "      <td>NaN</td>\n",
       "      <td>NaN</td>\n",
       "      <td>NaN</td>\n",
       "      <td>211.096358</td>\n",
       "      <td>8.106</td>\n",
       "      <td>False</td>\n",
       "    </tr>\n",
       "    <tr>\n",
       "      <th>1</th>\n",
       "      <td>1</td>\n",
       "      <td>2010-02-12</td>\n",
       "      <td>38.51</td>\n",
       "      <td>2.548</td>\n",
       "      <td>NaN</td>\n",
       "      <td>NaN</td>\n",
       "      <td>NaN</td>\n",
       "      <td>NaN</td>\n",
       "      <td>NaN</td>\n",
       "      <td>211.242170</td>\n",
       "      <td>8.106</td>\n",
       "      <td>True</td>\n",
       "    </tr>\n",
       "    <tr>\n",
       "      <th>2</th>\n",
       "      <td>1</td>\n",
       "      <td>2010-02-19</td>\n",
       "      <td>39.93</td>\n",
       "      <td>2.514</td>\n",
       "      <td>NaN</td>\n",
       "      <td>NaN</td>\n",
       "      <td>NaN</td>\n",
       "      <td>NaN</td>\n",
       "      <td>NaN</td>\n",
       "      <td>211.289143</td>\n",
       "      <td>8.106</td>\n",
       "      <td>False</td>\n",
       "    </tr>\n",
       "    <tr>\n",
       "      <th>3</th>\n",
       "      <td>1</td>\n",
       "      <td>2010-02-26</td>\n",
       "      <td>46.63</td>\n",
       "      <td>2.561</td>\n",
       "      <td>NaN</td>\n",
       "      <td>NaN</td>\n",
       "      <td>NaN</td>\n",
       "      <td>NaN</td>\n",
       "      <td>NaN</td>\n",
       "      <td>211.319643</td>\n",
       "      <td>8.106</td>\n",
       "      <td>False</td>\n",
       "    </tr>\n",
       "    <tr>\n",
       "      <th>4</th>\n",
       "      <td>1</td>\n",
       "      <td>2010-03-05</td>\n",
       "      <td>46.50</td>\n",
       "      <td>2.625</td>\n",
       "      <td>NaN</td>\n",
       "      <td>NaN</td>\n",
       "      <td>NaN</td>\n",
       "      <td>NaN</td>\n",
       "      <td>NaN</td>\n",
       "      <td>211.350143</td>\n",
       "      <td>8.106</td>\n",
       "      <td>False</td>\n",
       "    </tr>\n",
       "  </tbody>\n",
       "</table>\n",
       "</div>"
      ],
      "text/plain": [
       "   Store        Date  Temperature  Fuel_Price  MarkDown1  MarkDown2  \\\n",
       "0      1  2010-02-05        42.31       2.572        NaN        NaN   \n",
       "1      1  2010-02-12        38.51       2.548        NaN        NaN   \n",
       "2      1  2010-02-19        39.93       2.514        NaN        NaN   \n",
       "3      1  2010-02-26        46.63       2.561        NaN        NaN   \n",
       "4      1  2010-03-05        46.50       2.625        NaN        NaN   \n",
       "\n",
       "   MarkDown3  MarkDown4  MarkDown5         CPI  Unemployment  IsHoliday  \n",
       "0        NaN        NaN        NaN  211.096358         8.106      False  \n",
       "1        NaN        NaN        NaN  211.242170         8.106       True  \n",
       "2        NaN        NaN        NaN  211.289143         8.106      False  \n",
       "3        NaN        NaN        NaN  211.319643         8.106      False  \n",
       "4        NaN        NaN        NaN  211.350143         8.106      False  "
      ]
     },
     "execution_count": 814,
     "metadata": {},
     "output_type": "execute_result"
    }
   ],
   "source": [
    "store1 = pd.read_csv(\"../data/MiniP4/features.csv.zip\")\n",
    "print(store1.shape)\n",
    "store1.head()"
   ]
  },
  {
   "cell_type": "code",
   "execution_count": 815,
   "id": "ab6c92a6",
   "metadata": {},
   "outputs": [
    {
     "name": "stdout",
     "output_type": "stream",
     "text": [
      "(45, 3)\n"
     ]
    },
    {
     "data": {
      "text/html": [
       "<div>\n",
       "<style scoped>\n",
       "    .dataframe tbody tr th:only-of-type {\n",
       "        vertical-align: middle;\n",
       "    }\n",
       "\n",
       "    .dataframe tbody tr th {\n",
       "        vertical-align: top;\n",
       "    }\n",
       "\n",
       "    .dataframe thead th {\n",
       "        text-align: right;\n",
       "    }\n",
       "</style>\n",
       "<table border=\"1\" class=\"dataframe\">\n",
       "  <thead>\n",
       "    <tr style=\"text-align: right;\">\n",
       "      <th></th>\n",
       "      <th>Store</th>\n",
       "      <th>Type</th>\n",
       "      <th>Size</th>\n",
       "    </tr>\n",
       "  </thead>\n",
       "  <tbody>\n",
       "    <tr>\n",
       "      <th>0</th>\n",
       "      <td>1</td>\n",
       "      <td>A</td>\n",
       "      <td>151315</td>\n",
       "    </tr>\n",
       "    <tr>\n",
       "      <th>1</th>\n",
       "      <td>2</td>\n",
       "      <td>A</td>\n",
       "      <td>202307</td>\n",
       "    </tr>\n",
       "    <tr>\n",
       "      <th>2</th>\n",
       "      <td>3</td>\n",
       "      <td>B</td>\n",
       "      <td>37392</td>\n",
       "    </tr>\n",
       "    <tr>\n",
       "      <th>3</th>\n",
       "      <td>4</td>\n",
       "      <td>A</td>\n",
       "      <td>205863</td>\n",
       "    </tr>\n",
       "    <tr>\n",
       "      <th>4</th>\n",
       "      <td>5</td>\n",
       "      <td>B</td>\n",
       "      <td>34875</td>\n",
       "    </tr>\n",
       "  </tbody>\n",
       "</table>\n",
       "</div>"
      ],
      "text/plain": [
       "   Store Type    Size\n",
       "0      1    A  151315\n",
       "1      2    A  202307\n",
       "2      3    B   37392\n",
       "3      4    A  205863\n",
       "4      5    B   34875"
      ]
     },
     "execution_count": 815,
     "metadata": {},
     "output_type": "execute_result"
    }
   ],
   "source": [
    "store2 = pd.read_csv(\"../data/MiniP4/stores.csv\")\n",
    "print(store2.shape)\n",
    "store2.head()"
   ]
  },
  {
   "cell_type": "markdown",
   "id": "650cfbd6",
   "metadata": {},
   "source": [
    "# features = pd.merge([features, store])"
   ]
  },
  {
   "cell_type": "code",
   "execution_count": 816,
   "id": "faf9284b",
   "metadata": {},
   "outputs": [
    {
     "name": "stdout",
     "output_type": "stream",
     "text": [
      "(8190, 14)\n"
     ]
    },
    {
     "data": {
      "text/html": [
       "<div>\n",
       "<style scoped>\n",
       "    .dataframe tbody tr th:only-of-type {\n",
       "        vertical-align: middle;\n",
       "    }\n",
       "\n",
       "    .dataframe tbody tr th {\n",
       "        vertical-align: top;\n",
       "    }\n",
       "\n",
       "    .dataframe thead th {\n",
       "        text-align: right;\n",
       "    }\n",
       "</style>\n",
       "<table border=\"1\" class=\"dataframe\">\n",
       "  <thead>\n",
       "    <tr style=\"text-align: right;\">\n",
       "      <th></th>\n",
       "      <th>Store</th>\n",
       "      <th>Date</th>\n",
       "      <th>Temperature</th>\n",
       "      <th>Fuel_Price</th>\n",
       "      <th>MarkDown1</th>\n",
       "      <th>MarkDown2</th>\n",
       "      <th>MarkDown3</th>\n",
       "      <th>MarkDown4</th>\n",
       "      <th>MarkDown5</th>\n",
       "      <th>CPI</th>\n",
       "      <th>Unemployment</th>\n",
       "      <th>IsHoliday</th>\n",
       "      <th>Type</th>\n",
       "      <th>Size</th>\n",
       "    </tr>\n",
       "  </thead>\n",
       "  <tbody>\n",
       "    <tr>\n",
       "      <th>2281</th>\n",
       "      <td>13</td>\n",
       "      <td>2011-12-16</td>\n",
       "      <td>27.85</td>\n",
       "      <td>3.282</td>\n",
       "      <td>3272.56</td>\n",
       "      <td>556.15</td>\n",
       "      <td>959.55</td>\n",
       "      <td>424.43</td>\n",
       "      <td>5933.01</td>\n",
       "      <td>129.898065</td>\n",
       "      <td>6.392</td>\n",
       "      <td>False</td>\n",
       "      <td>A</td>\n",
       "      <td>219622</td>\n",
       "    </tr>\n",
       "    <tr>\n",
       "      <th>7508</th>\n",
       "      <td>42</td>\n",
       "      <td>2010-12-24</td>\n",
       "      <td>57.06</td>\n",
       "      <td>3.236</td>\n",
       "      <td>NaN</td>\n",
       "      <td>NaN</td>\n",
       "      <td>NaN</td>\n",
       "      <td>NaN</td>\n",
       "      <td>NaN</td>\n",
       "      <td>126.983581</td>\n",
       "      <td>9.003</td>\n",
       "      <td>False</td>\n",
       "      <td>C</td>\n",
       "      <td>39690</td>\n",
       "    </tr>\n",
       "    <tr>\n",
       "      <th>5544</th>\n",
       "      <td>31</td>\n",
       "      <td>2011-09-16</td>\n",
       "      <td>80.62</td>\n",
       "      <td>3.526</td>\n",
       "      <td>NaN</td>\n",
       "      <td>NaN</td>\n",
       "      <td>NaN</td>\n",
       "      <td>NaN</td>\n",
       "      <td>NaN</td>\n",
       "      <td>215.694438</td>\n",
       "      <td>7.852</td>\n",
       "      <td>False</td>\n",
       "      <td>A</td>\n",
       "      <td>203750</td>\n",
       "    </tr>\n",
       "    <tr>\n",
       "      <th>1136</th>\n",
       "      <td>7</td>\n",
       "      <td>2010-12-10</td>\n",
       "      <td>24.24</td>\n",
       "      <td>2.728</td>\n",
       "      <td>NaN</td>\n",
       "      <td>NaN</td>\n",
       "      <td>NaN</td>\n",
       "      <td>NaN</td>\n",
       "      <td>NaN</td>\n",
       "      <td>190.974107</td>\n",
       "      <td>9.137</td>\n",
       "      <td>False</td>\n",
       "      <td>B</td>\n",
       "      <td>70713</td>\n",
       "    </tr>\n",
       "    <tr>\n",
       "      <th>2952</th>\n",
       "      <td>17</td>\n",
       "      <td>2010-11-12</td>\n",
       "      <td>36.32</td>\n",
       "      <td>2.831</td>\n",
       "      <td>NaN</td>\n",
       "      <td>NaN</td>\n",
       "      <td>NaN</td>\n",
       "      <td>NaN</td>\n",
       "      <td>NaN</td>\n",
       "      <td>126.546161</td>\n",
       "      <td>6.885</td>\n",
       "      <td>False</td>\n",
       "      <td>B</td>\n",
       "      <td>93188</td>\n",
       "    </tr>\n",
       "  </tbody>\n",
       "</table>\n",
       "</div>"
      ],
      "text/plain": [
       "      Store        Date  Temperature  Fuel_Price  MarkDown1  MarkDown2  \\\n",
       "2281     13  2011-12-16        27.85       3.282    3272.56     556.15   \n",
       "7508     42  2010-12-24        57.06       3.236        NaN        NaN   \n",
       "5544     31  2011-09-16        80.62       3.526        NaN        NaN   \n",
       "1136      7  2010-12-10        24.24       2.728        NaN        NaN   \n",
       "2952     17  2010-11-12        36.32       2.831        NaN        NaN   \n",
       "\n",
       "      MarkDown3  MarkDown4  MarkDown5         CPI  Unemployment  IsHoliday  \\\n",
       "2281     959.55     424.43    5933.01  129.898065         6.392      False   \n",
       "7508        NaN        NaN        NaN  126.983581         9.003      False   \n",
       "5544        NaN        NaN        NaN  215.694438         7.852      False   \n",
       "1136        NaN        NaN        NaN  190.974107         9.137      False   \n",
       "2952        NaN        NaN        NaN  126.546161         6.885      False   \n",
       "\n",
       "     Type    Size  \n",
       "2281    A  219622  \n",
       "7508    C   39690  \n",
       "5544    A  203750  \n",
       "1136    B   70713  \n",
       "2952    B   93188  "
      ]
     },
     "execution_count": 816,
     "metadata": {},
     "output_type": "execute_result"
    }
   ],
   "source": [
    "store = pd.merge(left=store1, right=store2, on=\"Store\")\n",
    "print(store.shape)\n",
    "store.sample(5)"
   ]
  },
  {
   "cell_type": "markdown",
   "id": "508097dd",
   "metadata": {},
   "source": [
    "## \"Date\" 날짜 타입으로 변경, 연도, 월 추출\n",
    "* 1주일에 1번 매주 같은 요일에 측정된 데이터로, 일과 요일 추출은 무의미하다 판단 \n",
    "* 나중에 train이랑 merge 후 연도, 월별 Sales 시각화 해볼 것"
   ]
  },
  {
   "cell_type": "code",
   "execution_count": 817,
   "id": "27e7a12b",
   "metadata": {},
   "outputs": [
    {
     "name": "stdout",
     "output_type": "stream",
     "text": [
      "<class 'pandas.core.series.Series'>\n",
      "Int64Index: 8190 entries, 0 to 8189\n",
      "Series name: Date\n",
      "Non-Null Count  Dtype         \n",
      "--------------  -----         \n",
      "8190 non-null   datetime64[ns]\n",
      "dtypes: datetime64[ns](1)\n",
      "memory usage: 128.0 KB\n"
     ]
    }
   ],
   "source": [
    "store[\"Date\"] = pd.to_datetime(store[\"Date\"])\n",
    "store[\"Date\"].info()"
   ]
  },
  {
   "cell_type": "code",
   "execution_count": 818,
   "id": "fee11c08",
   "metadata": {},
   "outputs": [],
   "source": [
    "store[\"year\"] = store[\"Date\"].dt.year\n",
    "store[\"month\"] = store[\"Date\"].dt.month"
   ]
  },
  {
   "cell_type": "code",
   "execution_count": 819,
   "id": "68ac9f4f",
   "metadata": {},
   "outputs": [],
   "source": [
    "# store = store.set_index(\"Date\")"
   ]
  },
  {
   "cell_type": "code",
   "execution_count": 820,
   "id": "7ebfdad2",
   "metadata": {},
   "outputs": [
    {
     "data": {
      "text/html": [
       "<div>\n",
       "<style scoped>\n",
       "    .dataframe tbody tr th:only-of-type {\n",
       "        vertical-align: middle;\n",
       "    }\n",
       "\n",
       "    .dataframe tbody tr th {\n",
       "        vertical-align: top;\n",
       "    }\n",
       "\n",
       "    .dataframe thead th {\n",
       "        text-align: right;\n",
       "    }\n",
       "</style>\n",
       "<table border=\"1\" class=\"dataframe\">\n",
       "  <thead>\n",
       "    <tr style=\"text-align: right;\">\n",
       "      <th></th>\n",
       "      <th>year</th>\n",
       "      <th>month</th>\n",
       "    </tr>\n",
       "  </thead>\n",
       "  <tbody>\n",
       "    <tr>\n",
       "      <th>8011</th>\n",
       "      <td>2010</td>\n",
       "      <td>2</td>\n",
       "    </tr>\n",
       "    <tr>\n",
       "      <th>43</th>\n",
       "      <td>2010</td>\n",
       "      <td>12</td>\n",
       "    </tr>\n",
       "    <tr>\n",
       "      <th>2232</th>\n",
       "      <td>2011</td>\n",
       "      <td>1</td>\n",
       "    </tr>\n",
       "    <tr>\n",
       "      <th>2113</th>\n",
       "      <td>2012</td>\n",
       "      <td>3</td>\n",
       "    </tr>\n",
       "    <tr>\n",
       "      <th>5178</th>\n",
       "      <td>2011</td>\n",
       "      <td>9</td>\n",
       "    </tr>\n",
       "  </tbody>\n",
       "</table>\n",
       "</div>"
      ],
      "text/plain": [
       "      year  month\n",
       "8011  2010      2\n",
       "43    2010     12\n",
       "2232  2011      1\n",
       "2113  2012      3\n",
       "5178  2011      9"
      ]
     },
     "execution_count": 820,
     "metadata": {},
     "output_type": "execute_result"
    }
   ],
   "source": [
    "store[[\"year\", \"month\"]].sample(5)"
   ]
  },
  {
   "cell_type": "markdown",
   "id": "f5c65acc",
   "metadata": {},
   "source": [
    "# store 전처리"
   ]
  },
  {
   "cell_type": "code",
   "execution_count": 821,
   "id": "f864e31c",
   "metadata": {},
   "outputs": [
    {
     "name": "stdout",
     "output_type": "stream",
     "text": [
      "<class 'pandas.core.frame.DataFrame'>\n",
      "Int64Index: 8190 entries, 0 to 8189\n",
      "Data columns (total 16 columns):\n",
      " #   Column        Non-Null Count  Dtype         \n",
      "---  ------        --------------  -----         \n",
      " 0   Store         8190 non-null   int64         \n",
      " 1   Date          8190 non-null   datetime64[ns]\n",
      " 2   Temperature   8190 non-null   float64       \n",
      " 3   Fuel_Price    8190 non-null   float64       \n",
      " 4   MarkDown1     4032 non-null   float64       \n",
      " 5   MarkDown2     2921 non-null   float64       \n",
      " 6   MarkDown3     3613 non-null   float64       \n",
      " 7   MarkDown4     3464 non-null   float64       \n",
      " 8   MarkDown5     4050 non-null   float64       \n",
      " 9   CPI           7605 non-null   float64       \n",
      " 10  Unemployment  7605 non-null   float64       \n",
      " 11  IsHoliday     8190 non-null   bool          \n",
      " 12  Type          8190 non-null   object        \n",
      " 13  Size          8190 non-null   int64         \n",
      " 14  year          8190 non-null   int64         \n",
      " 15  month         8190 non-null   int64         \n",
      "dtypes: bool(1), datetime64[ns](1), float64(9), int64(4), object(1)\n",
      "memory usage: 1.0+ MB\n"
     ]
    }
   ],
   "source": [
    "store.info()"
   ]
  },
  {
   "cell_type": "code",
   "execution_count": 822,
   "id": "7a622d33",
   "metadata": {},
   "outputs": [
    {
     "data": {
      "text/html": [
       "<div>\n",
       "<style scoped>\n",
       "    .dataframe tbody tr th:only-of-type {\n",
       "        vertical-align: middle;\n",
       "    }\n",
       "\n",
       "    .dataframe tbody tr th {\n",
       "        vertical-align: top;\n",
       "    }\n",
       "\n",
       "    .dataframe thead th {\n",
       "        text-align: right;\n",
       "    }\n",
       "</style>\n",
       "<table border=\"1\" class=\"dataframe\">\n",
       "  <thead>\n",
       "    <tr style=\"text-align: right;\">\n",
       "      <th></th>\n",
       "      <th>Store</th>\n",
       "      <th>Date</th>\n",
       "      <th>Temperature</th>\n",
       "      <th>Fuel_Price</th>\n",
       "      <th>MarkDown1</th>\n",
       "      <th>MarkDown2</th>\n",
       "      <th>MarkDown3</th>\n",
       "      <th>MarkDown4</th>\n",
       "      <th>MarkDown5</th>\n",
       "      <th>CPI</th>\n",
       "      <th>Unemployment</th>\n",
       "      <th>IsHoliday</th>\n",
       "      <th>Type</th>\n",
       "      <th>Size</th>\n",
       "      <th>year</th>\n",
       "      <th>month</th>\n",
       "    </tr>\n",
       "  </thead>\n",
       "  <tbody>\n",
       "    <tr>\n",
       "      <th>6900</th>\n",
       "      <td>38</td>\n",
       "      <td>2013-04-12</td>\n",
       "      <td>65.60</td>\n",
       "      <td>3.981</td>\n",
       "      <td>1227.74</td>\n",
       "      <td>945.83</td>\n",
       "      <td>7.01</td>\n",
       "      <td>NaN</td>\n",
       "      <td>902.23</td>\n",
       "      <td>132.716097</td>\n",
       "      <td>9.874</td>\n",
       "      <td>False</td>\n",
       "      <td>C</td>\n",
       "      <td>39690</td>\n",
       "      <td>2013</td>\n",
       "      <td>4</td>\n",
       "    </tr>\n",
       "    <tr>\n",
       "      <th>7024</th>\n",
       "      <td>39</td>\n",
       "      <td>2012-03-02</td>\n",
       "      <td>64.05</td>\n",
       "      <td>3.630</td>\n",
       "      <td>22838.35</td>\n",
       "      <td>998.95</td>\n",
       "      <td>7.20</td>\n",
       "      <td>5781.24</td>\n",
       "      <td>12907.82</td>\n",
       "      <td>219.534098</td>\n",
       "      <td>7.244</td>\n",
       "      <td>False</td>\n",
       "      <td>A</td>\n",
       "      <td>184109</td>\n",
       "      <td>2012</td>\n",
       "      <td>3</td>\n",
       "    </tr>\n",
       "    <tr>\n",
       "      <th>1457</th>\n",
       "      <td>9</td>\n",
       "      <td>2010-02-12</td>\n",
       "      <td>37.08</td>\n",
       "      <td>2.548</td>\n",
       "      <td>NaN</td>\n",
       "      <td>NaN</td>\n",
       "      <td>NaN</td>\n",
       "      <td>NaN</td>\n",
       "      <td>NaN</td>\n",
       "      <td>214.805653</td>\n",
       "      <td>6.415</td>\n",
       "      <td>True</td>\n",
       "      <td>B</td>\n",
       "      <td>125833</td>\n",
       "      <td>2010</td>\n",
       "      <td>2</td>\n",
       "    </tr>\n",
       "    <tr>\n",
       "      <th>221</th>\n",
       "      <td>2</td>\n",
       "      <td>2010-11-05</td>\n",
       "      <td>57.85</td>\n",
       "      <td>2.689</td>\n",
       "      <td>NaN</td>\n",
       "      <td>NaN</td>\n",
       "      <td>NaN</td>\n",
       "      <td>NaN</td>\n",
       "      <td>NaN</td>\n",
       "      <td>211.613505</td>\n",
       "      <td>8.163</td>\n",
       "      <td>False</td>\n",
       "      <td>A</td>\n",
       "      <td>202307</td>\n",
       "      <td>2010</td>\n",
       "      <td>11</td>\n",
       "    </tr>\n",
       "    <tr>\n",
       "      <th>7682</th>\n",
       "      <td>43</td>\n",
       "      <td>2010-10-29</td>\n",
       "      <td>65.88</td>\n",
       "      <td>2.716</td>\n",
       "      <td>NaN</td>\n",
       "      <td>NaN</td>\n",
       "      <td>NaN</td>\n",
       "      <td>NaN</td>\n",
       "      <td>NaN</td>\n",
       "      <td>203.824226</td>\n",
       "      <td>10.210</td>\n",
       "      <td>False</td>\n",
       "      <td>C</td>\n",
       "      <td>41062</td>\n",
       "      <td>2010</td>\n",
       "      <td>10</td>\n",
       "    </tr>\n",
       "  </tbody>\n",
       "</table>\n",
       "</div>"
      ],
      "text/plain": [
       "      Store       Date  Temperature  Fuel_Price  MarkDown1  MarkDown2  \\\n",
       "6900     38 2013-04-12        65.60       3.981    1227.74     945.83   \n",
       "7024     39 2012-03-02        64.05       3.630   22838.35     998.95   \n",
       "1457      9 2010-02-12        37.08       2.548        NaN        NaN   \n",
       "221       2 2010-11-05        57.85       2.689        NaN        NaN   \n",
       "7682     43 2010-10-29        65.88       2.716        NaN        NaN   \n",
       "\n",
       "      MarkDown3  MarkDown4  MarkDown5         CPI  Unemployment  IsHoliday  \\\n",
       "6900       7.01        NaN     902.23  132.716097         9.874      False   \n",
       "7024       7.20    5781.24   12907.82  219.534098         7.244      False   \n",
       "1457        NaN        NaN        NaN  214.805653         6.415       True   \n",
       "221         NaN        NaN        NaN  211.613505         8.163      False   \n",
       "7682        NaN        NaN        NaN  203.824226        10.210      False   \n",
       "\n",
       "     Type    Size  year  month  \n",
       "6900    C   39690  2013      4  \n",
       "7024    A  184109  2012      3  \n",
       "1457    B  125833  2010      2  \n",
       "221     A  202307  2010     11  \n",
       "7682    C   41062  2010     10  "
      ]
     },
     "execution_count": 822,
     "metadata": {},
     "output_type": "execute_result"
    }
   ],
   "source": [
    "store.sample(5)"
   ]
  },
  {
   "cell_type": "code",
   "execution_count": 823,
   "id": "55109378",
   "metadata": {},
   "outputs": [
    {
     "data": {
      "text/html": [
       "<div>\n",
       "<style scoped>\n",
       "    .dataframe tbody tr th:only-of-type {\n",
       "        vertical-align: middle;\n",
       "    }\n",
       "\n",
       "    .dataframe tbody tr th {\n",
       "        vertical-align: top;\n",
       "    }\n",
       "\n",
       "    .dataframe thead th {\n",
       "        text-align: right;\n",
       "    }\n",
       "</style>\n",
       "<table border=\"1\" class=\"dataframe\">\n",
       "  <thead>\n",
       "    <tr style=\"text-align: right;\">\n",
       "      <th></th>\n",
       "      <th>Store</th>\n",
       "      <th>Temperature</th>\n",
       "      <th>Fuel_Price</th>\n",
       "      <th>MarkDown1</th>\n",
       "      <th>MarkDown2</th>\n",
       "      <th>MarkDown3</th>\n",
       "      <th>MarkDown4</th>\n",
       "      <th>MarkDown5</th>\n",
       "      <th>CPI</th>\n",
       "      <th>Unemployment</th>\n",
       "      <th>Size</th>\n",
       "      <th>year</th>\n",
       "      <th>month</th>\n",
       "    </tr>\n",
       "  </thead>\n",
       "  <tbody>\n",
       "    <tr>\n",
       "      <th>count</th>\n",
       "      <td>8190.000000</td>\n",
       "      <td>8190.000000</td>\n",
       "      <td>8190.000000</td>\n",
       "      <td>4032.000000</td>\n",
       "      <td>2921.000000</td>\n",
       "      <td>3613.000000</td>\n",
       "      <td>3464.000000</td>\n",
       "      <td>4050.000000</td>\n",
       "      <td>7605.000000</td>\n",
       "      <td>7605.000000</td>\n",
       "      <td>8190.000000</td>\n",
       "      <td>8190.000000</td>\n",
       "      <td>8190.000000</td>\n",
       "    </tr>\n",
       "    <tr>\n",
       "      <th>mean</th>\n",
       "      <td>23.000000</td>\n",
       "      <td>59.356198</td>\n",
       "      <td>3.405992</td>\n",
       "      <td>7032.371786</td>\n",
       "      <td>3384.176594</td>\n",
       "      <td>1760.100180</td>\n",
       "      <td>3292.935886</td>\n",
       "      <td>4132.216422</td>\n",
       "      <td>172.460809</td>\n",
       "      <td>7.826821</td>\n",
       "      <td>130287.600000</td>\n",
       "      <td>2011.351648</td>\n",
       "      <td>6.291209</td>\n",
       "    </tr>\n",
       "    <tr>\n",
       "      <th>std</th>\n",
       "      <td>12.987966</td>\n",
       "      <td>18.678607</td>\n",
       "      <td>0.431337</td>\n",
       "      <td>9262.747448</td>\n",
       "      <td>8793.583016</td>\n",
       "      <td>11276.462208</td>\n",
       "      <td>6792.329861</td>\n",
       "      <td>13086.690278</td>\n",
       "      <td>39.738346</td>\n",
       "      <td>1.877259</td>\n",
       "      <td>63115.971429</td>\n",
       "      <td>1.041762</td>\n",
       "      <td>3.328046</td>\n",
       "    </tr>\n",
       "    <tr>\n",
       "      <th>min</th>\n",
       "      <td>1.000000</td>\n",
       "      <td>-7.290000</td>\n",
       "      <td>2.472000</td>\n",
       "      <td>-2781.450000</td>\n",
       "      <td>-265.760000</td>\n",
       "      <td>-179.260000</td>\n",
       "      <td>0.220000</td>\n",
       "      <td>-185.170000</td>\n",
       "      <td>126.064000</td>\n",
       "      <td>3.684000</td>\n",
       "      <td>34875.000000</td>\n",
       "      <td>2010.000000</td>\n",
       "      <td>1.000000</td>\n",
       "    </tr>\n",
       "    <tr>\n",
       "      <th>25%</th>\n",
       "      <td>12.000000</td>\n",
       "      <td>45.902500</td>\n",
       "      <td>3.041000</td>\n",
       "      <td>1577.532500</td>\n",
       "      <td>68.880000</td>\n",
       "      <td>6.600000</td>\n",
       "      <td>304.687500</td>\n",
       "      <td>1440.827500</td>\n",
       "      <td>132.364839</td>\n",
       "      <td>6.634000</td>\n",
       "      <td>70713.000000</td>\n",
       "      <td>2010.000000</td>\n",
       "      <td>3.000000</td>\n",
       "    </tr>\n",
       "    <tr>\n",
       "      <th>50%</th>\n",
       "      <td>23.000000</td>\n",
       "      <td>60.710000</td>\n",
       "      <td>3.513000</td>\n",
       "      <td>4743.580000</td>\n",
       "      <td>364.570000</td>\n",
       "      <td>36.260000</td>\n",
       "      <td>1176.425000</td>\n",
       "      <td>2727.135000</td>\n",
       "      <td>182.764003</td>\n",
       "      <td>7.806000</td>\n",
       "      <td>126512.000000</td>\n",
       "      <td>2011.000000</td>\n",
       "      <td>6.000000</td>\n",
       "    </tr>\n",
       "    <tr>\n",
       "      <th>75%</th>\n",
       "      <td>34.000000</td>\n",
       "      <td>73.880000</td>\n",
       "      <td>3.743000</td>\n",
       "      <td>8923.310000</td>\n",
       "      <td>2153.350000</td>\n",
       "      <td>163.150000</td>\n",
       "      <td>3310.007500</td>\n",
       "      <td>4832.555000</td>\n",
       "      <td>213.932412</td>\n",
       "      <td>8.567000</td>\n",
       "      <td>202307.000000</td>\n",
       "      <td>2012.000000</td>\n",
       "      <td>9.000000</td>\n",
       "    </tr>\n",
       "    <tr>\n",
       "      <th>max</th>\n",
       "      <td>45.000000</td>\n",
       "      <td>101.950000</td>\n",
       "      <td>4.468000</td>\n",
       "      <td>103184.980000</td>\n",
       "      <td>104519.540000</td>\n",
       "      <td>149483.310000</td>\n",
       "      <td>67474.850000</td>\n",
       "      <td>771448.100000</td>\n",
       "      <td>228.976456</td>\n",
       "      <td>14.313000</td>\n",
       "      <td>219622.000000</td>\n",
       "      <td>2013.000000</td>\n",
       "      <td>12.000000</td>\n",
       "    </tr>\n",
       "  </tbody>\n",
       "</table>\n",
       "</div>"
      ],
      "text/plain": [
       "             Store  Temperature   Fuel_Price      MarkDown1      MarkDown2  \\\n",
       "count  8190.000000  8190.000000  8190.000000    4032.000000    2921.000000   \n",
       "mean     23.000000    59.356198     3.405992    7032.371786    3384.176594   \n",
       "std      12.987966    18.678607     0.431337    9262.747448    8793.583016   \n",
       "min       1.000000    -7.290000     2.472000   -2781.450000    -265.760000   \n",
       "25%      12.000000    45.902500     3.041000    1577.532500      68.880000   \n",
       "50%      23.000000    60.710000     3.513000    4743.580000     364.570000   \n",
       "75%      34.000000    73.880000     3.743000    8923.310000    2153.350000   \n",
       "max      45.000000   101.950000     4.468000  103184.980000  104519.540000   \n",
       "\n",
       "           MarkDown3     MarkDown4      MarkDown5          CPI  Unemployment  \\\n",
       "count    3613.000000   3464.000000    4050.000000  7605.000000   7605.000000   \n",
       "mean     1760.100180   3292.935886    4132.216422   172.460809      7.826821   \n",
       "std     11276.462208   6792.329861   13086.690278    39.738346      1.877259   \n",
       "min      -179.260000      0.220000    -185.170000   126.064000      3.684000   \n",
       "25%         6.600000    304.687500    1440.827500   132.364839      6.634000   \n",
       "50%        36.260000   1176.425000    2727.135000   182.764003      7.806000   \n",
       "75%       163.150000   3310.007500    4832.555000   213.932412      8.567000   \n",
       "max    149483.310000  67474.850000  771448.100000   228.976456     14.313000   \n",
       "\n",
       "                Size         year        month  \n",
       "count    8190.000000  8190.000000  8190.000000  \n",
       "mean   130287.600000  2011.351648     6.291209  \n",
       "std     63115.971429     1.041762     3.328046  \n",
       "min     34875.000000  2010.000000     1.000000  \n",
       "25%     70713.000000  2010.000000     3.000000  \n",
       "50%    126512.000000  2011.000000     6.000000  \n",
       "75%    202307.000000  2012.000000     9.000000  \n",
       "max    219622.000000  2013.000000    12.000000  "
      ]
     },
     "execution_count": 823,
     "metadata": {},
     "output_type": "execute_result"
    }
   ],
   "source": [
    "store.describe()"
   ]
  },
  {
   "cell_type": "markdown",
   "id": "11577104",
   "metadata": {},
   "source": [
    "## 결측치 비율 조회"
   ]
  },
  {
   "cell_type": "code",
   "execution_count": 824,
   "id": "d3a507e7",
   "metadata": {},
   "outputs": [
    {
     "data": {
      "text/plain": [
       "Store           0.000000\n",
       "Date            0.000000\n",
       "Temperature     0.000000\n",
       "Fuel_Price      0.000000\n",
       "MarkDown1       0.507692\n",
       "MarkDown2       0.643346\n",
       "MarkDown3       0.558852\n",
       "MarkDown4       0.577045\n",
       "MarkDown5       0.505495\n",
       "CPI             0.071429\n",
       "Unemployment    0.071429\n",
       "IsHoliday       0.000000\n",
       "Type            0.000000\n",
       "Size            0.000000\n",
       "year            0.000000\n",
       "month           0.000000\n",
       "dtype: float64"
      ]
     },
     "execution_count": 824,
     "metadata": {},
     "output_type": "execute_result"
    }
   ],
   "source": [
    "store.isnull().mean()"
   ]
  },
  {
   "cell_type": "markdown",
   "id": "731069a6",
   "metadata": {},
   "source": [
    "## 소비자 물가 & 실업율 == 시계열 데이터 -> 보간법 사용"
   ]
  },
  {
   "cell_type": "code",
   "execution_count": 825,
   "id": "9a943309",
   "metadata": {},
   "outputs": [
    {
     "data": {
      "text/plain": [
       "CPI             585\n",
       "Unemployment    585\n",
       "dtype: int64"
      ]
     },
     "execution_count": 825,
     "metadata": {},
     "output_type": "execute_result"
    }
   ],
   "source": [
    "store[[\"CPI\", \"Unemployment\"]].isnull().sum()"
   ]
  },
  {
   "cell_type": "code",
   "execution_count": 826,
   "id": "c2952ea0",
   "metadata": {},
   "outputs": [
    {
     "data": {
      "text/plain": [
       "<matplotlib.legend.Legend at 0x7fd78213c490>"
      ]
     },
     "execution_count": 826,
     "metadata": {},
     "output_type": "execute_result"
    },
    {
     "data": {
      "image/png": "[encoded data removed]",
      "text/plain": [
       "<Figure size 640x480 with 1 Axes>"
      ]
     },
     "metadata": {},
     "output_type": "display_data"
    }
   ],
   "source": [
    "store[[\"CPI\", \"Unemployment\"]].plot(kind=\"line\", legend=(1, 2))\n",
    "plt.legend(bbox_to_anchor=(1, 1))"
   ]
  },
  {
   "cell_type": "code",
   "execution_count": 827,
   "id": "10182efe",
   "metadata": {},
   "outputs": [],
   "source": [
    "store[\"CPI_interpolate\"] = store[\"CPI\"].interpolate(method=\"linear\", limit_direction=\"both\")\n",
    "store[\"Unemployment_interpolate\"] = store[\"Unemployment\"].interpolate(method=\"linear\", limit_direction=\"both\")"
   ]
  },
  {
   "cell_type": "code",
   "execution_count": 828,
   "id": "d7630903",
   "metadata": {},
   "outputs": [
    {
     "data": {
      "text/plain": [
       "<matplotlib.legend.Legend at 0x7fd7bb1d2d90>"
      ]
     },
     "execution_count": 828,
     "metadata": {},
     "output_type": "execute_result"
    },
    {
     "data": {
      "image/png": "[encoded data removed]",
      "text/plain": [
       "<Figure size 640x480 with 1 Axes>"
      ]
     },
     "metadata": {},
     "output_type": "display_data"
    }
   ],
   "source": [
    "store[[\"CPI_interpolate\", \"Unemployment_interpolate\"]].plot(kind=\"line\", legend=(1, 2))\n",
    "plt.legend(bbox_to_anchor=(1, 1))"
   ]
  },
  {
   "cell_type": "code",
   "execution_count": 829,
   "id": "a3adbd2f",
   "metadata": {},
   "outputs": [
    {
     "data": {
      "text/plain": [
       "MarkDown1    0.507692\n",
       "MarkDown2    0.643346\n",
       "MarkDown3    0.558852\n",
       "MarkDown4    0.577045\n",
       "MarkDown5    0.505495\n",
       "dtype: float64"
      ]
     },
     "execution_count": 829,
     "metadata": {},
     "output_type": "execute_result"
    }
   ],
   "source": [
    "# MarkDown의 결측치 비율 : 절반 이상, 제거 고려\n",
    "store[[\"MarkDown1\", \"MarkDown2\", \"MarkDown3\", \"MarkDown4\", \"MarkDown5\"]].isnull().mean()"
   ]
  },
  {
   "cell_type": "markdown",
   "id": "fd41865d",
   "metadata": {},
   "source": [
    "## Markdown fillna(0)"
   ]
  },
  {
   "cell_type": "code",
   "execution_count": 830,
   "id": "9620c187",
   "metadata": {},
   "outputs": [],
   "source": [
    "store[[\"MarkDown1\", \"MarkDown2\", \"MarkDown3\", \"MarkDown4\", \"MarkDown5\"]] = store[[\"MarkDown1\", \"MarkDown2\", \"MarkDown3\", \"MarkDown4\", \"MarkDown5\"]].fillna(0)"
   ]
  },
  {
   "cell_type": "code",
   "execution_count": 831,
   "id": "704bbb13",
   "metadata": {},
   "outputs": [
    {
     "data": {
      "text/html": [
       "<div>\n",
       "<style scoped>\n",
       "    .dataframe tbody tr th:only-of-type {\n",
       "        vertical-align: middle;\n",
       "    }\n",
       "\n",
       "    .dataframe tbody tr th {\n",
       "        vertical-align: top;\n",
       "    }\n",
       "\n",
       "    .dataframe thead th {\n",
       "        text-align: right;\n",
       "    }\n",
       "</style>\n",
       "<table border=\"1\" class=\"dataframe\">\n",
       "  <thead>\n",
       "    <tr style=\"text-align: right;\">\n",
       "      <th></th>\n",
       "      <th>Store</th>\n",
       "      <th>Date</th>\n",
       "      <th>Temperature</th>\n",
       "      <th>Fuel_Price</th>\n",
       "      <th>MarkDown1</th>\n",
       "      <th>MarkDown2</th>\n",
       "      <th>MarkDown3</th>\n",
       "      <th>MarkDown4</th>\n",
       "      <th>MarkDown5</th>\n",
       "      <th>Type</th>\n",
       "      <th>Size</th>\n",
       "      <th>year</th>\n",
       "      <th>month</th>\n",
       "      <th>CPI_interpolate</th>\n",
       "      <th>Unemployment_interpolate</th>\n",
       "    </tr>\n",
       "  </thead>\n",
       "  <tbody>\n",
       "    <tr>\n",
       "      <th>6810</th>\n",
       "      <td>38</td>\n",
       "      <td>2011-07-22</td>\n",
       "      <td>91.17</td>\n",
       "      <td>3.794</td>\n",
       "      <td>0.00</td>\n",
       "      <td>0.00</td>\n",
       "      <td>0.00</td>\n",
       "      <td>0.00</td>\n",
       "      <td>0.00</td>\n",
       "      <td>C</td>\n",
       "      <td>39690</td>\n",
       "      <td>2011</td>\n",
       "      <td>7</td>\n",
       "      <td>129.150774</td>\n",
       "      <td>13.503</td>\n",
       "    </tr>\n",
       "    <tr>\n",
       "      <th>7746</th>\n",
       "      <td>43</td>\n",
       "      <td>2012-01-20</td>\n",
       "      <td>52.72</td>\n",
       "      <td>3.268</td>\n",
       "      <td>320.80</td>\n",
       "      <td>24.36</td>\n",
       "      <td>31.72</td>\n",
       "      <td>0.00</td>\n",
       "      <td>153.04</td>\n",
       "      <td>C</td>\n",
       "      <td>41062</td>\n",
       "      <td>2012</td>\n",
       "      <td>1</td>\n",
       "      <td>211.499781</td>\n",
       "      <td>9.653</td>\n",
       "    </tr>\n",
       "    <tr>\n",
       "      <th>2661</th>\n",
       "      <td>15</td>\n",
       "      <td>2012-04-06</td>\n",
       "      <td>40.01</td>\n",
       "      <td>4.143</td>\n",
       "      <td>8567.95</td>\n",
       "      <td>0.00</td>\n",
       "      <td>46.32</td>\n",
       "      <td>1144.78</td>\n",
       "      <td>3518.73</td>\n",
       "      <td>B</td>\n",
       "      <td>123737</td>\n",
       "      <td>2012</td>\n",
       "      <td>4</td>\n",
       "      <td>137.797097</td>\n",
       "      <td>8.150</td>\n",
       "    </tr>\n",
       "    <tr>\n",
       "      <th>475</th>\n",
       "      <td>3</td>\n",
       "      <td>2012-03-23</td>\n",
       "      <td>66.53</td>\n",
       "      <td>3.787</td>\n",
       "      <td>737.08</td>\n",
       "      <td>36.10</td>\n",
       "      <td>1.43</td>\n",
       "      <td>92.11</td>\n",
       "      <td>583.90</td>\n",
       "      <td>B</td>\n",
       "      <td>37392</td>\n",
       "      <td>2012</td>\n",
       "      <td>3</td>\n",
       "      <td>224.790910</td>\n",
       "      <td>6.833</td>\n",
       "    </tr>\n",
       "    <tr>\n",
       "      <th>6953</th>\n",
       "      <td>39</td>\n",
       "      <td>2010-10-22</td>\n",
       "      <td>71.73</td>\n",
       "      <td>2.725</td>\n",
       "      <td>0.00</td>\n",
       "      <td>0.00</td>\n",
       "      <td>0.00</td>\n",
       "      <td>0.00</td>\n",
       "      <td>0.00</td>\n",
       "      <td>A</td>\n",
       "      <td>184109</td>\n",
       "      <td>2010</td>\n",
       "      <td>10</td>\n",
       "      <td>210.627144</td>\n",
       "      <td>8.476</td>\n",
       "    </tr>\n",
       "  </tbody>\n",
       "</table>\n",
       "</div>"
      ],
      "text/plain": [
       "      Store       Date  Temperature  Fuel_Price  MarkDown1  MarkDown2  \\\n",
       "6810     38 2011-07-22        91.17       3.794       0.00       0.00   \n",
       "7746     43 2012-01-20        52.72       3.268     320.80      24.36   \n",
       "2661     15 2012-04-06        40.01       4.143    8567.95       0.00   \n",
       "475       3 2012-03-23        66.53       3.787     737.08      36.10   \n",
       "6953     39 2010-10-22        71.73       2.725       0.00       0.00   \n",
       "\n",
       "      MarkDown3  MarkDown4  MarkDown5 Type    Size  year  month  \\\n",
       "6810       0.00       0.00       0.00    C   39690  2011      7   \n",
       "7746      31.72       0.00     153.04    C   41062  2012      1   \n",
       "2661      46.32    1144.78    3518.73    B  123737  2012      4   \n",
       "475        1.43      92.11     583.90    B   37392  2012      3   \n",
       "6953       0.00       0.00       0.00    A  184109  2010     10   \n",
       "\n",
       "      CPI_interpolate  Unemployment_interpolate  \n",
       "6810       129.150774                    13.503  \n",
       "7746       211.499781                     9.653  \n",
       "2661       137.797097                     8.150  \n",
       "475        224.790910                     6.833  \n",
       "6953       210.627144                     8.476  "
      ]
     },
     "execution_count": 831,
     "metadata": {},
     "output_type": "execute_result"
    }
   ],
   "source": [
    "store = store.drop([\"CPI\", \"Unemployment\", \"IsHoliday\"], axis=1)\n",
    "store.sample(5)"
   ]
  },
  {
   "cell_type": "markdown",
   "id": "e0378c6c",
   "metadata": {},
   "source": [
    "## Scaling"
   ]
  },
  {
   "cell_type": "code",
   "execution_count": 832,
   "id": "0d6b9f21",
   "metadata": {},
   "outputs": [
    {
     "data": {
      "text/plain": [
       "['Store',\n",
       " 'Temperature',\n",
       " 'Fuel_Price',\n",
       " 'MarkDown1',\n",
       " 'MarkDown2',\n",
       " 'MarkDown3',\n",
       " 'MarkDown4',\n",
       " 'MarkDown5',\n",
       " 'Size',\n",
       " 'year',\n",
       " 'month',\n",
       " 'CPI_interpolate',\n",
       " 'Unemployment_interpolate']"
      ]
     },
     "execution_count": 832,
     "metadata": {},
     "output_type": "execute_result"
    }
   ],
   "source": [
    "store.select_dtypes(\"number\").columns.tolist()"
   ]
  },
  {
   "cell_type": "code",
   "execution_count": 833,
   "id": "afab9197",
   "metadata": {},
   "outputs": [],
   "source": [
    "store_num = store[['Temperature', 'Fuel_Price', 'Size', \n",
    "                   'MarkDown1', 'MarkDown2', 'MarkDown3', 'MarkDown4', 'MarkDown5',\n",
    "                   'CPI_interpolate', 'Unemployment_interpolate']]"
   ]
  },
  {
   "cell_type": "code",
   "execution_count": 834,
   "id": "aa970cc3",
   "metadata": {},
   "outputs": [
    {
     "data": {
      "text/html": [
       "<div>\n",
       "<style scoped>\n",
       "    .dataframe tbody tr th:only-of-type {\n",
       "        vertical-align: middle;\n",
       "    }\n",
       "\n",
       "    .dataframe tbody tr th {\n",
       "        vertical-align: top;\n",
       "    }\n",
       "\n",
       "    .dataframe thead th {\n",
       "        text-align: right;\n",
       "    }\n",
       "</style>\n",
       "<table border=\"1\" class=\"dataframe\">\n",
       "  <thead>\n",
       "    <tr style=\"text-align: right;\">\n",
       "      <th></th>\n",
       "      <th>Temperature</th>\n",
       "      <th>Fuel_Price</th>\n",
       "      <th>Size</th>\n",
       "      <th>MarkDown1</th>\n",
       "      <th>MarkDown2</th>\n",
       "      <th>MarkDown3</th>\n",
       "      <th>MarkDown4</th>\n",
       "      <th>MarkDown5</th>\n",
       "      <th>CPI_interpolate</th>\n",
       "      <th>Unemployment_interpolate</th>\n",
       "    </tr>\n",
       "  </thead>\n",
       "  <tbody>\n",
       "    <tr>\n",
       "      <th>0</th>\n",
       "      <td>42.31</td>\n",
       "      <td>2.572</td>\n",
       "      <td>151315</td>\n",
       "      <td>0.0</td>\n",
       "      <td>0.0</td>\n",
       "      <td>0.0</td>\n",
       "      <td>0.0</td>\n",
       "      <td>0.0</td>\n",
       "      <td>211.096358</td>\n",
       "      <td>8.106</td>\n",
       "    </tr>\n",
       "    <tr>\n",
       "      <th>1</th>\n",
       "      <td>38.51</td>\n",
       "      <td>2.548</td>\n",
       "      <td>151315</td>\n",
       "      <td>0.0</td>\n",
       "      <td>0.0</td>\n",
       "      <td>0.0</td>\n",
       "      <td>0.0</td>\n",
       "      <td>0.0</td>\n",
       "      <td>211.242170</td>\n",
       "      <td>8.106</td>\n",
       "    </tr>\n",
       "    <tr>\n",
       "      <th>2</th>\n",
       "      <td>39.93</td>\n",
       "      <td>2.514</td>\n",
       "      <td>151315</td>\n",
       "      <td>0.0</td>\n",
       "      <td>0.0</td>\n",
       "      <td>0.0</td>\n",
       "      <td>0.0</td>\n",
       "      <td>0.0</td>\n",
       "      <td>211.289143</td>\n",
       "      <td>8.106</td>\n",
       "    </tr>\n",
       "    <tr>\n",
       "      <th>3</th>\n",
       "      <td>46.63</td>\n",
       "      <td>2.561</td>\n",
       "      <td>151315</td>\n",
       "      <td>0.0</td>\n",
       "      <td>0.0</td>\n",
       "      <td>0.0</td>\n",
       "      <td>0.0</td>\n",
       "      <td>0.0</td>\n",
       "      <td>211.319643</td>\n",
       "      <td>8.106</td>\n",
       "    </tr>\n",
       "    <tr>\n",
       "      <th>4</th>\n",
       "      <td>46.50</td>\n",
       "      <td>2.625</td>\n",
       "      <td>151315</td>\n",
       "      <td>0.0</td>\n",
       "      <td>0.0</td>\n",
       "      <td>0.0</td>\n",
       "      <td>0.0</td>\n",
       "      <td>0.0</td>\n",
       "      <td>211.350143</td>\n",
       "      <td>8.106</td>\n",
       "    </tr>\n",
       "  </tbody>\n",
       "</table>\n",
       "</div>"
      ],
      "text/plain": [
       "   Temperature  Fuel_Price    Size  MarkDown1  MarkDown2  MarkDown3  \\\n",
       "0        42.31       2.572  151315        0.0        0.0        0.0   \n",
       "1        38.51       2.548  151315        0.0        0.0        0.0   \n",
       "2        39.93       2.514  151315        0.0        0.0        0.0   \n",
       "3        46.63       2.561  151315        0.0        0.0        0.0   \n",
       "4        46.50       2.625  151315        0.0        0.0        0.0   \n",
       "\n",
       "   MarkDown4  MarkDown5  CPI_interpolate  Unemployment_interpolate  \n",
       "0        0.0        0.0       211.096358                     8.106  \n",
       "1        0.0        0.0       211.242170                     8.106  \n",
       "2        0.0        0.0       211.289143                     8.106  \n",
       "3        0.0        0.0       211.319643                     8.106  \n",
       "4        0.0        0.0       211.350143                     8.106  "
      ]
     },
     "execution_count": 834,
     "metadata": {},
     "output_type": "execute_result"
    }
   ],
   "source": [
    "store_num.head()"
   ]
  },
  {
   "cell_type": "code",
   "execution_count": 835,
   "id": "60888374",
   "metadata": {},
   "outputs": [
    {
     "data": {
      "image/png": "[encoded data removed]",
      "text/plain": [
       "<Figure size 2000x2000 with 12 Axes>"
      ]
     },
     "metadata": {},
     "output_type": "display_data"
    }
   ],
   "source": [
    "store_num.hist(figsize=(20, 20), bins=50);"
   ]
  },
  {
   "cell_type": "code",
   "execution_count": 836,
   "id": "1bd74c86",
   "metadata": {},
   "outputs": [],
   "source": [
    "from sklearn.preprocessing import MinMaxScaler, StandardScaler, RobustScaler\n",
    "\n",
    "mm = MinMaxScaler()\n",
    "ss = StandardScaler()\n",
    "rbs = RobustScaler()\n",
    "store_num_scaled = rbs.fit_transform(store_num)"
   ]
  },
  {
   "cell_type": "code",
   "execution_count": 837,
   "id": "2306ac6f",
   "metadata": {},
   "outputs": [
    {
     "data": {
      "text/plain": [
       "array([[-0.65767134, -1.34045584,  0.18848124, ...,  0.        ,\n",
       "         0.35732923,  0.15625   ],\n",
       "       [-0.79349477, -1.37464387,  0.18848124, ...,  0.        ,\n",
       "         0.35912868,  0.15625   ],\n",
       "       [-0.7427397 , -1.42307692,  0.18848124, ...,  0.        ,\n",
       "         0.35970837,  0.15625   ],\n",
       "       ...,\n",
       "       [ 0.66696453,  0.14387464, -0.06300439, ...,  0.80228482,\n",
       "         0.14127629,  0.27552083],\n",
       "       [ 0.79099276,  0.31908832, -0.06300439, ...,  0.39527739,\n",
       "         0.14127629,  0.27552083],\n",
       "       [ 0.54865517,  0.41452991, -0.06300439, ...,  0.6956585 ,\n",
       "         0.14127629,  0.27552083]])"
      ]
     },
     "execution_count": 837,
     "metadata": {},
     "output_type": "execute_result"
    }
   ],
   "source": [
    "store_num_scaled"
   ]
  },
  {
   "cell_type": "code",
   "execution_count": 838,
   "id": "70c21fe9",
   "metadata": {},
   "outputs": [],
   "source": [
    "store_num_scaled = pd.DataFrame(store_num_scaled, \n",
    "                                columns=['Temperature', 'Fuel_Price', 'Size', \n",
    "                                         'MarkDown1', 'MarkDown2', 'MarkDown3', 'MarkDown4', \n",
    "                                         'MarkDown5', 'CPI_interpolate', \n",
    "                                         'Unemployment_interpolate'])"
   ]
  },
  {
   "cell_type": "code",
   "execution_count": 839,
   "id": "45261422",
   "metadata": {},
   "outputs": [
    {
     "data": {
      "text/html": [
       "<div>\n",
       "<style scoped>\n",
       "    .dataframe tbody tr th:only-of-type {\n",
       "        vertical-align: middle;\n",
       "    }\n",
       "\n",
       "    .dataframe tbody tr th {\n",
       "        vertical-align: top;\n",
       "    }\n",
       "\n",
       "    .dataframe thead th {\n",
       "        text-align: right;\n",
       "    }\n",
       "</style>\n",
       "<table border=\"1\" class=\"dataframe\">\n",
       "  <thead>\n",
       "    <tr style=\"text-align: right;\">\n",
       "      <th></th>\n",
       "      <th>Temperature</th>\n",
       "      <th>Fuel_Price</th>\n",
       "      <th>Size</th>\n",
       "      <th>MarkDown1</th>\n",
       "      <th>MarkDown2</th>\n",
       "      <th>MarkDown3</th>\n",
       "      <th>MarkDown4</th>\n",
       "      <th>MarkDown5</th>\n",
       "      <th>CPI_interpolate</th>\n",
       "      <th>Unemployment_interpolate</th>\n",
       "    </tr>\n",
       "  </thead>\n",
       "  <tbody>\n",
       "    <tr>\n",
       "      <th>1051</th>\n",
       "      <td>0.320615</td>\n",
       "      <td>0.115385</td>\n",
       "      <td>0.577481</td>\n",
       "      <td>0.318229</td>\n",
       "      <td>0.000000</td>\n",
       "      <td>0.127993</td>\n",
       "      <td>0.040429</td>\n",
       "      <td>1.522433</td>\n",
       "      <td>0.529531</td>\n",
       "      <td>-1.290104</td>\n",
       "    </tr>\n",
       "    <tr>\n",
       "      <th>3492</th>\n",
       "      <td>0.013225</td>\n",
       "      <td>-1.148148</td>\n",
       "      <td>0.586881</td>\n",
       "      <td>0.000000</td>\n",
       "      <td>0.000000</td>\n",
       "      <td>0.000000</td>\n",
       "      <td>0.000000</td>\n",
       "      <td>0.000000</td>\n",
       "      <td>0.280677</td>\n",
       "      <td>-0.167708</td>\n",
       "    </tr>\n",
       "    <tr>\n",
       "      <th>2348</th>\n",
       "      <td>-0.679117</td>\n",
       "      <td>0.007123</td>\n",
       "      <td>0.707555</td>\n",
       "      <td>1.815587</td>\n",
       "      <td>0.000000</td>\n",
       "      <td>42.049133</td>\n",
       "      <td>0.201628</td>\n",
       "      <td>1.731224</td>\n",
       "      <td>-0.611493</td>\n",
       "      <td>-1.267708</td>\n",
       "    </tr>\n",
       "    <tr>\n",
       "      <th>338</th>\n",
       "      <td>-0.213028</td>\n",
       "      <td>-0.383191</td>\n",
       "      <td>0.575976</td>\n",
       "      <td>2.818981</td>\n",
       "      <td>16.655036</td>\n",
       "      <td>22.510322</td>\n",
       "      <td>16.426324</td>\n",
       "      <td>1.866489</td>\n",
       "      <td>0.514958</td>\n",
       "      <td>-0.817187</td>\n",
       "    </tr>\n",
       "    <tr>\n",
       "      <th>216</th>\n",
       "      <td>0.304888</td>\n",
       "      <td>-1.296296</td>\n",
       "      <td>0.575976</td>\n",
       "      <td>0.000000</td>\n",
       "      <td>0.000000</td>\n",
       "      <td>0.000000</td>\n",
       "      <td>0.000000</td>\n",
       "      <td>0.000000</td>\n",
       "      <td>0.360211</td>\n",
       "      <td>0.185938</td>\n",
       "    </tr>\n",
       "  </tbody>\n",
       "</table>\n",
       "</div>"
      ],
      "text/plain": [
       "      Temperature  Fuel_Price      Size  MarkDown1  MarkDown2  MarkDown3  \\\n",
       "1051     0.320615    0.115385  0.577481   0.318229   0.000000   0.127993   \n",
       "3492     0.013225   -1.148148  0.586881   0.000000   0.000000   0.000000   \n",
       "2348    -0.679117    0.007123  0.707555   1.815587   0.000000  42.049133   \n",
       "338     -0.213028   -0.383191  0.575976   2.818981  16.655036  22.510322   \n",
       "216      0.304888   -1.296296  0.575976   0.000000   0.000000   0.000000   \n",
       "\n",
       "      MarkDown4  MarkDown5  CPI_interpolate  Unemployment_interpolate  \n",
       "1051   0.040429   1.522433         0.529531                 -1.290104  \n",
       "3492   0.000000   0.000000         0.280677                 -0.167708  \n",
       "2348   0.201628   1.731224        -0.611493                 -1.267708  \n",
       "338   16.426324   1.866489         0.514958                 -0.817187  \n",
       "216    0.000000   0.000000         0.360211                  0.185938  "
      ]
     },
     "execution_count": 839,
     "metadata": {},
     "output_type": "execute_result"
    }
   ],
   "source": [
    "store_num_scaled.sample(5)"
   ]
  },
  {
   "cell_type": "code",
   "execution_count": 840,
   "id": "f22ff46e",
   "metadata": {},
   "outputs": [],
   "source": [
    "# 정규화 값으로 대치\n",
    "store[['Temperature', 'Fuel_Price', 'Size', 'MarkDown1',\n",
    "       'MarkDown2', 'MarkDown3', 'MarkDown4', 'MarkDown5', \n",
    "       'CPI_interpolate', 'Unemployment_interpolate']] = store_num_scaled"
   ]
  },
  {
   "cell_type": "code",
   "execution_count": 841,
   "id": "47fc2e3e",
   "metadata": {},
   "outputs": [
    {
     "data": {
      "text/html": [
       "<div>\n",
       "<style scoped>\n",
       "    .dataframe tbody tr th:only-of-type {\n",
       "        vertical-align: middle;\n",
       "    }\n",
       "\n",
       "    .dataframe tbody tr th {\n",
       "        vertical-align: top;\n",
       "    }\n",
       "\n",
       "    .dataframe thead th {\n",
       "        text-align: right;\n",
       "    }\n",
       "</style>\n",
       "<table border=\"1\" class=\"dataframe\">\n",
       "  <thead>\n",
       "    <tr style=\"text-align: right;\">\n",
       "      <th></th>\n",
       "      <th>Store</th>\n",
       "      <th>Date</th>\n",
       "      <th>Temperature</th>\n",
       "      <th>Fuel_Price</th>\n",
       "      <th>MarkDown1</th>\n",
       "      <th>MarkDown2</th>\n",
       "      <th>MarkDown3</th>\n",
       "      <th>MarkDown4</th>\n",
       "      <th>MarkDown5</th>\n",
       "      <th>Type</th>\n",
       "      <th>Size</th>\n",
       "      <th>year</th>\n",
       "      <th>month</th>\n",
       "      <th>CPI_interpolate</th>\n",
       "      <th>Unemployment_interpolate</th>\n",
       "    </tr>\n",
       "  </thead>\n",
       "  <tbody>\n",
       "    <tr>\n",
       "      <th>0</th>\n",
       "      <td>1</td>\n",
       "      <td>2010-02-05</td>\n",
       "      <td>-0.657671</td>\n",
       "      <td>-1.340456</td>\n",
       "      <td>0.000000</td>\n",
       "      <td>0.000000</td>\n",
       "      <td>0.000000</td>\n",
       "      <td>0.000000</td>\n",
       "      <td>0.000000</td>\n",
       "      <td>A</td>\n",
       "      <td>0.188481</td>\n",
       "      <td>2010</td>\n",
       "      <td>2</td>\n",
       "      <td>0.357329</td>\n",
       "      <td>0.156250</td>\n",
       "    </tr>\n",
       "    <tr>\n",
       "      <th>1</th>\n",
       "      <td>1</td>\n",
       "      <td>2010-02-12</td>\n",
       "      <td>-0.793495</td>\n",
       "      <td>-1.374644</td>\n",
       "      <td>0.000000</td>\n",
       "      <td>0.000000</td>\n",
       "      <td>0.000000</td>\n",
       "      <td>0.000000</td>\n",
       "      <td>0.000000</td>\n",
       "      <td>A</td>\n",
       "      <td>0.188481</td>\n",
       "      <td>2010</td>\n",
       "      <td>2</td>\n",
       "      <td>0.359129</td>\n",
       "      <td>0.156250</td>\n",
       "    </tr>\n",
       "    <tr>\n",
       "      <th>2</th>\n",
       "      <td>1</td>\n",
       "      <td>2010-02-19</td>\n",
       "      <td>-0.742740</td>\n",
       "      <td>-1.423077</td>\n",
       "      <td>0.000000</td>\n",
       "      <td>0.000000</td>\n",
       "      <td>0.000000</td>\n",
       "      <td>0.000000</td>\n",
       "      <td>0.000000</td>\n",
       "      <td>A</td>\n",
       "      <td>0.188481</td>\n",
       "      <td>2010</td>\n",
       "      <td>2</td>\n",
       "      <td>0.359708</td>\n",
       "      <td>0.156250</td>\n",
       "    </tr>\n",
       "    <tr>\n",
       "      <th>3</th>\n",
       "      <td>1</td>\n",
       "      <td>2010-02-26</td>\n",
       "      <td>-0.503262</td>\n",
       "      <td>-1.356125</td>\n",
       "      <td>0.000000</td>\n",
       "      <td>0.000000</td>\n",
       "      <td>0.000000</td>\n",
       "      <td>0.000000</td>\n",
       "      <td>0.000000</td>\n",
       "      <td>A</td>\n",
       "      <td>0.188481</td>\n",
       "      <td>2010</td>\n",
       "      <td>2</td>\n",
       "      <td>0.360085</td>\n",
       "      <td>0.156250</td>\n",
       "    </tr>\n",
       "    <tr>\n",
       "      <th>4</th>\n",
       "      <td>1</td>\n",
       "      <td>2010-03-05</td>\n",
       "      <td>-0.507908</td>\n",
       "      <td>-1.264957</td>\n",
       "      <td>0.000000</td>\n",
       "      <td>0.000000</td>\n",
       "      <td>0.000000</td>\n",
       "      <td>0.000000</td>\n",
       "      <td>0.000000</td>\n",
       "      <td>A</td>\n",
       "      <td>0.188481</td>\n",
       "      <td>2010</td>\n",
       "      <td>3</td>\n",
       "      <td>0.360461</td>\n",
       "      <td>0.156250</td>\n",
       "    </tr>\n",
       "    <tr>\n",
       "      <th>...</th>\n",
       "      <td>...</td>\n",
       "      <td>...</td>\n",
       "      <td>...</td>\n",
       "      <td>...</td>\n",
       "      <td>...</td>\n",
       "      <td>...</td>\n",
       "      <td>...</td>\n",
       "      <td>...</td>\n",
       "      <td>...</td>\n",
       "      <td>...</td>\n",
       "      <td>...</td>\n",
       "      <td>...</td>\n",
       "      <td>...</td>\n",
       "      <td>...</td>\n",
       "      <td>...</td>\n",
       "    </tr>\n",
       "    <tr>\n",
       "      <th>8185</th>\n",
       "      <td>45</td>\n",
       "      <td>2013-06-28</td>\n",
       "      <td>0.548298</td>\n",
       "      <td>0.179487</td>\n",
       "      <td>1.043690</td>\n",
       "      <td>9.889745</td>\n",
       "      <td>0.123865</td>\n",
       "      <td>3.162506</td>\n",
       "      <td>1.182590</td>\n",
       "      <td>B</td>\n",
       "      <td>-0.063004</td>\n",
       "      <td>2013</td>\n",
       "      <td>6</td>\n",
       "      <td>0.141276</td>\n",
       "      <td>0.275521</td>\n",
       "    </tr>\n",
       "    <tr>\n",
       "      <th>8186</th>\n",
       "      <td>45</td>\n",
       "      <td>2013-07-05</td>\n",
       "      <td>0.600125</td>\n",
       "      <td>0.143875</td>\n",
       "      <td>1.959330</td>\n",
       "      <td>23.010244</td>\n",
       "      <td>24.060281</td>\n",
       "      <td>7.483576</td>\n",
       "      <td>0.565210</td>\n",
       "      <td>B</td>\n",
       "      <td>-0.063004</td>\n",
       "      <td>2013</td>\n",
       "      <td>7</td>\n",
       "      <td>0.141276</td>\n",
       "      <td>0.275521</td>\n",
       "    </tr>\n",
       "    <tr>\n",
       "      <th>8187</th>\n",
       "      <td>45</td>\n",
       "      <td>2013-07-12</td>\n",
       "      <td>0.666965</td>\n",
       "      <td>0.143875</td>\n",
       "      <td>0.816870</td>\n",
       "      <td>18.534436</td>\n",
       "      <td>3.539224</td>\n",
       "      <td>0.961465</td>\n",
       "      <td>0.802285</td>\n",
       "      <td>B</td>\n",
       "      <td>-0.063004</td>\n",
       "      <td>2013</td>\n",
       "      <td>7</td>\n",
       "      <td>0.141276</td>\n",
       "      <td>0.275521</td>\n",
       "    </tr>\n",
       "    <tr>\n",
       "      <th>8188</th>\n",
       "      <td>45</td>\n",
       "      <td>2013-07-19</td>\n",
       "      <td>0.790993</td>\n",
       "      <td>0.319088</td>\n",
       "      <td>0.638309</td>\n",
       "      <td>10.620448</td>\n",
       "      <td>8.430636</td>\n",
       "      <td>0.468573</td>\n",
       "      <td>0.395277</td>\n",
       "      <td>B</td>\n",
       "      <td>-0.063004</td>\n",
       "      <td>2013</td>\n",
       "      <td>7</td>\n",
       "      <td>0.141276</td>\n",
       "      <td>0.275521</td>\n",
       "    </tr>\n",
       "    <tr>\n",
       "      <th>8189</th>\n",
       "      <td>45</td>\n",
       "      <td>2013-07-26</td>\n",
       "      <td>0.548655</td>\n",
       "      <td>0.414530</td>\n",
       "      <td>0.045698</td>\n",
       "      <td>8.639111</td>\n",
       "      <td>0.085054</td>\n",
       "      <td>0.014044</td>\n",
       "      <td>0.695659</td>\n",
       "      <td>B</td>\n",
       "      <td>-0.063004</td>\n",
       "      <td>2013</td>\n",
       "      <td>7</td>\n",
       "      <td>0.141276</td>\n",
       "      <td>0.275521</td>\n",
       "    </tr>\n",
       "  </tbody>\n",
       "</table>\n",
       "<p>8190 rows × 15 columns</p>\n",
       "</div>"
      ],
      "text/plain": [
       "      Store       Date  Temperature  Fuel_Price  MarkDown1  MarkDown2  \\\n",
       "0         1 2010-02-05    -0.657671   -1.340456   0.000000   0.000000   \n",
       "1         1 2010-02-12    -0.793495   -1.374644   0.000000   0.000000   \n",
       "2         1 2010-02-19    -0.742740   -1.423077   0.000000   0.000000   \n",
       "3         1 2010-02-26    -0.503262   -1.356125   0.000000   0.000000   \n",
       "4         1 2010-03-05    -0.507908   -1.264957   0.000000   0.000000   \n",
       "...     ...        ...          ...         ...        ...        ...   \n",
       "8185     45 2013-06-28     0.548298    0.179487   1.043690   9.889745   \n",
       "8186     45 2013-07-05     0.600125    0.143875   1.959330  23.010244   \n",
       "8187     45 2013-07-12     0.666965    0.143875   0.816870  18.534436   \n",
       "8188     45 2013-07-19     0.790993    0.319088   0.638309  10.620448   \n",
       "8189     45 2013-07-26     0.548655    0.414530   0.045698   8.639111   \n",
       "\n",
       "      MarkDown3  MarkDown4  MarkDown5 Type      Size  year  month  \\\n",
       "0      0.000000   0.000000   0.000000    A  0.188481  2010      2   \n",
       "1      0.000000   0.000000   0.000000    A  0.188481  2010      2   \n",
       "2      0.000000   0.000000   0.000000    A  0.188481  2010      2   \n",
       "3      0.000000   0.000000   0.000000    A  0.188481  2010      2   \n",
       "4      0.000000   0.000000   0.000000    A  0.188481  2010      3   \n",
       "...         ...        ...        ...  ...       ...   ...    ...   \n",
       "8185   0.123865   3.162506   1.182590    B -0.063004  2013      6   \n",
       "8186  24.060281   7.483576   0.565210    B -0.063004  2013      7   \n",
       "8187   3.539224   0.961465   0.802285    B -0.063004  2013      7   \n",
       "8188   8.430636   0.468573   0.395277    B -0.063004  2013      7   \n",
       "8189   0.085054   0.014044   0.695659    B -0.063004  2013      7   \n",
       "\n",
       "      CPI_interpolate  Unemployment_interpolate  \n",
       "0            0.357329                  0.156250  \n",
       "1            0.359129                  0.156250  \n",
       "2            0.359708                  0.156250  \n",
       "3            0.360085                  0.156250  \n",
       "4            0.360461                  0.156250  \n",
       "...               ...                       ...  \n",
       "8185         0.141276                  0.275521  \n",
       "8186         0.141276                  0.275521  \n",
       "8187         0.141276                  0.275521  \n",
       "8188         0.141276                  0.275521  \n",
       "8189         0.141276                  0.275521  \n",
       "\n",
       "[8190 rows x 15 columns]"
      ]
     },
     "execution_count": 841,
     "metadata": {},
     "output_type": "execute_result"
    }
   ],
   "source": [
    "store"
   ]
  },
  {
   "cell_type": "code",
   "execution_count": 842,
   "id": "d11f2a53",
   "metadata": {},
   "outputs": [
    {
     "data": {
      "text/html": [
       "<div>\n",
       "<style scoped>\n",
       "    .dataframe tbody tr th:only-of-type {\n",
       "        vertical-align: middle;\n",
       "    }\n",
       "\n",
       "    .dataframe tbody tr th {\n",
       "        vertical-align: top;\n",
       "    }\n",
       "\n",
       "    .dataframe thead th {\n",
       "        text-align: right;\n",
       "    }\n",
       "</style>\n",
       "<table border=\"1\" class=\"dataframe\">\n",
       "  <thead>\n",
       "    <tr style=\"text-align: right;\">\n",
       "      <th></th>\n",
       "      <th>Store</th>\n",
       "      <th>Temperature</th>\n",
       "      <th>Fuel_Price</th>\n",
       "      <th>MarkDown1</th>\n",
       "      <th>MarkDown2</th>\n",
       "      <th>MarkDown3</th>\n",
       "      <th>MarkDown4</th>\n",
       "      <th>MarkDown5</th>\n",
       "      <th>Size</th>\n",
       "      <th>year</th>\n",
       "      <th>month</th>\n",
       "      <th>CPI_interpolate</th>\n",
       "      <th>Unemployment_interpolate</th>\n",
       "    </tr>\n",
       "  </thead>\n",
       "  <tbody>\n",
       "    <tr>\n",
       "      <th>count</th>\n",
       "      <td>8190.000000</td>\n",
       "      <td>8190.000000</td>\n",
       "      <td>8190.000000</td>\n",
       "      <td>8190.000000</td>\n",
       "      <td>8190.000000</td>\n",
       "      <td>8190.000000</td>\n",
       "      <td>8190.000000</td>\n",
       "      <td>8190.000000</td>\n",
       "      <td>8190.000000</td>\n",
       "      <td>8190.000000</td>\n",
       "      <td>8190.000000</td>\n",
       "      <td>8190.000000</td>\n",
       "      <td>8190.000000</td>\n",
       "    </tr>\n",
       "    <tr>\n",
       "      <th>mean</th>\n",
       "      <td>23.000000</td>\n",
       "      <td>-0.048389</td>\n",
       "      <td>-0.152433</td>\n",
       "      <td>0.746207</td>\n",
       "      <td>12.242435</td>\n",
       "      <td>32.058803</td>\n",
       "      <td>1.797827</td>\n",
       "      <td>0.762380</td>\n",
       "      <td>0.028691</td>\n",
       "      <td>2011.351648</td>\n",
       "      <td>6.291209</td>\n",
       "      <td>-0.119287</td>\n",
       "      <td>0.005078</td>\n",
       "    </tr>\n",
       "    <tr>\n",
       "      <th>std</th>\n",
       "      <td>12.987966</td>\n",
       "      <td>0.667630</td>\n",
       "      <td>0.614440</td>\n",
       "      <td>1.592581</td>\n",
       "      <td>55.741516</td>\n",
       "      <td>311.311055</td>\n",
       "      <td>6.076103</td>\n",
       "      <td>3.518726</td>\n",
       "      <td>0.479627</td>\n",
       "      <td>1.041762</td>\n",
       "      <td>3.328046</td>\n",
       "      <td>0.484126</td>\n",
       "      <td>0.964027</td>\n",
       "    </tr>\n",
       "    <tr>\n",
       "      <th>min</th>\n",
       "      <td>1.000000</td>\n",
       "      <td>-2.430525</td>\n",
       "      <td>-1.482906</td>\n",
       "      <td>-0.599504</td>\n",
       "      <td>-2.695608</td>\n",
       "      <td>-7.401321</td>\n",
       "      <td>0.000000</td>\n",
       "      <td>-0.069086</td>\n",
       "      <td>-0.696362</td>\n",
       "      <td>2010.000000</td>\n",
       "      <td>1.000000</td>\n",
       "      <td>-0.692047</td>\n",
       "      <td>-2.146875</td>\n",
       "    </tr>\n",
       "    <tr>\n",
       "      <th>25%</th>\n",
       "      <td>12.000000</td>\n",
       "      <td>-0.529265</td>\n",
       "      <td>-0.672365</td>\n",
       "      <td>0.000000</td>\n",
       "      <td>0.000000</td>\n",
       "      <td>0.000000</td>\n",
       "      <td>0.000000</td>\n",
       "      <td>0.000000</td>\n",
       "      <td>-0.424024</td>\n",
       "      <td>2010.000000</td>\n",
       "      <td>3.000000</td>\n",
       "      <td>-0.612049</td>\n",
       "      <td>-0.610417</td>\n",
       "    </tr>\n",
       "    <tr>\n",
       "      <th>50%</th>\n",
       "      <td>23.000000</td>\n",
       "      <td>0.000000</td>\n",
       "      <td>0.000000</td>\n",
       "      <td>0.000000</td>\n",
       "      <td>0.000000</td>\n",
       "      <td>0.000000</td>\n",
       "      <td>0.000000</td>\n",
       "      <td>0.000000</td>\n",
       "      <td>0.000000</td>\n",
       "      <td>2011.000000</td>\n",
       "      <td>6.000000</td>\n",
       "      <td>0.000000</td>\n",
       "      <td>0.000000</td>\n",
       "    </tr>\n",
       "    <tr>\n",
       "      <th>75%</th>\n",
       "      <td>34.000000</td>\n",
       "      <td>0.470735</td>\n",
       "      <td>0.327635</td>\n",
       "      <td>1.000000</td>\n",
       "      <td>1.000000</td>\n",
       "      <td>1.000000</td>\n",
       "      <td>1.000000</td>\n",
       "      <td>1.000000</td>\n",
       "      <td>0.575976</td>\n",
       "      <td>2012.000000</td>\n",
       "      <td>9.000000</td>\n",
       "      <td>0.387951</td>\n",
       "      <td>0.389583</td>\n",
       "    </tr>\n",
       "    <tr>\n",
       "      <th>max</th>\n",
       "      <td>45.000000</td>\n",
       "      <td>1.474042</td>\n",
       "      <td>1.360399</td>\n",
       "      <td>22.240131</td>\n",
       "      <td>1060.143422</td>\n",
       "      <td>6171.895541</td>\n",
       "      <td>87.098881</td>\n",
       "      <td>287.822087</td>\n",
       "      <td>0.707555</td>\n",
       "      <td>2013.000000</td>\n",
       "      <td>12.000000</td>\n",
       "      <td>0.577986</td>\n",
       "      <td>3.389063</td>\n",
       "    </tr>\n",
       "  </tbody>\n",
       "</table>\n",
       "</div>"
      ],
      "text/plain": [
       "             Store  Temperature   Fuel_Price    MarkDown1    MarkDown2  \\\n",
       "count  8190.000000  8190.000000  8190.000000  8190.000000  8190.000000   \n",
       "mean     23.000000    -0.048389    -0.152433     0.746207    12.242435   \n",
       "std      12.987966     0.667630     0.614440     1.592581    55.741516   \n",
       "min       1.000000    -2.430525    -1.482906    -0.599504    -2.695608   \n",
       "25%      12.000000    -0.529265    -0.672365     0.000000     0.000000   \n",
       "50%      23.000000     0.000000     0.000000     0.000000     0.000000   \n",
       "75%      34.000000     0.470735     0.327635     1.000000     1.000000   \n",
       "max      45.000000     1.474042     1.360399    22.240131  1060.143422   \n",
       "\n",
       "         MarkDown3    MarkDown4    MarkDown5         Size         year  \\\n",
       "count  8190.000000  8190.000000  8190.000000  8190.000000  8190.000000   \n",
       "mean     32.058803     1.797827     0.762380     0.028691  2011.351648   \n",
       "std     311.311055     6.076103     3.518726     0.479627     1.041762   \n",
       "min      -7.401321     0.000000    -0.069086    -0.696362  2010.000000   \n",
       "25%       0.000000     0.000000     0.000000    -0.424024  2010.000000   \n",
       "50%       0.000000     0.000000     0.000000     0.000000  2011.000000   \n",
       "75%       1.000000     1.000000     1.000000     0.575976  2012.000000   \n",
       "max    6171.895541    87.098881   287.822087     0.707555  2013.000000   \n",
       "\n",
       "             month  CPI_interpolate  Unemployment_interpolate  \n",
       "count  8190.000000      8190.000000               8190.000000  \n",
       "mean      6.291209        -0.119287                  0.005078  \n",
       "std       3.328046         0.484126                  0.964027  \n",
       "min       1.000000        -0.692047                 -2.146875  \n",
       "25%       3.000000        -0.612049                 -0.610417  \n",
       "50%       6.000000         0.000000                  0.000000  \n",
       "75%       9.000000         0.387951                  0.389583  \n",
       "max      12.000000         0.577986                  3.389063  "
      ]
     },
     "execution_count": 842,
     "metadata": {},
     "output_type": "execute_result"
    }
   ],
   "source": [
    "store.describe()"
   ]
  },
  {
   "cell_type": "markdown",
   "id": "7053d830",
   "metadata": {},
   "source": [
    "# train, test.merge(store)"
   ]
  },
  {
   "cell_type": "code",
   "execution_count": 843,
   "id": "1f8feaf6",
   "metadata": {},
   "outputs": [
    {
     "name": "stdout",
     "output_type": "stream",
     "text": [
      "(421570, 5)\n"
     ]
    },
    {
     "data": {
      "text/html": [
       "<div>\n",
       "<style scoped>\n",
       "    .dataframe tbody tr th:only-of-type {\n",
       "        vertical-align: middle;\n",
       "    }\n",
       "\n",
       "    .dataframe tbody tr th {\n",
       "        vertical-align: top;\n",
       "    }\n",
       "\n",
       "    .dataframe thead th {\n",
       "        text-align: right;\n",
       "    }\n",
       "</style>\n",
       "<table border=\"1\" class=\"dataframe\">\n",
       "  <thead>\n",
       "    <tr style=\"text-align: right;\">\n",
       "      <th></th>\n",
       "      <th>Store</th>\n",
       "      <th>Dept</th>\n",
       "      <th>Date</th>\n",
       "      <th>Weekly_Sales</th>\n",
       "      <th>IsHoliday</th>\n",
       "    </tr>\n",
       "  </thead>\n",
       "  <tbody>\n",
       "    <tr>\n",
       "      <th>0</th>\n",
       "      <td>1</td>\n",
       "      <td>1</td>\n",
       "      <td>2010-02-05</td>\n",
       "      <td>24924.50</td>\n",
       "      <td>False</td>\n",
       "    </tr>\n",
       "    <tr>\n",
       "      <th>1</th>\n",
       "      <td>1</td>\n",
       "      <td>1</td>\n",
       "      <td>2010-02-12</td>\n",
       "      <td>46039.49</td>\n",
       "      <td>True</td>\n",
       "    </tr>\n",
       "    <tr>\n",
       "      <th>2</th>\n",
       "      <td>1</td>\n",
       "      <td>1</td>\n",
       "      <td>2010-02-19</td>\n",
       "      <td>41595.55</td>\n",
       "      <td>False</td>\n",
       "    </tr>\n",
       "    <tr>\n",
       "      <th>3</th>\n",
       "      <td>1</td>\n",
       "      <td>1</td>\n",
       "      <td>2010-02-26</td>\n",
       "      <td>19403.54</td>\n",
       "      <td>False</td>\n",
       "    </tr>\n",
       "    <tr>\n",
       "      <th>4</th>\n",
       "      <td>1</td>\n",
       "      <td>1</td>\n",
       "      <td>2010-03-05</td>\n",
       "      <td>21827.90</td>\n",
       "      <td>False</td>\n",
       "    </tr>\n",
       "  </tbody>\n",
       "</table>\n",
       "</div>"
      ],
      "text/plain": [
       "   Store  Dept        Date  Weekly_Sales  IsHoliday\n",
       "0      1     1  2010-02-05      24924.50      False\n",
       "1      1     1  2010-02-12      46039.49       True\n",
       "2      1     1  2010-02-19      41595.55      False\n",
       "3      1     1  2010-02-26      19403.54      False\n",
       "4      1     1  2010-03-05      21827.90      False"
      ]
     },
     "execution_count": 843,
     "metadata": {},
     "output_type": "execute_result"
    }
   ],
   "source": [
    "print(train.shape)\n",
    "train.head()"
   ]
  },
  {
   "cell_type": "code",
   "execution_count": 844,
   "id": "05fa47e0",
   "metadata": {},
   "outputs": [],
   "source": [
    "train[\"Date\"] = pd.to_datetime(train[\"Date\"])\n",
    "test[\"Date\"] = pd.to_datetime(test[\"Date\"])"
   ]
  },
  {
   "cell_type": "code",
   "execution_count": 845,
   "id": "ef65d55c",
   "metadata": {},
   "outputs": [
    {
     "name": "stdout",
     "output_type": "stream",
     "text": [
      "(8190, 15)\n"
     ]
    },
    {
     "data": {
      "text/html": [
       "<div>\n",
       "<style scoped>\n",
       "    .dataframe tbody tr th:only-of-type {\n",
       "        vertical-align: middle;\n",
       "    }\n",
       "\n",
       "    .dataframe tbody tr th {\n",
       "        vertical-align: top;\n",
       "    }\n",
       "\n",
       "    .dataframe thead th {\n",
       "        text-align: right;\n",
       "    }\n",
       "</style>\n",
       "<table border=\"1\" class=\"dataframe\">\n",
       "  <thead>\n",
       "    <tr style=\"text-align: right;\">\n",
       "      <th></th>\n",
       "      <th>Store</th>\n",
       "      <th>Date</th>\n",
       "      <th>Temperature</th>\n",
       "      <th>Fuel_Price</th>\n",
       "      <th>MarkDown1</th>\n",
       "      <th>MarkDown2</th>\n",
       "      <th>MarkDown3</th>\n",
       "      <th>MarkDown4</th>\n",
       "      <th>MarkDown5</th>\n",
       "      <th>Type</th>\n",
       "      <th>Size</th>\n",
       "      <th>year</th>\n",
       "      <th>month</th>\n",
       "      <th>CPI_interpolate</th>\n",
       "      <th>Unemployment_interpolate</th>\n",
       "    </tr>\n",
       "  </thead>\n",
       "  <tbody>\n",
       "    <tr>\n",
       "      <th>0</th>\n",
       "      <td>1</td>\n",
       "      <td>2010-02-05</td>\n",
       "      <td>-0.657671</td>\n",
       "      <td>-1.340456</td>\n",
       "      <td>0.0</td>\n",
       "      <td>0.0</td>\n",
       "      <td>0.0</td>\n",
       "      <td>0.0</td>\n",
       "      <td>0.0</td>\n",
       "      <td>A</td>\n",
       "      <td>0.188481</td>\n",
       "      <td>2010</td>\n",
       "      <td>2</td>\n",
       "      <td>0.357329</td>\n",
       "      <td>0.15625</td>\n",
       "    </tr>\n",
       "    <tr>\n",
       "      <th>1</th>\n",
       "      <td>1</td>\n",
       "      <td>2010-02-12</td>\n",
       "      <td>-0.793495</td>\n",
       "      <td>-1.374644</td>\n",
       "      <td>0.0</td>\n",
       "      <td>0.0</td>\n",
       "      <td>0.0</td>\n",
       "      <td>0.0</td>\n",
       "      <td>0.0</td>\n",
       "      <td>A</td>\n",
       "      <td>0.188481</td>\n",
       "      <td>2010</td>\n",
       "      <td>2</td>\n",
       "      <td>0.359129</td>\n",
       "      <td>0.15625</td>\n",
       "    </tr>\n",
       "    <tr>\n",
       "      <th>2</th>\n",
       "      <td>1</td>\n",
       "      <td>2010-02-19</td>\n",
       "      <td>-0.742740</td>\n",
       "      <td>-1.423077</td>\n",
       "      <td>0.0</td>\n",
       "      <td>0.0</td>\n",
       "      <td>0.0</td>\n",
       "      <td>0.0</td>\n",
       "      <td>0.0</td>\n",
       "      <td>A</td>\n",
       "      <td>0.188481</td>\n",
       "      <td>2010</td>\n",
       "      <td>2</td>\n",
       "      <td>0.359708</td>\n",
       "      <td>0.15625</td>\n",
       "    </tr>\n",
       "    <tr>\n",
       "      <th>3</th>\n",
       "      <td>1</td>\n",
       "      <td>2010-02-26</td>\n",
       "      <td>-0.503262</td>\n",
       "      <td>-1.356125</td>\n",
       "      <td>0.0</td>\n",
       "      <td>0.0</td>\n",
       "      <td>0.0</td>\n",
       "      <td>0.0</td>\n",
       "      <td>0.0</td>\n",
       "      <td>A</td>\n",
       "      <td>0.188481</td>\n",
       "      <td>2010</td>\n",
       "      <td>2</td>\n",
       "      <td>0.360085</td>\n",
       "      <td>0.15625</td>\n",
       "    </tr>\n",
       "    <tr>\n",
       "      <th>4</th>\n",
       "      <td>1</td>\n",
       "      <td>2010-03-05</td>\n",
       "      <td>-0.507908</td>\n",
       "      <td>-1.264957</td>\n",
       "      <td>0.0</td>\n",
       "      <td>0.0</td>\n",
       "      <td>0.0</td>\n",
       "      <td>0.0</td>\n",
       "      <td>0.0</td>\n",
       "      <td>A</td>\n",
       "      <td>0.188481</td>\n",
       "      <td>2010</td>\n",
       "      <td>3</td>\n",
       "      <td>0.360461</td>\n",
       "      <td>0.15625</td>\n",
       "    </tr>\n",
       "  </tbody>\n",
       "</table>\n",
       "</div>"
      ],
      "text/plain": [
       "   Store       Date  Temperature  Fuel_Price  MarkDown1  MarkDown2  MarkDown3  \\\n",
       "0      1 2010-02-05    -0.657671   -1.340456        0.0        0.0        0.0   \n",
       "1      1 2010-02-12    -0.793495   -1.374644        0.0        0.0        0.0   \n",
       "2      1 2010-02-19    -0.742740   -1.423077        0.0        0.0        0.0   \n",
       "3      1 2010-02-26    -0.503262   -1.356125        0.0        0.0        0.0   \n",
       "4      1 2010-03-05    -0.507908   -1.264957        0.0        0.0        0.0   \n",
       "\n",
       "   MarkDown4  MarkDown5 Type      Size  year  month  CPI_interpolate  \\\n",
       "0        0.0        0.0    A  0.188481  2010      2         0.357329   \n",
       "1        0.0        0.0    A  0.188481  2010      2         0.359129   \n",
       "2        0.0        0.0    A  0.188481  2010      2         0.359708   \n",
       "3        0.0        0.0    A  0.188481  2010      2         0.360085   \n",
       "4        0.0        0.0    A  0.188481  2010      3         0.360461   \n",
       "\n",
       "   Unemployment_interpolate  \n",
       "0                   0.15625  \n",
       "1                   0.15625  \n",
       "2                   0.15625  \n",
       "3                   0.15625  \n",
       "4                   0.15625  "
      ]
     },
     "execution_count": 845,
     "metadata": {},
     "output_type": "execute_result"
    }
   ],
   "source": [
    "print(store.shape)\n",
    "store.head()"
   ]
  },
  {
   "cell_type": "code",
   "execution_count": 846,
   "id": "e1caaa3f",
   "metadata": {},
   "outputs": [],
   "source": [
    "train = train.merge(store, on=[\"Store\", \"Date\"])"
   ]
  },
  {
   "cell_type": "code",
   "execution_count": 847,
   "id": "70cd619c",
   "metadata": {},
   "outputs": [
    {
     "data": {
      "text/html": [
       "<div>\n",
       "<style scoped>\n",
       "    .dataframe tbody tr th:only-of-type {\n",
       "        vertical-align: middle;\n",
       "    }\n",
       "\n",
       "    .dataframe tbody tr th {\n",
       "        vertical-align: top;\n",
       "    }\n",
       "\n",
       "    .dataframe thead th {\n",
       "        text-align: right;\n",
       "    }\n",
       "</style>\n",
       "<table border=\"1\" class=\"dataframe\">\n",
       "  <thead>\n",
       "    <tr style=\"text-align: right;\">\n",
       "      <th></th>\n",
       "      <th>Store</th>\n",
       "      <th>Dept</th>\n",
       "      <th>Date</th>\n",
       "      <th>Weekly_Sales</th>\n",
       "      <th>IsHoliday</th>\n",
       "      <th>Temperature</th>\n",
       "      <th>Fuel_Price</th>\n",
       "      <th>MarkDown1</th>\n",
       "      <th>MarkDown2</th>\n",
       "      <th>MarkDown3</th>\n",
       "      <th>MarkDown4</th>\n",
       "      <th>MarkDown5</th>\n",
       "      <th>Type</th>\n",
       "      <th>Size</th>\n",
       "      <th>year</th>\n",
       "      <th>month</th>\n",
       "      <th>CPI_interpolate</th>\n",
       "      <th>Unemployment_interpolate</th>\n",
       "    </tr>\n",
       "  </thead>\n",
       "  <tbody>\n",
       "    <tr>\n",
       "      <th>0</th>\n",
       "      <td>1</td>\n",
       "      <td>1</td>\n",
       "      <td>2010-02-05</td>\n",
       "      <td>24924.50</td>\n",
       "      <td>False</td>\n",
       "      <td>-0.657671</td>\n",
       "      <td>-1.340456</td>\n",
       "      <td>0.000000</td>\n",
       "      <td>0.000000</td>\n",
       "      <td>0.000000</td>\n",
       "      <td>0.00000</td>\n",
       "      <td>0.000000</td>\n",
       "      <td>A</td>\n",
       "      <td>0.188481</td>\n",
       "      <td>2010</td>\n",
       "      <td>2</td>\n",
       "      <td>0.357329</td>\n",
       "      <td>0.156250</td>\n",
       "    </tr>\n",
       "    <tr>\n",
       "      <th>1</th>\n",
       "      <td>1</td>\n",
       "      <td>2</td>\n",
       "      <td>2010-02-05</td>\n",
       "      <td>50605.27</td>\n",
       "      <td>False</td>\n",
       "      <td>-0.657671</td>\n",
       "      <td>-1.340456</td>\n",
       "      <td>0.000000</td>\n",
       "      <td>0.000000</td>\n",
       "      <td>0.000000</td>\n",
       "      <td>0.00000</td>\n",
       "      <td>0.000000</td>\n",
       "      <td>A</td>\n",
       "      <td>0.188481</td>\n",
       "      <td>2010</td>\n",
       "      <td>2</td>\n",
       "      <td>0.357329</td>\n",
       "      <td>0.156250</td>\n",
       "    </tr>\n",
       "    <tr>\n",
       "      <th>2</th>\n",
       "      <td>1</td>\n",
       "      <td>3</td>\n",
       "      <td>2010-02-05</td>\n",
       "      <td>13740.12</td>\n",
       "      <td>False</td>\n",
       "      <td>-0.657671</td>\n",
       "      <td>-1.340456</td>\n",
       "      <td>0.000000</td>\n",
       "      <td>0.000000</td>\n",
       "      <td>0.000000</td>\n",
       "      <td>0.00000</td>\n",
       "      <td>0.000000</td>\n",
       "      <td>A</td>\n",
       "      <td>0.188481</td>\n",
       "      <td>2010</td>\n",
       "      <td>2</td>\n",
       "      <td>0.357329</td>\n",
       "      <td>0.156250</td>\n",
       "    </tr>\n",
       "    <tr>\n",
       "      <th>3</th>\n",
       "      <td>1</td>\n",
       "      <td>4</td>\n",
       "      <td>2010-02-05</td>\n",
       "      <td>39954.04</td>\n",
       "      <td>False</td>\n",
       "      <td>-0.657671</td>\n",
       "      <td>-1.340456</td>\n",
       "      <td>0.000000</td>\n",
       "      <td>0.000000</td>\n",
       "      <td>0.000000</td>\n",
       "      <td>0.00000</td>\n",
       "      <td>0.000000</td>\n",
       "      <td>A</td>\n",
       "      <td>0.188481</td>\n",
       "      <td>2010</td>\n",
       "      <td>2</td>\n",
       "      <td>0.357329</td>\n",
       "      <td>0.156250</td>\n",
       "    </tr>\n",
       "    <tr>\n",
       "      <th>4</th>\n",
       "      <td>1</td>\n",
       "      <td>5</td>\n",
       "      <td>2010-02-05</td>\n",
       "      <td>32229.38</td>\n",
       "      <td>False</td>\n",
       "      <td>-0.657671</td>\n",
       "      <td>-1.340456</td>\n",
       "      <td>0.000000</td>\n",
       "      <td>0.000000</td>\n",
       "      <td>0.000000</td>\n",
       "      <td>0.00000</td>\n",
       "      <td>0.000000</td>\n",
       "      <td>A</td>\n",
       "      <td>0.188481</td>\n",
       "      <td>2010</td>\n",
       "      <td>2</td>\n",
       "      <td>0.357329</td>\n",
       "      <td>0.156250</td>\n",
       "    </tr>\n",
       "    <tr>\n",
       "      <th>...</th>\n",
       "      <td>...</td>\n",
       "      <td>...</td>\n",
       "      <td>...</td>\n",
       "      <td>...</td>\n",
       "      <td>...</td>\n",
       "      <td>...</td>\n",
       "      <td>...</td>\n",
       "      <td>...</td>\n",
       "      <td>...</td>\n",
       "      <td>...</td>\n",
       "      <td>...</td>\n",
       "      <td>...</td>\n",
       "      <td>...</td>\n",
       "      <td>...</td>\n",
       "      <td>...</td>\n",
       "      <td>...</td>\n",
       "      <td>...</td>\n",
       "      <td>...</td>\n",
       "    </tr>\n",
       "    <tr>\n",
       "      <th>421565</th>\n",
       "      <td>45</td>\n",
       "      <td>93</td>\n",
       "      <td>2012-10-26</td>\n",
       "      <td>2487.80</td>\n",
       "      <td>False</td>\n",
       "      <td>-0.066482</td>\n",
       "      <td>0.525641</td>\n",
       "      <td>0.866222</td>\n",
       "      <td>0.589106</td>\n",
       "      <td>4.128819</td>\n",
       "      <td>0.27358</td>\n",
       "      <td>0.320237</td>\n",
       "      <td>B</td>\n",
       "      <td>-0.063004</td>\n",
       "      <td>2012</td>\n",
       "      <td>10</td>\n",
       "      <td>0.125475</td>\n",
       "      <td>0.448437</td>\n",
       "    </tr>\n",
       "    <tr>\n",
       "      <th>421566</th>\n",
       "      <td>45</td>\n",
       "      <td>94</td>\n",
       "      <td>2012-10-26</td>\n",
       "      <td>5203.31</td>\n",
       "      <td>False</td>\n",
       "      <td>-0.066482</td>\n",
       "      <td>0.525641</td>\n",
       "      <td>0.866222</td>\n",
       "      <td>0.589106</td>\n",
       "      <td>4.128819</td>\n",
       "      <td>0.27358</td>\n",
       "      <td>0.320237</td>\n",
       "      <td>B</td>\n",
       "      <td>-0.063004</td>\n",
       "      <td>2012</td>\n",
       "      <td>10</td>\n",
       "      <td>0.125475</td>\n",
       "      <td>0.448437</td>\n",
       "    </tr>\n",
       "    <tr>\n",
       "      <th>421567</th>\n",
       "      <td>45</td>\n",
       "      <td>95</td>\n",
       "      <td>2012-10-26</td>\n",
       "      <td>56017.47</td>\n",
       "      <td>False</td>\n",
       "      <td>-0.066482</td>\n",
       "      <td>0.525641</td>\n",
       "      <td>0.866222</td>\n",
       "      <td>0.589106</td>\n",
       "      <td>4.128819</td>\n",
       "      <td>0.27358</td>\n",
       "      <td>0.320237</td>\n",
       "      <td>B</td>\n",
       "      <td>-0.063004</td>\n",
       "      <td>2012</td>\n",
       "      <td>10</td>\n",
       "      <td>0.125475</td>\n",
       "      <td>0.448437</td>\n",
       "    </tr>\n",
       "    <tr>\n",
       "      <th>421568</th>\n",
       "      <td>45</td>\n",
       "      <td>97</td>\n",
       "      <td>2012-10-26</td>\n",
       "      <td>6817.48</td>\n",
       "      <td>False</td>\n",
       "      <td>-0.066482</td>\n",
       "      <td>0.525641</td>\n",
       "      <td>0.866222</td>\n",
       "      <td>0.589106</td>\n",
       "      <td>4.128819</td>\n",
       "      <td>0.27358</td>\n",
       "      <td>0.320237</td>\n",
       "      <td>B</td>\n",
       "      <td>-0.063004</td>\n",
       "      <td>2012</td>\n",
       "      <td>10</td>\n",
       "      <td>0.125475</td>\n",
       "      <td>0.448437</td>\n",
       "    </tr>\n",
       "    <tr>\n",
       "      <th>421569</th>\n",
       "      <td>45</td>\n",
       "      <td>98</td>\n",
       "      <td>2012-10-26</td>\n",
       "      <td>1076.80</td>\n",
       "      <td>False</td>\n",
       "      <td>-0.066482</td>\n",
       "      <td>0.525641</td>\n",
       "      <td>0.866222</td>\n",
       "      <td>0.589106</td>\n",
       "      <td>4.128819</td>\n",
       "      <td>0.27358</td>\n",
       "      <td>0.320237</td>\n",
       "      <td>B</td>\n",
       "      <td>-0.063004</td>\n",
       "      <td>2012</td>\n",
       "      <td>10</td>\n",
       "      <td>0.125475</td>\n",
       "      <td>0.448437</td>\n",
       "    </tr>\n",
       "  </tbody>\n",
       "</table>\n",
       "<p>421570 rows × 18 columns</p>\n",
       "</div>"
      ],
      "text/plain": [
       "        Store  Dept       Date  Weekly_Sales  IsHoliday  Temperature  \\\n",
       "0           1     1 2010-02-05      24924.50      False    -0.657671   \n",
       "1           1     2 2010-02-05      50605.27      False    -0.657671   \n",
       "2           1     3 2010-02-05      13740.12      False    -0.657671   \n",
       "3           1     4 2010-02-05      39954.04      False    -0.657671   \n",
       "4           1     5 2010-02-05      32229.38      False    -0.657671   \n",
       "...       ...   ...        ...           ...        ...          ...   \n",
       "421565     45    93 2012-10-26       2487.80      False    -0.066482   \n",
       "421566     45    94 2012-10-26       5203.31      False    -0.066482   \n",
       "421567     45    95 2012-10-26      56017.47      False    -0.066482   \n",
       "421568     45    97 2012-10-26       6817.48      False    -0.066482   \n",
       "421569     45    98 2012-10-26       1076.80      False    -0.066482   \n",
       "\n",
       "        Fuel_Price  MarkDown1  MarkDown2  MarkDown3  MarkDown4  MarkDown5  \\\n",
       "0        -1.340456   0.000000   0.000000   0.000000    0.00000   0.000000   \n",
       "1        -1.340456   0.000000   0.000000   0.000000    0.00000   0.000000   \n",
       "2        -1.340456   0.000000   0.000000   0.000000    0.00000   0.000000   \n",
       "3        -1.340456   0.000000   0.000000   0.000000    0.00000   0.000000   \n",
       "4        -1.340456   0.000000   0.000000   0.000000    0.00000   0.000000   \n",
       "...            ...        ...        ...        ...        ...        ...   \n",
       "421565    0.525641   0.866222   0.589106   4.128819    0.27358   0.320237   \n",
       "421566    0.525641   0.866222   0.589106   4.128819    0.27358   0.320237   \n",
       "421567    0.525641   0.866222   0.589106   4.128819    0.27358   0.320237   \n",
       "421568    0.525641   0.866222   0.589106   4.128819    0.27358   0.320237   \n",
       "421569    0.525641   0.866222   0.589106   4.128819    0.27358   0.320237   \n",
       "\n",
       "       Type      Size  year  month  CPI_interpolate  Unemployment_interpolate  \n",
       "0         A  0.188481  2010      2         0.357329                  0.156250  \n",
       "1         A  0.188481  2010      2         0.357329                  0.156250  \n",
       "2         A  0.188481  2010      2         0.357329                  0.156250  \n",
       "3         A  0.188481  2010      2         0.357329                  0.156250  \n",
       "4         A  0.188481  2010      2         0.357329                  0.156250  \n",
       "...     ...       ...   ...    ...              ...                       ...  \n",
       "421565    B -0.063004  2012     10         0.125475                  0.448437  \n",
       "421566    B -0.063004  2012     10         0.125475                  0.448437  \n",
       "421567    B -0.063004  2012     10         0.125475                  0.448437  \n",
       "421568    B -0.063004  2012     10         0.125475                  0.448437  \n",
       "421569    B -0.063004  2012     10         0.125475                  0.448437  \n",
       "\n",
       "[421570 rows x 18 columns]"
      ]
     },
     "execution_count": 847,
     "metadata": {},
     "output_type": "execute_result"
    }
   ],
   "source": [
    "train"
   ]
  },
  {
   "cell_type": "code",
   "execution_count": 848,
   "id": "7f5b90a1",
   "metadata": {},
   "outputs": [
    {
     "data": {
      "text/html": [
       "<div>\n",
       "<style scoped>\n",
       "    .dataframe tbody tr th:only-of-type {\n",
       "        vertical-align: middle;\n",
       "    }\n",
       "\n",
       "    .dataframe tbody tr th {\n",
       "        vertical-align: top;\n",
       "    }\n",
       "\n",
       "    .dataframe thead th {\n",
       "        text-align: right;\n",
       "    }\n",
       "</style>\n",
       "<table border=\"1\" class=\"dataframe\">\n",
       "  <thead>\n",
       "    <tr style=\"text-align: right;\">\n",
       "      <th></th>\n",
       "      <th>Store</th>\n",
       "      <th>Dept</th>\n",
       "      <th>Date</th>\n",
       "      <th>IsHoliday</th>\n",
       "      <th>Temperature</th>\n",
       "      <th>Fuel_Price</th>\n",
       "      <th>MarkDown1</th>\n",
       "      <th>MarkDown2</th>\n",
       "      <th>MarkDown3</th>\n",
       "      <th>MarkDown4</th>\n",
       "      <th>MarkDown5</th>\n",
       "      <th>Type</th>\n",
       "      <th>Size</th>\n",
       "      <th>year</th>\n",
       "      <th>month</th>\n",
       "      <th>CPI_interpolate</th>\n",
       "      <th>Unemployment_interpolate</th>\n",
       "    </tr>\n",
       "  </thead>\n",
       "  <tbody>\n",
       "    <tr>\n",
       "      <th>0</th>\n",
       "      <td>1</td>\n",
       "      <td>1</td>\n",
       "      <td>2012-11-02</td>\n",
       "      <td>False</td>\n",
       "      <td>-0.192655</td>\n",
       "      <td>-0.180912</td>\n",
       "      <td>1.458415</td>\n",
       "      <td>52.213206</td>\n",
       "      <td>2.098266</td>\n",
       "      <td>4.698509</td>\n",
       "      <td>1.021313</td>\n",
       "      <td>A</td>\n",
       "      <td>0.188481</td>\n",
       "      <td>2012</td>\n",
       "      <td>11</td>\n",
       "      <td>0.509942</td>\n",
       "      <td>-0.642187</td>\n",
       "    </tr>\n",
       "    <tr>\n",
       "      <th>1</th>\n",
       "      <td>1</td>\n",
       "      <td>2</td>\n",
       "      <td>2012-11-02</td>\n",
       "      <td>False</td>\n",
       "      <td>-0.192655</td>\n",
       "      <td>-0.180912</td>\n",
       "      <td>1.458415</td>\n",
       "      <td>52.213206</td>\n",
       "      <td>2.098266</td>\n",
       "      <td>4.698509</td>\n",
       "      <td>1.021313</td>\n",
       "      <td>A</td>\n",
       "      <td>0.188481</td>\n",
       "      <td>2012</td>\n",
       "      <td>11</td>\n",
       "      <td>0.509942</td>\n",
       "      <td>-0.642187</td>\n",
       "    </tr>\n",
       "    <tr>\n",
       "      <th>2</th>\n",
       "      <td>1</td>\n",
       "      <td>3</td>\n",
       "      <td>2012-11-02</td>\n",
       "      <td>False</td>\n",
       "      <td>-0.192655</td>\n",
       "      <td>-0.180912</td>\n",
       "      <td>1.458415</td>\n",
       "      <td>52.213206</td>\n",
       "      <td>2.098266</td>\n",
       "      <td>4.698509</td>\n",
       "      <td>1.021313</td>\n",
       "      <td>A</td>\n",
       "      <td>0.188481</td>\n",
       "      <td>2012</td>\n",
       "      <td>11</td>\n",
       "      <td>0.509942</td>\n",
       "      <td>-0.642187</td>\n",
       "    </tr>\n",
       "    <tr>\n",
       "      <th>3</th>\n",
       "      <td>1</td>\n",
       "      <td>4</td>\n",
       "      <td>2012-11-02</td>\n",
       "      <td>False</td>\n",
       "      <td>-0.192655</td>\n",
       "      <td>-0.180912</td>\n",
       "      <td>1.458415</td>\n",
       "      <td>52.213206</td>\n",
       "      <td>2.098266</td>\n",
       "      <td>4.698509</td>\n",
       "      <td>1.021313</td>\n",
       "      <td>A</td>\n",
       "      <td>0.188481</td>\n",
       "      <td>2012</td>\n",
       "      <td>11</td>\n",
       "      <td>0.509942</td>\n",
       "      <td>-0.642187</td>\n",
       "    </tr>\n",
       "    <tr>\n",
       "      <th>4</th>\n",
       "      <td>1</td>\n",
       "      <td>5</td>\n",
       "      <td>2012-11-02</td>\n",
       "      <td>False</td>\n",
       "      <td>-0.192655</td>\n",
       "      <td>-0.180912</td>\n",
       "      <td>1.458415</td>\n",
       "      <td>52.213206</td>\n",
       "      <td>2.098266</td>\n",
       "      <td>4.698509</td>\n",
       "      <td>1.021313</td>\n",
       "      <td>A</td>\n",
       "      <td>0.188481</td>\n",
       "      <td>2012</td>\n",
       "      <td>11</td>\n",
       "      <td>0.509942</td>\n",
       "      <td>-0.642187</td>\n",
       "    </tr>\n",
       "    <tr>\n",
       "      <th>...</th>\n",
       "      <td>...</td>\n",
       "      <td>...</td>\n",
       "      <td>...</td>\n",
       "      <td>...</td>\n",
       "      <td>...</td>\n",
       "      <td>...</td>\n",
       "      <td>...</td>\n",
       "      <td>...</td>\n",
       "      <td>...</td>\n",
       "      <td>...</td>\n",
       "      <td>...</td>\n",
       "      <td>...</td>\n",
       "      <td>...</td>\n",
       "      <td>...</td>\n",
       "      <td>...</td>\n",
       "      <td>...</td>\n",
       "      <td>...</td>\n",
       "    </tr>\n",
       "    <tr>\n",
       "      <th>115059</th>\n",
       "      <td>45</td>\n",
       "      <td>93</td>\n",
       "      <td>2013-07-26</td>\n",
       "      <td>False</td>\n",
       "      <td>0.548655</td>\n",
       "      <td>0.414530</td>\n",
       "      <td>0.045698</td>\n",
       "      <td>8.639111</td>\n",
       "      <td>0.085054</td>\n",
       "      <td>0.014044</td>\n",
       "      <td>0.695659</td>\n",
       "      <td>B</td>\n",
       "      <td>-0.063004</td>\n",
       "      <td>2013</td>\n",
       "      <td>7</td>\n",
       "      <td>0.141276</td>\n",
       "      <td>0.275521</td>\n",
       "    </tr>\n",
       "    <tr>\n",
       "      <th>115060</th>\n",
       "      <td>45</td>\n",
       "      <td>94</td>\n",
       "      <td>2013-07-26</td>\n",
       "      <td>False</td>\n",
       "      <td>0.548655</td>\n",
       "      <td>0.414530</td>\n",
       "      <td>0.045698</td>\n",
       "      <td>8.639111</td>\n",
       "      <td>0.085054</td>\n",
       "      <td>0.014044</td>\n",
       "      <td>0.695659</td>\n",
       "      <td>B</td>\n",
       "      <td>-0.063004</td>\n",
       "      <td>2013</td>\n",
       "      <td>7</td>\n",
       "      <td>0.141276</td>\n",
       "      <td>0.275521</td>\n",
       "    </tr>\n",
       "    <tr>\n",
       "      <th>115061</th>\n",
       "      <td>45</td>\n",
       "      <td>95</td>\n",
       "      <td>2013-07-26</td>\n",
       "      <td>False</td>\n",
       "      <td>0.548655</td>\n",
       "      <td>0.414530</td>\n",
       "      <td>0.045698</td>\n",
       "      <td>8.639111</td>\n",
       "      <td>0.085054</td>\n",
       "      <td>0.014044</td>\n",
       "      <td>0.695659</td>\n",
       "      <td>B</td>\n",
       "      <td>-0.063004</td>\n",
       "      <td>2013</td>\n",
       "      <td>7</td>\n",
       "      <td>0.141276</td>\n",
       "      <td>0.275521</td>\n",
       "    </tr>\n",
       "    <tr>\n",
       "      <th>115062</th>\n",
       "      <td>45</td>\n",
       "      <td>97</td>\n",
       "      <td>2013-07-26</td>\n",
       "      <td>False</td>\n",
       "      <td>0.548655</td>\n",
       "      <td>0.414530</td>\n",
       "      <td>0.045698</td>\n",
       "      <td>8.639111</td>\n",
       "      <td>0.085054</td>\n",
       "      <td>0.014044</td>\n",
       "      <td>0.695659</td>\n",
       "      <td>B</td>\n",
       "      <td>-0.063004</td>\n",
       "      <td>2013</td>\n",
       "      <td>7</td>\n",
       "      <td>0.141276</td>\n",
       "      <td>0.275521</td>\n",
       "    </tr>\n",
       "    <tr>\n",
       "      <th>115063</th>\n",
       "      <td>45</td>\n",
       "      <td>98</td>\n",
       "      <td>2013-07-26</td>\n",
       "      <td>False</td>\n",
       "      <td>0.548655</td>\n",
       "      <td>0.414530</td>\n",
       "      <td>0.045698</td>\n",
       "      <td>8.639111</td>\n",
       "      <td>0.085054</td>\n",
       "      <td>0.014044</td>\n",
       "      <td>0.695659</td>\n",
       "      <td>B</td>\n",
       "      <td>-0.063004</td>\n",
       "      <td>2013</td>\n",
       "      <td>7</td>\n",
       "      <td>0.141276</td>\n",
       "      <td>0.275521</td>\n",
       "    </tr>\n",
       "  </tbody>\n",
       "</table>\n",
       "<p>115064 rows × 17 columns</p>\n",
       "</div>"
      ],
      "text/plain": [
       "        Store  Dept       Date  IsHoliday  Temperature  Fuel_Price  MarkDown1  \\\n",
       "0           1     1 2012-11-02      False    -0.192655   -0.180912   1.458415   \n",
       "1           1     2 2012-11-02      False    -0.192655   -0.180912   1.458415   \n",
       "2           1     3 2012-11-02      False    -0.192655   -0.180912   1.458415   \n",
       "3           1     4 2012-11-02      False    -0.192655   -0.180912   1.458415   \n",
       "4           1     5 2012-11-02      False    -0.192655   -0.180912   1.458415   \n",
       "...       ...   ...        ...        ...          ...         ...        ...   \n",
       "115059     45    93 2013-07-26      False     0.548655    0.414530   0.045698   \n",
       "115060     45    94 2013-07-26      False     0.548655    0.414530   0.045698   \n",
       "115061     45    95 2013-07-26      False     0.548655    0.414530   0.045698   \n",
       "115062     45    97 2013-07-26      False     0.548655    0.414530   0.045698   \n",
       "115063     45    98 2013-07-26      False     0.548655    0.414530   0.045698   \n",
       "\n",
       "        MarkDown2  MarkDown3  MarkDown4  MarkDown5 Type      Size  year  \\\n",
       "0       52.213206   2.098266   4.698509   1.021313    A  0.188481  2012   \n",
       "1       52.213206   2.098266   4.698509   1.021313    A  0.188481  2012   \n",
       "2       52.213206   2.098266   4.698509   1.021313    A  0.188481  2012   \n",
       "3       52.213206   2.098266   4.698509   1.021313    A  0.188481  2012   \n",
       "4       52.213206   2.098266   4.698509   1.021313    A  0.188481  2012   \n",
       "...           ...        ...        ...        ...  ...       ...   ...   \n",
       "115059   8.639111   0.085054   0.014044   0.695659    B -0.063004  2013   \n",
       "115060   8.639111   0.085054   0.014044   0.695659    B -0.063004  2013   \n",
       "115061   8.639111   0.085054   0.014044   0.695659    B -0.063004  2013   \n",
       "115062   8.639111   0.085054   0.014044   0.695659    B -0.063004  2013   \n",
       "115063   8.639111   0.085054   0.014044   0.695659    B -0.063004  2013   \n",
       "\n",
       "        month  CPI_interpolate  Unemployment_interpolate  \n",
       "0          11         0.509942                 -0.642187  \n",
       "1          11         0.509942                 -0.642187  \n",
       "2          11         0.509942                 -0.642187  \n",
       "3          11         0.509942                 -0.642187  \n",
       "4          11         0.509942                 -0.642187  \n",
       "...       ...              ...                       ...  \n",
       "115059      7         0.141276                  0.275521  \n",
       "115060      7         0.141276                  0.275521  \n",
       "115061      7         0.141276                  0.275521  \n",
       "115062      7         0.141276                  0.275521  \n",
       "115063      7         0.141276                  0.275521  \n",
       "\n",
       "[115064 rows x 17 columns]"
      ]
     },
     "execution_count": 848,
     "metadata": {},
     "output_type": "execute_result"
    }
   ],
   "source": [
    "test = test.merge(store, on=[\"Store\", \"Date\"])\n",
    "test"
   ]
  },
  {
   "cell_type": "markdown",
   "id": "333d88a7",
   "metadata": {},
   "source": [
    "# OneHotEncoding : Type"
   ]
  },
  {
   "cell_type": "code",
   "execution_count": 897,
   "id": "8a0ac021",
   "metadata": {},
   "outputs": [
    {
     "data": {
      "text/html": [
       "<div>\n",
       "<style scoped>\n",
       "    .dataframe tbody tr th:only-of-type {\n",
       "        vertical-align: middle;\n",
       "    }\n",
       "\n",
       "    .dataframe tbody tr th {\n",
       "        vertical-align: top;\n",
       "    }\n",
       "\n",
       "    .dataframe thead th {\n",
       "        text-align: right;\n",
       "    }\n",
       "</style>\n",
       "<table border=\"1\" class=\"dataframe\">\n",
       "  <thead>\n",
       "    <tr style=\"text-align: right;\">\n",
       "      <th></th>\n",
       "      <th>A</th>\n",
       "      <th>B</th>\n",
       "      <th>C</th>\n",
       "    </tr>\n",
       "  </thead>\n",
       "  <tbody>\n",
       "    <tr>\n",
       "      <th>7115</th>\n",
       "      <td>1</td>\n",
       "      <td>0</td>\n",
       "      <td>0</td>\n",
       "    </tr>\n",
       "    <tr>\n",
       "      <th>387890</th>\n",
       "      <td>1</td>\n",
       "      <td>0</td>\n",
       "      <td>0</td>\n",
       "    </tr>\n",
       "    <tr>\n",
       "      <th>353278</th>\n",
       "      <td>0</td>\n",
       "      <td>0</td>\n",
       "      <td>1</td>\n",
       "    </tr>\n",
       "    <tr>\n",
       "      <th>269778</th>\n",
       "      <td>1</td>\n",
       "      <td>0</td>\n",
       "      <td>0</td>\n",
       "    </tr>\n",
       "    <tr>\n",
       "      <th>129329</th>\n",
       "      <td>1</td>\n",
       "      <td>0</td>\n",
       "      <td>0</td>\n",
       "    </tr>\n",
       "  </tbody>\n",
       "</table>\n",
       "</div>"
      ],
      "text/plain": [
       "        A  B  C\n",
       "7115    1  0  0\n",
       "387890  1  0  0\n",
       "353278  0  0  1\n",
       "269778  1  0  0\n",
       "129329  1  0  0"
      ]
     },
     "execution_count": 897,
     "metadata": {},
     "output_type": "execute_result"
    }
   ],
   "source": [
    "train_type_ohe = pd.get_dummies(train[\"Type\"])\n",
    "train_type_ohe.sample(5)"
   ]
  },
  {
   "cell_type": "code",
   "execution_count": 898,
   "id": "192015b9",
   "metadata": {},
   "outputs": [
    {
     "data": {
      "text/html": [
       "<div>\n",
       "<style scoped>\n",
       "    .dataframe tbody tr th:only-of-type {\n",
       "        vertical-align: middle;\n",
       "    }\n",
       "\n",
       "    .dataframe tbody tr th {\n",
       "        vertical-align: top;\n",
       "    }\n",
       "\n",
       "    .dataframe thead th {\n",
       "        text-align: right;\n",
       "    }\n",
       "</style>\n",
       "<table border=\"1\" class=\"dataframe\">\n",
       "  <thead>\n",
       "    <tr style=\"text-align: right;\">\n",
       "      <th></th>\n",
       "      <th>A</th>\n",
       "      <th>B</th>\n",
       "      <th>C</th>\n",
       "    </tr>\n",
       "  </thead>\n",
       "  <tbody>\n",
       "    <tr>\n",
       "      <th>81970</th>\n",
       "      <td>1</td>\n",
       "      <td>0</td>\n",
       "      <td>0</td>\n",
       "    </tr>\n",
       "    <tr>\n",
       "      <th>29791</th>\n",
       "      <td>0</td>\n",
       "      <td>1</td>\n",
       "      <td>0</td>\n",
       "    </tr>\n",
       "    <tr>\n",
       "      <th>101905</th>\n",
       "      <td>1</td>\n",
       "      <td>0</td>\n",
       "      <td>0</td>\n",
       "    </tr>\n",
       "    <tr>\n",
       "      <th>72026</th>\n",
       "      <td>1</td>\n",
       "      <td>0</td>\n",
       "      <td>0</td>\n",
       "    </tr>\n",
       "    <tr>\n",
       "      <th>44633</th>\n",
       "      <td>0</td>\n",
       "      <td>1</td>\n",
       "      <td>0</td>\n",
       "    </tr>\n",
       "  </tbody>\n",
       "</table>\n",
       "</div>"
      ],
      "text/plain": [
       "        A  B  C\n",
       "81970   1  0  0\n",
       "29791   0  1  0\n",
       "101905  1  0  0\n",
       "72026   1  0  0\n",
       "44633   0  1  0"
      ]
     },
     "execution_count": 898,
     "metadata": {},
     "output_type": "execute_result"
    }
   ],
   "source": [
    "test_type_ohe = pd.get_dummies(test[\"Type\"])\n",
    "test_type_ohe.sample(5)"
   ]
  },
  {
   "cell_type": "code",
   "execution_count": 851,
   "id": "672d211c",
   "metadata": {},
   "outputs": [],
   "source": [
    "train = pd.concat([train, train_type_ohe], axis=1)"
   ]
  },
  {
   "cell_type": "code",
   "execution_count": 852,
   "id": "cb41bf64",
   "metadata": {},
   "outputs": [],
   "source": [
    "test = pd.concat([test, test_type_ohe], axis=1)"
   ]
  },
  {
   "cell_type": "code",
   "execution_count": 853,
   "id": "344c799c",
   "metadata": {},
   "outputs": [
    {
     "data": {
      "text/html": [
       "<div>\n",
       "<style scoped>\n",
       "    .dataframe tbody tr th:only-of-type {\n",
       "        vertical-align: middle;\n",
       "    }\n",
       "\n",
       "    .dataframe tbody tr th {\n",
       "        vertical-align: top;\n",
       "    }\n",
       "\n",
       "    .dataframe thead th {\n",
       "        text-align: right;\n",
       "    }\n",
       "</style>\n",
       "<table border=\"1\" class=\"dataframe\">\n",
       "  <thead>\n",
       "    <tr style=\"text-align: right;\">\n",
       "      <th></th>\n",
       "      <th>Store</th>\n",
       "      <th>A</th>\n",
       "      <th>B</th>\n",
       "      <th>C</th>\n",
       "    </tr>\n",
       "  </thead>\n",
       "  <tbody>\n",
       "    <tr>\n",
       "      <th>141364</th>\n",
       "      <td>15</td>\n",
       "      <td>0</td>\n",
       "      <td>1</td>\n",
       "      <td>0</td>\n",
       "    </tr>\n",
       "    <tr>\n",
       "      <th>369651</th>\n",
       "      <td>39</td>\n",
       "      <td>1</td>\n",
       "      <td>0</td>\n",
       "      <td>0</td>\n",
       "    </tr>\n",
       "    <tr>\n",
       "      <th>243285</th>\n",
       "      <td>25</td>\n",
       "      <td>0</td>\n",
       "      <td>1</td>\n",
       "      <td>0</td>\n",
       "    </tr>\n",
       "    <tr>\n",
       "      <th>228616</th>\n",
       "      <td>24</td>\n",
       "      <td>1</td>\n",
       "      <td>0</td>\n",
       "      <td>0</td>\n",
       "    </tr>\n",
       "    <tr>\n",
       "      <th>319748</th>\n",
       "      <td>33</td>\n",
       "      <td>1</td>\n",
       "      <td>0</td>\n",
       "      <td>0</td>\n",
       "    </tr>\n",
       "  </tbody>\n",
       "</table>\n",
       "</div>"
      ],
      "text/plain": [
       "        Store  A  B  C\n",
       "141364     15  0  1  0\n",
       "369651     39  1  0  0\n",
       "243285     25  0  1  0\n",
       "228616     24  1  0  0\n",
       "319748     33  1  0  0"
      ]
     },
     "execution_count": 853,
     "metadata": {},
     "output_type": "execute_result"
    }
   ],
   "source": [
    "train[[\"Store\", \"A\", \"B\", \"C\"]].sample(5)"
   ]
  },
  {
   "cell_type": "code",
   "execution_count": 854,
   "id": "252e6967",
   "metadata": {},
   "outputs": [
    {
     "data": {
      "text/html": [
       "<div>\n",
       "<style scoped>\n",
       "    .dataframe tbody tr th:only-of-type {\n",
       "        vertical-align: middle;\n",
       "    }\n",
       "\n",
       "    .dataframe tbody tr th {\n",
       "        vertical-align: top;\n",
       "    }\n",
       "\n",
       "    .dataframe thead th {\n",
       "        text-align: right;\n",
       "    }\n",
       "</style>\n",
       "<table border=\"1\" class=\"dataframe\">\n",
       "  <thead>\n",
       "    <tr style=\"text-align: right;\">\n",
       "      <th></th>\n",
       "      <th>Store</th>\n",
       "      <th>A</th>\n",
       "      <th>B</th>\n",
       "      <th>C</th>\n",
       "    </tr>\n",
       "  </thead>\n",
       "  <tbody>\n",
       "    <tr>\n",
       "      <th>30629</th>\n",
       "      <td>12</td>\n",
       "      <td>0</td>\n",
       "      <td>1</td>\n",
       "      <td>0</td>\n",
       "    </tr>\n",
       "    <tr>\n",
       "      <th>32302</th>\n",
       "      <td>13</td>\n",
       "      <td>1</td>\n",
       "      <td>0</td>\n",
       "      <td>0</td>\n",
       "    </tr>\n",
       "    <tr>\n",
       "      <th>56561</th>\n",
       "      <td>22</td>\n",
       "      <td>0</td>\n",
       "      <td>1</td>\n",
       "      <td>0</td>\n",
       "    </tr>\n",
       "    <tr>\n",
       "      <th>14865</th>\n",
       "      <td>6</td>\n",
       "      <td>1</td>\n",
       "      <td>0</td>\n",
       "      <td>0</td>\n",
       "    </tr>\n",
       "    <tr>\n",
       "      <th>84050</th>\n",
       "      <td>32</td>\n",
       "      <td>1</td>\n",
       "      <td>0</td>\n",
       "      <td>0</td>\n",
       "    </tr>\n",
       "  </tbody>\n",
       "</table>\n",
       "</div>"
      ],
      "text/plain": [
       "       Store  A  B  C\n",
       "30629     12  0  1  0\n",
       "32302     13  1  0  0\n",
       "56561     22  0  1  0\n",
       "14865      6  1  0  0\n",
       "84050     32  1  0  0"
      ]
     },
     "execution_count": 854,
     "metadata": {},
     "output_type": "execute_result"
    }
   ],
   "source": [
    "test[[\"Store\", \"A\", \"B\", \"C\"]].sample(5)"
   ]
  },
  {
   "cell_type": "markdown",
   "id": "cd7c3ec5",
   "metadata": {},
   "source": [
    "# 시각화"
   ]
  },
  {
   "cell_type": "code",
   "execution_count": 855,
   "id": "9b63dbb6",
   "metadata": {},
   "outputs": [
    {
     "data": {
      "text/plain": [
       "<AxesSubplot:xlabel='Date', ylabel='Weekly_Sales'>"
      ]
     },
     "execution_count": 855,
     "metadata": {},
     "output_type": "execute_result"
    },
    {
     "data": {
      "image/png": "[encoded data removed]",
      "text/plain": [
       "<Figure size 1200x400 with 1 Axes>"
      ]
     },
     "metadata": {},
     "output_type": "display_data"
    }
   ],
   "source": [
    "# 기간별 매출 추이\n",
    "# 크리스마스 ~ 연말 시즌 2배 가까이 상승하는 것을 볼 수 있음\n",
    "plt.figure(figsize=(12, 4))\n",
    "sns.lineplot(data=train, x=\"Date\", y=\"Weekly_Sales\", ci=None)"
   ]
  },
  {
   "cell_type": "code",
   "execution_count": 856,
   "id": "53242c3d",
   "metadata": {},
   "outputs": [
    {
     "data": {
      "text/plain": [
       "<AxesSubplot:xlabel='month', ylabel='Weekly_Sales'>"
      ]
     },
     "execution_count": 856,
     "metadata": {},
     "output_type": "execute_result"
    },
    {
     "data": {
      "image/png": "[encoded data removed]",
      "text/plain": [
       "<Figure size 640x480 with 1 Axes>"
      ]
     },
     "metadata": {},
     "output_type": "display_data"
    }
   ],
   "source": [
    "sns.barplot(data=train, x=\"month\", y=\"Weekly_Sales\")"
   ]
  },
  {
   "cell_type": "code",
   "execution_count": 857,
   "id": "88d04f8c",
   "metadata": {},
   "outputs": [
    {
     "data": {
      "text/plain": [
       "<AxesSubplot:xlabel='year', ylabel='Weekly_Sales'>"
      ]
     },
     "execution_count": 857,
     "metadata": {},
     "output_type": "execute_result"
    },
    {
     "data": {
      "image/png": "[encoded data removed]",
      "text/plain": [
       "<Figure size 640x480 with 1 Axes>"
      ]
     },
     "metadata": {},
     "output_type": "display_data"
    }
   ],
   "source": [
    "sns.barplot(data=train, x=\"year\", y=\"Weekly_Sales\")"
   ]
  },
  {
   "cell_type": "code",
   "execution_count": 858,
   "id": "01fdd13b",
   "metadata": {},
   "outputs": [
    {
     "data": {
      "text/plain": [
       "<AxesSubplot:xlabel='IsHoliday', ylabel='Weekly_Sales'>"
      ]
     },
     "execution_count": 858,
     "metadata": {},
     "output_type": "execute_result"
    },
    {
     "data": {
      "image/png": "[encoded data removed]",
      "text/plain": [
       "<Figure size 640x480 with 1 Axes>"
      ]
     },
     "metadata": {},
     "output_type": "display_data"
    }
   ],
   "source": [
    "# 휴일 여부에 따른 매출은 큰 차이를 보이지 않음\n",
    "sns.barplot(data=train, x=\"IsHoliday\", y=\"Weekly_Sales\")"
   ]
  },
  {
   "cell_type": "code",
   "execution_count": 859,
   "id": "4db31e40",
   "metadata": {},
   "outputs": [
    {
     "data": {
      "text/plain": [
       "<AxesSubplot:xlabel='Store', ylabel='Weekly_Sales'>"
      ]
     },
     "execution_count": 859,
     "metadata": {},
     "output_type": "execute_result"
    },
    {
     "data": {
      "image/png": "[encoded data removed]",
      "text/plain": [
       "<Figure size 1200x400 with 1 Axes>"
      ]
     },
     "metadata": {},
     "output_type": "display_data"
    }
   ],
   "source": [
    "plt.figure(figsize=(12, 4))\n",
    "sns.barplot(data=train, x=\"Store\", y=\"Weekly_Sales\")"
   ]
  },
  {
   "cell_type": "code",
   "execution_count": 860,
   "id": "c3cd0d92",
   "metadata": {},
   "outputs": [
    {
     "data": {
      "text/plain": [
       "<AxesSubplot:xlabel='Type', ylabel='Weekly_Sales'>"
      ]
     },
     "execution_count": 860,
     "metadata": {},
     "output_type": "execute_result"
    },
    {
     "data": {
      "image/png": "[encoded data removed]",
      "text/plain": [
       "<Figure size 640x480 with 1 Axes>"
      ]
     },
     "metadata": {},
     "output_type": "display_data"
    }
   ],
   "source": [
    "# Type of Store (A, B, C)\n",
    "# 알파벳 순으로 매출이 높음\n",
    "sns.barplot(data=train, x=\"Type\", y=\"Weekly_Sales\")"
   ]
  },
  {
   "cell_type": "code",
   "execution_count": 861,
   "id": "50f4ac57",
   "metadata": {},
   "outputs": [
    {
     "data": {
      "text/plain": [
       "<AxesSubplot:xlabel='Temperature', ylabel='Weekly_Sales'>"
      ]
     },
     "execution_count": 861,
     "metadata": {},
     "output_type": "execute_result"
    },
    {
     "data": {
      "image/png": "[encoded data removed]",
      "text/plain": [
       "<Figure size 1200x400 with 1 Axes>"
      ]
     },
     "metadata": {},
     "output_type": "display_data"
    }
   ],
   "source": [
    "plt.figure(figsize=(12, 4))\n",
    "sns.histplot(data=train, x=\"Temperature\", y=\"Weekly_Sales\")"
   ]
  },
  {
   "cell_type": "code",
   "execution_count": 862,
   "id": "bdd174c4",
   "metadata": {},
   "outputs": [
    {
     "data": {
      "text/plain": [
       "<AxesSubplot:xlabel='Fuel_Price', ylabel='Weekly_Sales'>"
      ]
     },
     "execution_count": 862,
     "metadata": {},
     "output_type": "execute_result"
    },
    {
     "data": {
      "image/png": "[encoded data removed]",
      "text/plain": [
       "<Figure size 1200x400 with 1 Axes>"
      ]
     },
     "metadata": {},
     "output_type": "display_data"
    }
   ],
   "source": [
    "plt.figure(figsize=(12, 4))\n",
    "sns.histplot(data=train, x=\"Fuel_Price\", y=\"Weekly_Sales\")"
   ]
  },
  {
   "cell_type": "code",
   "execution_count": 863,
   "id": "4ee02ba3",
   "metadata": {},
   "outputs": [
    {
     "data": {
      "text/plain": [
       "<AxesSubplot:xlabel='Size', ylabel='Weekly_Sales'>"
      ]
     },
     "execution_count": 863,
     "metadata": {},
     "output_type": "execute_result"
    },
    {
     "data": {
      "image/png": "[encoded data removed]",
      "text/plain": [
       "<Figure size 640x480 with 1 Axes>"
      ]
     },
     "metadata": {},
     "output_type": "display_data"
    }
   ],
   "source": [
    "sns.histplot(data=train, x=\"Size\", y=\"Weekly_Sales\", bins=30)"
   ]
  },
  {
   "cell_type": "code",
   "execution_count": 864,
   "id": "068126f5",
   "metadata": {},
   "outputs": [
    {
     "data": {
      "text/plain": [
       "<AxesSubplot:xlabel='CPI_interpolate', ylabel='Weekly_Sales'>"
      ]
     },
     "execution_count": 864,
     "metadata": {},
     "output_type": "execute_result"
    },
    {
     "data": {
      "image/png": "[encoded data removed]",
      "text/plain": [
       "<Figure size 1200x400 with 1 Axes>"
      ]
     },
     "metadata": {},
     "output_type": "display_data"
    }
   ],
   "source": [
    "plt.figure(figsize=(12, 4))\n",
    "sns.lineplot(data=train, x=\"CPI_interpolate\", y=\"Weekly_Sales\", ci=None)"
   ]
  },
  {
   "cell_type": "code",
   "execution_count": 865,
   "id": "ab171290",
   "metadata": {},
   "outputs": [
    {
     "data": {
      "text/plain": [
       "<AxesSubplot:xlabel='Unemployment_interpolate', ylabel='Weekly_Sales'>"
      ]
     },
     "execution_count": 865,
     "metadata": {},
     "output_type": "execute_result"
    },
    {
     "data": {
      "image/png": "[encoded data removed]",
      "text/plain": [
       "<Figure size 1200x400 with 1 Axes>"
      ]
     },
     "metadata": {},
     "output_type": "display_data"
    }
   ],
   "source": [
    "plt.figure(figsize=(12, 4))\n",
    "sns.lineplot(data=train, x=\"Unemployment_interpolate\", y=\"Weekly_Sales\", ci=None)"
   ]
  },
  {
   "cell_type": "markdown",
   "id": "22f6eabe",
   "metadata": {},
   "source": [
    "# X, y split"
   ]
  },
  {
   "cell_type": "code",
   "execution_count": 866,
   "id": "b2b4cc47",
   "metadata": {},
   "outputs": [],
   "source": [
    "label = \"Weekly_Sales\""
   ]
  },
  {
   "cell_type": "code",
   "execution_count": 867,
   "id": "947c0823",
   "metadata": {},
   "outputs": [
    {
     "data": {
      "text/plain": [
       "['Store',\n",
       " 'Dept',\n",
       " 'Date',\n",
       " 'Weekly_Sales',\n",
       " 'IsHoliday',\n",
       " 'Temperature',\n",
       " 'Fuel_Price',\n",
       " 'MarkDown1',\n",
       " 'MarkDown2',\n",
       " 'MarkDown3',\n",
       " 'MarkDown4',\n",
       " 'MarkDown5',\n",
       " 'Type',\n",
       " 'Size',\n",
       " 'year',\n",
       " 'month',\n",
       " 'CPI_interpolate',\n",
       " 'Unemployment_interpolate',\n",
       " 'A',\n",
       " 'B',\n",
       " 'C']"
      ]
     },
     "execution_count": 867,
     "metadata": {},
     "output_type": "execute_result"
    }
   ],
   "source": [
    "features = train.columns.tolist()\n",
    "features"
   ]
  },
  {
   "cell_type": "code",
   "execution_count": 868,
   "id": "1c9b7d6b",
   "metadata": {},
   "outputs": [],
   "source": [
    "features = ['Store',\n",
    "            'Dept',\n",
    "#             'Date',\n",
    "#             'Weekly_Sales',\n",
    "            'IsHoliday',\n",
    "            'Temperature',\n",
    "            'Fuel_Price', \n",
    "            'MarkDown1', \n",
    "            'MarkDown2', \n",
    "            'MarkDown3', \n",
    "            'MarkDown4', \n",
    "            'MarkDown5',\n",
    "#             'Type',\n",
    "            'Size',\n",
    "            'CPI_interpolate',\n",
    "            'Unemployment_interpolate',\n",
    "            'year',\n",
    "            'month',\n",
    "            'A',\n",
    "            'B',\n",
    "            'C']"
   ]
  },
  {
   "cell_type": "code",
   "execution_count": 869,
   "id": "1fb72694",
   "metadata": {},
   "outputs": [
    {
     "name": "stdout",
     "output_type": "stream",
     "text": [
      "(421570, 18)\n"
     ]
    },
    {
     "data": {
      "text/html": [
       "<div>\n",
       "<style scoped>\n",
       "    .dataframe tbody tr th:only-of-type {\n",
       "        vertical-align: middle;\n",
       "    }\n",
       "\n",
       "    .dataframe tbody tr th {\n",
       "        vertical-align: top;\n",
       "    }\n",
       "\n",
       "    .dataframe thead th {\n",
       "        text-align: right;\n",
       "    }\n",
       "</style>\n",
       "<table border=\"1\" class=\"dataframe\">\n",
       "  <thead>\n",
       "    <tr style=\"text-align: right;\">\n",
       "      <th></th>\n",
       "      <th>Store</th>\n",
       "      <th>Dept</th>\n",
       "      <th>IsHoliday</th>\n",
       "      <th>Temperature</th>\n",
       "      <th>Fuel_Price</th>\n",
       "      <th>MarkDown1</th>\n",
       "      <th>MarkDown2</th>\n",
       "      <th>MarkDown3</th>\n",
       "      <th>MarkDown4</th>\n",
       "      <th>MarkDown5</th>\n",
       "      <th>Size</th>\n",
       "      <th>CPI_interpolate</th>\n",
       "      <th>Unemployment_interpolate</th>\n",
       "      <th>year</th>\n",
       "      <th>month</th>\n",
       "      <th>A</th>\n",
       "      <th>B</th>\n",
       "      <th>C</th>\n",
       "    </tr>\n",
       "  </thead>\n",
       "  <tbody>\n",
       "    <tr>\n",
       "      <th>0</th>\n",
       "      <td>1</td>\n",
       "      <td>1</td>\n",
       "      <td>False</td>\n",
       "      <td>-0.657671</td>\n",
       "      <td>-1.340456</td>\n",
       "      <td>0.0</td>\n",
       "      <td>0.0</td>\n",
       "      <td>0.0</td>\n",
       "      <td>0.0</td>\n",
       "      <td>0.0</td>\n",
       "      <td>0.188481</td>\n",
       "      <td>0.357329</td>\n",
       "      <td>0.15625</td>\n",
       "      <td>2010</td>\n",
       "      <td>2</td>\n",
       "      <td>1</td>\n",
       "      <td>0</td>\n",
       "      <td>0</td>\n",
       "    </tr>\n",
       "    <tr>\n",
       "      <th>1</th>\n",
       "      <td>1</td>\n",
       "      <td>2</td>\n",
       "      <td>False</td>\n",
       "      <td>-0.657671</td>\n",
       "      <td>-1.340456</td>\n",
       "      <td>0.0</td>\n",
       "      <td>0.0</td>\n",
       "      <td>0.0</td>\n",
       "      <td>0.0</td>\n",
       "      <td>0.0</td>\n",
       "      <td>0.188481</td>\n",
       "      <td>0.357329</td>\n",
       "      <td>0.15625</td>\n",
       "      <td>2010</td>\n",
       "      <td>2</td>\n",
       "      <td>1</td>\n",
       "      <td>0</td>\n",
       "      <td>0</td>\n",
       "    </tr>\n",
       "    <tr>\n",
       "      <th>2</th>\n",
       "      <td>1</td>\n",
       "      <td>3</td>\n",
       "      <td>False</td>\n",
       "      <td>-0.657671</td>\n",
       "      <td>-1.340456</td>\n",
       "      <td>0.0</td>\n",
       "      <td>0.0</td>\n",
       "      <td>0.0</td>\n",
       "      <td>0.0</td>\n",
       "      <td>0.0</td>\n",
       "      <td>0.188481</td>\n",
       "      <td>0.357329</td>\n",
       "      <td>0.15625</td>\n",
       "      <td>2010</td>\n",
       "      <td>2</td>\n",
       "      <td>1</td>\n",
       "      <td>0</td>\n",
       "      <td>0</td>\n",
       "    </tr>\n",
       "    <tr>\n",
       "      <th>3</th>\n",
       "      <td>1</td>\n",
       "      <td>4</td>\n",
       "      <td>False</td>\n",
       "      <td>-0.657671</td>\n",
       "      <td>-1.340456</td>\n",
       "      <td>0.0</td>\n",
       "      <td>0.0</td>\n",
       "      <td>0.0</td>\n",
       "      <td>0.0</td>\n",
       "      <td>0.0</td>\n",
       "      <td>0.188481</td>\n",
       "      <td>0.357329</td>\n",
       "      <td>0.15625</td>\n",
       "      <td>2010</td>\n",
       "      <td>2</td>\n",
       "      <td>1</td>\n",
       "      <td>0</td>\n",
       "      <td>0</td>\n",
       "    </tr>\n",
       "    <tr>\n",
       "      <th>4</th>\n",
       "      <td>1</td>\n",
       "      <td>5</td>\n",
       "      <td>False</td>\n",
       "      <td>-0.657671</td>\n",
       "      <td>-1.340456</td>\n",
       "      <td>0.0</td>\n",
       "      <td>0.0</td>\n",
       "      <td>0.0</td>\n",
       "      <td>0.0</td>\n",
       "      <td>0.0</td>\n",
       "      <td>0.188481</td>\n",
       "      <td>0.357329</td>\n",
       "      <td>0.15625</td>\n",
       "      <td>2010</td>\n",
       "      <td>2</td>\n",
       "      <td>1</td>\n",
       "      <td>0</td>\n",
       "      <td>0</td>\n",
       "    </tr>\n",
       "  </tbody>\n",
       "</table>\n",
       "</div>"
      ],
      "text/plain": [
       "   Store  Dept  IsHoliday  Temperature  Fuel_Price  MarkDown1  MarkDown2  \\\n",
       "0      1     1      False    -0.657671   -1.340456        0.0        0.0   \n",
       "1      1     2      False    -0.657671   -1.340456        0.0        0.0   \n",
       "2      1     3      False    -0.657671   -1.340456        0.0        0.0   \n",
       "3      1     4      False    -0.657671   -1.340456        0.0        0.0   \n",
       "4      1     5      False    -0.657671   -1.340456        0.0        0.0   \n",
       "\n",
       "   MarkDown3  MarkDown4  MarkDown5      Size  CPI_interpolate  \\\n",
       "0        0.0        0.0        0.0  0.188481         0.357329   \n",
       "1        0.0        0.0        0.0  0.188481         0.357329   \n",
       "2        0.0        0.0        0.0  0.188481         0.357329   \n",
       "3        0.0        0.0        0.0  0.188481         0.357329   \n",
       "4        0.0        0.0        0.0  0.188481         0.357329   \n",
       "\n",
       "   Unemployment_interpolate  year  month  A  B  C  \n",
       "0                   0.15625  2010      2  1  0  0  \n",
       "1                   0.15625  2010      2  1  0  0  \n",
       "2                   0.15625  2010      2  1  0  0  \n",
       "3                   0.15625  2010      2  1  0  0  \n",
       "4                   0.15625  2010      2  1  0  0  "
      ]
     },
     "execution_count": 869,
     "metadata": {},
     "output_type": "execute_result"
    }
   ],
   "source": [
    "X_train = train[features]\n",
    "print(X_train.shape)\n",
    "X_train.head()"
   ]
  },
  {
   "cell_type": "code",
   "execution_count": 870,
   "id": "c64f05f3",
   "metadata": {},
   "outputs": [
    {
     "name": "stdout",
     "output_type": "stream",
     "text": [
      "(421570,)\n"
     ]
    },
    {
     "data": {
      "text/plain": [
       "0    24924.50\n",
       "1    50605.27\n",
       "2    13740.12\n",
       "3    39954.04\n",
       "4    32229.38\n",
       "Name: Weekly_Sales, dtype: float64"
      ]
     },
     "execution_count": 870,
     "metadata": {},
     "output_type": "execute_result"
    }
   ],
   "source": [
    "y_train = train[label]\n",
    "print(y_train.shape)\n",
    "y_train.head()"
   ]
  },
  {
   "cell_type": "code",
   "execution_count": 871,
   "id": "9b0540f3",
   "metadata": {},
   "outputs": [
    {
     "name": "stdout",
     "output_type": "stream",
     "text": [
      "(115064, 18)\n"
     ]
    },
    {
     "data": {
      "text/html": [
       "<div>\n",
       "<style scoped>\n",
       "    .dataframe tbody tr th:only-of-type {\n",
       "        vertical-align: middle;\n",
       "    }\n",
       "\n",
       "    .dataframe tbody tr th {\n",
       "        vertical-align: top;\n",
       "    }\n",
       "\n",
       "    .dataframe thead th {\n",
       "        text-align: right;\n",
       "    }\n",
       "</style>\n",
       "<table border=\"1\" class=\"dataframe\">\n",
       "  <thead>\n",
       "    <tr style=\"text-align: right;\">\n",
       "      <th></th>\n",
       "      <th>Store</th>\n",
       "      <th>Dept</th>\n",
       "      <th>IsHoliday</th>\n",
       "      <th>Temperature</th>\n",
       "      <th>Fuel_Price</th>\n",
       "      <th>MarkDown1</th>\n",
       "      <th>MarkDown2</th>\n",
       "      <th>MarkDown3</th>\n",
       "      <th>MarkDown4</th>\n",
       "      <th>MarkDown5</th>\n",
       "      <th>Size</th>\n",
       "      <th>CPI_interpolate</th>\n",
       "      <th>Unemployment_interpolate</th>\n",
       "      <th>year</th>\n",
       "      <th>month</th>\n",
       "      <th>A</th>\n",
       "      <th>B</th>\n",
       "      <th>C</th>\n",
       "    </tr>\n",
       "  </thead>\n",
       "  <tbody>\n",
       "    <tr>\n",
       "      <th>0</th>\n",
       "      <td>1</td>\n",
       "      <td>1</td>\n",
       "      <td>False</td>\n",
       "      <td>-0.192655</td>\n",
       "      <td>-0.180912</td>\n",
       "      <td>1.458415</td>\n",
       "      <td>52.213206</td>\n",
       "      <td>2.098266</td>\n",
       "      <td>4.698509</td>\n",
       "      <td>1.021313</td>\n",
       "      <td>0.188481</td>\n",
       "      <td>0.509942</td>\n",
       "      <td>-0.642187</td>\n",
       "      <td>2012</td>\n",
       "      <td>11</td>\n",
       "      <td>1</td>\n",
       "      <td>0</td>\n",
       "      <td>0</td>\n",
       "    </tr>\n",
       "    <tr>\n",
       "      <th>1</th>\n",
       "      <td>1</td>\n",
       "      <td>2</td>\n",
       "      <td>False</td>\n",
       "      <td>-0.192655</td>\n",
       "      <td>-0.180912</td>\n",
       "      <td>1.458415</td>\n",
       "      <td>52.213206</td>\n",
       "      <td>2.098266</td>\n",
       "      <td>4.698509</td>\n",
       "      <td>1.021313</td>\n",
       "      <td>0.188481</td>\n",
       "      <td>0.509942</td>\n",
       "      <td>-0.642187</td>\n",
       "      <td>2012</td>\n",
       "      <td>11</td>\n",
       "      <td>1</td>\n",
       "      <td>0</td>\n",
       "      <td>0</td>\n",
       "    </tr>\n",
       "    <tr>\n",
       "      <th>2</th>\n",
       "      <td>1</td>\n",
       "      <td>3</td>\n",
       "      <td>False</td>\n",
       "      <td>-0.192655</td>\n",
       "      <td>-0.180912</td>\n",
       "      <td>1.458415</td>\n",
       "      <td>52.213206</td>\n",
       "      <td>2.098266</td>\n",
       "      <td>4.698509</td>\n",
       "      <td>1.021313</td>\n",
       "      <td>0.188481</td>\n",
       "      <td>0.509942</td>\n",
       "      <td>-0.642187</td>\n",
       "      <td>2012</td>\n",
       "      <td>11</td>\n",
       "      <td>1</td>\n",
       "      <td>0</td>\n",
       "      <td>0</td>\n",
       "    </tr>\n",
       "    <tr>\n",
       "      <th>3</th>\n",
       "      <td>1</td>\n",
       "      <td>4</td>\n",
       "      <td>False</td>\n",
       "      <td>-0.192655</td>\n",
       "      <td>-0.180912</td>\n",
       "      <td>1.458415</td>\n",
       "      <td>52.213206</td>\n",
       "      <td>2.098266</td>\n",
       "      <td>4.698509</td>\n",
       "      <td>1.021313</td>\n",
       "      <td>0.188481</td>\n",
       "      <td>0.509942</td>\n",
       "      <td>-0.642187</td>\n",
       "      <td>2012</td>\n",
       "      <td>11</td>\n",
       "      <td>1</td>\n",
       "      <td>0</td>\n",
       "      <td>0</td>\n",
       "    </tr>\n",
       "    <tr>\n",
       "      <th>4</th>\n",
       "      <td>1</td>\n",
       "      <td>5</td>\n",
       "      <td>False</td>\n",
       "      <td>-0.192655</td>\n",
       "      <td>-0.180912</td>\n",
       "      <td>1.458415</td>\n",
       "      <td>52.213206</td>\n",
       "      <td>2.098266</td>\n",
       "      <td>4.698509</td>\n",
       "      <td>1.021313</td>\n",
       "      <td>0.188481</td>\n",
       "      <td>0.509942</td>\n",
       "      <td>-0.642187</td>\n",
       "      <td>2012</td>\n",
       "      <td>11</td>\n",
       "      <td>1</td>\n",
       "      <td>0</td>\n",
       "      <td>0</td>\n",
       "    </tr>\n",
       "  </tbody>\n",
       "</table>\n",
       "</div>"
      ],
      "text/plain": [
       "   Store  Dept  IsHoliday  Temperature  Fuel_Price  MarkDown1  MarkDown2  \\\n",
       "0      1     1      False    -0.192655   -0.180912   1.458415  52.213206   \n",
       "1      1     2      False    -0.192655   -0.180912   1.458415  52.213206   \n",
       "2      1     3      False    -0.192655   -0.180912   1.458415  52.213206   \n",
       "3      1     4      False    -0.192655   -0.180912   1.458415  52.213206   \n",
       "4      1     5      False    -0.192655   -0.180912   1.458415  52.213206   \n",
       "\n",
       "   MarkDown3  MarkDown4  MarkDown5      Size  CPI_interpolate  \\\n",
       "0   2.098266   4.698509   1.021313  0.188481         0.509942   \n",
       "1   2.098266   4.698509   1.021313  0.188481         0.509942   \n",
       "2   2.098266   4.698509   1.021313  0.188481         0.509942   \n",
       "3   2.098266   4.698509   1.021313  0.188481         0.509942   \n",
       "4   2.098266   4.698509   1.021313  0.188481         0.509942   \n",
       "\n",
       "   Unemployment_interpolate  year  month  A  B  C  \n",
       "0                 -0.642187  2012     11  1  0  0  \n",
       "1                 -0.642187  2012     11  1  0  0  \n",
       "2                 -0.642187  2012     11  1  0  0  \n",
       "3                 -0.642187  2012     11  1  0  0  \n",
       "4                 -0.642187  2012     11  1  0  0  "
      ]
     },
     "execution_count": 871,
     "metadata": {},
     "output_type": "execute_result"
    }
   ],
   "source": [
    "X_test = test[features]\n",
    "print(X_test.shape)\n",
    "X_test.head()"
   ]
  },
  {
   "cell_type": "code",
   "execution_count": 872,
   "id": "fa5dda87",
   "metadata": {},
   "outputs": [
    {
     "data": {
      "text/plain": [
       "count    421570.000000\n",
       "mean      15981.258123\n",
       "std       22711.183519\n",
       "min       -4988.940000\n",
       "25%        2079.650000\n",
       "50%        7612.030000\n",
       "75%       20205.852500\n",
       "max      693099.360000\n",
       "Name: Weekly_Sales, dtype: float64"
      ]
     },
     "execution_count": 872,
     "metadata": {},
     "output_type": "execute_result"
    }
   ],
   "source": [
    "# log1p[label]\n",
    "y_train.describe()"
   ]
  },
  {
   "cell_type": "code",
   "execution_count": 873,
   "id": "284093ba",
   "metadata": {},
   "outputs": [
    {
     "data": {
      "text/plain": [
       "0         24924.50\n",
       "1         50605.27\n",
       "2         13740.12\n",
       "3         39954.04\n",
       "4         32229.38\n",
       "            ...   \n",
       "421565     2487.80\n",
       "421566     5203.31\n",
       "421567    56017.47\n",
       "421568     6817.48\n",
       "421569     1076.80\n",
       "Name: Weekly_Sales, Length: 421570, dtype: float64"
      ]
     },
     "execution_count": 873,
     "metadata": {},
     "output_type": "execute_result"
    }
   ],
   "source": [
    "y_train"
   ]
  },
  {
   "cell_type": "code",
   "execution_count": 874,
   "id": "0f27be08",
   "metadata": {},
   "outputs": [],
   "source": [
    "y_train = y_train + 5000"
   ]
  },
  {
   "cell_type": "code",
   "execution_count": 875,
   "id": "bfea5702",
   "metadata": {},
   "outputs": [
    {
     "data": {
      "text/plain": [
       "count    421570.000000\n",
       "mean      20981.258123\n",
       "std       22711.183519\n",
       "min          11.060000\n",
       "25%        7079.650000\n",
       "50%       12612.030000\n",
       "75%       25205.852500\n",
       "max      698099.360000\n",
       "Name: Weekly_Sales, dtype: float64"
      ]
     },
     "execution_count": 875,
     "metadata": {},
     "output_type": "execute_result"
    }
   ],
   "source": [
    "y_train.describe()"
   ]
  },
  {
   "cell_type": "code",
   "execution_count": 876,
   "id": "98b51315",
   "metadata": {},
   "outputs": [
    {
     "data": {
      "text/plain": [
       "0    10.306466\n",
       "1    10.926051\n",
       "2     9.838475\n",
       "3    10.713418\n",
       "4    10.524880\n",
       "Name: Weekly_Sales, dtype: float64"
      ]
     },
     "execution_count": 876,
     "metadata": {},
     "output_type": "execute_result"
    }
   ],
   "source": [
    "y_train = np.log1p(y_train)\n",
    "y_train[:5]"
   ]
  },
  {
   "cell_type": "code",
   "execution_count": 877,
   "id": "c20a39a8",
   "metadata": {},
   "outputs": [
    {
     "data": {
      "text/plain": [
       "count    421570.000000\n",
       "mean          9.571638\n",
       "std           0.821664\n",
       "min           2.489894\n",
       "25%           8.865121\n",
       "50%           9.442486\n",
       "75%          10.134871\n",
       "max          13.456118\n",
       "Name: Weekly_Sales, dtype: float64"
      ]
     },
     "execution_count": 877,
     "metadata": {},
     "output_type": "execute_result"
    }
   ],
   "source": [
    "y_train.describe()"
   ]
  },
  {
   "cell_type": "markdown",
   "id": "95c77676",
   "metadata": {},
   "source": [
    "# Model"
   ]
  },
  {
   "cell_type": "markdown",
   "id": "7b9a2604",
   "metadata": {},
   "source": [
    "## RandomForest"
   ]
  },
  {
   "cell_type": "code",
   "execution_count": 878,
   "id": "93300e9c",
   "metadata": {},
   "outputs": [],
   "source": [
    "from sklearn.ensemble import RandomForestRegressor\n",
    "\n",
    "rf = RandomForestRegressor(n_estimators=500, random_state=42, max_depth=13, max_features=0.8, n_jobs=-1)"
   ]
  },
  {
   "cell_type": "code",
   "execution_count": 879,
   "id": "ca3e1b38",
   "metadata": {},
   "outputs": [
    {
     "data": {
      "text/plain": [
       "RandomForestRegressor(max_depth=13, max_features=0.8, n_estimators=500,\n",
       "                      n_jobs=-1, random_state=42)"
      ]
     },
     "execution_count": 879,
     "metadata": {},
     "output_type": "execute_result"
    }
   ],
   "source": [
    "rf.fit(X_train, y_train)"
   ]
  },
  {
   "cell_type": "code",
   "execution_count": 880,
   "id": "949ad2fc",
   "metadata": {},
   "outputs": [
    {
     "data": {
      "text/plain": [
       "array([10.17504167, 10.83805174,  9.65612901, 10.52747293, 10.44247082])"
      ]
     },
     "execution_count": 880,
     "metadata": {},
     "output_type": "execute_result"
    }
   ],
   "source": [
    "y_pred_rf = rf.predict(X_test)\n",
    "y_pred_rf[:5]"
   ]
  },
  {
   "cell_type": "markdown",
   "id": "ec6a6a7f",
   "metadata": {},
   "source": [
    "# Score"
   ]
  },
  {
   "cell_type": "code",
   "execution_count": 881,
   "id": "8ea575c1",
   "metadata": {},
   "outputs": [
    {
     "name": "stderr",
     "output_type": "stream",
     "text": [
      "[Parallel(n_jobs=-1)]: Using backend LokyBackend with 8 concurrent workers.\n",
      "[Parallel(n_jobs=-1)]: Done   2 out of   5 | elapsed:  5.4min remaining:  8.2min\n",
      "[Parallel(n_jobs=-1)]: Done   5 out of   5 | elapsed:  5.6min remaining:    0.0s\n",
      "[Parallel(n_jobs=-1)]: Done   5 out of   5 | elapsed:  5.6min finished\n"
     ]
    },
    {
     "data": {
      "text/plain": [
       "array([10.2356557 , 10.65385042,  9.91408334, 10.51346732, 10.56002241])"
      ]
     },
     "execution_count": 881,
     "metadata": {},
     "output_type": "execute_result"
    }
   ],
   "source": [
    "from sklearn.model_selection import cross_val_predict\n",
    "\n",
    "y_valid_pred = cross_val_predict(rf, X_train, y_train, cv=5, n_jobs=-1, verbose=2)\n",
    "y_valid_pred[:5]"
   ]
  },
  {
   "cell_type": "code",
   "execution_count": 882,
   "id": "b1b52360",
   "metadata": {},
   "outputs": [
    {
     "data": {
      "text/plain": [
       "<AxesSubplot:xlabel='Weekly_Sales'>"
      ]
     },
     "execution_count": 882,
     "metadata": {},
     "output_type": "execute_result"
    },
    {
     "data": {
      "image/png": "[encoded data removed]",
      "text/plain": [
       "<Figure size 640x480 with 1 Axes>"
      ]
     },
     "metadata": {},
     "output_type": "display_data"
    }
   ],
   "source": [
    "sns.regplot(x=y_train, y=y_valid_pred)"
   ]
  },
  {
   "cell_type": "code",
   "execution_count": 883,
   "id": "c9bbb2df",
   "metadata": {},
   "outputs": [
    {
     "data": {
      "text/plain": [
       "<AxesSubplot:xlabel='Weekly_Sales'>"
      ]
     },
     "execution_count": 883,
     "metadata": {},
     "output_type": "execute_result"
    },
    {
     "data": {
      "image/png": "[encoded data removed]",
      "text/plain": [
       "<Figure size 640x480 with 1 Axes>"
      ]
     },
     "metadata": {},
     "output_type": "display_data"
    }
   ],
   "source": [
    "sns.regplot(x=np.expm1(y_train), y=np.expm1(y_valid_pred))"
   ]
  },
  {
   "cell_type": "code",
   "execution_count": 884,
   "id": "e9e2f3a7",
   "metadata": {},
   "outputs": [
    {
     "data": {
      "text/plain": [
       "0.09487756540944206"
      ]
     },
     "execution_count": 884,
     "metadata": {},
     "output_type": "execute_result"
    }
   ],
   "source": [
    "from sklearn.metrics import mean_squared_error\n",
    "\n",
    "mean_squared_error(y_train, y_valid_pred)"
   ]
  },
  {
   "cell_type": "markdown",
   "id": "d364dc28",
   "metadata": {},
   "source": [
    "## LGBM"
   ]
  },
  {
   "cell_type": "code",
   "execution_count": 885,
   "id": "7c4e692f",
   "metadata": {},
   "outputs": [],
   "source": [
    "import lightgbm as lgb\n",
    "\n",
    "lgbm = lgb.LGBMRegressor()"
   ]
  },
  {
   "cell_type": "code",
   "execution_count": 886,
   "id": "eeac0ae0",
   "metadata": {},
   "outputs": [
    {
     "data": {
      "text/plain": [
       "LGBMRegressor()"
      ]
     },
     "execution_count": 886,
     "metadata": {},
     "output_type": "execute_result"
    }
   ],
   "source": [
    "lgbm.fit(X_train, y_train)"
   ]
  },
  {
   "cell_type": "code",
   "execution_count": 887,
   "id": "b21d34bc",
   "metadata": {},
   "outputs": [
    {
     "data": {
      "text/plain": [
       "array([10.23377358, 10.83225278,  9.79443096, 10.40834502, 10.45248401])"
      ]
     },
     "execution_count": 887,
     "metadata": {},
     "output_type": "execute_result"
    }
   ],
   "source": [
    "y_pred_lg = lgbm.predict(X_test)\n",
    "y_pred_lg[:5]"
   ]
  },
  {
   "cell_type": "code",
   "execution_count": 888,
   "id": "59b436e9",
   "metadata": {},
   "outputs": [
    {
     "name": "stderr",
     "output_type": "stream",
     "text": [
      "[Parallel(n_jobs=-1)]: Using backend LokyBackend with 8 concurrent workers.\n",
      "[Parallel(n_jobs=-1)]: Done   2 out of   5 | elapsed:    4.1s remaining:    6.2s\n",
      "[Parallel(n_jobs=-1)]: Done   5 out of   5 | elapsed:    4.2s remaining:    0.0s\n",
      "[Parallel(n_jobs=-1)]: Done   5 out of   5 | elapsed:    4.2s finished\n"
     ]
    },
    {
     "data": {
      "text/plain": [
       "array([10.12125513, 10.6535822 ,  9.72284743, 10.28238193, 10.15377567])"
      ]
     },
     "execution_count": 888,
     "metadata": {},
     "output_type": "execute_result"
    }
   ],
   "source": [
    "y_valid_pred = cross_val_predict(lgbm, X_train, y_train, cv=5, n_jobs=-1, verbose=2)\n",
    "y_valid_pred[:5]"
   ]
  },
  {
   "cell_type": "code",
   "execution_count": 889,
   "id": "e62eea5d",
   "metadata": {},
   "outputs": [
    {
     "data": {
      "text/plain": [
       "<AxesSubplot:xlabel='Weekly_Sales'>"
      ]
     },
     "execution_count": 889,
     "metadata": {},
     "output_type": "execute_result"
    },
    {
     "data": {
      "image/png": "[encoded data removed]",
      "text/plain": [
       "<Figure size 640x480 with 1 Axes>"
      ]
     },
     "metadata": {},
     "output_type": "display_data"
    }
   ],
   "source": [
    "sns.regplot(x=y_train, y=y_valid_pred)"
   ]
  },
  {
   "cell_type": "code",
   "execution_count": 890,
   "id": "e2284a8d",
   "metadata": {},
   "outputs": [
    {
     "data": {
      "text/plain": [
       "269456    2.489894\n",
       "Name: Weekly_Sales, dtype: float64"
      ]
     },
     "execution_count": 890,
     "metadata": {},
     "output_type": "execute_result"
    }
   ],
   "source": [
    "cond = y_train < 4\n",
    "y_train[cond]"
   ]
  },
  {
   "cell_type": "code",
   "execution_count": 891,
   "id": "84da8ebd",
   "metadata": {},
   "outputs": [
    {
     "data": {
      "text/plain": [
       "0.11157093267791472"
      ]
     },
     "execution_count": 891,
     "metadata": {},
     "output_type": "execute_result"
    }
   ],
   "source": [
    "mean_squared_error(y_train, y_valid_pred)"
   ]
  },
  {
   "cell_type": "markdown",
   "id": "20005248",
   "metadata": {},
   "source": [
    "# 제출"
   ]
  },
  {
   "cell_type": "code",
   "execution_count": 892,
   "id": "f823fa29",
   "metadata": {},
   "outputs": [
    {
     "data": {
      "text/html": [
       "<div>\n",
       "<style scoped>\n",
       "    .dataframe tbody tr th:only-of-type {\n",
       "        vertical-align: middle;\n",
       "    }\n",
       "\n",
       "    .dataframe tbody tr th {\n",
       "        vertical-align: top;\n",
       "    }\n",
       "\n",
       "    .dataframe thead th {\n",
       "        text-align: right;\n",
       "    }\n",
       "</style>\n",
       "<table border=\"1\" class=\"dataframe\">\n",
       "  <thead>\n",
       "    <tr style=\"text-align: right;\">\n",
       "      <th></th>\n",
       "      <th>Id</th>\n",
       "      <th>Weekly_Sales</th>\n",
       "    </tr>\n",
       "  </thead>\n",
       "  <tbody>\n",
       "    <tr>\n",
       "      <th>0</th>\n",
       "      <td>1_1_2012-11-02</td>\n",
       "      <td>0</td>\n",
       "    </tr>\n",
       "    <tr>\n",
       "      <th>1</th>\n",
       "      <td>1_1_2012-11-09</td>\n",
       "      <td>0</td>\n",
       "    </tr>\n",
       "    <tr>\n",
       "      <th>2</th>\n",
       "      <td>1_1_2012-11-16</td>\n",
       "      <td>0</td>\n",
       "    </tr>\n",
       "    <tr>\n",
       "      <th>3</th>\n",
       "      <td>1_1_2012-11-23</td>\n",
       "      <td>0</td>\n",
       "    </tr>\n",
       "    <tr>\n",
       "      <th>4</th>\n",
       "      <td>1_1_2012-11-30</td>\n",
       "      <td>0</td>\n",
       "    </tr>\n",
       "  </tbody>\n",
       "</table>\n",
       "</div>"
      ],
      "text/plain": [
       "               Id  Weekly_Sales\n",
       "0  1_1_2012-11-02             0\n",
       "1  1_1_2012-11-09             0\n",
       "2  1_1_2012-11-16             0\n",
       "3  1_1_2012-11-23             0\n",
       "4  1_1_2012-11-30             0"
      ]
     },
     "execution_count": 892,
     "metadata": {},
     "output_type": "execute_result"
    }
   ],
   "source": [
    "submit = pd.read_csv(\"../data/MiniP4/sampleSubmission.csv.zip\")\n",
    "submit.head()"
   ]
  },
  {
   "cell_type": "code",
   "execution_count": 893,
   "id": "c6644e0c",
   "metadata": {},
   "outputs": [
    {
     "data": {
      "text/plain": [
       "array([26239.0373971 , 50921.07169097, 15616.21349018, 37326.02690077,\n",
       "       34284.26064751])"
      ]
     },
     "execution_count": 893,
     "metadata": {},
     "output_type": "execute_result"
    }
   ],
   "source": [
    "y_pred_rf = np.expm1(y_pred_rf)\n",
    "y_pred_rf[:5]"
   ]
  },
  {
   "cell_type": "code",
   "execution_count": 894,
   "id": "2ef3f08c",
   "metadata": {},
   "outputs": [
    {
     "data": {
      "text/html": [
       "<div>\n",
       "<style scoped>\n",
       "    .dataframe tbody tr th:only-of-type {\n",
       "        vertical-align: middle;\n",
       "    }\n",
       "\n",
       "    .dataframe tbody tr th {\n",
       "        vertical-align: top;\n",
       "    }\n",
       "\n",
       "    .dataframe thead th {\n",
       "        text-align: right;\n",
       "    }\n",
       "</style>\n",
       "<table border=\"1\" class=\"dataframe\">\n",
       "  <thead>\n",
       "    <tr style=\"text-align: right;\">\n",
       "      <th></th>\n",
       "      <th>Id</th>\n",
       "      <th>Weekly_Sales</th>\n",
       "    </tr>\n",
       "  </thead>\n",
       "  <tbody>\n",
       "    <tr>\n",
       "      <th>0</th>\n",
       "      <td>1_1_2012-11-02</td>\n",
       "      <td>26239.037397</td>\n",
       "    </tr>\n",
       "    <tr>\n",
       "      <th>1</th>\n",
       "      <td>1_1_2012-11-09</td>\n",
       "      <td>50921.071691</td>\n",
       "    </tr>\n",
       "    <tr>\n",
       "      <th>2</th>\n",
       "      <td>1_1_2012-11-16</td>\n",
       "      <td>15616.213490</td>\n",
       "    </tr>\n",
       "    <tr>\n",
       "      <th>3</th>\n",
       "      <td>1_1_2012-11-23</td>\n",
       "      <td>37326.026901</td>\n",
       "    </tr>\n",
       "    <tr>\n",
       "      <th>4</th>\n",
       "      <td>1_1_2012-11-30</td>\n",
       "      <td>34284.260648</td>\n",
       "    </tr>\n",
       "  </tbody>\n",
       "</table>\n",
       "</div>"
      ],
      "text/plain": [
       "               Id  Weekly_Sales\n",
       "0  1_1_2012-11-02  26239.037397\n",
       "1  1_1_2012-11-09  50921.071691\n",
       "2  1_1_2012-11-16  15616.213490\n",
       "3  1_1_2012-11-23  37326.026901\n",
       "4  1_1_2012-11-30  34284.260648"
      ]
     },
     "execution_count": 894,
     "metadata": {},
     "output_type": "execute_result"
    }
   ],
   "source": [
    "submit[\"Weekly_Sales\"] = y_pred_rf\n",
    "submit.head()"
   ]
  },
  {
   "cell_type": "code",
   "execution_count": 895,
   "id": "b717392a",
   "metadata": {},
   "outputs": [],
   "source": [
    "submit.to_csv(\"../data/MiniP4/submit.csv\", index=False)"
   ]
  },
  {
   "cell_type": "code",
   "execution_count": 896,
   "id": "9c01f8d6",
   "metadata": {},
   "outputs": [
    {
     "data": {
      "text/html": [
       "<div>\n",
       "<style scoped>\n",
       "    .dataframe tbody tr th:only-of-type {\n",
       "        vertical-align: middle;\n",
       "    }\n",
       "\n",
       "    .dataframe tbody tr th {\n",
       "        vertical-align: top;\n",
       "    }\n",
       "\n",
       "    .dataframe thead th {\n",
       "        text-align: right;\n",
       "    }\n",
       "</style>\n",
       "<table border=\"1\" class=\"dataframe\">\n",
       "  <thead>\n",
       "    <tr style=\"text-align: right;\">\n",
       "      <th></th>\n",
       "      <th>Id</th>\n",
       "      <th>Weekly_Sales</th>\n",
       "    </tr>\n",
       "  </thead>\n",
       "  <tbody>\n",
       "    <tr>\n",
       "      <th>0</th>\n",
       "      <td>1_1_2012-11-02</td>\n",
       "      <td>26239.037397</td>\n",
       "    </tr>\n",
       "    <tr>\n",
       "      <th>1</th>\n",
       "      <td>1_1_2012-11-09</td>\n",
       "      <td>50921.071691</td>\n",
       "    </tr>\n",
       "    <tr>\n",
       "      <th>2</th>\n",
       "      <td>1_1_2012-11-16</td>\n",
       "      <td>15616.213490</td>\n",
       "    </tr>\n",
       "    <tr>\n",
       "      <th>3</th>\n",
       "      <td>1_1_2012-11-23</td>\n",
       "      <td>37326.026901</td>\n",
       "    </tr>\n",
       "    <tr>\n",
       "      <th>4</th>\n",
       "      <td>1_1_2012-11-30</td>\n",
       "      <td>34284.260648</td>\n",
       "    </tr>\n",
       "    <tr>\n",
       "      <th>...</th>\n",
       "      <td>...</td>\n",
       "      <td>...</td>\n",
       "    </tr>\n",
       "    <tr>\n",
       "      <th>115059</th>\n",
       "      <td>45_98_2013-06-28</td>\n",
       "      <td>8516.223739</td>\n",
       "    </tr>\n",
       "    <tr>\n",
       "      <th>115060</th>\n",
       "      <td>45_98_2013-07-05</td>\n",
       "      <td>8785.771805</td>\n",
       "    </tr>\n",
       "    <tr>\n",
       "      <th>115061</th>\n",
       "      <td>45_98_2013-07-12</td>\n",
       "      <td>62023.755439</td>\n",
       "    </tr>\n",
       "    <tr>\n",
       "      <th>115062</th>\n",
       "      <td>45_98_2013-07-19</td>\n",
       "      <td>11321.178882</td>\n",
       "    </tr>\n",
       "    <tr>\n",
       "      <th>115063</th>\n",
       "      <td>45_98_2013-07-26</td>\n",
       "      <td>5778.770597</td>\n",
       "    </tr>\n",
       "  </tbody>\n",
       "</table>\n",
       "<p>115064 rows × 2 columns</p>\n",
       "</div>"
      ],
      "text/plain": [
       "                      Id  Weekly_Sales\n",
       "0         1_1_2012-11-02  26239.037397\n",
       "1         1_1_2012-11-09  50921.071691\n",
       "2         1_1_2012-11-16  15616.213490\n",
       "3         1_1_2012-11-23  37326.026901\n",
       "4         1_1_2012-11-30  34284.260648\n",
       "...                  ...           ...\n",
       "115059  45_98_2013-06-28   8516.223739\n",
       "115060  45_98_2013-07-05   8785.771805\n",
       "115061  45_98_2013-07-12  62023.755439\n",
       "115062  45_98_2013-07-19  11321.178882\n",
       "115063  45_98_2013-07-26   5778.770597\n",
       "\n",
       "[115064 rows x 2 columns]"
      ]
     },
     "execution_count": 896,
     "metadata": {},
     "output_type": "execute_result"
    }
   ],
   "source": [
    "pd.read_csv(\"../data/MiniP4/submit.csv\")"
   ]
  }
 ],
 "metadata": {
  "kernelspec": {
   "display_name": "Python 3 (ipykernel)",
   "language": "python",
   "name": "python3"
  },
  "language_info": {
   "codemirror_mode": {
    "name": "ipython",
    "version": 3
   },
   "file_extension": ".py",
   "mimetype": "text/x-python",
   "name": "python",
   "nbconvert_exporter": "python",
   "pygments_lexer": "ipython3",
   "version": "3.9.13"
  }
 },
 "nbformat": 4,
 "nbformat_minor": 5
}
