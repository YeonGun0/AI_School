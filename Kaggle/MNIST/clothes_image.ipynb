{
 "cells": [
  {
   "cell_type": "markdown",
   "metadata": {
    "id": "JjKPMjgXFygC"
   },
   "source": [
    "[필사 링크](https://www.tensorflow.org/tutorials/keras/classification)"
   ]
  },
  {
   "cell_type": "code",
   "execution_count": 1,
   "metadata": {
    "colab": {
     "base_uri": "https://localhost:8080/"
    },
    "executionInfo": {
     "elapsed": 8192,
     "status": "ok",
     "timestamp": 1669024809832,
     "user": {
      "displayName": "구자현",
      "userId": "15477752550929484392"
     },
     "user_tz": -540
    },
    "id": "bhxwHgy5Fime",
    "outputId": "aeccf659-dfc2-4722-aa29-5073fda75917"
   },
   "outputs": [
    {
     "name": "stdout",
     "output_type": "stream",
     "text": [
      "2.9.2\n"
     ]
    }
   ],
   "source": [
    "import tensorflow as tf\n",
    "\n",
    "import numpy as np\n",
    "import matplotlib.pyplot as plt\n",
    "\n",
    "print(tf.__version__)"
   ]
  },
  {
   "cell_type": "code",
   "execution_count": 2,
   "metadata": {
    "colab": {
     "base_uri": "https://localhost:8080/"
    },
    "executionInfo": {
     "elapsed": 2925,
     "status": "ok",
     "timestamp": 1669024812751,
     "user": {
      "displayName": "구자현",
      "userId": "15477752550929484392"
     },
     "user_tz": -540
    },
    "id": "gXXY9a2IF5yM",
    "outputId": "30a2a6c5-0a44-4edd-c1e8-2dc503dacbdc"
   },
   "outputs": [
    {
     "name": "stdout",
     "output_type": "stream",
     "text": [
      "Downloading data from https://storage.googleapis.com/tensorflow/tf-keras-datasets/train-labels-idx1-ubyte.gz\n",
      "29515/29515 [==============================] - 0s 0us/step\n",
      "Downloading data from https://storage.googleapis.com/tensorflow/tf-keras-datasets/train-images-idx3-ubyte.gz\n",
      "26421880/26421880 [==============================] - 1s 0us/step\n",
      "Downloading data from https://storage.googleapis.com/tensorflow/tf-keras-datasets/t10k-labels-idx1-ubyte.gz\n",
      "5148/5148 [==============================] - 0s 0us/step\n",
      "Downloading data from https://storage.googleapis.com/tensorflow/tf-keras-datasets/t10k-images-idx3-ubyte.gz\n",
      "4422102/4422102 [==============================] - 0s 0us/step\n"
     ]
    }
   ],
   "source": [
    "# 10개의 범주와 70,000개의 흑백 이미지로 구성\n",
    "# 해상도 : 28x28\n",
    "fashion_mnist = tf.keras.datasets.fashion_mnist\n",
    "\n",
    "(train_images, train_labels), (test_images, test_labels) = fashion_mnist.load_data()"
   ]
  },
  {
   "cell_type": "code",
   "execution_count": 3,
   "metadata": {
    "executionInfo": {
     "elapsed": 7,
     "status": "ok",
     "timestamp": 1669024812752,
     "user": {
      "displayName": "구자현",
      "userId": "15477752550929484392"
     },
     "user_tz": -540
    },
    "id": "RckzCf9kF_gF"
   },
   "outputs": [],
   "source": [
    "# 0부터 9까지 숫자에 대응하는 label\n",
    "class_names = ['T-shirt/top', 'Trouser', 'Pullover', 'Dress', 'Coat', 'Sandal', 'Shirt', \n",
    "               'Sneaker', 'Bag', 'Ankle boot']"
   ]
  },
  {
   "cell_type": "code",
   "execution_count": 4,
   "metadata": {
    "colab": {
     "base_uri": "https://localhost:8080/"
    },
    "executionInfo": {
     "elapsed": 6,
     "status": "ok",
     "timestamp": 1669024812752,
     "user": {
      "displayName": "구자현",
      "userId": "15477752550929484392"
     },
     "user_tz": -540
    },
    "id": "Gk_O8xb2MROP",
    "outputId": "f7e3c788-9c83-49c2-fcf5-d331f3da2ddc"
   },
   "outputs": [
    {
     "data": {
      "text/plain": [
       "(60000, 28, 28)"
      ]
     },
     "execution_count": 4,
     "metadata": {},
     "output_type": "execute_result"
    }
   ],
   "source": [
    "train_images.shape"
   ]
  },
  {
   "cell_type": "code",
   "execution_count": 5,
   "metadata": {
    "colab": {
     "base_uri": "https://localhost:8080/"
    },
    "executionInfo": {
     "elapsed": 5,
     "status": "ok",
     "timestamp": 1669024812752,
     "user": {
      "displayName": "구자현",
      "userId": "15477752550929484392"
     },
     "user_tz": -540
    },
    "id": "4EQrMe-zMU-q",
    "outputId": "a8e8e9e8-31d6-4c36-82f9-b524715df509"
   },
   "outputs": [
    {
     "data": {
      "text/plain": [
       "60000"
      ]
     },
     "execution_count": 5,
     "metadata": {},
     "output_type": "execute_result"
    }
   ],
   "source": [
    "len(train_labels)"
   ]
  },
  {
   "cell_type": "code",
   "execution_count": 6,
   "metadata": {
    "colab": {
     "base_uri": "https://localhost:8080/"
    },
    "executionInfo": {
     "elapsed": 404,
     "status": "ok",
     "timestamp": 1669024851484,
     "user": {
      "displayName": "구자현",
      "userId": "15477752550929484392"
     },
     "user_tz": -540
    },
    "id": "OaufGOqMMWvk",
    "outputId": "9d78180a-4cef-4076-9879-fc3bb08243a6"
   },
   "outputs": [
    {
     "data": {
      "text/plain": [
       "array([9, 0, 0, ..., 3, 0, 5], dtype=uint8)"
      ]
     },
     "execution_count": 6,
     "metadata": {},
     "output_type": "execute_result"
    }
   ],
   "source": [
    "train_labels"
   ]
  },
  {
   "cell_type": "code",
   "execution_count": 7,
   "metadata": {
    "colab": {
     "base_uri": "https://localhost:8080/",
     "height": 265
    },
    "executionInfo": {
     "elapsed": 359,
     "status": "ok",
     "timestamp": 1669024852118,
     "user": {
      "displayName": "구자현",
      "userId": "15477752550929484392"
     },
     "user_tz": -540
    },
    "id": "tPpG4ElPMcE4",
    "outputId": "0b9ac036-71b9-4dac-f03f-b164c3ea4a20"
   },
   "outputs": [
    {
     "data": {
      "image/png": "[encoded data removed]",
      "text/plain": [
       "<Figure size 432x288 with 2 Axes>"
      ]
     },
     "metadata": {
      "needs_background": "light"
     },
     "output_type": "display_data"
    }
   ],
   "source": [
    "# 픽셀 값의 범위가 0 ~ 255 사이라는 것을 알 수 있음 \n",
    "plt.figure()\n",
    "plt.imshow(train_images[0])\n",
    "plt.colorbar()\n",
    "plt.grid(False)\n",
    "plt.show()"
   ]
  },
  {
   "cell_type": "code",
   "execution_count": 8,
   "metadata": {
    "executionInfo": {
     "elapsed": 336,
     "status": "ok",
     "timestamp": 1669024852776,
     "user": {
      "displayName": "구자현",
      "userId": "15477752550929484392"
     },
     "user_tz": -540
    },
    "id": "bH5GZx_oMfTG"
   },
   "outputs": [],
   "source": [
    "# 신경망 모델에 주입하기 전 픽셀의 범위를 0 ~ 1 사이로 조정\n",
    "train_images = train_images / 255.0\n",
    "test_images = test_images / 255.0"
   ]
  },
  {
   "cell_type": "code",
   "execution_count": 9,
   "metadata": {
    "colab": {
     "base_uri": "https://localhost:8080/",
     "height": 589
    },
    "executionInfo": {
     "elapsed": 1409,
     "status": "ok",
     "timestamp": 1669024855204,
     "user": {
      "displayName": "구자현",
      "userId": "15477752550929484392"
     },
     "user_tz": -540
    },
    "id": "4OnltU8WNTMp",
    "outputId": "223c7574-4f05-44f5-b55b-65865f871bc4"
   },
   "outputs": [
    {
     "data": {
      "image/png": "[encoded data removed]",
      "text/plain": [
       "<Figure size 720x720 with 25 Axes>"
      ]
     },
     "metadata": {},
     "output_type": "display_data"
    }
   ],
   "source": [
    "# 25개의 이미지와 그에 맞는 label 출력\n",
    "plt.figure(figsize=(10,10))\n",
    "for i in range(25):\n",
    "    plt.subplot(5,5,i+1)\n",
    "    plt.xticks([])\n",
    "    plt.yticks([])\n",
    "    plt.grid(False)\n",
    "    plt.imshow(train_images[i], cmap=plt.cm.binary)\n",
    "    plt.xlabel(class_names[train_labels[i]])\n",
    "plt.show()"
   ]
  },
  {
   "cell_type": "markdown",
   "metadata": {},
   "source": [
    "[Sequential 공식문서](https://www.tensorflow.org/api_docs/python/tf/keras/Sequential)"
   ]
  },
  {
   "cell_type": "code",
   "execution_count": 10,
   "metadata": {
    "executionInfo": {
     "elapsed": 483,
     "status": "ok",
     "timestamp": 1669025134596,
     "user": {
      "displayName": "구자현",
      "userId": "15477752550929484392"
     },
     "user_tz": -540
    },
    "id": "wskEzOh7NbZm"
   },
   "outputs": [],
   "source": [
    "model = tf.keras.Sequential([\n",
    "    # Flatten은 2차원 배열(28 x 28 픽셀)의 이미지 포맷을 28 * 28 = 784 픽셀의 1차원 배열로 변환\n",
    "    # 픽셀의 행을 펼쳐 일렬로 늘림\n",
    "    # 학습되는 가중치는 없고, 데이터를 변환하기만 함\n",
    "    tf.keras.layers.Flatten(input_shape=(28, 28)), \n",
    "\n",
    "    # 픽셀을 펼친 후 Dense 층이 연속되어 연결\n",
    "    # 첫 Dense 층은 128개의 노드(뉴런)를 가짐\n",
    "    tf.keras.layers.Dense(128, activation='relu'),\n",
    "\n",
    "    # 두 번째 Dense는 10개 노드를 가진 소프트맥스 층\n",
    "    # 현재 이미지가 10개 클래스 중 하나에 속할 확률을 출력\n",
    "    tf.keras.layers.Dense(10)])"
   ]
  },
  {
   "cell_type": "code",
   "execution_count": 14,
   "metadata": {
    "executionInfo": {
     "elapsed": 375,
     "status": "ok",
     "timestamp": 1668934198264,
     "user": {
      "displayName": "구자현",
      "userId": "15477752550929484392"
     },
     "user_tz": -540
    },
    "id": "HjBrlu1DOmgX"
   },
   "outputs": [],
   "source": [
    "# 옵티마이저 설정 : 모델이 인식하는 데이터와 해당 손실 함수를 기반으로 모델이 업데이트되는 방식\n",
    "model.compile(optimizer='adam',\n",
    "              \n",
    "              # 손실 함수 : 모델이 얼마나 정확한지 측정, 이 함수를 최소화하는 것이 목적\n",
    "              loss=tf.keras.losses.SparseCategoricalCrossentropy(from_logits=True),\n",
    "\n",
    "              # 올바르게 분류된 이미지의 비율인 정확도를 사용\n",
    "              metrics=['accuracy'])"
   ]
  },
  {
   "cell_type": "code",
   "execution_count": 15,
   "metadata": {
    "colab": {
     "base_uri": "https://localhost:8080/"
    },
    "executionInfo": {
     "elapsed": 82949,
     "status": "ok",
     "timestamp": 1668934286474,
     "user": {
      "displayName": "구자현",
      "userId": "15477752550929484392"
     },
     "user_tz": -540
    },
    "id": "HJDRhu3TOuA_",
    "outputId": "4a9fc4bb-a577-4d56-a09a-2432de109db3"
   },
   "outputs": [
    {
     "name": "stdout",
     "output_type": "stream",
     "text": [
      "Epoch 1/10\n",
      "1875/1875 [==============================] - 4s 2ms/step - loss: 0.5021 - accuracy: 0.8229\n",
      "Epoch 2/10\n",
      "1875/1875 [==============================] - 4s 2ms/step - loss: 0.3760 - accuracy: 0.8627\n",
      "Epoch 3/10\n",
      "1875/1875 [==============================] - 4s 2ms/step - loss: 0.3358 - accuracy: 0.8777\n",
      "Epoch 4/10\n",
      "1875/1875 [==============================] - 4s 2ms/step - loss: 0.3143 - accuracy: 0.8849\n",
      "Epoch 5/10\n",
      "1875/1875 [==============================] - 5s 2ms/step - loss: 0.2951 - accuracy: 0.8912\n",
      "Epoch 6/10\n",
      "1875/1875 [==============================] - 4s 2ms/step - loss: 0.2792 - accuracy: 0.8967\n",
      "Epoch 7/10\n",
      "1875/1875 [==============================] - 4s 2ms/step - loss: 0.2700 - accuracy: 0.9001\n",
      "Epoch 8/10\n",
      "1875/1875 [==============================] - 4s 2ms/step - loss: 0.2601 - accuracy: 0.9035\n",
      "Epoch 9/10\n",
      "1875/1875 [==============================] - 4s 2ms/step - loss: 0.2472 - accuracy: 0.9085\n",
      "Epoch 10/10\n",
      "1875/1875 [==============================] - 4s 2ms/step - loss: 0.2393 - accuracy: 0.9090\n"
     ]
    },
    {
     "data": {
      "text/plain": [
       "<keras.callbacks.History at 0x7f9c61ca6550>"
      ]
     },
     "execution_count": 15,
     "metadata": {},
     "output_type": "execute_result"
    }
   ],
   "source": [
    "model.fit(train_images, train_labels, epochs=10)"
   ]
  },
  {
   "cell_type": "code",
   "execution_count": 16,
   "metadata": {
    "colab": {
     "base_uri": "https://localhost:8080/"
    },
    "executionInfo": {
     "elapsed": 706,
     "status": "ok",
     "timestamp": 1668934287177,
     "user": {
      "displayName": "구자현",
      "userId": "15477752550929484392"
     },
     "user_tz": -540
    },
    "id": "rfiRkOJTOvYc",
    "outputId": "74dd86cb-29a5-4c1f-9db6-c13322124fc1"
   },
   "outputs": [
    {
     "name": "stdout",
     "output_type": "stream",
     "text": [
      "313/313 - 1s - loss: 0.3395 - accuracy: 0.8805 - 678ms/epoch - 2ms/step\n",
      "\n",
      "Test accuracy: 0.8805000185966492\n"
     ]
    }
   ],
   "source": [
    "# 정확도 평가\n",
    "test_loss, test_acc = model.evaluate(test_images, test_labels, verbose=2)\n",
    "\n",
    "print('\\nTest accuracy:', test_acc)"
   ]
  },
  {
   "cell_type": "code",
   "execution_count": 17,
   "metadata": {
    "executionInfo": {
     "elapsed": 8,
     "status": "ok",
     "timestamp": 1668934287178,
     "user": {
      "displayName": "구자현",
      "userId": "15477752550929484392"
     },
     "user_tz": -540
    },
    "id": "0hYXTH5aOwzQ"
   },
   "outputs": [],
   "source": [
    "probability_model = tf.keras.Sequential([model, tf.keras.layers.Softmax()])"
   ]
  },
  {
   "cell_type": "code",
   "execution_count": 18,
   "metadata": {
    "colab": {
     "base_uri": "https://localhost:8080/"
    },
    "executionInfo": {
     "elapsed": 748,
     "status": "ok",
     "timestamp": 1668934287919,
     "user": {
      "displayName": "구자현",
      "userId": "15477752550929484392"
     },
     "user_tz": -540
    },
    "id": "BEvarSJlO0VM",
    "outputId": "978c490a-ce1c-4afe-d5b0-9cd180765081"
   },
   "outputs": [
    {
     "name": "stdout",
     "output_type": "stream",
     "text": [
      "313/313 [==============================] - 0s 1ms/step\n"
     ]
    }
   ],
   "source": [
    "predictions = probability_model.predict(test_images)"
   ]
  },
  {
   "cell_type": "code",
   "execution_count": 19,
   "metadata": {
    "colab": {
     "base_uri": "https://localhost:8080/"
    },
    "executionInfo": {
     "elapsed": 7,
     "status": "ok",
     "timestamp": 1668934287919,
     "user": {
      "displayName": "구자현",
      "userId": "15477752550929484392"
     },
     "user_tz": -540
    },
    "id": "KsC4n1BYO2ob",
    "outputId": "8b482f51-6beb-49fa-d677-67bdc3077547"
   },
   "outputs": [
    {
     "data": {
      "text/plain": [
       "9"
      ]
     },
     "execution_count": 19,
     "metadata": {},
     "output_type": "execute_result"
    }
   ],
   "source": [
    "np.argmax(predictions[0])"
   ]
  },
  {
   "cell_type": "code",
   "execution_count": 20,
   "metadata": {
    "colab": {
     "base_uri": "https://localhost:8080/"
    },
    "executionInfo": {
     "elapsed": 5,
     "status": "ok",
     "timestamp": 1668934287919,
     "user": {
      "displayName": "구자현",
      "userId": "15477752550929484392"
     },
     "user_tz": -540
    },
    "id": "JugiaTAXO4ZR",
    "outputId": "1dc50ac0-3aeb-4bbb-d465-66669fdbdf6c"
   },
   "outputs": [
    {
     "data": {
      "text/plain": [
       "9"
      ]
     },
     "execution_count": 20,
     "metadata": {},
     "output_type": "execute_result"
    }
   ],
   "source": [
    "test_labels[0]"
   ]
  },
  {
   "cell_type": "code",
   "execution_count": 21,
   "metadata": {
    "executionInfo": {
     "elapsed": 350,
     "status": "ok",
     "timestamp": 1668934330440,
     "user": {
      "displayName": "구자현",
      "userId": "15477752550929484392"
     },
     "user_tz": -540
    },
    "id": "Y5fI6Ez_O5bb"
   },
   "outputs": [],
   "source": [
    "def plot_image(i, predictions_array, true_label, img):\n",
    "    true_label, img = true_label[i], img[i]\n",
    "    plt.grid(False)\n",
    "    plt.xticks([])\n",
    "    plt.yticks([])\n",
    "\n",
    "    plt.imshow(img, cmap=plt.cm.binary)\n",
    "    # np.argmax()\n",
    "    # 가장 큰 원소의 index 반환\n",
    "    # 여러 개일 경우 가장 앞에 있는 index 반환\n",
    "    predicted_label = np.argmax(predictions_array)\n",
    "    if predicted_label == true_label:\n",
    "        color = 'blue'\n",
    "    else:\n",
    "        color = 'red'\n",
    "\n",
    "    plt.xlabel(\"{} {:2.0f}% ({})\".format(class_names[predicted_label], \n",
    "                                         100*np.max(predictions_array), \n",
    "                                         class_names[true_label]),\n",
    "               color=color)\n",
    "\n",
    "\n",
    "def plot_value_array(i, predictions_array, true_label):\n",
    "    true_label = true_label[i]\n",
    "    plt.grid(False)\n",
    "    plt.xticks(range(10))\n",
    "    plt.yticks([])\n",
    "    thisplot = plt.bar(range(10), predictions_array, color=\"#777777\")\n",
    "    plt.ylim([0, 1])\n",
    "    predicted_label = np.argmax(predictions_array)\n",
    "\n",
    "    thisplot[predicted_label].set_color('red')\n",
    "    thisplot[true_label].set_color('blue')"
   ]
  },
  {
   "cell_type": "code",
   "execution_count": 22,
   "metadata": {
    "colab": {
     "base_uri": "https://localhost:8080/",
     "height": 211
    },
    "executionInfo": {
     "elapsed": 422,
     "status": "ok",
     "timestamp": 1668934339418,
     "user": {
      "displayName": "구자현",
      "userId": "15477752550929484392"
     },
     "user_tz": -540
    },
    "id": "199CAZZoPOM0",
    "outputId": "6aece3ce-5ec9-441b-fb4d-c116e9bc379a"
   },
   "outputs": [
    {
     "data": {
      "image/png": "[encoded data removed]",
      "text/plain": [
       "<Figure size 432x216 with 2 Axes>"
      ]
     },
     "metadata": {
      "needs_background": "light"
     },
     "output_type": "display_data"
    }
   ],
   "source": [
    "i = 0\n",
    "plt.figure(figsize=(6,3))\n",
    "plt.subplot(1,2,1)\n",
    "plot_image(i, predictions[i], test_labels, test_images)\n",
    "plt.subplot(1,2,2)\n",
    "plot_value_array(i, predictions[i],  test_labels)\n",
    "plt.show()"
   ]
  },
  {
   "cell_type": "code",
   "execution_count": 23,
   "metadata": {
    "colab": {
     "base_uri": "https://localhost:8080/",
     "height": 211
    },
    "executionInfo": {
     "elapsed": 378,
     "status": "ok",
     "timestamp": 1668934346653,
     "user": {
      "displayName": "구자현",
      "userId": "15477752550929484392"
     },
     "user_tz": -540
    },
    "id": "WqrjfYKyPQYF",
    "outputId": "6b6e2af5-3a97-4f1b-880e-ca2b2dbba022"
   },
   "outputs": [
    {
     "data": {
      "image/png": "[encoded data removed]",
      "text/plain": [
       "<Figure size 432x216 with 2 Axes>"
      ]
     },
     "metadata": {
      "needs_background": "light"
     },
     "output_type": "display_data"
    }
   ],
   "source": [
    "i = 12\n",
    "plt.figure(figsize=(6,3))\n",
    "plt.subplot(1,2,1)\n",
    "plot_image(i, predictions[i], test_labels, test_images)\n",
    "plt.subplot(1,2,2)\n",
    "plot_value_array(i, predictions[i],  test_labels)\n",
    "plt.show()"
   ]
  },
  {
   "cell_type": "code",
   "execution_count": 24,
   "metadata": {
    "colab": {
     "base_uri": "https://localhost:8080/",
     "height": 717
    },
    "executionInfo": {
     "elapsed": 2313,
     "status": "ok",
     "timestamp": 1668934368127,
     "user": {
      "displayName": "구자현",
      "userId": "15477752550929484392"
     },
     "user_tz": -540
    },
    "id": "ZZMhVHBrPSJW",
    "outputId": "efda83ee-2b1d-4393-b439-96f2f0453635"
   },
   "outputs": [
    {
     "data": {
      "image/png": "[encoded data removed]",
      "text/plain": [
       "<Figure size 864x720 with 30 Axes>"
      ]
     },
     "metadata": {
      "needs_background": "light"
     },
     "output_type": "display_data"
    }
   ],
   "source": [
    "num_rows = 5\n",
    "num_cols = 3\n",
    "num_images = num_rows*num_cols\n",
    "plt.figure(figsize=(2*2*num_cols, 2*num_rows))\n",
    "for i in range(num_images):\n",
    "    plt.subplot(num_rows, 2*num_cols, 2*i+1)\n",
    "    plot_image(i, predictions[i], test_labels, test_images)\n",
    "    plt.subplot(num_rows, 2*num_cols, 2*i+2)\n",
    "    plot_value_array(i, predictions[i], test_labels)\n",
    "plt.tight_layout()\n",
    "plt.show()"
   ]
  },
  {
   "cell_type": "code",
   "execution_count": 25,
   "metadata": {
    "colab": {
     "base_uri": "https://localhost:8080/"
    },
    "executionInfo": {
     "elapsed": 412,
     "status": "ok",
     "timestamp": 1668934377684,
     "user": {
      "displayName": "구자현",
      "userId": "15477752550929484392"
     },
     "user_tz": -540
    },
    "id": "Zq-ZPI6XPW_6",
    "outputId": "0466cd8c-a34b-4ee2-8aaa-21149c82fe20"
   },
   "outputs": [
    {
     "name": "stdout",
     "output_type": "stream",
     "text": [
      "(28, 28)\n"
     ]
    }
   ],
   "source": [
    "img = test_images[1]\n",
    "\n",
    "print(img.shape)"
   ]
  },
  {
   "cell_type": "code",
   "execution_count": 26,
   "metadata": {
    "colab": {
     "base_uri": "https://localhost:8080/"
    },
    "executionInfo": {
     "elapsed": 4,
     "status": "ok",
     "timestamp": 1668934382320,
     "user": {
      "displayName": "구자현",
      "userId": "15477752550929484392"
     },
     "user_tz": -540
    },
    "id": "t8SqePmgPZvm",
    "outputId": "3ba4d74b-040c-44ff-ed56-b88dea134243"
   },
   "outputs": [
    {
     "name": "stdout",
     "output_type": "stream",
     "text": [
      "(1, 28, 28)\n"
     ]
    }
   ],
   "source": [
    "img = (np.expand_dims(img,0))\n",
    "\n",
    "print(img.shape)"
   ]
  },
  {
   "cell_type": "code",
   "execution_count": 27,
   "metadata": {
    "colab": {
     "base_uri": "https://localhost:8080/"
    },
    "executionInfo": {
     "elapsed": 2,
     "status": "ok",
     "timestamp": 1668934393741,
     "user": {
      "displayName": "구자현",
      "userId": "15477752550929484392"
     },
     "user_tz": -540
    },
    "id": "7oNHSq2ePbCH",
    "outputId": "8a295455-3ada-45b4-b74f-1799e308accd"
   },
   "outputs": [
    {
     "name": "stdout",
     "output_type": "stream",
     "text": [
      "1/1 [==============================] - 0s 14ms/step\n",
      "[[1.0610927e-05 5.1608452e-13 9.9867094e-01 1.0365287e-10 1.2704446e-03\n",
      "  6.4120324e-12 4.7952133e-05 8.5739804e-16 6.3145595e-09 1.3521582e-15]]\n"
     ]
    }
   ],
   "source": [
    "predictions_single = probability_model.predict(img)\n",
    "\n",
    "print(predictions_single)"
   ]
  },
  {
   "cell_type": "code",
   "execution_count": 28,
   "metadata": {
    "colab": {
     "base_uri": "https://localhost:8080/",
     "height": 300
    },
    "executionInfo": {
     "elapsed": 8,
     "status": "ok",
     "timestamp": 1668934399297,
     "user": {
      "displayName": "구자현",
      "userId": "15477752550929484392"
     },
     "user_tz": -540
    },
    "id": "N-IjNwNTPdwf",
    "outputId": "4209d8a6-0fe4-40b0-859c-cc87b5df3108"
   },
   "outputs": [
    {
     "data": {
      "image/png": "[encoded data removed]",
      "text/plain": [
       "<Figure size 432x288 with 1 Axes>"
      ]
     },
     "metadata": {
      "needs_background": "light"
     },
     "output_type": "display_data"
    }
   ],
   "source": [
    "plot_value_array(1, predictions_single[0], test_labels)\n",
    "_ = plt.xticks(range(10), class_names, rotation=45)\n",
    "plt.show()"
   ]
  },
  {
   "cell_type": "code",
   "execution_count": 29,
   "metadata": {
    "colab": {
     "base_uri": "https://localhost:8080/"
    },
    "executionInfo": {
     "elapsed": 357,
     "status": "ok",
     "timestamp": 1668934407608,
     "user": {
      "displayName": "구자현",
      "userId": "15477752550929484392"
     },
     "user_tz": -540
    },
    "id": "H9e0lY-sPfKY",
    "outputId": "79aa8e94-6b01-4981-e053-cf744bbd16a4"
   },
   "outputs": [
    {
     "data": {
      "text/plain": [
       "2"
      ]
     },
     "execution_count": 29,
     "metadata": {},
     "output_type": "execute_result"
    }
   ],
   "source": [
    "np.argmax(predictions_single[0])"
   ]
  }
 ],
 "metadata": {
  "colab": {
   "authorship_tag": "ABX9TyO2PZCQQzIpyxHMMYVLHHNl",
   "provenance": []
  },
  "kernelspec": {
   "display_name": "Python 3 (ipykernel)",
   "language": "python",
   "name": "python3"
  },
  "language_info": {
   "codemirror_mode": {
    "name": "ipython",
    "version": 3
   },
   "file_extension": ".py",
   "mimetype": "text/x-python",
   "name": "python",
   "nbconvert_exporter": "python",
   "pygments_lexer": "ipython3",
   "version": "3.9.13"
  }
 },
 "nbformat": 4,
 "nbformat_minor": 1
}
