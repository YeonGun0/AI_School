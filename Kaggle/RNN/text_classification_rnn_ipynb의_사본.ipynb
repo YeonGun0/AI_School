{
  "cells": [
    {
      "cell_type": "markdown",
      "metadata": {
        "id": "hX4n9TsbGw-f"
      },
      "source": [
        "##### Copyright 2018 The TensorFlow Authors."
      ]
    },
    {
      "cell_type": "code",
      "execution_count": null,
      "metadata": {
        "cellView": "form",
        "id": "0nbI5DtDGw-i"
      },
      "outputs": [],
      "source": [
        "#@title Licensed under the Apache License, Version 2.0 (the \"License\");\n",
        "# you may not use this file except in compliance with the License.\n",
        "# You may obtain a copy of the License at\n",
        "#\n",
        "# https://www.apache.org/licenses/LICENSE-2.0\n",
        "#\n",
        "# Unless required by applicable law or agreed to in writing, software\n",
        "# distributed under the License is distributed on an \"AS IS\" BASIS,\n",
        "# WITHOUT WARRANTIES OR CONDITIONS OF ANY KIND, either express or implied.\n",
        "# See the License for the specific language governing permissions and\n",
        "# limitations under the License."
      ]
    },
    {
      "cell_type": "markdown",
      "metadata": {
        "id": "9TnJztDZGw-n"
      },
      "source": [
        "# Text classification with an RNN"
      ]
    },
    {
      "cell_type": "markdown",
      "metadata": {
        "id": "AfN3bMR5Gw-o"
      },
      "source": [
        "<table class=\"tfo-notebook-buttons\" align=\"left\">\n",
        "  <td>\n",
        "    <a target=\"_blank\" href=\"https://www.tensorflow.org/text/tutorials/text_classification_rnn\"><img src=\"https://www.tensorflow.org/images/tf_logo_32px.png\" />View on TensorFlow.org</a>\n",
        "  </td>\n",
        "  <td>\n",
        "    <a target=\"_blank\" href=\"https://colab.research.google.com/github/tensorflow/text/blob/master/docs/tutorials/text_classification_rnn.ipynb\"><img src=\"https://www.tensorflow.org/images/colab_logo_32px.png\" />Run in Google Colab</a>\n",
        "  </td>\n",
        "  <td>\n",
        "    <a target=\"_blank\" href=\"https://github.com/tensorflow/text/blob/master/docs/tutorials/text_classification_rnn.ipynb\"><img src=\"https://www.tensorflow.org/images/GitHub-Mark-32px.png\" />View source on GitHub</a>\n",
        "  </td>\n",
        "  <td>\n",
        "    <a href=\"https://storage.googleapis.com/tensorflow_docs/text/docs/tutorials/text_classification_rnn.ipynb\"><img src=\"https://www.tensorflow.org/images/download_logo_32px.png\" />Download notebook</a>\n",
        "  </td>\n",
        "</table>"
      ]
    },
    {
      "cell_type": "markdown",
      "metadata": {
        "id": "lUWearf0Gw-p"
      },
      "source": [
        "This text classification tutorial trains a [recurrent neural network](https://developers.google.com/machine-learning/glossary/#recurrent_neural_network) on the [IMDB large movie review dataset](http://ai.stanford.edu/~amaas/data/sentiment/) for sentiment analysis."
      ]
    },
    {
      "cell_type": "markdown",
      "metadata": {
        "id": "_2VQo4bajwUU"
      },
      "source": [
        "## Setup"
      ]
    },
    {
      "cell_type": "code",
      "execution_count": 1,
      "metadata": {
        "id": "z682XYsrjkY9"
      },
      "outputs": [],
      "source": [
        "import numpy as np\n",
        "\n",
        "import tensorflow_datasets as tfds\n",
        "import tensorflow as tf\n",
        "\n",
        "tfds.disable_progress_bar()"
      ]
    },
    {
      "cell_type": "markdown",
      "metadata": {
        "id": "1rXHa-w9JZhb"
      },
      "source": [
        "Import `matplotlib` and create a helper function to plot graphs:"
      ]
    },
    {
      "cell_type": "code",
      "execution_count": 2,
      "metadata": {
        "id": "Mp1Z7P9pYRSK"
      },
      "outputs": [],
      "source": [
        "import matplotlib.pyplot as plt\n",
        "\n",
        "\n",
        "def plot_graphs(history, metric):\n",
        "  plt.plot(history.history[metric])\n",
        "  plt.plot(history.history['val_'+metric], '')\n",
        "  plt.xlabel(\"Epochs\")\n",
        "  plt.ylabel(metric)\n",
        "  plt.legend([metric, 'val_'+metric])"
      ]
    },
    {
      "cell_type": "markdown",
      "metadata": {
        "id": "pRmMubr0jrE2"
      },
      "source": [
        "## Setup input pipeline\n",
        "\n",
        "\n",
        "The IMDB large movie review dataset is a *binary classification* dataset—all the reviews have either a *positive* or *negative* sentiment.\n",
        "\n",
        "Download the dataset using [TFDS](https://www.tensorflow.org/datasets). See the [loading text tutorial](https://www.tensorflow.org/tutorials/load_data/text) for details on how to load this sort of data manually.\n"
      ]
    },
    {
      "cell_type": "markdown",
      "source": [
        "## imdb_reviews\n",
        "* 대형 영화 리뷰 데이터 세트\n",
        "* 이진 감정 분류용 데이터 세트\n",
        "* trian 25,000개\n",
        "* test 25,000개\n",
        "* unsupervised 50,000개\n",
        "* 긍정 리뷰는 1, 부정 리뷰는 0"
      ],
      "metadata": {
        "id": "KPUnhxphCqSm"
      }
    },
    {
      "cell_type": "code",
      "execution_count": 3,
      "metadata": {
        "id": "SHRwRoP2nVHX",
        "colab": {
          "base_uri": "https://localhost:8080/"
        },
        "outputId": "b90f329a-d6d3-4c3d-e208-019082b78bff"
      },
      "outputs": [
        {
          "output_type": "stream",
          "name": "stdout",
          "text": [
            "Downloading and preparing dataset 80.23 MiB (download: 80.23 MiB, generated: Unknown size, total: 80.23 MiB) to ~/tensorflow_datasets/imdb_reviews/plain_text/1.0.0...\n",
            "Dataset imdb_reviews downloaded and prepared to ~/tensorflow_datasets/imdb_reviews/plain_text/1.0.0. Subsequent calls will reuse this data.\n"
          ]
        },
        {
          "output_type": "execute_result",
          "data": {
            "text/plain": [
              "(TensorSpec(shape=(), dtype=tf.string, name=None),\n",
              " TensorSpec(shape=(), dtype=tf.int64, name=None))"
            ]
          },
          "metadata": {},
          "execution_count": 3
        }
      ],
      "source": [
        "# with_info=True -> dataset과 metadata 반환\n",
        "# as_supervised=True -> dataset을 dictionary로 반환\n",
        "# as_supervised=False -> dataset을 tensor 형태로 반환\n",
        "dataset, info = tfds.load('imdb_reviews', with_info=True,\n",
        "                          as_supervised=True)\n",
        "train_dataset, test_dataset = dataset['train'], dataset['test']\n",
        "\n",
        "train_dataset.element_spec"
      ]
    },
    {
      "cell_type": "code",
      "source": [
        "dataset"
      ],
      "metadata": {
        "colab": {
          "base_uri": "https://localhost:8080/"
        },
        "id": "Rlkm-k3hBmoy",
        "outputId": "adcb36ff-64ae-4c31-9799-94493d581c59"
      },
      "execution_count": 4,
      "outputs": [
        {
          "output_type": "execute_result",
          "data": {
            "text/plain": [
              "{Split('train'): <PrefetchDataset element_spec=(TensorSpec(shape=(), dtype=tf.string, name=None), TensorSpec(shape=(), dtype=tf.int64, name=None))>,\n",
              " Split('test'): <PrefetchDataset element_spec=(TensorSpec(shape=(), dtype=tf.string, name=None), TensorSpec(shape=(), dtype=tf.int64, name=None))>,\n",
              " Split('unsupervised'): <PrefetchDataset element_spec=(TensorSpec(shape=(), dtype=tf.string, name=None), TensorSpec(shape=(), dtype=tf.int64, name=None))>}"
            ]
          },
          "metadata": {},
          "execution_count": 4
        }
      ]
    },
    {
      "cell_type": "code",
      "source": [
        "info"
      ],
      "metadata": {
        "colab": {
          "base_uri": "https://localhost:8080/"
        },
        "id": "miCzQFKCBkvf",
        "outputId": "3468e5e1-ffeb-4d99-8cd9-5b512adb0141"
      },
      "execution_count": 5,
      "outputs": [
        {
          "output_type": "execute_result",
          "data": {
            "text/plain": [
              "tfds.core.DatasetInfo(\n",
              "    name='imdb_reviews',\n",
              "    full_name='imdb_reviews/plain_text/1.0.0',\n",
              "    description=\"\"\"\n",
              "    Large Movie Review Dataset.\n",
              "    This is a dataset for binary sentiment classification containing substantially more data than previous benchmark datasets. We provide a set of 25,000 highly polar movie reviews for training, and 25,000 for testing. There is additional unlabeled data for use as well.\n",
              "    \"\"\",\n",
              "    config_description=\"\"\"\n",
              "    Plain text\n",
              "    \"\"\",\n",
              "    homepage='http://ai.stanford.edu/~amaas/data/sentiment/',\n",
              "    data_path='~/tensorflow_datasets/imdb_reviews/plain_text/1.0.0',\n",
              "    file_format=tfrecord,\n",
              "    download_size=80.23 MiB,\n",
              "    dataset_size=129.83 MiB,\n",
              "    features=FeaturesDict({\n",
              "        'label': ClassLabel(shape=(), dtype=tf.int64, num_classes=2),\n",
              "        'text': Text(shape=(), dtype=tf.string),\n",
              "    }),\n",
              "    supervised_keys=('text', 'label'),\n",
              "    disable_shuffling=False,\n",
              "    splits={\n",
              "        'test': <SplitInfo num_examples=25000, num_shards=1>,\n",
              "        'train': <SplitInfo num_examples=25000, num_shards=1>,\n",
              "        'unsupervised': <SplitInfo num_examples=50000, num_shards=1>,\n",
              "    },\n",
              "    citation=\"\"\"@InProceedings{maas-EtAl:2011:ACL-HLT2011,\n",
              "      author    = {Maas, Andrew L.  and  Daly, Raymond E.  and  Pham, Peter T.  and  Huang, Dan  and  Ng, Andrew Y.  and  Potts, Christopher},\n",
              "      title     = {Learning Word Vectors for Sentiment Analysis},\n",
              "      booktitle = {Proceedings of the 49th Annual Meeting of the Association for Computational Linguistics: Human Language Technologies},\n",
              "      month     = {June},\n",
              "      year      = {2011},\n",
              "      address   = {Portland, Oregon, USA},\n",
              "      publisher = {Association for Computational Linguistics},\n",
              "      pages     = {142--150},\n",
              "      url       = {http://www.aclweb.org/anthology/P11-1015}\n",
              "    }\"\"\",\n",
              ")"
            ]
          },
          "metadata": {},
          "execution_count": 5
        }
      ]
    },
    {
      "cell_type": "code",
      "source": [
        "# x, y값에 대한 정보\n",
        "# x : tf.string\n",
        "# y : tf.int64\n",
        "print(train_dataset)\n",
        "print(test_dataset)"
      ],
      "metadata": {
        "colab": {
          "base_uri": "https://localhost:8080/"
        },
        "id": "gFqU5jsTBr5_",
        "outputId": "baeb8297-e683-44f9-82e9-419a5165cdfc"
      },
      "execution_count": 6,
      "outputs": [
        {
          "output_type": "stream",
          "name": "stdout",
          "text": [
            "<PrefetchDataset element_spec=(TensorSpec(shape=(), dtype=tf.string, name=None), TensorSpec(shape=(), dtype=tf.int64, name=None))>\n",
            "<PrefetchDataset element_spec=(TensorSpec(shape=(), dtype=tf.string, name=None), TensorSpec(shape=(), dtype=tf.int64, name=None))>\n"
          ]
        }
      ]
    },
    {
      "cell_type": "markdown",
      "metadata": {
        "id": "nWA4c2ir7g6p"
      },
      "source": [
        "Initially this returns a dataset of (text, label pairs):"
      ]
    },
    {
      "cell_type": "code",
      "execution_count": 11,
      "metadata": {
        "id": "vd4_BGKyurao",
        "colab": {
          "base_uri": "https://localhost:8080/"
        },
        "outputId": "395687bc-0a88-4e20-f9f6-e392a3412d3a"
      },
      "outputs": [
        {
          "output_type": "stream",
          "name": "stdout",
          "text": [
            "text:  b\"This was an absolutely terrible movie. Don't be lured in by Christopher Walken or Michael Ironside. Both are great actors, but this must simply be their worst role in history. Even their great acting could not redeem this movie's ridiculous storyline. This movie is an early nineties US propaganda piece. The most pathetic scenes were those when the Columbian rebels were making their cases for revolutions. Maria Conchita Alonso appeared phony, and her pseudo-love affair with Walken was nothing but a pathetic emotional plug in a movie that was devoid of any real meaning. I am disappointed that there are movies like this, ruining actor's like Christopher Walken's good name. I could barely sit through it.\"\n",
            "label:  0\n"
          ]
        }
      ],
      "source": [
        "# train의 x, y data\n",
        "for example, label in train_dataset.take(1):\n",
        "  print('text: ', example.numpy())\n",
        "  print('label: ', label.numpy())"
      ]
    },
    {
      "cell_type": "code",
      "source": [
        "train_dataset.take(1)"
      ],
      "metadata": {
        "colab": {
          "base_uri": "https://localhost:8080/"
        },
        "id": "vXIbevgzB438",
        "outputId": "6649f6d1-aa10-4fbb-91b3-b1f6239655d5"
      },
      "execution_count": 12,
      "outputs": [
        {
          "output_type": "execute_result",
          "data": {
            "text/plain": [
              "<TakeDataset element_spec=(TensorSpec(shape=(), dtype=tf.string, name=None), TensorSpec(shape=(), dtype=tf.int64, name=None))>"
            ]
          },
          "metadata": {},
          "execution_count": 12
        }
      ]
    },
    {
      "cell_type": "code",
      "source": [
        "for example, label in train_dataset.take(10):\n",
        "    print(example)\n",
        "    print(label)"
      ],
      "metadata": {
        "colab": {
          "base_uri": "https://localhost:8080/"
        },
        "id": "5IXP0mkvH0Ej",
        "outputId": "c4317581-f7e1-4c95-f44b-217a1f286997"
      },
      "execution_count": 13,
      "outputs": [
        {
          "output_type": "stream",
          "name": "stdout",
          "text": [
            "tf.Tensor(b\"This was an absolutely terrible movie. Don't be lured in by Christopher Walken or Michael Ironside. Both are great actors, but this must simply be their worst role in history. Even their great acting could not redeem this movie's ridiculous storyline. This movie is an early nineties US propaganda piece. The most pathetic scenes were those when the Columbian rebels were making their cases for revolutions. Maria Conchita Alonso appeared phony, and her pseudo-love affair with Walken was nothing but a pathetic emotional plug in a movie that was devoid of any real meaning. I am disappointed that there are movies like this, ruining actor's like Christopher Walken's good name. I could barely sit through it.\", shape=(), dtype=string)\n",
            "tf.Tensor(0, shape=(), dtype=int64)\n",
            "tf.Tensor(b'I have been known to fall asleep during films, but this is usually due to a combination of things including, really tired, being warm and comfortable on the sette and having just eaten a lot. However on this occasion I fell asleep because the film was rubbish. The plot development was constant. Constantly slow and boring. Things seemed to happen, but with no explanation of what was causing them or why. I admit, I may have missed part of the film, but i watched the majority of it and everything just seemed to happen of its own accord without any real concern for anything else. I cant recommend this film at all.', shape=(), dtype=string)\n",
            "tf.Tensor(0, shape=(), dtype=int64)\n",
            "tf.Tensor(b'Mann photographs the Alberta Rocky Mountains in a superb fashion, and Jimmy Stewart and Walter Brennan give enjoyable performances as they always seem to do. <br /><br />But come on Hollywood - a Mountie telling the people of Dawson City, Yukon to elect themselves a marshal (yes a marshal!) and to enforce the law themselves, then gunfighters battling it out on the streets for control of the town? <br /><br />Nothing even remotely resembling that happened on the Canadian side of the border during the Klondike gold rush. Mr. Mann and company appear to have mistaken Dawson City for Deadwood, the Canadian North for the American Wild West.<br /><br />Canadian viewers be prepared for a Reefer Madness type of enjoyable howl with this ludicrous plot, or, to shake your head in disgust.', shape=(), dtype=string)\n",
            "tf.Tensor(0, shape=(), dtype=int64)\n",
            "tf.Tensor(b'This is the kind of film for a snowy Sunday afternoon when the rest of the world can go ahead with its own business as you descend into a big arm-chair and mellow for a couple of hours. Wonderful performances from Cher and Nicolas Cage (as always) gently row the plot along. There are no rapids to cross, no dangerous waters, just a warm and witty paddle through New York life at its best. A family film in every sense and one that deserves the praise it received.', shape=(), dtype=string)\n",
            "tf.Tensor(1, shape=(), dtype=int64)\n",
            "tf.Tensor(b'As others have mentioned, all the women that go nude in this film are mostly absolutely gorgeous. The plot very ably shows the hypocrisy of the female libido. When men are around they want to be pursued, but when no \"men\" are around, they become the pursuers of a 14 year old boy. And the boy becomes a man really fast (we should all be so lucky at this age!). He then gets up the courage to pursue his true love.', shape=(), dtype=string)\n",
            "tf.Tensor(1, shape=(), dtype=int64)\n",
            "tf.Tensor(b\"This is a film which should be seen by anybody interested in, effected by, or suffering from an eating disorder. It is an amazingly accurate and sensitive portrayal of bulimia in a teenage girl, its causes and its symptoms. The girl is played by one of the most brilliant young actresses working in cinema today, Alison Lohman, who was later so spectacular in 'Where the Truth Lies'. I would recommend that this film be shown in all schools, as you will never see a better on this subject. Alison Lohman is absolutely outstanding, and one marvels at her ability to convey the anguish of a girl suffering from this compulsive disorder. If barometers tell us the air pressure, Alison Lohman tells us the emotional pressure with the same degree of accuracy. Her emotional range is so precise, each scene could be measured microscopically for its gradations of trauma, on a scale of rising hysteria and desperation which reaches unbearable intensity. Mare Winningham is the perfect choice to play her mother, and does so with immense sympathy and a range of emotions just as finely tuned as Lohman's. Together, they make a pair of sensitive emotional oscillators vibrating in resonance with one another. This film is really an astonishing achievement, and director Katt Shea should be proud of it. The only reason for not seeing it is if you are not interested in people. But even if you like nature films best, this is after all animal behaviour at the sharp edge. Bulimia is an extreme version of how a tormented soul can destroy her own body in a frenzy of despair. And if we don't sympathise with people suffering from the depths of despair, then we are dead inside.\", shape=(), dtype=string)\n",
            "tf.Tensor(1, shape=(), dtype=int64)\n",
            "tf.Tensor(b'Okay, you have:<br /><br />Penelope Keith as Miss Herringbone-Tweed, B.B.E. (Backbone of England.) She\\'s killed off in the first scene - that\\'s right, folks; this show has no backbone!<br /><br />Peter O\\'Toole as Ol\\' Colonel Cricket from The First War and now the emblazered Lord of the Manor.<br /><br />Joanna Lumley as the ensweatered Lady of the Manor, 20 years younger than the colonel and 20 years past her own prime but still glamourous (Brit spelling, not mine) enough to have a toy-boy on the side. It\\'s alright, they have Col. Cricket\\'s full knowledge and consent (they guy even comes \\'round for Christmas!) Still, she\\'s considerate of the colonel enough to have said toy-boy her own age (what a gal!)<br /><br />David McCallum as said toy-boy, equally as pointlessly glamourous as his squeeze. Pilcher couldn\\'t come up with any cover for him within the story, so she gave him a hush-hush job at the Circus.<br /><br />and finally:<br /><br />Susan Hampshire as Miss Polonia Teacups, Venerable Headmistress of the Venerable Girls\\' Boarding-School, serving tea in her office with a dash of deep, poignant advice for life in the outside world just before graduation. Her best bit of advice: \"I\\'ve only been to Nancherrow (the local Stately Home of England) once. I thought it was very beautiful but, somehow, not part of the real world.\" Well, we can\\'t say they didn\\'t warn us.<br /><br />Ah, Susan - time was, your character would have been running the whole show. They don\\'t write \\'em like that any more. Our loss, not yours.<br /><br />So - with a cast and setting like this, you have the re-makings of \"Brideshead Revisited,\" right?<br /><br />Wrong! They took these 1-dimensional supporting roles because they paid so well. After all, acting is one of the oldest temp-jobs there is (YOU name another!)<br /><br />First warning sign: lots and lots of backlighting. They get around it by shooting outdoors - \"hey, it\\'s just the sunlight!\"<br /><br />Second warning sign: Leading Lady cries a lot. When not crying, her eyes are moist. That\\'s the law of romance novels: Leading Lady is \"dewy-eyed.\"<br /><br />Henceforth, Leading Lady shall be known as L.L.<br /><br />Third warning sign: L.L. actually has stars in her eyes when she\\'s in love. Still, I\\'ll give Emily Mortimer an award just for having to act with that spotlight in her eyes (I wonder . did they use contacts?)<br /><br />And lastly, fourth warning sign: no on-screen female character is \"Mrs.\" She\\'s either \"Miss\" or \"Lady.\"<br /><br />When all was said and done, I still couldn\\'t tell you who was pursuing whom and why. I couldn\\'t even tell you what was said and done.<br /><br />To sum up: they all live through World War II without anything happening to them at all.<br /><br />OK, at the end, L.L. finds she\\'s lost her parents to the Japanese prison camps and baby sis comes home catatonic. Meanwhile (there\\'s always a \"meanwhile,\") some young guy L.L. had a crush on (when, I don\\'t know) comes home from some wartime tough spot and is found living on the street by Lady of the Manor (must be some street if SHE\\'s going to find him there.) Both war casualties are whisked away to recover at Nancherrow (SOMEBODY has to be \"whisked away\" SOMEWHERE in these romance stories!)<br /><br />Great drama.', shape=(), dtype=string)\n",
            "tf.Tensor(0, shape=(), dtype=int64)\n",
            "tf.Tensor(b'The film is based on a genuine 1950s novel.<br /><br />Journalist Colin McInnes wrote a set of three \"London novels\": \"Absolute Beginners\", \"City of Spades\" and \"Mr Love and Justice\". I have read all three. The first two are excellent. The last, perhaps an experiment that did not come off. But McInnes\\'s work is highly acclaimed; and rightly so. This musical is the novelist\\'s ultimate nightmare - to see the fruits of one\\'s mind being turned into a glitzy, badly-acted, soporific one-dimensional apology of a film that says it captures the spirit of 1950s London, and does nothing of the sort.<br /><br />Thank goodness Colin McInnes wasn\\'t alive to witness it.', shape=(), dtype=string)\n",
            "tf.Tensor(0, shape=(), dtype=int64)\n",
            "tf.Tensor(b'I really love the sexy action and sci-fi films of the sixties and its because of the actress\\'s that appeared in them. They found the sexiest women to be in these films and it didn\\'t matter if they could act (Remember \"Candy\"?). The reason I was disappointed by this film was because it wasn\\'t nostalgic enough. The story here has a European sci-fi film called \"Dragonfly\" being made and the director is fired. So the producers decide to let a young aspiring filmmaker (Jeremy Davies) to complete the picture. They\\'re is one real beautiful woman in the film who plays Dragonfly but she\\'s barely in it. Film is written and directed by Roman Coppola who uses some of his fathers exploits from his early days and puts it into the script. I wish the film could have been an homage to those early films. They could have lots of cameos by actors who appeared in them. There is one actor in this film who was popular from the sixties and its John Phillip Law (Barbarella). Gerard Depardieu, Giancarlo Giannini and Dean Stockwell appear as well. I guess I\\'m going to have to continue waiting for a director to make a good homage to the films of the sixties. If any are reading this, \"Make it as sexy as you can\"! I\\'ll be waiting!', shape=(), dtype=string)\n",
            "tf.Tensor(0, shape=(), dtype=int64)\n",
            "tf.Tensor(b'Sure, this one isn\\'t really a blockbuster, nor does it target such a position. \"Dieter\" is the first name of a quite popular German musician, who is either loved or hated for his kind of acting and thats exactly what this movie is about. It is based on the autobiography \"Dieter Bohlen\" wrote a few years ago but isn\\'t meant to be accurate on that. The movie is filled with some sexual offensive content (at least for American standard) which is either amusing (not for the other \"actors\" of course) or dumb - it depends on your individual kind of humor or on you being a \"Bohlen\"-Fan or not. Technically speaking there isn\\'t much to criticize. Speaking of me I find this movie to be an OK-movie.', shape=(), dtype=string)\n",
            "tf.Tensor(0, shape=(), dtype=int64)\n"
          ]
        }
      ]
    },
    {
      "cell_type": "code",
      "source": [
        "for example, label in train_dataset.take(5):\n",
        "    print(example.numpy())\n",
        "    print(label.numpy())"
      ],
      "metadata": {
        "colab": {
          "base_uri": "https://localhost:8080/"
        },
        "id": "sVNgg2oHKOuO",
        "outputId": "dcf02f9e-2ac6-4a39-872f-5d72ccc3db86"
      },
      "execution_count": 14,
      "outputs": [
        {
          "output_type": "stream",
          "name": "stdout",
          "text": [
            "b\"This was an absolutely terrible movie. Don't be lured in by Christopher Walken or Michael Ironside. Both are great actors, but this must simply be their worst role in history. Even their great acting could not redeem this movie's ridiculous storyline. This movie is an early nineties US propaganda piece. The most pathetic scenes were those when the Columbian rebels were making their cases for revolutions. Maria Conchita Alonso appeared phony, and her pseudo-love affair with Walken was nothing but a pathetic emotional plug in a movie that was devoid of any real meaning. I am disappointed that there are movies like this, ruining actor's like Christopher Walken's good name. I could barely sit through it.\"\n",
            "0\n",
            "b'I have been known to fall asleep during films, but this is usually due to a combination of things including, really tired, being warm and comfortable on the sette and having just eaten a lot. However on this occasion I fell asleep because the film was rubbish. The plot development was constant. Constantly slow and boring. Things seemed to happen, but with no explanation of what was causing them or why. I admit, I may have missed part of the film, but i watched the majority of it and everything just seemed to happen of its own accord without any real concern for anything else. I cant recommend this film at all.'\n",
            "0\n",
            "b'Mann photographs the Alberta Rocky Mountains in a superb fashion, and Jimmy Stewart and Walter Brennan give enjoyable performances as they always seem to do. <br /><br />But come on Hollywood - a Mountie telling the people of Dawson City, Yukon to elect themselves a marshal (yes a marshal!) and to enforce the law themselves, then gunfighters battling it out on the streets for control of the town? <br /><br />Nothing even remotely resembling that happened on the Canadian side of the border during the Klondike gold rush. Mr. Mann and company appear to have mistaken Dawson City for Deadwood, the Canadian North for the American Wild West.<br /><br />Canadian viewers be prepared for a Reefer Madness type of enjoyable howl with this ludicrous plot, or, to shake your head in disgust.'\n",
            "0\n",
            "b'This is the kind of film for a snowy Sunday afternoon when the rest of the world can go ahead with its own business as you descend into a big arm-chair and mellow for a couple of hours. Wonderful performances from Cher and Nicolas Cage (as always) gently row the plot along. There are no rapids to cross, no dangerous waters, just a warm and witty paddle through New York life at its best. A family film in every sense and one that deserves the praise it received.'\n",
            "1\n",
            "b'As others have mentioned, all the women that go nude in this film are mostly absolutely gorgeous. The plot very ably shows the hypocrisy of the female libido. When men are around they want to be pursued, but when no \"men\" are around, they become the pursuers of a 14 year old boy. And the boy becomes a man really fast (we should all be so lucky at this age!). He then gets up the courage to pursue his true love.'\n",
            "1\n"
          ]
        }
      ]
    },
    {
      "cell_type": "markdown",
      "metadata": {
        "id": "z2qVJzcEluH_"
      },
      "source": [
        "Next shuffle the data for training and create batches of these `(text, label)` pairs:"
      ]
    },
    {
      "cell_type": "markdown",
      "source": [
        "### shuffle()\n",
        "* [참고 자료](https://helloyjam.github.io/tensorflow/buffer-size-in-shuffle/)\n",
        "* [참고 자료](https://doubly8f.netlify.app/%EA%B0%9C%EB%B0%9C/2020/08/19/tf-loading-preprocessing-data/)\n",
        "* 경사 하강법은 훈련 세트에 있는 샘플이 독립적이고 동일한 분포일 때 최고의 성능 발휘\n",
        "* shuffle을 통해 train set을 독립적이고, 동일한 분포로 만듦\n",
        "\n",
        "<br>\n",
        "\n",
        "* buffer\n",
        "* 임시 저장 공간\n",
        "* A와 B가 서로 입출력을 수행하는데 있어 속도차이를 극복하기 위해 사용하는 임시 저장 공간\n",
        "\n",
        "<br>\n",
        "\n",
        "* 원본 데이터셋의 첫 아이템을 buffer_size 개수만큼 추출하여 버퍼에 채움\n",
        "* 버퍼에서 랜덤하게 하나씩 반환\n",
        "* 원본 데이터셋에서 새로운 아이템을 추출하여 비워진 버퍼 채움\n",
        "* 원본 데이터셋의 모든 아이템 사용될 때까지 반복\n",
        "* 버퍼가 비워질 때까지 계속하여 랜덤하게 아이템 반환\n",
        "\n",
        "<br>\n",
        "\n",
        "* 완벽한 셔플링 위해서 버퍼크기가 데이터셋의 크기와 동일해야 함\n",
        "* 사전에 파일이름과 label을 shuffle 해서 dataset을 만든다.\n",
        "\n",
        "<br>\n",
        "\n",
        "* prefetch\n",
        "* 학습 중, 데이터 로드시간을 줄이기 위해 미리 메모리에 적재\n",
        "* 괄호안에 얼만큼 적재시킬지에 대한 숫자 입력\n",
        "* tf.data.AUTOTUNE : 네트워크가 알아서 설정"
      ],
      "metadata": {
        "id": "k7r8koAkK0_O"
      }
    },
    {
      "cell_type": "code",
      "execution_count": 15,
      "metadata": {
        "id": "dDsCaZCDYZgm"
      },
      "outputs": [],
      "source": [
        "BUFFER_SIZE = 10000\n",
        "BATCH_SIZE = 64"
      ]
    },
    {
      "cell_type": "code",
      "source": [
        "# shuffle : 범위(buffer_size)에서 데이터를 섞어줌\n",
        "# batch : shuffle 된 범위 안에서 데이터 선정\n",
        "# prefetch : 훈련 최대 스텝시간과 데이터 추출하는데 걸리는 시간 단축\n",
        "# 데이터를 불러오고 학습하는데 시간을 단축시키는 역할"
      ],
      "metadata": {
        "id": "OZDNI0VVG54u"
      },
      "execution_count": 16,
      "outputs": []
    },
    {
      "cell_type": "code",
      "execution_count": 17,
      "metadata": {
        "id": "VznrltNOnUc5"
      },
      "outputs": [],
      "source": [
        "# shuffle : 첫 10,000개의 데이터를 buffer에 가져옴\n",
        "# batch : 10,000개 중 64개를 pick\n",
        "# prefetch : 네트워크가 알아서 임시 저장소에 쟁여둬\n",
        "train_dataset = train_dataset.shuffle(BUFFER_SIZE).batch(BATCH_SIZE).prefetch(tf.data.AUTOTUNE)\n",
        "test_dataset = test_dataset.batch(BATCH_SIZE).prefetch(tf.data.AUTOTUNE)"
      ]
    },
    {
      "cell_type": "code",
      "execution_count": 18,
      "metadata": {
        "id": "jqkvdcFv41wC",
        "colab": {
          "base_uri": "https://localhost:8080/"
        },
        "outputId": "6931affa-36e1-405d-e150-3e988d768e45"
      },
      "outputs": [
        {
          "output_type": "stream",
          "name": "stdout",
          "text": [
            "texts:  [b\"Let's just say it in simple words so that even the makers of this film might have a chance to understand: This is a very dumb film with an even dumber script, lame animation, and a story that's about as original as thumbtacks. Don't bother -- unless you need to find some way to entertain a group of mentally retarded adults or extremely slow children. They might laugh, especially if they're off their meds. There's a special kind of insult in a film this ridiculous -- not only do the filmmakers apparently think that children are brainless idiots who can be entertained with claptrap that cost approximately zero effort, but they don't even bother to break a sweat inserting a gag here and there that an adult might find amusing. This film, frankly, ticked me off royally. Shame on you for stooping so low.\"\n",
            " b'This film is a flagrant rip-off of one of the best novels of all time, Silas Marner by George Eliot.<br /><br />The details of the film shown on IMDb do give acknowledgement to the original authoress but I did not see this at the beginning of the film, only a credit at the end of it saying \"suggested by the book Silas Marner\". Suggested? It was nothing but a complete rip- off of all the essential elements of the story:<br /><br />A wronged and sad old man, an artisan, poor and lonely, has all his money stolen. One night a child wanders up to his door as her mother lies dying in the snow outside. The man takes her in and brings her up until one day the local squire (or rich politician here) demands to adopt the child. It is he who has fathered the child during an illicit affair years before. The battle then ensues as to who should have legal custody of the child.<br /><br />In this and every other aspect of the film, the story is exactly the same. In only one can I find a difference. Silas Marner had epilepsy - but perhaps that would have strained the acting abilities of Mr Martin too far. On top of that he has his hair dyed in some carrot juice concoction (presumably to make him look younger, but actually making him look more the clown that he is)! There is also the addition of meaningless jokes, that this offbeat comedian cannot resist bringing into the story which have no part in it and only detract from the profoundness of the story. Like when the child cries in the courthouse declaring she can only be happy with the man who has fathered her all these years. This is conveyed in the film by the girl applying nasal decongestant to the bridge of her nose to make her tearful!<br /><br />I am surprised that legalities and integrity within the film industry permit such a film to be made. If I was a trustee of George Eliot\\'s I would insist on reparation. If I was Steve Martin I would send the profits to that estate, or to the poor. At the very least it should be entitled Silas Marner - adapted by S Martin. Or better still removed from the archives!<br /><br />If you are interested in this story - and I hope you are - dismiss this completely and watch Silas Marner. Or read the book! The BBC made an excellent adaptation of it in the 1980\\'s.'\n",
            " b\"A powerfully wonderful movie. You are held in a death-grip once you let yourself get involved with the story. A successful dentist, Alan Johnson(Don Cheadle), is torn in a life crisis of balancing his career with his family. He notices his former college roommate Charlie Fineman(Adam Sandler)and wants to touch base. He finds that Charlie, who lost his wife and family in the 9-11 attack on America, is no longer in touch with reality...choosing to involve his mind with his favorite music from the past and video games. The former roommates rekindle their friendship and strengthen their former bond. Johnson has his friend Angela Oakhurts(Liv Tyler), a psychiatrist, to try and bring Charlie out of his grief...but it is Alan that accomplishes in getting his friend to emerge from his deep darkness. Jada Pinkett Smith plays Johnson's wife. Writer and director Mike Binder plays the role of Charlie's attorney/guardian. Also in the cast: Saffron Burrows, Donald Sutherland, Adell Modell and Robert Klein. Outstanding soundtrack featuring the likes of Bruce Springsteen, Graham Nash, Pear Jam and The Pretenders.<br /><br />NOTE: I have never been a Sandler fan; but I found him outstanding in this role. In some of the scenes, I thought out loud...why has he never been approached to play singer/songwriter Bob Dylan in a biopic.\"]\n",
            "\n",
            "labels:  [0 0 1]\n"
          ]
        }
      ],
      "source": [
        "for example, label in train_dataset.take(1):\n",
        "  print('texts: ', example.numpy()[:3])\n",
        "  print()\n",
        "  print('labels: ', label.numpy()[:3])"
      ]
    },
    {
      "cell_type": "code",
      "source": [
        "# 임시 저장소에서 하나씩 가져올 때마다 64씩 가져오는 모습 \n",
        "for example, label in train_dataset.take(1):\n",
        "  print('texts: ', len(example.numpy()))\n",
        "  print('labels: ', len(label.numpy()))"
      ],
      "metadata": {
        "colab": {
          "base_uri": "https://localhost:8080/"
        },
        "id": "JlX5Rp5W-ycz",
        "outputId": "dd90a91b-3392-40ce-cb9e-8f123b56f397"
      },
      "execution_count": 19,
      "outputs": [
        {
          "output_type": "stream",
          "name": "stdout",
          "text": [
            "texts:  64\n",
            "labels:  64\n"
          ]
        }
      ]
    },
    {
      "cell_type": "code",
      "source": [
        "for example, label in train_dataset.take(3):\n",
        "  print(\"-----new temp-----\")\n",
        "  print('texts: ', len(example.numpy()))\n",
        "  print('labels: ', len(label.numpy()))\n",
        "  print()"
      ],
      "metadata": {
        "colab": {
          "base_uri": "https://localhost:8080/"
        },
        "id": "Z1AgduOc_I32",
        "outputId": "5d55b39f-3b51-4aeb-80c4-c3eb7e0c5493"
      },
      "execution_count": 20,
      "outputs": [
        {
          "output_type": "stream",
          "name": "stdout",
          "text": [
            "-----new temp-----\n",
            "texts:  64\n",
            "labels:  64\n",
            "\n",
            "-----new temp-----\n",
            "texts:  64\n",
            "labels:  64\n",
            "\n",
            "-----new temp-----\n",
            "texts:  64\n",
            "labels:  64\n",
            "\n"
          ]
        }
      ]
    },
    {
      "cell_type": "code",
      "source": [
        "for example, label in train_dataset.take(1):\n",
        "  print('texts: ', example.numpy())\n",
        "  print()\n",
        "  print('labels: ', label.numpy())"
      ],
      "metadata": {
        "colab": {
          "base_uri": "https://localhost:8080/"
        },
        "id": "gNk8MvXQ95f8",
        "outputId": "75b10414-ec38-43b9-97d9-1b1ee77becf2"
      },
      "execution_count": 21,
      "outputs": [
        {
          "output_type": "stream",
          "name": "stdout",
          "text": [
            "texts:  [b\"Firstly I would like to point out that I only know of the show due to my younger sister always watching it. I find it the most annoying program on TV. There is nothing funny about any of the 'jokes' and the canned laughter is unbearable. The show would work much better if filmed in front of a live audience. That way the laughter would show just how 'unfunny' the show is. However I give credit to the acting talents of the young cast. It sickens me however to think that they'll look back on the show in the future and see how bad their first TV show was. The show links in well with the overall annoying voices and style of the CBBC presenters. Why the youth of today need to be shouted at so much is beyond me. That is all.\"\n",
            " b\"Wow! This film is truly awful. I can't imagine how anyone could have read this badly written script and given it the greenlight. The cast is uniformly second rate with some truly horrendous performances from virtually all of the cast. The story is disjointed, fragmented and incoherent. The telling, leaden and predictable. No wit, no charm, no humour. Not sexy in the least. The characters remain as flat as the proverbial pancake. There's also a strong current of misogyny which became increasingly hard to stomach as the film went on. When your lead (Carrell) is unfunny and unappealing it's uphill from there. Despite it's phony turn-around ending where love triumphs over lust I was left with a sick feeling in my stomach. If this is what passes for humour and social comment then we're definitely doomed.\"\n",
            " b'What is \"Cry Freedom\" like? It is simply great and unique experience about making of South Africa and how black people in that country were repressed by white people. Main character of the story is Donald Woods (Kevin Kline), chief editor of the newspaper Daily Dispatch in South Africa. Woods writes several articles, where he speaks critically about views of Steve Biko (Denzel Washington). Soon Woods meets Biko and he changes his views about him and he also begins to understand what authorities are doing to black people in South Africa (right from the top, even from the chief of police). When Biko dies in police custody, Woods decides that he have to write book about him and that no matter what he has to publish it. But Woods must escape from his country to get that book published and he must also put his family on second place, so world can find out the truth.<br /><br />Attenborough managed to make a good movie about people, with main message that black and white are the same, cause we are all people. Story leads us to South Africa and this (movie) is great way for the whole world to learn what happened in that land and I\\'m disappointed that only 3200 people rated this movie. This is movie from which we all can learn something. Although it is a bit long, this story couldn\\'t be presented in any shorter way because director wanted to show us how hard was for Woods to get that book published after death of Biko. <br /><br />Also relationship between Woods and Biko was shown great, just like families of those two people and all the problems they are going through. But sometimes sacrifices must be made (Biko\\'s death) so the truth could be reveled (Woods book).'\n",
            " b\"This is a very beautiful and almost meditative film-there is hardly any dialogue in it, apart from the narration; and the scenery and music compliment each other perfectly. I didn't at first connect the red hair of the girl and the fox until it was pointed out to me by a friend (who also has red hair!) It is almost an old fashioned type of children's films, saying that children nowadays prefer animations like Shrek or Toy Story etc-but I feel that young people should be introduced more to the beauty and wonder of nature which this film certainly does. Maybe not the best ever film of its type but certainly an excellent and relaxing view for all ages -not just children.\"\n",
            " b\"For those who think it is strictly potty humor and immaturity, you are in fact the mindless one. While the show does contain its share of potty jokes it also contains a lot of satirical material and pokes fun at social problems, racial barriers, clich\\xc3\\xa9's,stereotypes etc. You just need to read into some of her material a bit more to get it.<br /><br />What I also love is that not everything is a punchline. For those expecting a formulated joke like Friends (I LOVE friends fyi), you won't find it here. Instead Sarah uses situations and other ways to achieve her humour which is more realistic. We don't walk around in this world and have witty punchlines for everything said, which is in most comedies. Instead the Sarah Silverman Program makes it more realistic in this sense. <br /><br />So don't take it as mindless humor because it is so much more than that.\"\n",
            " b'You don\\'t need to write a script for this trashed outrage! You just sit back and watch a pair of moonshine women and guests duke each other out before a riotous audience exposure at \"The Jerry Show\"! Violent and obnoxious, this cash-in on the real Jerry Springer program reveals everything that the over-rated hyped talk show doesn\\'t show to you on the air - - unless you have a collection of uncensored videos made by the producers of \"Cops\". Even the outside world of Springerland reveals the most amateurish acting of the decade! This goes to show you that THE GONG SHOW MOVIE had a central character in a motion picture turkey. Change the channel! REJECTED<br /><br />'\n",
            " b'There\\'s been a vogue for the past few years for often-as-not ironic zombie-related films, as well as other media incarnations of the flesh- eating resurrected dead. \"Fido\" is a film that\\'s either an attempt to cash in on that, simply a manifestation of it, or both -- and it falls squarely into the category of ironic zombies. The joke here is that we get to see the walking dead in the contrasting context of a broadly stereotyped, squeaky-clean, alternate-history (we are in the wake of a great Zombie War, and the creatures are now being domesticated as slaves) version of a 1950s suburb. <br /><br />It\\'s a moderately funny concept on its own, and enough perhaps for a five-minute comedy sketch, but it can\\'t hold up a feature-film on its own. The joke that rotting corpses for servants are incongruous with this idealized version of a small town is repeated over and over again, and loses all effectiveness. The soundtrack relentlessly plays sunny tunes while zombies cannibalize bystanders. The word \"zombie\" is constantly inserted into an otherwise familiarly homey line for a cheap attempt at a laugh. <br /><br />The very broadness and artificiality of the representation of \"the nineteen fifties\" here can\\'t help but irritate me. It is so stylized, in it evidently \"Pleasantville-\"inspired way, that it is more apparent in waving markers of its 1950s-ness around than actually bearing any resemblance to anything that might have happened between 1950 and 1959. There is something obnoxiously sneering about it, as if the film is bragging emptily and thoughtlessly about how more open, down-to-Earth, and superior the 2000s are. <br /><br />Because the characters are such broad representations of pop-culture 1950s \"types,\" it\\'s difficult to develop much emotional investment in them. Each has a few character traits thrown at him or her -- Helen is obsessed with appearances, and Bill loves golf and his haunted by having had to kill his father -- but they remain quite two-dimensional. Performances within the constraints of this bad writing are fine. The best is Billy Connolly as Fido the zombie, who in the tradition of Boris Karloff in \"Frankenstein\" actually imparts character and sympathy to a lumbering green monster who cannot speak. <br /><br />There are little bits of unsubtle allegory thrown around -- to commodity fetishism, racism, classism, war paranoia, et cetera, but none of it really works on a comprehensive level, and the filmmakers don;t really stick with anything. <br /><br />Unfortunately, this film doesn\\'t really get past sticking with the flimsy joke of \"Look! Zombies in \\'Leave it to Beaver!\\'\" for a good hour- and-a-half.'\n",
            " b\"As much as I dislike saying 'me too' in response to other comments - it's completely true that the first 30 minutes of this film have nothing whatsoever to do with the endless dirge that comprises the following 90.<br /><br />Having been banned somewhere doesn't make a film watchable. Just because it doesn't resemble a Hollywood product does not make it credible.<br /><br />Worse yet, in addition to no discernible plot (other than there are lots of muddy places in Russia and many people, even very old women, drink lots of vodka) a number of visuals are so unnecessarily nauseating I'm in to my second package of Rolaids.<br /><br />As for spoilers - well, the film is so devoid of any narrative thread I couldn't write one if I tried.<br /><br />Don't waste your time or money, and don't confuse this with good Russian cinema.\"\n",
            " b\"Broadway and film actor-turned-director John Cassavetes (from Rosemary's Baby)creates a masterpiece with this 1977 film. It stars Gena Rowlands, John Cassavetes himself, Ben Gazzara, Joan Blondell, Paul Stewart, Zohra Lampert, Laura Johnson and there is a cameo by Peter Falk. The premise of the film: An aging stage and film actress (Gena Rowlands)re-evaluates her life after an obscessed fan dies in a car accident trying to get her autograph. The movie has a slow pace and a dark, moody, frightening quality. It has a 60's cinematic look and it even reminded me of Polanski's Rosemary's Baby without the supernatural horror. The fears here are the ones every successful actress has- she is getting old and she will become useless in her career. Furthermore, she feels she has lived a life that lacks any true spirituality, humanity and merit. She has lived only for her career- she has no children, doesn't do charitable deeds, etc. The gradual disintegration of her personality is the meat of this film. She is falling apart. She's in a crisis. Gena Rowlands really gets into the character's tormented psyche and acts the part quite well. She is a terrific actress and this 70's film is a refreshing contrast to the often violent films of the period and or the disaster movies or adventure thrillers. It's a movie with lots of deep-seated emotion but has a cold, cynical feeling, as if Cassavetes is criticizing the mainstream movies and actors of the 70's generation. Either that or this movie is a product of the 70's which was itself cynical in many aspects- Nixon's deception, Watergate, Vietnam, etc. Although the production values are not great, and this film is not well-known, it's a very haunting film with haunting moods. Kudos to the underrated and late director Cassavetes who died in the late 80's.\"\n",
            " b\"There is a DVD published in the UK in 2002 Code HRGD002 on the cover, no ASIN, VFC 19796 on the disk, no IFPI code in the inner rim.<br /><br />Probably a straight transfer from VHS. <br /><br />There is no much point is commenting an adult film. But this one contains a minimal plot, and the characters are believable. It was shown in the United States in normal cinemas.<br /><br />I've seen it In Pensylvannia way back in 1975.<br /><br />As such it deserves a place in an Encyclopedia of Movies. The DVD has no special features and no subtitles, and was probably made using a VHS tape as source\"\n",
            " b'For those of you unfamiliar with Jimmy Stewart, this is one of his \"lesser\" films from later in his career. And, while it isn\\'t a great film compared to many of his other pictures, it isn\\'t bad and is a decent time-passer--but not much more.<br /><br />Kim Novak is a witch in New York City and for some inexplicable reason, she decides to cast a spell on poor Jimmy to make him fall in love with her. Over time, the cold and detached Ms. Novak also begins to fall in love with Stewart--and apparently in the witch\\'s rule book, this is a definite NO, NO!! <br /><br />The film is odd in its sensibilities about the witches. They are neither the baby-sacrificing nor the all-powerful variety. Most of their magic is pretty limited and pointless (such as Jack Lemmon using his powers to turn off street lamps). And, very oddly, the witches all seem to be bohemians who hang out in hip bars where you might find people wearing berets and listening to crappy jazz. Considering what I think of jazz, it must really stink to be a witch in this movie\\'s world!<br /><br />Anyway, the film is pretty romantic and mildly comedic, but not something I would rush out to watch. The acting is pretty good, but the script doesn\\'t offer enough payoff to make this an exceptional film--in fact, I almost scored the film a 6--it was really close.'\n",
            " b'I bought this (it was only $3, ok?) under the title \"Grey Matter\". The novelty of seeing Sherriff Roscoe in a non-DukesOfHazzard role intrigued me. As the other reviewers warned, it\\'s a pretty boring tale of a top secret government experiment gone awry.<br /><br />And yes, there are plenty of establishing shots, especially of a house with a pool in front of it. Some of the characters and interiors are so nondescript I guess the filmmakers worried we might forget who is who, so they keep tipping us off by first showing the outside of the buildings. It\\'s actually kinda funny. After awhile the pool shot feels like a tv channel\\'s station identification logo, reminding us that we are watching \"Grey Matter\".<br /><br />I also enjoyed two bouts of name-calling. At one point an angry test subject taunts somebody in charge by calling her a \"Scientific b*tch!\". It\\'s just a very inadequate insult. Several scenes later a different subject lets off steam by muttering about that \"scientific b**tard!\". It just sounded very awkward to me.<br /><br />Someday this movie will disappear forever. Another decade from now it will likely be impossible to find any copies of it. Almost like it never happened.<br /><br />'\n",
            " b\"This movie is a very poor attempt to make money using a classical theme. I used to love Superman movies, but this one made me want to shoot myself. Very poor acting, outrageous special effects, and a plot equal to zero. To summarize : Superman leaves earth, because scientists discovered pieces of his home planet, some were in space (duh) , doesn't tell his girlfriend anything before leaving (duh again), takes off in a spaceship (?!?),comes back i think 5 years later, and look forward to hooking up with his girlfriend again (who is now razing his son, which son, in my humble opinion is at least 7 years old). And what about that Lex Luthor ? Trying to grow a new continent in order to sell land ? Please !!<br /><br />I vote 1 out of 10 for this movie, only because i am not allowed to vote 0. If you have anything else to do with your time, don't go to see this movie, and even if you don't have anything else to do, stay home and watch TV !\"\n",
            " b\"While I don't claim to be any sort of expert in marine life, I must say anyone with a modicum of intelligence could not possibly buy in to this notion of a whale (and not even the mother!) having a clue about revenge because it witnessed his dead mate having a forced abortion by humans! I mean, really! This is basically the whole plot. Richard Harris must have been extremely hard up for roles to have accepted this junk. This is the kind of movie that is so bad that if you paid 50 cents to see it, you would feel like demanding your money back.\"\n",
            " b\"now don't get me wrong, i do enjoy christmas movies. i love its a wonderful life and i really enjoy the versions of a christmas carol with george c. scott and alistair sim. but this particular movie is awful. i think the i love life song the ghost of christmas present sings is especially painful. albert finney sings fairly well in annie. i don't know whats wrong with him in this movie but it sounds as though someone is trying to sing through a mouthful of dead gerbils. the only thing that saved this movie for us was shutting the sound off and watching the dance numbers accompanied by the south park christmas cd.\"\n",
            " b\"***SPOILERS*** ***SPOILERS*** This is without a doubt the best film Rainer Werner Fassbinder ever made and even with the marvelous script the film is enhanced by a great performance by Hanna Schygulla. Film starts out with Maria (Schygulla) and Hermann Braun (Klaus Lowitsch) just getting married as the bombs continue to fall and Hermann is shipped out towards the waning days of the war and now Maria and her mother and sister must scrape by to survive. Maria decides to get a job as a dancer/prostitute in a club that caters to American GI's and she meets a black Army soldier named Bill (Greg Eagles) and they start to see one another on a steady basis. Maria hears that her husband Hermann has died in the war so she gets very serious with Bill. But one day while getting intimate with Bill they see Hermann at the door. He hasn't died and when he enters the room a scuffle occurs and Maria breaks a bottle over Bill's head and he dies. Hermann takes the blame and he is sentenced to a long term in jail so Maria tells him that she will succeed at something and get him out. The war has ended and Germany must rebuild and one day on a train Maria meets Karl Oswald (Ivan Desny) who is a successful businessman in textiles and she uses her charms to get a job. Maria is determined to do well and climbs the corporate ladder and becomes Karl's mistress. She tells him that she will never marry him but he is in love with her. Hermann gets out of jail but goes to Canada to try and get over everything that Maria has done since he has been locked up.<br /><br />*****SPOILER ALERT*****<br /><br />One day Karl dies and leaves Maria just about everything in his will and Maria buys her own house. Then Hermann finally comes home to his wife and they are both ready to start they're marriage even though they have been married for some time now. But Maria leaves the gas on the stove and the house explodes with both of them still in it.<br /><br />There are so many interesting things in this film that its one of those movies that can be studied and talked about to great lengths. Like in all Fassbinder films the use of color is used in a very interesting way. As the film begins the tones are brown and gray to represent war torn Germany but as Maria starts to become successful they change to bright rich colors like red and white. The rebuilding of Germany with all the sounds of construction are used as only backdrop and the film stays focused on the exploits of Maria. Fassbinder did want the sounds of rebuilding to remind us of what was going on in Germany at that time. Hanna Schygulla was never better and her performance is the key to the success of this film. With a lesser actress this would have been just another interesting film but Schygulla is so strong that her performance elevates this film to an elite status. Schygulla shows Maria as very determined and smart but at the same time she uses her beauty and femininity to get what she wants. She's not embarrassed nor does she feel guilty about this and Fassbinder wanted to show Maria as a woman who practically sells her soul to survive. Schygulla wasn't nominated for an Academy Award but she gave a great performance that will stand the test of time. Fassbinder himself appears in the film as a peddler and his own mother Lilo Pempeit plays Frau Ehmke. I have heard many things about the ending of the film and it has to do with whether Maria purposely left the gas on. Later in the bathroom she is running water over her wrist and she appears to be sad. This is only speculation and if you think I'm wrong please e-mail me. I think she was overly excited by Hermann being home and left it on by accident (Remember her putting on a dress for no reason?). Then when the will is being read to her its at that point that she learns that Hermann and Karl had become friendly without her knowledge and I think she felt that everything she had done was for nothing. Thats the reason for the bathroom scene. So when the house explodes its by accident. But I think the reason for Fassbinder having an ending like that is to show that anyone who would sell their soul has no business living. Fassbinder was fascinated by survivors but he was also incredibly passionate. In his view Maria can't have it both ways. A fascinating film.\"\n",
            " b'May and her husband go to visit their children and grandchildren. The visit is awkward because the grandchildren and \"kids\" don\\'t really seem to know each other as one might expect. The warmth that should be there is missing. After dinner, May\\'s husband says he doesn\\'t feel well, blames it on his daughter\\'s cooking, and irritably says he wants to go home. He dies that night.<br /><br />May, now a widow, is lost. She clearly did not have a passionate marriage or a very interesting one, but she had a purpose. She had someone who needed her, and even though her own needs had gone unmet for years, she had something to do with her days.<br /><br />She is depressed and unmotivated. She goes to stay with her daughter, Paula, who shortly after her mother\\'s arrival, lets her mother know that she has never felt that her mother has given much of herself at all. She lets loose with anger over her mother\\'s lack of nurturing. May seems disarmed and surprised, yet she also doesn\\'t seem to have the energy or the desire to really make it right. \"I\\'m your mother and I love you.\" What does really say? (I\\'ve heard this from my own mother way too many times and have yet to figure out what it means.) Paula is a bit (well, more than a bit) neurotic. Both women are needy, though they show it very differently.<br /><br />Paula has been involved with a friend of her son\\'s, Darren, who is a handyman working on the house owned by her son. While Paula is working during the day, May begins to have conversations and lunches with Darren. Darren is a married man who has stayed with his wife because of their autistic son, Nicky, but supposedly doesn\\'t live in the home with his wife.<br /><br />May becomes attracted to Darren because he is virile and she enjoys the connection they seem to have. Darren becomes attracted to May because she offers a kind of peace and understanding that he does not get from the other women in his life. (He also becomes too interested in money that May says she can give him to \"get away from it all,\" though he is clearly not interested in her desire to join him on such a journey. They end up sleeping together in the spare room during the day, and May enjoys fulfillment as a woman that she has not known in years, nor had ever expected to know again. As her daughter Paula had often told her that she would leave the married Darren, this becomes part of May\\'s rationalization that what she is doing is okay.<br /><br />At a writing group that Paula leads, May is introduced, rather forced to get together with a widower to whom she is not attracted. There is one scene where she has sex with the older man, who clearly can barely perform, and it truly painful and unsettling as we see the total disgust on May\\'s face as she endures the one-time ghastly liaison.<br /><br />Eventually, Paula discovers through some very graphic sketches done by her mother, that indeed her mother and Darren have been having sex.<br /><br />This film will undoubtedly be seen by many in myriad ways. Sympathies will be divided. At one point, during Paula\\'s writing group, May reveals through a short essay that she used to feel as though she hated her kids by the end of the day, and would leave for pubs after they were asleep, making sure to get back home before her husband.<br /><br />Clearly, a good mother does not think of leaving children alone while she goes off to the local pub. May, however, also had revealed earlier in the film that her husband didn\\'t like her having any friends, so she didn\\'t have any. She did what he wanted her to do. She was miserable but she put up with it because, as she said, \"it was easier.\" So, while May was not the best mother, for those inclined to have any sympathy for her, one might see May\\'s actions as the act of a woman just wanting to be sexual and to be a live for \"a few minutes\" in her lifetime. A woman who just wanted someone to listen to her, to know her as a human being, to have a friend and a lover.<br /><br />Paula, though neurotic and unhappy, perhaps has become that way because of the distant parents who raised her. Certainly, it is not difficult to understand why Paula feels completely betrayed by her mother.<br /><br />It is a well-done film, with more complexities than I have mentioned, and certainly one that will leave the viewer with many, perhaps conflicting, reactions. It is a film worth discussing and debating, and above all, worth seeing.<br /><br />One thing the film leaves us with is the horror and fear of a lonely life. No matter who is deemed \"right\" or who is deemed \\'wrong\" by each viewer, that theme of old age and loneliness, evoking a sense of dread in most of us, is inescapable.'\n",
            " b\"Picture the classic noir story lines infused with hyper-stylized black and white visuals of Frank Miller's Sin City. Then picture a dystopian, science fiction thriller, such as Steven Spielberg's Minority Report or Richard Linklater's A Scanner Darkly. An amalgamation of the above would be a suitable way of describing visionary french director Christian Volckman's bleak and atmospheric take on the future in his feature film debut. But although Volckman's work does unquestionably take reference from the aforementioned films and those similar to them, such a simplistic hybrid does not do Renaissance, Volckman's end result, justice - the film itself is a far more complex piece of work than that.<br /><br />Genre hybridity is usually a hit and miss affair, especially in a contemporary context, with the well of individuality appearing to be increasingly exhausted. As such, Renaissance is laudable as a cinematic experiment at the very least, with its unique interspersing of the gritty nihilism of the neo-noir detective thriller and the fantastic allegorical terror of the dystopian sci-fi drama, which serve to compliment each other's storytelling conventions in a strangely fitting fashion. The screenplay is a clever and intriguing one (although one gets the sense that many of the lines in the script would have been much more effective in their original french than the English translation - the film's title also becomes far more poignant) managing to stay one step ahead of its audience all the way through. Though many elements of the plot will seem quite familiar to those who frequent such science fiction thrillers, the script throws unexpected twists and turns in at exactly the right moment to keep the viewer on their toes, making for a truly compelling work.<br /><br />Volckman's film truly excels in its visual component, and the stunning black and white animation is easily the film's highlight - superbly moody and stylish, it goes to show what tremendous aesthetic effect the simple use of two shades can have. With tremendous detail paid to the composition and look of each shot, and superb use of very noir shadows and intriguing angles to accentuate the emotional tension of the scene, the film appears straight out of a Frank Miller comic, but with a twist, the end result being consistently visually sumptuous. <br /><br />The film's English rendition is also given added credence by its very fitting array of voice casting. The gruff voice of Daniel Craig is an absolutely perfect piece of casting for grim, stoic policeman Karas, and Catherine McCormack is a strong presence as the mysterious woman whose sister's disappearance he is investigating. Despite a wavering English accent, Romola Garai does great work as the frantic sister in question, and Jonathan Pryce is suitably menacing as the shady head of ominous mega-corporation Avalon. Ian Holm's reedy voice is also a strong choice as a mysterious scientist, and Holm makes a powerful impression in his brief scenes.<br /><br />All together, Renaissance boasts a visually stunning, unique and compelling futuristic thriller, just as intelligent as it is entertaining. Though the plot may seem familiar to those who frequent such fare and the occasional weak line may inhibit the film from being the moody masterpiece it set out to be, the superb animation in itself easily carries the film through its occasional qualms. For fans of either of the film's intertwined genres or the gritty graphic novels of Frank Miller, or those willing to appreciate a capably crafted, slightly less conventional take on the futuristic thriller, the film is without question worth a watch.<br /><br />-8/10\"\n",
            " b'This is a movie that demonstrates that mood and music and texture aren\\'t enough to make a good film. Sure, the viewer is treated to numerous fine scenes of Los Angeles in the thirties--I especially liked the view of the trolley approaching the tunnel, and the tram rising up the hillside--but in a sense this fine cinematography is self-defeating, because it creates a mood that \"something\\'s going to happen\"--and nothing does. The script too keeps feinting toward some plot or action or trauma--and time after time not delivering. Not even delivering the (I assume) theme of the movie, the characters\\' essential misfit. The lead actors, both too pretty for their roles, didn\\'t convey any repression or agony, and the script didn\\'t expose us to any.<br /><br />Now, Donald Sutherland? That\\'s another story. His character was so well fashioned, so perfectly played, that I wanted the camera to follow him.'\n",
            " b\"A lot of people hated this movie, but that I blame on two facts - 1 - They want it to be too much like the first couple of American Pie movies. and 2 - they are trying to take it too seriously.<br /><br />This one I found was the best one out of all six, and I absolutely love Dwight. The plot is predictable, I'll say that, but then what teen comedy ISN'T? Road Trip, Dirty Deeds etc etc, they are all incredibly predictable, but still goddamn funny! I say this is worth watching, I love it, I find it hilarious. Just don't watch it while comparing it to the first ones because it's nothing alike.<br /><br />After watching Naked Mile and this one, it became obvious that all the American Pie movies were about, and only about, the Stiflers. Which is FINE by me.<br /><br />Watch. Enjoy. Love. xD\"\n",
            " b\"The Cure uses voice over to create an intense mood. Although the VO accounts for all of the film's lines it amazingly does not take away from the visual story. The use of multiple film stocks add a lot of texture to the story. The choice of combining b & w and color worked nicely to enhance the leaps in time. The ending will make you jump despite being able to anticipate the result. I was especially enjoyed the thrill of the film's suspense. The close-ups for the love scene are also lovely and reflect a tasteful eye. The piece is quite short but accomplishes a lot. The tight editing really helps to show off what a short film can do. Worth watching more than once!\"\n",
            " b\"After having seen and loved Postal (yes, I actually loved Postal), I decided to try another Uwe Boll film and I picked out Seed because I happened to stumble on it in a local DVD-store and it's supposed to be one of his better films.<br /><br />While the first 10 to 15 minutes of the film were very promising and seemed like the beginning of a not too mainstream psychological thriller, it soon went downhill from there and eventually degraded into one of the most generic slasher films I've seen so far, including a massive amount of plot holes, unrealistic emotional responses and sub-par acting. It seems like Boll tried his best to come up with a decent plot but after a while just gave up on it. Maybe he should stick to comedy?! The few good things about this film is that he does manage to create an overall creepy atmosphere, that the special effects are better than I expected and the soundtrack does go well with the overall atmosphere, but the unbalanced pacing of this film combined with the utter generic nature thereof makes he last half hour quite tedious to watch, which ruined my experience altogether. There are a very fairly well done shocking scenes, but they seem to be there for the shock value alone. And let's not forget the camera work that was pretty nauseating at times.<br /><br />I hope Uwe Boll will one day learn what makes a good film, because between a lot of horrible films he does seem to make a decent film every now and then. Seed just isn't one of those.\"\n",
            " b\"Knights was just a beginning of a series, a pilot, one might say. The plot (I really shouldn't call it that, there wasn't any plot) wasn't logical at all and there were many mistakes, like [warning, I'm summarizing the plot]:<br /><br />In the beginning of the movie someone said that there was only a couple of those cyborgs (the bad guys) but after the climax, Nea found out that there were many many more left of them. And it was told that cyborgs were hard to kill, but after a month's training, Nea could kill them with a single blow.<br /><br />The movie was just pure kicking. I wasn't surprised at all, when I found out that the leading star was a kick boxer.<br /><br />There was ONE positive thing in the whole movie: it really gave a great deal of laughter when watching it and talking about it with my friends. I recommend watching it, if you are in need of laughter.\"\n",
            " b'I remember seeing this movie shown several years ago on the Lifetime TV network and thought it was an interesting story. Several years later I see it again and fall head over heels in love with this movie. The story behind the movie is fascinating in and of itself. The cast just makes it that much more appealing. Meryl Streep is definitely at the top of her game in this picture. She nails Mrs. Chamberlain\\'s mannerisms, the accent, and even look. She shows the pain, hurt, surprise, and anger that Lindy had to endure, and in the process it\\'s hard to remember that it ISN\\'T Lindy. In my opinion, this performance of Meryl\\'s was better than her Oscar-winning turn in \"Sophie\\'s Choice\", and should have garnered her her third Oscar. Sam Neill is perfect as Michael Chamberlain, and for some surprising reason, wasn\\'t recognized by the Academy with at least a nomination. In all, this movie only receive ONE Oscar nod (Streep\\'s for Best Actress.) However, it did receive several Australian Oscars and nominations.<br /><br />Definitely a top-rate movie: it tells a great story and you get great performances from the entire cast.'\n",
            " b\"Im gonna make this short and sweet because i don't think there is much you can really tell someone about this show who has never seen it other than its hilariously funny and unique, for me its possibly the funniest show ever.<br /><br />You have to really watch it to understand its humour and it took me a few episodes to really get into it but once your in there is no getting back out. For example the way Hydes character always wants to see his friends get in some sort of trouble the more it happens the funnier it becomes.<br /><br />Its all round classic I mean the cast, the writers, the director, its just a recipe for success. One actor i think who always gets a hard time is Ashton Kutcher but i mean he's great in this show i don't think its possible for the the character Kelso to have been played by anyone else, it takes someone very smart to play someone that stupid. All the main characters are great and it wouldn't be a worth while review if i didn't mention the stone cold fox Mila Kunis, now thats a spicy meet a ball ha ha all joking aside amazing show.\"\n",
            " b'This film is the most cult movie on metal there is. Premise: A kid gets a hold of the final recording of his favorite artist Sammy Curr who recently dies in a hotel fire. He plays it backwards and summons him back from the dead to get revenge in the name of heavy metal on those b**tardly jocks who torment him. Any fan of true metal will enjoy this movie, and if you are a metal head being tormented by jocks, play a Sammy Curr album backwards.........no wait he is fictitious, well get a hold of this movie and watch it with your fist in the air, your head banging, and the volume at 11!'\n",
            " b'I have to confess right off that I have never been a fan of Rodney Dangerfield. Indeed, from me he gets \"no respect.\" I watched this only because my wife wanted to see it, and found exactly what I expected: a stupid story without any real humour. It\\'s full of lame, crude jokes and a totally ridiculous plot revolving around a developer\\'s (Dangerfield) plans to build a ski resort in Utah that just didn\\'t capture my attention at all.<br /><br />In addition to Dangerfield the film starred a weak cast, including the likes of Andrew Dice Clay and the totally over the hill John Byner (I didn\\'t even know he was still around until I saw his name in the credits for this.)<br /><br />This truly is a Dangerfield disaster.<br /><br />2/10'\n",
            " b'Released some months before the end of the war, \"Anchors Aweigh\" is one of Gene Kelly\\'s major musical triumphs of the forties\\xc2\\x85 <br /><br />Under the direction of George Sidney, it had the benefits of a pleasant score, and\\xc2\\x97best of all\\xc2\\x97the services of Gene Kelly in his first true starring role at MGM\\xc2\\x85 The year before, in Columbia\\'s \"Cover Girl,\" he had revealed an innovative approach to dance on the screen, a light but agreeable singing voice, and considerable charm In \"Anchors Aweigh,\" although he was billed under Frank Sinatra and Kathryn Grayson, he was laying the solid groundwork for his most revealing years at MGM\\xc2\\x85 <br /><br />The film\\'s story, a kind of dry run for \"On the Town\" four years later, follows sailors Kelly and Sinatra on shore leave, spend their holiday in Hollywood, where they become involved in the affairs of an aspiring singer (Grayson) and her little nephew (Dean Stockwell).<br /><br />Grayson, it appears, has her heart set on an audition with conductor-pianist Jose Iturbi\\xc2\\x85 She gets the audition, of course; Kelly gets Grayson after some misunderstandings; and Sinatra, has forgotten to be shy, and has lost his heart to a girl from Brooklyn (Pamela Britton).<br /><br />The plot is conventional for the period but, regrettably, it now seems barely tolerable\\xc2\\x85 But there is Gene Kelly, who dominates the movie with his agreeable personality\\xc2\\x85 Perhaps he grins too much, but when is permitted to dance, the film finally lifts off the ground\\xc2\\x85 <br /><br />\"I Begged Her,\" his early song and dance with Sinatra, is amusing and slightly absurd, in which he imagines himself as a bandit chieftain in a Spanish courtyard, courting maiden Grayson with a flamboyant flamenco dance and some athletic leaps\\xc2\\x85 He also does a charming Mexican dance with little Sharon McManus in the square of a Mexican settlement in Los Angeles\\xc2\\x85<br /><br />The highlight of the movie, however, is Kelly\\'s famous dance with the cartoon character Jerry the Mouse (of \"Tom and Jerry\" fame). Delightful and innovative, it skillfully combines live action and animation in its tale of a sad mouse king who refuses to allow music in his kingdom until Kelly, a sailor in the \"Pomeranian Navy,\" wearing a striped shirt and a beret, shows him how to dance\\xc2\\x85 \"Look at me, I\\'m dancin\\'!\" says the gleeful mouse king...'\n",
            " b'Good show, very entertaining. Good marshal arts acting. Good story plot. The entire main crew did a nice job from Robert Urich, to Chuck, Norris, Jennifer Tung, and especially a BIG hand to Judson Mills. An especially fine tribute to Robert Urich, in his latter days. A GREAT ! actor who will be truly missed.'\n",
            " b'Jammin\\' the Blues is an Oscar-nominated short from 1944 that is basically 10 minutes of improvisational jazz played in one long jam. Marie Bryant sings \"The Sunny Side of the Street\" at one point for the film\\'s highlight then jitterbugs with Archie Savage to bring this most entertaining \"jam session\" to its exciting end. The director Gojn Mili was a photographer and that experience shows in some of the double exposure shots of some of the musicians that makes this one of the most innovative angles of the \\'40s. According to some notes I read one of the musicians was white and had to be filmed in silhouette in reflection of the social attitudes of the time. What a shame. Still, this most unusual film of the time is available on YouTube so if you love jazz, I suggest you seek it out there.'\n",
            " b\"...the first film I had to walk out on. And it was the cast and crew pre-screening (Not that I was involved, I hasten to add). I made it through the first hour, so I reckon I'm just qualified to comment, but that was my limit.<br /><br />Like other comments here, how did this get through any kind of QA. An accumulation of the very worst in dialogue, the epitome of wooden acting, awful casting, all wrapped together without a plot.<br /><br />Tara Fitzgerald's casting was bizarre, almost comic. She possesses the worst Russian accent in movie history.<br /><br />As I left the screening, the director and producers were drinking in a bar outside the cinema. They obviously couldn't sit through it again either.<br /><br />\"\n",
            " b'Slaughter High the tale of revenge by a nerdy guy who fell victim to one of the coolest and coldest jokes in cinema history. Unfortunately after the promising opening the flick went straight to hell. A very tedious and redundant mess with mediocre slashings and a final half hour that sucked on a whole new level of suckiness. The guy who played the nerd actually killed himself shortly after the flick was released. If you wanna rent the flick stop it after the prank and remember, choose life.'\n",
            " b'Think of this film as a Saturday morning live-action program from ages ago. Even the small tykes will find this one hard to please because it runs like molasses! I can\\'t fully understand how god awful it is to make something too typical and uninteresting, especially in the costume department! Too many warrior-wizard movies out there have used the same old plotline numerous times over, but this is mighty scarce considering its appeal to the little darlings. And who in the world would\\'ve let a topless mermaid be cast in the first place? I thought this was a \"family\" movie! MST3K, here\\'s another fine gem for your 1999 TV season!'\n",
            " b'They sell it as a horror movie, it\\'s supposed to be a thriller, but I found it pretty funny (comedy?, don\\'t think so), I laughed the whole movie I think it was because of the ridiculous acting and plot. I don\\'t blame the actors, I think they were not very good, but O.K. I think Cillian is a very good \"bad guy\" I loved his acting in Batman Beggins, and Rachel McAdams.. whoa! she\\'s a beauty, and a good actress as well, but let\\'s try to be a little objective here, the story mm mm... the direction mm mm... it lacks a lot of good suspense in fact is a really boring movie, but there\\'s one good thing tho, it\\'s a short movie, only 1 hour and 30 minutes (FOR ME IT WAS LIKE 10 MINUTES UNDER THE WATER!!!)<br /><br />I just don\\'t know why this movie is rated so high, and in rotten tomatoes, even higher, what\\'s wrong with good, rational and objective criticism?'\n",
            " b\"I mean really, how could Charles Band the head of Full Moon let a total stink-ball like DEMONICUS out. I mean it should never got the green light to begin with. The story is repetitive, the characters are weak at best, there is no real story on Tyranus other then he's a bad dude. Then they writer or director goes out his way for a bad ending. That's right a bad ending, Demonicus rises. The last survivor escapes a deadly cave in, then a picture of Chimera comes to life, cheaply I might add and chases her out. Then as she is walking home ala FUNHOUSE. A statue that has been destroyed centuries ago reappears for no reason just to collapse on top of her. I mean, that makes no sense. What the hell was Charles thinking allowing this pile of puke to be made, with four different movie companies they were that desperate for movies. They could have asked me, I had better ideas then DEMONICUS. THANKSGIVING TURKEY.\"\n",
            " b'MAKE A 0 YOU SACKS OF German STAPLES! well, when i started to watch this sack of crud, it was a Sunday afternoon, and i was just looking for stuff on show time. I was introduced to a hot naked babe, and like any guy (im a guy, the e-mail is my sisters...) i was happy. But then they threw it all to the dogs, spit on it, lit it on fire, and peed it out. You wanna know how? THE DUMB CHICK TALKED! The dialog throughout the film was just horrible. sounded like something my 2nd grade bro could wright. The violence was nice for some scenes, but some was just totally moronic. The scene in the pit were he gives the guy the knife... dumb moron! To sum it up, this is pure cinema barf drenched in the chocolate syrup known as nudity, and topped with the cherry of horrible acting as only a porn star could deliver.'\n",
            " b\"I have seen all the films directed by Robert Redford and appreciated his love of the American people and the land. In A River Runs Through It, Redford displays the lyric romanticism and visual splendor of the high Rocky Mountains of Montana as if he were a 19th century landscape painter of the ilk of Thomas Moran or Albert Bierstadt. This film makes love to the visual and the word with text by author Norman Maclean, and stunning camera work by Phillippe Rousselot (Serpent's Kiss, Reigne Margot).<br /><br />Redford's cast is perfect. Tom Skerritt is the Rev. MacLean, a man whose methods of education include fly fishing as well as the Bible, Brenda Blythen, the mother, and his sons, Craig Schaffer and Brad Pitt create a family whose interactions reflect the same problems all encounter with growing teenage sons, and later, complex young men. Both Schaffer and Pitt are totally believable as the brothers whose love of fly fishing and each other will tie them together forever. It is the relationships between men, father and sons, brothers, and their women to the outside world that grounds A River Runs Through It to a vein of storytelling that is missing in so many of Hollywood films produced in recent years.<br /><br />What makes these relationships special however, is the attention Redford gives to the language as spoken in dialogue. This is a literate script, beautiful to hear and unforgettable when coupled with the stunning Montana rivers and mountains. The words and setting are equal to performances by a cast that rises to their material. While the idea of fly fishing may seem an odd device to center a story, it is not so implausible in Redford's directorial hands. Given the material, Redford's ode to a simpler time and life is worth revisiting again and again.\"\n",
            " b\"It's been a long time since I last saw a movie this bad.. The acting is very average, the story is horribly boring, and I'm at a loss for words as to the execution. It was completely unoriginal. O, and this is as much a comedy as Clint Eastwood's a pregnant Schwarzenegger! <br /><br />One of the first scenes (the one with the television show - where the hell are you?) got it right - the cast was 80% of let's face it - forgotten actors. If they were hoping for a career relaunch, then I think it might never happen with this on their CV! The script had the potential, but neither 80% of the actors nor the director (who's an actor and clearly should stick to being an actor) pulled it off. Fred Durst was the only one who seemed better than any of the rest.<br /><br />I'm sorry, but if you ever consider watching this - I highly recommend you turn to something less traumatic, because not only it's a total loss of time, but also a weak example of what bad cinema looks like.\"\n",
            " b\"An unusual film from Ringo Lam and one that's strangely under-appreciated. The mix of fantasy kung-fu with a more realistic depiction of swords and spears being driven thru bodies is startling especially during the first ten minutes. A horseback rider get chopped in two and his waist and legs keep riding the horse. Several horses get chopped up. It's very unexpected.<br /><br />The story is very simple, Fong and his Shaolin brothers are captured by a crazed maniac general and imprisoned in the Red Lotus temple which seems to be more of a torture chamber then a temple. The General has a similarity to Kurtz in Apocalypse Now as he spouts warped philosophy and makes frightening paintings with human blood. <br /><br />The production is very impressive and the setting is bleak. Blood is everywhere. The action is very well done and mostly coherent unlike many HK action scenes from the time. Sometimes the movie veers into absurdity or the effects are cheesy but it's never bad enough to ruin the film. <br /><br />Find this one, it's one of the best HK kung fu films from the early nineties. Just remember it's not child friendly.\"\n",
            " b'The main reasons to see \"Red Eye\" are Rachel McAdams, who delivers a stellar performance, and Jayma Mays, who is wonderful as the Assistant Hotel Manager. On the other hand, Cillian Murphy overacts so badly that he becomes cartoonish. The rest of the movie is riddled with plot holes, on which I will elaborate.<br /><br />Please do not read further if you don\\'t want to know what happens!<br /><br />Here is a synopsis of the plot. Rachel McAdams\\'s character (Lisa) manages a hotel where the new hard-nosed Homeland Security Director plans to stay that night. Rachel is returning to Miami from a funeral, but fielding calls from her assistant up until the plane leaves. In the meantime, someone is stationed outside the house of her father, Joe (played by Brian Cox), ready to kill him if Cillian Murphy (Jackson) calls. All Lisa has to do is phone the hotel and move the Director\\'s suite to one where Jackson\\'s cohorts are planning to fire a guided missile (from a fishing boat) to kill the Director and his family.<br /><br />So, here are some of the plot holes or absurd coincidences:<br /><br />1. Jackson finally convinces Lisa to make the call, and in the middle, the phones in the plane lose their connection. Lisa tries to fake that she is making the call, but coincidentally, a guy across the aisle from Jackson is also making a call and starts banging his phone to indicate it is dead. Jackson catches on and grabs the phone from Lisa.<br /><br />2. At one point, Jackson head-butts Lisa and she, of course, gets knocked out...but only for 30 minutes.<br /><br />3. Jackson catches Lisa writing a note on the mirror in the (extraordinarily large) lavatory, and he bangs her around a bit. Miraculously, the only one who hears anything is an 11-year-old girl, whose word, of course, is discounted.<br /><br />4. Lisa stabs Jackson with a pen in the throat as the plane is landing, steals his cell phone, and makes a mad dash for the exit, fitting down the aisle between the seats and 18 rows of standing passengers. Despite knowing there is a passenger with a pen stuck in his throat, the flight attendants oblige Lisa by opening the door to the jet-way.<br /><br />5. OK, all those are reasonable (if not highly unlikely). But here\\'s where it gets really stupid. Lisa gets into the terminal at Miami Airport, and there is no cell phone signal (every major airport in America has great cell phone reception).<br /><br />6. She runs through the airport with Jackson in hot pursuit, and no security officers even delay them.<br /><br />7. Jackson, who lost Lisa in the Airport while the train from the gates pulled away to the terminal, has lost some of his voice from the pen in his throat, but he can still be somewhat understood. However, he doesn\\'t bother to call his man outside of Joe\\'s house. (PS: There is no train at Miami Airport, but the one they showed looked an awful lot like the Orlando Airport).<br /><br />8. Lisa steals a car and rides away. Of course this time, when she goes to make a call, the cell phone says \"low battery\" and soon shuts off (when will they stop using this inane plot device?).<br /><br />9. While the phone still said \"low battery,\" Lisa had reached her assistant just in time to save the Director and his family from the guided missile launched by the fishing boat to the window of the room on the 40th floor to which the Director had been moved. Of course, they expect us not to notice that the hotel is surrounded on 3 sides by ocean, so the missile could have probably been launched at the first suite, thereby negating the need for the whole Lisa-Jackson plot. What\\'s the story here? Was the Director\\'s original room on the 38th floor one of the only rooms in the hotel with a lousy view? Nevertheless, everyone gets out just before the missile hits.<br /><br />10. Lisa drives to Joe\\'s house to save her father only to see the killer outside. Although she runs him over (as he is shooting at her) by crashing her Jeep into the house, no one in the neighborhood seems to notice or bother to stop by.<br /><br />11. Jackson arrives at Joe\\'s house and knocks him out (we don\\'t see how...maybe another head butt). He then explains to Lisa that he didn\\'t kill dad yet because he wanted dad to see Lisa die first (Give me a break. What is this? Saturday morning cartoons?).<br /><br />12. For the rest of the movie (about 20 minutes), Jackson chases Lisa around the house, and she resourcefully fights him off. Of course a real killer (i.e. one maybe played by Jason Statham) would have done away with Lisa (or for that matter anyone who is not a trained killer) in the first 30 seconds. During the course of this chase, Jackson steps over Joe at least once without bothering to kill him.<br /><br />13. Finally, Jackson prevails, and he is about to kill Lisa when (you guessed it) he is shot by Joe.<br /><br />So, here\\'s my suggestion...tell Wes Craven to stick to horror. Or maybe he should get together with Michael Bay (who directed the equally stupid \"The Island\") and make \"Red Island.\"'\n",
            " b'This is your typical Priyadarshan movie--a bunch of loony characters out on some silly mission. His signature climax has the entire cast of the film coming together and fighting each other in some crazy moshpit over hidden money. Whether it is a winning lottery ticket in Malamaal Weekly, black money in Hera Pheri, \"kodokoo\" in Phir Hera Pheri, etc., etc., the director is becoming ridiculously predictable. Don\\'t get me wrong; as clich\\xc3\\xa9d and preposterous his movies may be, I usually end up enjoying the comedy. However, in most his previous movies there has actually been some good humor, (Hungama and Hera Pheri being noteworthy ones). Now, the hilarity of his films is fading as he is using the same formula over and over again.<br /><br />Songs are good. Tanushree Datta looks awesome. Rajpal Yadav is irritating, and Tusshar is not a whole lot better. Kunal Khemu is OK, and Sharman Joshi is the best.'\n",
            " b\"Generally I don't do minus's and if this site could i would give this movie -3 out of 10 meaning I really hated this movie. I thought Uwe Boll's alone in the dark was the worst i've seen yet but at least i gave it a 2.5 out of 10 in my opinion(Stephen Dorff shooting at nothing made me laugh so i boosted the ratings a bit). Hell if it was if compared to bloodrayne, Bloodrayne would win a Oscar for best movie if they were competing.<br /><br />Now to the plot, this movie is about the BTK killer which is fine but they've could have done better. The start looked OK but that's it I had to fast forward most of it because the death's where boring. I like killer movies and even if they suck they could still get some cool deaths. I'm not a fancy movie expert but believe me he would have shot himself if did see this. Sorry for rambling but there's nothing good to say about it, because it looks like someone took a camcorder and film this.. this.. thing of disaster. Uwe Boll your movies are no longer on my list of worst movies ever this took the cake.<br /><br />Well sorry i couldn't explain the plot(if there was one) but that was the best i could. Now if you don't mind i'm going to crawl into a corner and move back and forth and reminding me of how bad this movie scared me for life.... OK not for life\"\n",
            " b'Cliff Robertson as a scheming husband married to a rich wife delivers a razzie-worthy performance here if there ever was one; it\\'s as if director Michael Anderson kept yelling \"dial it down; think zombie, only less lively\" through his little bullhorn as he coached Robertson\\'s effort. The rest of the cast is barely better; Jennifer Agutter of LOGAN\\'S RUN fame is hardly seen in what should have been fleshed out as a pivotal role. If the quality of the acting was three times better; if some of the more gaping plot holes were filled; and if the pacing were given a shot of adrenaline, then this yawner might be brought up to a standard acceptable to the Hallmark\\\\Lifetime TV channel crowd. As is, its rating is so inexplicably high one can\\'t help thinking chronic insomniacs are using DOMINIQUE to catch a little snoozing time. Perhaps the late-night TV telemarketers are missing a major opportunity in not shilling it as such.'\n",
            " b'I saw this film a couple of weeks ago, and it\\'s been stuck in my head ever since. It stars two spellbinding characters in what is unfortunately a mediocre documentary. To get the true story of the Beales, I had to wade through all of the DVD\\'s bonus material and commentaries and search the web.<br /><br />Although the Maysles and their fans (not to mention Edith and Edie themselves) bristle at the suggestion that this film is exploitative, this is exploitation in the truest sense of the word. Very little effort is every made to explain the Beales or how they came to the condition they were in - the Maysles approach seems to be to just turn the camera on and wait for Edith and Edie to say something outrageous. The sound, even on the Criterion re-release is poor and difficult to follow. Although I appreciate this film was made somewhat early in the history of documentary film, it\\'s ironic to compare it to Geraldo Rivera\\'s (!) far superior series on the sexual abuse of mentally retarded patients at Willowbrook State School in Staten Island from 1972, four years before Grey Gardens was shot.<br /><br />To paraphrase a review in the New Yorker, there were many things Edith and Edie needed in their lives, and a documentary wasn\\'t one of them.<br /><br />As for Edith and Edie, the thing I kept thinking while watching the film was \"where the hell is their family\"? They were living in dangerous, unhealthy, unsafe conditions. How is it that Jackie O, married to one of the richest men on Earth (or the wealthy Bouvier family themselves) couldn\\'t afford to get Edith and Edie a decent home? Or at the very least hire a part-time housekeeper or caregiver to come in and keep an eye on them both? It\\'s shameful and a lasting disgrace to the entire Bouvier family.<br /><br />Although this review may sound negative I would strongly recommend Grey Gardens to anyone who enjoys documentaries. Perhaps someday someone will come along and do a documentary about this documentary - bringing in the rich backstory (and afterstory) of the Beales and the whole subsection of Hamptons society in the 1970\\'s.'\n",
            " b'I saw this film when I was 10 or 11 years old, alone in my parent\\'s basement on a Saturday night. It was being shown on \"Chiller Theatre,\" a regular fright feature that I watched religiously as a young \\'un. Now, I have seen many old horror films thanks to Chiller Theatre, but none ever stuck with me like \"Danse Macabre,\" a.k.a. \"Castle of Blood.\" I am 51 now, and only last year was I fortunate enough to locate a relatively recent, quality DVD edition of this wonderfully shudder-inducing supernatural classic, having thought I\\'d never manage to see it again. I have already watched it four more times, and cannot seem to get tired of it.<br /><br />They just don\\'t make spook films like this one anymore. Haunted catacombs and mist-enshrouded graveyards just don\\'t work as well in color as they did in black and white back in the day. Anyway, this one has Edgar Allen Poe and Barbara Steele, deliciously shadowy, cobweb-wrap\\'ed haunted castle sets, restless spirits re-enacting their deaths... and a wickedly ironic ending.<br /><br />IMO, this one\\'s right up there with Robert Wise\\'s \"The Haunting,\" \"The Innocents\" (with Deborah Kerr), and the more recent \"The Others.\"'\n",
            " b'Okay, I didn\\'t get the Purgatory thing the first time I watched this episode. It seemed like something significant was going on that I couldn\\'t put my finger on. This time those Costa Mesa fires on TV really caught my attention- and it helped that I was just writing an essay on Inferno! But let me see what HASN\\'T been discussed yet...<br /><br />A TWOP review mentioned that Tony had 7 flights of stairs to go down because of the broken elevator. Yeah, 7 is a significant number for lots of reasons, especially religious, but here\\'s one more for ya. On a hunch I consulted wikipedia, and guess what Dante divided into 7 levels? Purgatorio. Excluding ante-Purgatory and Paradise. (The stuff at the bottom of the stairs and... what Tony can\\'t get to.) <br /><br />On to the allegedly \"random\" monk-slap scene. As soon as the monks appeared, it fit perfectly in place with Tony trying to get out of Purgatory. You can tell he got worried when that Christian commercial (death, disease, and sin) came on, and he\\'s getting more and more desperate because Christian heaven is looking kinda iffy for him. By the time he meets the monks he\\'s thinking \"hey maybe these guys can help me?\" which sounds like contemplating other religions (e.g. Buddhism) and wondering if some other path could take him to \"salvation\". Not that Tony is necessarily literally thinking about becoming a Buddhist, but it appears Finnerty tried that (and messed up). That slap in the face basically tells Tony there\\'s no quick fix- as in, no, you can\\'t suddenly embrace Buddhism and get out of here. <br /><br />Tony was initially not too concerned about getting to heaven. But at the \"conference entrance\", he realizes that\\'s not going to be so easy for him. At first I saw the name vs. driver\\'s license problem as Tony having led sort of a double life, what with the killing people and sleeping around that he kept secret from most people. He feels free to have an affair with quasi-Melfi because \"he\\'s Kevin Finnerty\". He figures out that he CAN fool some people with KF\\'s cards, like hotel receptionists, but it won\\'t get him out of Purgatory. Those helicopters- the helicopters of Heaven?- are keeping track of him and everything he does.<br /><br />After reading all the theories on \"inFinnerty\", though, it seems like KF\\'s identity is a reminder of the infinite different paths Tony could\\'ve taken in his life. Possibly along with the car joke involving Infiniti\\'s that made no sense to me otherwise. Aaaand at that point my brain fizzles out.'\n",
            " b\"I've been impressed with Chavez's stance against globalisation for sometime now, but it wasn't until I saw the film at the Amsterdam documentary international film festival that I realize what he has really achieved. This film tells the story of coup/conspiracy by Venezuela's elite, the oil companies and oil loving corrupt western governments, to remove democratically elected president Chavez, and return Venezuela back to a brutal dictatorship. This film is must for anyone who believes in freedom and justice, and is also a lesson to the rest of world ! I commend the people of Venezuela for taking matter into their own hands, and saving their country from the likes of Halliburton and the Bush regime.\"\n",
            " b'\"The Hazing\" is one of them films I always wanted to see solely based on the illustrated cover image here on IMDb. Yes, that\\'s how shallow I am! I don\\'t care if ten million people call it a crap movie, the poster looks awesome so I guess I\\'ll just have to see it \\xc2\\x85 Now, \"The Hazing\" can somewhat be described like its alternate title: curious! The poster and title make it sound like a genuine horror movie set on campus and dealing with sinister initiation rites, but this movie is actually more of a crossbreed between comedy and thriller. First of all, there\\'s something very wrong with the tagline on the old VHS box I watched. It says: He had good grades, a good girl and good buddies \\xc2\\x85 until they put him through the Hazing\". That\\'s not the case, actually. Protagonist Gilbert Lewis is finally accepted by an acclaimed campus through an athletics scholarship. It takes over half the movie before we even hear about his girlfriend back home and the only \"buddy\" he has is a very nerdy Charles Martin Smith (still with hair in this film). Both of them are approached to become members of the prestigious \"Delts\" fraternity, but during their hazing exam \\xc2\\x96 in which they have to descend a mountain dressed in their tidy white undies \\xc2\\x96 Barney falls off a cliff and breaks his leg. When Lewis returns with the other frat boys, Barney froze to death already. Together they intended to keep the body frozen for five days and then claim he never returned from a weekend ski-trip. With Barney\\'s body hidden in the cafeteria freezer, Lewis has to cover for him so that Barney\\'s absence doesn\\'t look suspicious. The set-up of \"The Hazing\" is quite original and potentially innovative, but the problem here is that the execution could easily have been a lot better. The tone is too steady and too serious for a comedy movie, even a black one, but on the other hand there aren\\'t any proper attempts to build up suspense or thrills, neither. The soundtrack is cheerful and full of light-headed tunes, but that\\'s nearly not enough to make this film a comedy. Around an hour into the film, the plot also runs out of steam and idea, and the makers have no better alternative to fill up the emptiness with romantic compilations of Lewis and his outer town girlfriend biking through the countryside. I didn\\'t like the final twist, because it\\'s quite implausible and because it has been done numerous times before and after (though admittedly after). \"The Hazing\" is not a complete waste of time, but still I\\'m glad I found an ex-rental tape at a friend\\'s house instead of having to spend any money on the recently released DVD.'\n",
            " b\"I wanted to give Drawing Blood the benefit of the initial doubt. The opening moments, with a naked woman sprawled out and an painter, Diana, about to paint her and then sucking her blood to drain out so she can use it for her art, give the impression that this could be a kick-ass artsy-vampire flick. Turns out this initial impression turns out false. Oh, Troma, the mark of some kind of lack of quality: sometimes they'll offer up something that is trash but funny and with at least some competence to the junk-food craft (or, sometimes not). This is a case where it's not even a whole lot of fun to watch since its attempts at humor (i.e. the protagonist's father is an old vaudevillian who does Jimmy Durante impressions?) are weak at best, and any unintentional laughs are undercut by Sergio Lapel's bargain basement direction.<br /><br />And it's not without him trying, oh Lord no. He does try a lot, which is a big part of the problem. He and his producers had money for lights, sure, but the way they're used in the movie made I, a former student filmmaker and aspiring director, sulking in my seat: if I saw this in a theater I would have to blind my eyes in many instances, and would wonder whether or not his DP understood really the basic 3-point lighting set-up. While this, along with a very lackluster sound design (or just lots of random loud humming like in the art gallery scene), shouldn't be something that comes to attention during a Troma release, it should be something *basic* that a filmmaker can tackle even if the script isn't very funny or scary (and it isn't) or if Lapel does a weird mixture of songs placed at bizarre moments.<br /><br />It's not a good movie by any stretch, and perhaps if you're a vampire die-hard (or just a vampire period) it might have some appeal as a low-rent bargain basement alternative to Near Dark, or as a slight improvement over, say, 1972's Blood Freak. You have better ways to waste your time, overall.\"\n",
            " b\"I didn't know it was possible to release a movie this bad. The labeling sounded so promising, but you would think that with a cast of 20, at least one of them would be able to act. My wife left me and went to bed after the first 20 minutes. She made a wise decision.\"\n",
            " b'This is a bad B movie masquerading as a mockumentary. The porn documentary filmmaker in the movie has almost as much screen time and dialog as any other character. That completely destroyed any \"documentary feel\" that they may have wanted to create.<br /><br />The fact that the film is not actually a mockumentary is the least of it\\'s problems. The film is not funny. The film is not sexy. The film doesn\\'t have anything insightful to say about the porn business. It\\'s not even particularly salacious. While there\\'s simulated sex, the amount of nudity is mild for an R rated film.<br /><br />Someday, someone will make a good mockumentary about the porn industry. This is not it.'\n",
            " b\"I saw this movie with my dad. I must have been pretty young, around 15. It was on Star Movies one afternoon.The movie started a bit vaguely, but you could tell those robbers were gathering up for a score. It really caught pace after the first half hour.<br /><br />All the actors are great, especially Blades and Lou Diamond. I Guess it's the ensemble, they just play so well together. I can watch this film anytime.I think it is the relative stupidity of the plot and the characters trying to deal with a very weird score. The jokes are not corny but they are subtle and extreme at the same time that make them so hilarious.<br /><br />A perfect comedy for a lazy afternoon.\"\n",
            " b'As soon as it hits a screen, it destroys all intelligent life forms around ! But on behalf of its producers I must say it doesn\\'t fall into any known movie category, it deserves a brand new denomination of its own ! It\\'s a \"Neurological drama\" ! It saddens and depresses every single neuron inside a person\\'s brain.<br /><br />It\\'s the closest thing one will ever get to a stroke without actually suffering one. It drives you speechless, all you members go numb, your mouth falls open and remains so, and the most strange symptom of all is that you get yourself wishing to go blind and deaf.<br /><br />No small feat for such a sort of a \"movie\".<br /><br />The only word that comes to my mind just having finished my ordeal is OUTRAGE !!!!!!'\n",
            " b'This film appears to draw a borderline - on one side, those who love it, on the other, those who find it unbearable.<br /><br />To begin with, there is an awful lot of comedy in this film that many viewers are not \"getting\". Of course jet Li\\'s Mask looks like Bruce Lee\\'s Kato - he\\'s supposed to, it\\'s a joke. The guy who has a time-bomb sewn to his heart - outrageous? of course, it\\'s a joke! Some readers will probably ask, if this film is supposed to be so funny, why all the excessive and gory violence? well, for one thing the tolerance for this level of violence is actually different, from culture to culture; and while Hong Kong audiences would recognize this violence is extreme, it\\'s certainly only slightly more than average for a HK action film.<br /><br />Also, Black Mask is really the kind of film that takes a genre\\'s conventions and pushes them to extremes, simply because the conventions themselves are wholly unrealistic. After decades of watching people get shot without any noticeable open wounds, many people were horrified to see Bonnie and Clyde and the outlaws of the Wild Bunch spurting blood all over the place. But the fact is, when you\\'re shot with rapid metal projectile, it\\'s almost certain that blood will spurt, especially from an artery.<br /><br />This film is a Chinese comic book movie. It is true that the Spiderman films never get this gory - but if they were faithful to reality, they would be! Well, despite its comic-book origins, this film is faithful to reality.<br /><br />The only complaint I have is the flashy, over-stylized filming and editing. If the makers of this film had shot it with an eye to Hollywood-style nostalgia (as, e.g., The Rocketeer, or the recent Sky captain film), I doubt anyone would have found it offensive.<br /><br />But as it stands, I still had a lotta fun watching this movie.'\n",
            " b'This movie started out with some semblance of a plot, then abandoned it for an endless series of random characters and encounters that have nothing to do with moving the story forward. It was impossible to remain engaged with this film. This movie is a very cynical pile of garbage made by some people with animation skills but totally lacking in creativity or storytelling ability. It is a shockingly bad effort coming from a major studio. Clearly there are morale and motivation problems at Disney, not to mention a complete lack of oversight and quality control. That management allowed this movie to see the light of day speaks volumes about their incompetence and desperation. This movie joins my very short \"worst movies of all time\" list.'\n",
            " b'I may not be a critic, but here is what I think of this movie. Well just watched the movie on cinemax and first of all I just have to say how much I hate the storyline I mean come on what does a snowman scare besides little kids, secondly it is pretty gory but I bet since the movie is so low budget they probably used ketchup so MY CRITICAL VOTE IS BOMB!!! nice try and the sequel will suck twice as much.'\n",
            " b\"I stumbled upon this movie on cable and was totally hooked. The story of a group of surfers who ride the big waves, waves that are monstrously huge, waves that would make any rational person run away in terror is a one that manages to be spectacular and make you understand why people spend their lives chasing waves. There is nothing special about the film, other than it brings together some very interesting people who are are in love with what they do and lets them talk. Sure there are scenes of them surfing, but what makes this movie so special is the people. Here are a bunch of guys who are so enthusiastic about what they do that it crosses over to the people watching. Half way into this movie you'll want to go off and learn to surf as well. Few documentaries have ever managed to covey the passion that these people have and its the films ability to make us feel it that makes this a great film. See it.\"\n",
            " b\"There are a number of problems with this movie, but the bottom line is that it tried to do too much with too little. The base story is quite good, but the money just wasn't there to do the story justice. The non-existent budget really killed this movie. Stuart Gordon (the writer/director) has writing credit on 'Honey, I Shrunk the Kids', which was a box office smash. However, that movie had some serious cash backing from Disney. Honestly, this is a good example of when to not make a movie. Had he waited a few more years, technology would have made it cheaper to do many of the effects. (not to mention he could have found a company with money.)\"\n",
            " b\"What ever possessed Martin Scorcese to remake this film? And not only did he remake it, completely ruin it? The nonsensical decision to make the character played by Robert DeNiro (in his most overdone performance, and that's saying a lot) into a religious fanatic is ridiculous, and exemplary of attitudes harbored by Hollywood (and Mr. Scorcese especially)- attitudes that compel writers to think that the best way to make a character insane is to tattoo a crucifix on his back. In any case, this movie is awful. <br /><br />\"\n",
            " b'I love Morgan Freeman. Paz Vega is an attractive, appealing and talented actress. I\\'m sure that this would have been a good movie had anything happened in it. Nothing does. It\\'s short (less than 90 minutes). It was 75 minutes too long. After an hour of frustration, I scanned through the remaining 20-odd minutes. Excruciating.<br /><br />Freeman plays an actor - who hasn\\'t worked in a while - researching a part that he might play, as a checkout clerk in a supermarket. He visits the supermarket where she works. Nothing happens. She decides to give him a ride home and they go to an Arby\\'s, a Target, a car wash. Nothing happens. They converse about their lives. Nothing happens. Ever.<br /><br />I don\\'t get it. But I also don\\'t get the Bill Murray flicks \"Lost In Translation\" and \"Broken Flowers\". If you like those movies, maybe you\\'ll like this. Lots of people find movies like this whimsical, charming, or - for reasons that escape me - find the dialog fascinating. A common device in movies of this ilk is to have a LONG take of stillness/silence after an actor delivers a line that\\'s supposed to be meaningful. We know it\\'s meaningful because it\\'s followed by two minutes of nothing on the screen. Sorry, I must be a philistine. I don\\'t get it. To me, these kinds of movies aren\\'t funny, or charming, or thought-provoking. They\\'re just boring. Why? Because there\\'s no comedy. No drama. No tension. No laughs. No suspense. No action. Nothing to watch. In short, none of the things I go to the movies for. I can be bored for free. I see oddball/quirky characters in real life. I go to Target, and fast-food restaurants, and car-washes. These elements do not a movie make, even if stars are doing this stuff. I pay to be entertained.<br /><br />If you\\'re crazy about Morgan Freeman and just like to hear him ramble on about nothing, have fun. If you wanna drool over Paz Vega, you can look and listen to her. But nothing happens, I promise. A total snoozefest.'\n",
            " b'Wilson (Erica Gavin) is nabbed by the cops and sent to prison in this slick and amusing example of prime 70\\'s exploitation, marking the directing debut of Jonathan Demme. After writing and producing a few of mentor Roger Cormans\\' New World films, Demme was afforded the opportunity to direct for the first time, and he delivers a movie that not only delivers the expected and tasty doses of nudity and violence, but has an appealing tongue-in-cheek quality to it as well; it\\'s often as funny as it is flashy.<br /><br />Standout scenes include a lewd and crude vaudeville style act performed for the prisoners, as well as a potent dream / fantasy sequence for uptight and obviously very repressed Superintendent McQueen (horror icon Barbara Steele, doing a marvelous turn in this antagonistic role). I also enjoyed a bank robbery scene gone haywire and a carjacking scene that was simply uproarious. As in other movies of this kind, it\\'s also commendable that it\\'s as much a portrait of female empowerment as it is pure exploitation. These women are tough, they take no garbage from anybody, and they\\'re more than capable of handling themselves.<br /><br />Our attractive cast here makes the most of their roles: Juanita Brown as the aggressive Maggie, Roberta Collins as the sassy Belle, Rainbeaux Smith as the cute and timid Lavelle, Gavin as the wide-eyed newcomer, and Lynda Gold (a.k.a. Crystin Sinclaire) in a bright appearance as an accomplice on the outside.<br /><br />As our climax plays out, Demme comes up with a tense \"beat the clock\" finish as our heroines race to save Belle from being lobotomized by predatory Dr. Randolph (Warren Miller), the type of man who thinks nothing of taking advantage of women.<br /><br />Bouncing along to John Cales\\' flavorful score, \"Caged Heat\" is upbeat entertainment and a guaranteed good time.<br /><br />8/10'\n",
            " b\"A bit quirky and bordering bad taste; but intelligent enough to be worthy of watching. A wheelchair-bound young woman Jane Hatchard(Helena Bonham Carter)is teamed with a reluctant caregiver, Richard(Kenneth Branagh). Richard is an artist that daydreams of human flight. He builds an airplane in his garage and intends to fly it. He wants to resurrect his own troubled life by taking care of the independent, dying Jane, who suffers from an neurological disease that has all but left her speechless and very little motor skills. Wheelchair-bound and full of spirit, her last dying wish is to loose her virginity. She offers herself to Richard, who won't help her directly; but is willing to rob a bank in order to pay a gigolo to do the deed. I found this flick ambitious and humorous. Even in this role, Carter has a certain charisma and likability.\"\n",
            " b\"Come on, let's get real. The Knights of Christ, Ordo Templi, or the Knights Templar as they are more commonly called did not even exist until the early 12th century. The story is so laughable that it's pathetic. Dolph Lundgren just looked positively bored. And besides, if you wanted to have a real-life Templar, why not just use the Knights of Christ, who are still in existence in Portugal. At least they should have taken history into account. The only redeeming quality I could find in this movie was that the artifacts looked authentic enough to pass for medieval or Gothic period pieces. The acting was bad, the storyline appalling, the action horrible, and the props were okay.\"\n",
            " b'Alright, I have to admit that I have never seen \"Rhoda\" and only one or two episodes of \"The Mary Tyler Moore Show.\" Even though I don\\'t know anything about this duo of comedic talent, I still liked this movie a lot.<br /><br />Mary goes back to work. Rose tries her luck at being a comedian. Rhoda struggles with a photography career. And Meredith...what exactly does she do again? These three stories that we follow over two hours are amusing and entertaining in their own way. When the two long time friends reunite, it only makes the film better. <br /><br />I was surprised about how good the writing was. The little jokes thrown in by Mary and Rhoda were funny. The script itself was very well put together.<br /><br />I had seen Moore and Harper in other movies over the past few years and thought that they were very good. But I had no idea that they worked this well as a team. While both actresses do their share to fulfill the title of this movie, they never seem to let me down. (During the run of this movie.) Joie Lenz and Marisa Ryan play their roles okay but nothing great. The rest of the cast like Jonah, Cecile and....everybody else also works well together.<br /><br />Being that this is a reunion, you would expect for a fan of either show to enjoy this. From a non-fan I still enjoyed this little get-together. Good story lines for each character and the two main characters is what makes this film very good. (The newer version of the MTM theme song doesn\\'t hurt either.)']\n",
            "\n",
            "labels:  [0 0 1 1 1 0 0 0 1 0 1 0 0 0 0 1 1 1 0 1 1 0 0 1 1 1 0 1 1 1 0 0 0 0 0 0 1\n",
            " 0 1 0 0 0 0 1 1 1 1 0 0 0 0 1 0 1 0 0 1 0 0 0 1 1 0 1]\n"
          ]
        }
      ]
    },
    {
      "cell_type": "markdown",
      "metadata": {
        "id": "s5eWCo88voPY"
      },
      "source": [
        "## Create the text encoder"
      ]
    },
    {
      "cell_type": "markdown",
      "metadata": {
        "id": "TFevcItw15P_"
      },
      "source": [
        "The raw text loaded by `tfds` needs to be processed before it can be used in a model. The simplest way to process text for training is using the `TextVectorization` layer. This layer has many capabilities, but this tutorial sticks to the default behavior.\n",
        "\n",
        "Create the layer, and pass the dataset's text to the layer's `.adapt` method:"
      ]
    },
    {
      "cell_type": "markdown",
      "source": [
        "### TextVectorization\n",
        "* [공식 문서](https://www.tensorflow.org/api_docs/python/tf/keras/layers/TextVectorization#adapt)\n",
        "* [참고 자료](https://dodonam.tistory.com/188)\n",
        "* 텍스트 데이터를 벡터화 하는 내장 함수\n",
        "    * 파라미터\n",
        "        * `max_tokens`\n",
        "            * 전체 단어 사전 크기\n"
      ],
      "metadata": {
        "id": "0r6BVYQV_7uX"
      }
    },
    {
      "cell_type": "code",
      "source": [
        "train_dataset.map(lambda text, label: text)"
      ],
      "metadata": {
        "colab": {
          "base_uri": "https://localhost:8080/"
        },
        "id": "_MinU3qQA_SC",
        "outputId": "d339af40-a379-4f33-dc10-e806af1197d4"
      },
      "execution_count": 22,
      "outputs": [
        {
          "output_type": "execute_result",
          "data": {
            "text/plain": [
              "<MapDataset element_spec=TensorSpec(shape=(None,), dtype=tf.string, name=None)>"
            ]
          },
          "metadata": {},
          "execution_count": 22
        }
      ]
    },
    {
      "cell_type": "code",
      "execution_count": 23,
      "metadata": {
        "id": "uC25Lu1Yvuqy"
      },
      "outputs": [],
      "source": [
        "# 단어 행렬의 열 개수를 1,000개로 제한\n",
        "# 최대 단어 수\n",
        "VOCAB_SIZE = 1000\n",
        "encoder = tf.keras.layers.TextVectorization(\n",
        "    max_tokens=VOCAB_SIZE)\n",
        "\n",
        "# 단어 사전을 만들기 위해서 text만 필요, label은 필요하지 않음\n",
        "# lambda text, label: text\n",
        "# text만 가져옴\n",
        "encoder.adapt(train_dataset.map(lambda text, label: text))"
      ]
    },
    {
      "cell_type": "markdown",
      "metadata": {
        "id": "IuQzVBbe3Ldu"
      },
      "source": [
        "The `.adapt` method sets the layer's vocabulary. Here are the first 20 tokens. After the padding and unknown tokens they're sorted by frequency: "
      ]
    },
    {
      "cell_type": "code",
      "execution_count": 24,
      "metadata": {
        "id": "tBoyjjWg0Ac9",
        "colab": {
          "base_uri": "https://localhost:8080/"
        },
        "outputId": "f975d9be-e15e-43aa-cafe-effbbe7ae5da"
      },
      "outputs": [
        {
          "output_type": "execute_result",
          "data": {
            "text/plain": [
              "array(['', '[UNK]', 'the', 'and', 'a', 'of', 'to', 'is', 'in', 'it', 'i',\n",
              "       'this', 'that', 'br', 'was', 'as', 'for', 'with', 'movie', 'but'],\n",
              "      dtype='<U14')"
            ]
          },
          "metadata": {},
          "execution_count": 24
        }
      ],
      "source": [
        "# [UNK], unknown : 단어장에 없는 단어\n",
        "vocab = np.array(encoder.get_vocabulary())\n",
        "vocab[:20]"
      ]
    },
    {
      "cell_type": "code",
      "source": [
        "# 단어 개수\n",
        "len(vocab)"
      ],
      "metadata": {
        "colab": {
          "base_uri": "https://localhost:8080/"
        },
        "id": "0N_lLspeCdrU",
        "outputId": "50d75092-7103-46e7-81a1-2a12d4ddac87"
      },
      "execution_count": 25,
      "outputs": [
        {
          "output_type": "execute_result",
          "data": {
            "text/plain": [
              "1000"
            ]
          },
          "metadata": {},
          "execution_count": 25
        }
      ]
    },
    {
      "cell_type": "code",
      "source": [
        "# 추출된 단어들\n",
        "vocab"
      ],
      "metadata": {
        "colab": {
          "base_uri": "https://localhost:8080/"
        },
        "id": "pFVjJOiu_pIA",
        "outputId": "ee47f9f0-9528-477d-b1a8-cc6c3cb26b07"
      },
      "execution_count": 26,
      "outputs": [
        {
          "output_type": "execute_result",
          "data": {
            "text/plain": [
              "array(['', '[UNK]', 'the', 'and', 'a', 'of', 'to', 'is', 'in', 'it', 'i',\n",
              "       'this', 'that', 'br', 'was', 'as', 'for', 'with', 'movie', 'but',\n",
              "       'film', 'on', 'not', 'you', 'are', 'his', 'have', 'he', 'be',\n",
              "       'one', 'its', 'at', 'all', 'by', 'an', 'they', 'from', 'who', 'so',\n",
              "       'like', 'her', 'just', 'or', 'about', 'has', 'if', 'out', 'some',\n",
              "       'there', 'what', 'good', 'when', 'more', 'very', 'even', 'she',\n",
              "       'my', 'no', 'up', 'would', 'which', 'only', 'time', 'really',\n",
              "       'story', 'their', 'were', 'had', 'see', 'can', 'me', 'than', 'we',\n",
              "       'much', 'well', 'been', 'get', 'will', 'into', 'also', 'because',\n",
              "       'other', 'do', 'people', 'bad', 'great', 'first', 'how', 'most',\n",
              "       'him', 'dont', 'made', 'then', 'movies', 'make', 'films', 'could',\n",
              "       'way', 'them', 'any', 'too', 'after', 'characters', 'think',\n",
              "       'watch', 'two', 'many', 'being', 'seen', 'character', 'never',\n",
              "       'little', 'acting', 'where', 'plot', 'best', 'love', 'did', 'know',\n",
              "       'life', 'show', 'does', 'ever', 'your', 'still', 'better', 'over',\n",
              "       'off', 'these', 'end', 'say', 'while', 'here', 'man', 'why',\n",
              "       'scene', 'such', 'scenes', 'go', 'should', 'something', 'through',\n",
              "       'im', 'back', 'those', 'doesnt', 'real', 'watching', 'years',\n",
              "       'though', 'now', 'thing', 'actors', 'didnt', 'another', 'new',\n",
              "       'before', 'actually', 'nothing', 'makes', 'find', 'work', 'funny',\n",
              "       'look', 'few', 'old', 'going', 'same', 'every', 'lot', 'us',\n",
              "       'part', 'director', 'again', 'thats', 'cant', 'quite', 'cast',\n",
              "       'want', 'pretty', 'things', 'seems', 'young', 'got', 'around',\n",
              "       'fact', 'however', 'down', 'world', 'take', 'enough', 'both',\n",
              "       'give', 'between', 'may', 'ive', 'big', 'horror', 'original',\n",
              "       'thought', 'own', 'without', 'gets', 'always', 'series', 'right',\n",
              "       'long', 'isnt', 'saw', 'come', 'almost', 'times', 'least',\n",
              "       'theres', 'role', 'point', 'action', 'must', 'interesting',\n",
              "       'whole', 'comedy', 'bit', 'family', 'music', 'done', 'script',\n",
              "       'last', 'might', 'hes', 'anything', 'guy', 'since', 'feel',\n",
              "       'minutes', 'far', 'probably', 'performance', 'am', 'kind',\n",
              "       'rather', 'worst', 'yet', 'away', 'sure', 'tv', 'making', 'woman',\n",
              "       'girl', 'each', 'found', 'fun', 'played', 'having', 'anyone',\n",
              "       'our', 'although', 'believe', 'comes', 'trying', 'course',\n",
              "       'especially', 'goes', 'day', 'looks', 'hard', 'shows', 'put',\n",
              "       'different', 'wasnt', 'place', 'maybe', 'book', 'once', 'set',\n",
              "       'main', 'reason', 'money', 'worth', 'sense', 'everything',\n",
              "       'looking', 'true', 'ending', 'someone', 'watched', 'plays', 'job',\n",
              "       '2', 'actor', 'seem', 'three', 'said', 'takes', 'screen', 'dvd',\n",
              "       'together', 'play', 'instead', 'john', 'during', 'beautiful',\n",
              "       'later', '10', 'effects', 'himself', 'everyone', 'version', 'left',\n",
              "       'seeing', 'special', 'audience', 'night', 'excellent', 'house',\n",
              "       'american', 'idea', 'simply', 'nice', 'wife', 'shot', 'youre',\n",
              "       'read', 'high', 'black', 'less', 'completely', 'second', 'kids',\n",
              "       'help', 'else', 'poor', 'fan', 'war', 'star', 'used', 'given',\n",
              "       'year', 'try', 'father', 'death', 'friends', 'need', 'use', 'rest',\n",
              "       'enjoy', 'home', 'men', 'performances', 'short', 'mind', 'classic',\n",
              "       'until', 'either', 'truly', 'along', 'hollywood', 'boring', 'half',\n",
              "       'dead', 'wrong', 'tell', 'production', 'women', 'line', 'remember',\n",
              "       'couple', 'came', 'next', 'recommend', 'start', 'perhaps', 'full',\n",
              "       'let', 'understand', 'wonderful', 'stupid', 'getting', 'others',\n",
              "       'mean', 'moments', 'playing', 'awful', 'keep', 'episode',\n",
              "       'terrible', 'camera', 'small', 'definitely', 'gives', 'often',\n",
              "       'stars', 'doing', 'sex', 'video', 'early', 'perfect', 'become',\n",
              "       'finally', 'name', 'felt', 'school', 'human', 'supposed', 'face',\n",
              "       'couldnt', 'liked', 'lines', 'dialogue', 'piece', 'person',\n",
              "       'itself', 'lost', 'absolutely', 'top', 'yes', 'case', 'against',\n",
              "       'entire', 'went', 'certainly', 'written', 'live', 'title', 'waste',\n",
              "       'shes', 'sort', 'head', 'budget', 'hope', 'problem', 'style',\n",
              "       'several', 'overall', 'picture', 'loved', 'evil', 'mr', 'worse',\n",
              "       'id', 'fans', 'becomes', 'entertaining', '3', 'cinema', 'boy',\n",
              "       'beginning', 'seemed', 'white', 'based', 'already', 'despite',\n",
              "       'care', 'oh', 'wanted', 'example', 'dark', '\\x96', 'lives', 'guys',\n",
              "       'unfortunately', 'killer', 'throughout', 'mother', 'direction',\n",
              "       'final', 'friend', 'turn', 'totally', 'fine', 'wont', '1', 'wants',\n",
              "       'children', 'amazing', 'sound', 'laugh', 'girls', 'drama', 'youll',\n",
              "       'guess', 'lead', 'tries', 'low', 'called', 'humor', 'writing',\n",
              "       'under', 'michael', 'works', 'history', 'turns', 'able', 'enjoyed',\n",
              "       'theyre', 'behind', 'past', 'quality', 'days', 'gave', 'favorite',\n",
              "       'starts', 'son', 'kill', 'game', 'act', 'sometimes', 'side',\n",
              "       'viewer', 'town', 'horrible', 'parts', 'car', 'actress', 'soon',\n",
              "       'child', 'ones', 'eyes', 'expect', 'obviously', 'flick',\n",
              "       'themselves', 'directed', 'thinking', 'heart', 'art', 'brilliant',\n",
              "       'stories', 'ill', 'decent', 'highly', 'run', 'feeling', 'myself',\n",
              "       'genre', 'late', 'blood', 'stuff', 'fight', 'says', 'close',\n",
              "       'took', 'city', 'except', 'cannot', 'heard', 'hand', 'leave',\n",
              "       'killed', 'kid', 'matter', 'police', 'hell', 'moment', 'wouldnt',\n",
              "       'extremely', 'strong', 'roles', 'happens', 'particularly', 'lack',\n",
              "       'hour', 'involved', 'happened', 'obvious', 'attempt', 'james',\n",
              "       'told', 'living', 'chance', 'violence', 'wonder', 'including',\n",
              "       'etc', 'complete', 'save', 'voice', 'coming', 'murder', 'anyway',\n",
              "       'group', 'daughter', 'looked', 'age', 'please', 'type', 'itbr',\n",
              "       'alone', 'experience', 'simple', 'none', 'god', 'number', 'score',\n",
              "       'exactly', 'slow', 'shown', 'happen', 'ok', 'ago', 'lets',\n",
              "       'interest', 'whose', 'taken', 'brother', 'usually', 'serious',\n",
              "       'david', 'across', 'stop', 'cinematography', 'somewhat', 'running',\n",
              "       'hours', 'annoying', 'sad', 'opening', 'song', 'known', 'ends',\n",
              "       'musical', 'usual', 'possible', 'finds', 'career', 'wish', 'hit',\n",
              "       'yourself', 'released', 'started', 'huge', 'gore', 'relationship',\n",
              "       'seriously', 'scary', 'jokes', 'change', 'saying', 'order', 'crap',\n",
              "       'mostly', 'shots', 'reality', 'ridiculous', 'cut', 'today',\n",
              "       'robert', 'english', 'taking', 'major', 'episodes', 'hilarious',\n",
              "       'novel', 'cool', 'female', 'body', 'talking', 'opinion', '4',\n",
              "       'call', 'apparently', 'directors', 'strange', 'due', 'basically',\n",
              "       '5', 'important', 'hero', 'supporting', 'clearly', 'power',\n",
              "       'knows', 'documentary', 'knew', 'happy', 'events', 'view',\n",
              "       'turned', 'husband', 'songs', 'talent', 'level', 'arent', 'king',\n",
              "       'british', 'room', 'easily', 'tells', 'single', 'local', 'rating',\n",
              "       'attention', 'word', 'moviebr', 'bring', 'words', 'problems',\n",
              "       'cheap', 'whats', 'modern', 'silly', 'television', 'beyond',\n",
              "       'sequence', 'whether', 'disappointed', 'light', 'jack', 'falls',\n",
              "       'sets', 'four', 'future', 'five', 'similar', 'paul', 'miss',\n",
              "       'country', 'needs', 'appears', 'romantic', 'giving', 'upon',\n",
              "       'earth', 'viewers', 'comic', 'richard', 'predictable', 'george',\n",
              "       'talk', 'entertainment', 'within', 'review', 'havent', 'feels',\n",
              "       'nearly', 'mention', 'message', 'enjoyable', 'animation', 'bunch',\n",
              "       'filmbr', 'theater', 'lots', 'lady', 'storyline', 'rock', 'add',\n",
              "       'actual', 'using', 'moving', 'points', 'above', 'middle',\n",
              "       'surprised', 'named', 'theme', 'mystery', 'herself', 'ten', 'dull',\n",
              "       'among', 'begins', 'comments', 'writer', 'ways', 'typical',\n",
              "       'fantastic', 'stay', 'showing', 'sequel', 'york', 'elements',\n",
              "       'easy', 'certain', 'thriller', 'team', 'tried', 'fall', 'effort',\n",
              "       'clear', 'near', 'avoid', 'release', 'hate', 'french', 'tale',\n",
              "       'famous', 'sorry', 'somehow', 'parents', 'means', 'straight',\n",
              "       'leads', 'peter', 'red', 'kept', 'working', 'buy', 'greatest',\n",
              "       'dialog', 'doubt', 'soundtrack', 'form', 'class', 'season',\n",
              "       'editing', 'sister', 'general', 'brought', 'weak', 'tom', 'filmed',\n",
              "       'figure', 'feature', 'oscar', 'hear', 'gone', 'whos', 'particular',\n",
              "       'material', 'check', 'viewing', 'learn', 'realistic', 'imagine',\n",
              "       'eventually', 'youve', 'eye', 'move', 'fast', 'atmosphere',\n",
              "       'reviews', 'decided', 'sequences', 'possibly', 'period', 'forget',\n",
              "       'lame', 'deal', 'third', 'premise', 'lee', 'follow', 'de',\n",
              "       'became', 'space', 'dance', 'wait', 'stand', 'indeed', 'japanese',\n",
              "       'zombie', 'sit', 'difficult', 'poorly', 'sexual', 'expected',\n",
              "       'die', 'whatever', 'writers', 'surprise', 'nor', 'crime', 'nature',\n",
              "       'rent', 'average', '80s', 'suspense', 'leaves', 'subject', 'okay',\n",
              "       'stage', 'killing', 'truth', 'believable', 'screenplay', 'needed',\n",
              "       'filmmakers', 'reading', 'note', 'meets', 'meet', 'dr', 'question',\n",
              "       'begin', 'boys', 'joe', 'romance', 'street', 'realize', 'forced',\n",
              "       'otherwise', 'emotional', 'memorable', 'unless', 'write', 'superb',\n",
              "       'shame', 'older', 'minute', 'interested', 'earlier', 'keeps',\n",
              "       'baby', 'weird', 'situation', 'disney', 'whom', 'footage',\n",
              "       'features', 'dramatic', 'credits', 'beauty', 'towards', 'dog',\n",
              "       'badly', 'ask', 'total', 'previous', 'hot', 'sounds', 'crazy',\n",
              "       'brings', 'comment', 'male', 'plenty', 'personal', 'worked',\n",
              "       'incredibly', 'plus', 'directing', 'society', 'quickly',\n",
              "       'perfectly', 'cheesy', 'admit', 'result', 'unique', 'deep',\n",
              "       'return', 'america', 'laughs', 'free', 'creepy', 'development',\n",
              "       'leading', 'appear', 'meant', 'hardly', 'open', 'brothers', '20',\n",
              "       'imdb', 'hands', 'b', 'apart', 'mark', 'various', 'casting',\n",
              "       'remake', 'effect', 'create', 'setting', 'christmas', 'potential',\n",
              "       'mess', 'bill', 'battle', 'background', 'scifi', 'monster',\n",
              "       'forward', 'powerful', 'portrayed', 'dream', 'inside', 'outside',\n",
              "       '70s', 'fairly', 'business', 'la', 'manages', 'ideas', 'expecting',\n",
              "       'jane', 'fails', 'deserves', 'present', 'political', 'missing',\n",
              "       'attempts', 'twist', 'secret', 'fire', 'dumb', 'unlike',\n",
              "       'fighting', 'fantasy', 'pay', 'air', 'joke'], dtype='<U14')"
            ]
          },
          "metadata": {},
          "execution_count": 26
        }
      ]
    },
    {
      "cell_type": "markdown",
      "metadata": {
        "id": "mjId5pua3jHQ"
      },
      "source": [
        "Once the vocabulary is set, the layer can encode text into indices. The tensors of indices are 0-padded to the longest sequence in the batch (unless you set a fixed `output_sequence_length`):"
      ]
    },
    {
      "cell_type": "code",
      "source": [
        "example[0]"
      ],
      "metadata": {
        "colab": {
          "base_uri": "https://localhost:8080/"
        },
        "id": "iYZaOBLrCoE-",
        "outputId": "ee73ce1d-7fbb-4369-c554-66c06e6e3681"
      },
      "execution_count": 27,
      "outputs": [
        {
          "output_type": "execute_result",
          "data": {
            "text/plain": [
              "<tf.Tensor: shape=(), dtype=string, numpy=b\"Firstly I would like to point out that I only know of the show due to my younger sister always watching it. I find it the most annoying program on TV. There is nothing funny about any of the 'jokes' and the canned laughter is unbearable. The show would work much better if filmed in front of a live audience. That way the laughter would show just how 'unfunny' the show is. However I give credit to the acting talents of the young cast. It sickens me however to think that they'll look back on the show in the future and see how bad their first TV show was. The show links in well with the overall annoying voices and style of the CBBC presenters. Why the youth of today need to be shouted at so much is beyond me. That is all.\">"
            ]
          },
          "metadata": {},
          "execution_count": 27
        }
      ]
    },
    {
      "cell_type": "code",
      "source": [
        "label[0]"
      ],
      "metadata": {
        "colab": {
          "base_uri": "https://localhost:8080/"
        },
        "id": "E5kFfNtwCuoe",
        "outputId": "def2e76c-fd62-4b22-d38a-9dde457b5d1b"
      },
      "execution_count": 28,
      "outputs": [
        {
          "output_type": "execute_result",
          "data": {
            "text/plain": [
              "<tf.Tensor: shape=(), dtype=int64, numpy=0>"
            ]
          },
          "metadata": {},
          "execution_count": 28
        }
      ]
    },
    {
      "cell_type": "code",
      "execution_count": 29,
      "metadata": {
        "id": "RGc7C9WiwRWs",
        "colab": {
          "base_uri": "https://localhost:8080/"
        },
        "outputId": "c210fbaa-abee-4d2a-f9f0-79a965d54564"
      },
      "outputs": [
        {
          "output_type": "execute_result",
          "data": {
            "text/plain": [
              "array([[ 1, 10, 59, ...,  0,  0,  0],\n",
              "       [ 1, 11, 20, ...,  0,  0,  0],\n",
              "       [49,  7,  1, ...,  0,  0,  0]])"
            ]
          },
          "metadata": {},
          "execution_count": 29
        }
      ],
      "source": [
        "# 이건 뭐하는 코드지\n",
        "encoded_example = encoder(example)[:3].numpy()\n",
        "encoded_example"
      ]
    },
    {
      "cell_type": "code",
      "source": [
        "import pandas as pd\n",
        "\n",
        "pd.DataFrame(encoded_example)"
      ],
      "metadata": {
        "colab": {
          "base_uri": "https://localhost:8080/",
          "height": 173
        },
        "id": "EsY73EFwDHNc",
        "outputId": "949d2e2f-7c56-4b44-9563-d704ebec1bcb"
      },
      "execution_count": 30,
      "outputs": [
        {
          "output_type": "execute_result",
          "data": {
            "text/plain": [
              "   0    1    2    3    4    5    6    7    8    9    ...  888  889  890  891  \\\n",
              "0    1   10   59   39    6  215   46   12   10   61  ...    0    0    0    0   \n",
              "1    1   11   20    7  353  381   10  175  823   87  ...    0    0    0    0   \n",
              "2   49    7    1    1   39    9    7  316   85    3  ...    0    0    0    0   \n",
              "\n",
              "   892  893  894  895  896  897  \n",
              "0    0    0    0    0    0    0  \n",
              "1    0    0    0    0    0    0  \n",
              "2    0    0    0    0    0    0  \n",
              "\n",
              "[3 rows x 898 columns]"
            ],
            "text/html": [
              "\n",
              "  <div id=\"df-057b6a8c-0b9a-4425-9ce6-a77c12a94d6f\">\n",
              "    <div class=\"colab-df-container\">\n",
              "      <div>\n",
              "<style scoped>\n",
              "    .dataframe tbody tr th:only-of-type {\n",
              "        vertical-align: middle;\n",
              "    }\n",
              "\n",
              "    .dataframe tbody tr th {\n",
              "        vertical-align: top;\n",
              "    }\n",
              "\n",
              "    .dataframe thead th {\n",
              "        text-align: right;\n",
              "    }\n",
              "</style>\n",
              "<table border=\"1\" class=\"dataframe\">\n",
              "  <thead>\n",
              "    <tr style=\"text-align: right;\">\n",
              "      <th></th>\n",
              "      <th>0</th>\n",
              "      <th>1</th>\n",
              "      <th>2</th>\n",
              "      <th>3</th>\n",
              "      <th>4</th>\n",
              "      <th>5</th>\n",
              "      <th>6</th>\n",
              "      <th>7</th>\n",
              "      <th>8</th>\n",
              "      <th>9</th>\n",
              "      <th>...</th>\n",
              "      <th>888</th>\n",
              "      <th>889</th>\n",
              "      <th>890</th>\n",
              "      <th>891</th>\n",
              "      <th>892</th>\n",
              "      <th>893</th>\n",
              "      <th>894</th>\n",
              "      <th>895</th>\n",
              "      <th>896</th>\n",
              "      <th>897</th>\n",
              "    </tr>\n",
              "  </thead>\n",
              "  <tbody>\n",
              "    <tr>\n",
              "      <th>0</th>\n",
              "      <td>1</td>\n",
              "      <td>10</td>\n",
              "      <td>59</td>\n",
              "      <td>39</td>\n",
              "      <td>6</td>\n",
              "      <td>215</td>\n",
              "      <td>46</td>\n",
              "      <td>12</td>\n",
              "      <td>10</td>\n",
              "      <td>61</td>\n",
              "      <td>...</td>\n",
              "      <td>0</td>\n",
              "      <td>0</td>\n",
              "      <td>0</td>\n",
              "      <td>0</td>\n",
              "      <td>0</td>\n",
              "      <td>0</td>\n",
              "      <td>0</td>\n",
              "      <td>0</td>\n",
              "      <td>0</td>\n",
              "      <td>0</td>\n",
              "    </tr>\n",
              "    <tr>\n",
              "      <th>1</th>\n",
              "      <td>1</td>\n",
              "      <td>11</td>\n",
              "      <td>20</td>\n",
              "      <td>7</td>\n",
              "      <td>353</td>\n",
              "      <td>381</td>\n",
              "      <td>10</td>\n",
              "      <td>175</td>\n",
              "      <td>823</td>\n",
              "      <td>87</td>\n",
              "      <td>...</td>\n",
              "      <td>0</td>\n",
              "      <td>0</td>\n",
              "      <td>0</td>\n",
              "      <td>0</td>\n",
              "      <td>0</td>\n",
              "      <td>0</td>\n",
              "      <td>0</td>\n",
              "      <td>0</td>\n",
              "      <td>0</td>\n",
              "      <td>0</td>\n",
              "    </tr>\n",
              "    <tr>\n",
              "      <th>2</th>\n",
              "      <td>49</td>\n",
              "      <td>7</td>\n",
              "      <td>1</td>\n",
              "      <td>1</td>\n",
              "      <td>39</td>\n",
              "      <td>9</td>\n",
              "      <td>7</td>\n",
              "      <td>316</td>\n",
              "      <td>85</td>\n",
              "      <td>3</td>\n",
              "      <td>...</td>\n",
              "      <td>0</td>\n",
              "      <td>0</td>\n",
              "      <td>0</td>\n",
              "      <td>0</td>\n",
              "      <td>0</td>\n",
              "      <td>0</td>\n",
              "      <td>0</td>\n",
              "      <td>0</td>\n",
              "      <td>0</td>\n",
              "      <td>0</td>\n",
              "    </tr>\n",
              "  </tbody>\n",
              "</table>\n",
              "<p>3 rows × 898 columns</p>\n",
              "</div>\n",
              "      <button class=\"colab-df-convert\" onclick=\"convertToInteractive('df-057b6a8c-0b9a-4425-9ce6-a77c12a94d6f')\"\n",
              "              title=\"Convert this dataframe to an interactive table.\"\n",
              "              style=\"display:none;\">\n",
              "        \n",
              "  <svg xmlns=\"http://www.w3.org/2000/svg\" height=\"24px\"viewBox=\"0 0 24 24\"\n",
              "       width=\"24px\">\n",
              "    <path d=\"M0 0h24v24H0V0z\" fill=\"none\"/>\n",
              "    <path d=\"M18.56 5.44l.94 2.06.94-2.06 2.06-.94-2.06-.94-.94-2.06-.94 2.06-2.06.94zm-11 1L8.5 8.5l.94-2.06 2.06-.94-2.06-.94L8.5 2.5l-.94 2.06-2.06.94zm10 10l.94 2.06.94-2.06 2.06-.94-2.06-.94-.94-2.06-.94 2.06-2.06.94z\"/><path d=\"M17.41 7.96l-1.37-1.37c-.4-.4-.92-.59-1.43-.59-.52 0-1.04.2-1.43.59L10.3 9.45l-7.72 7.72c-.78.78-.78 2.05 0 2.83L4 21.41c.39.39.9.59 1.41.59.51 0 1.02-.2 1.41-.59l7.78-7.78 2.81-2.81c.8-.78.8-2.07 0-2.86zM5.41 20L4 18.59l7.72-7.72 1.47 1.35L5.41 20z\"/>\n",
              "  </svg>\n",
              "      </button>\n",
              "      \n",
              "  <style>\n",
              "    .colab-df-container {\n",
              "      display:flex;\n",
              "      flex-wrap:wrap;\n",
              "      gap: 12px;\n",
              "    }\n",
              "\n",
              "    .colab-df-convert {\n",
              "      background-color: #E8F0FE;\n",
              "      border: none;\n",
              "      border-radius: 50%;\n",
              "      cursor: pointer;\n",
              "      display: none;\n",
              "      fill: #1967D2;\n",
              "      height: 32px;\n",
              "      padding: 0 0 0 0;\n",
              "      width: 32px;\n",
              "    }\n",
              "\n",
              "    .colab-df-convert:hover {\n",
              "      background-color: #E2EBFA;\n",
              "      box-shadow: 0px 1px 2px rgba(60, 64, 67, 0.3), 0px 1px 3px 1px rgba(60, 64, 67, 0.15);\n",
              "      fill: #174EA6;\n",
              "    }\n",
              "\n",
              "    [theme=dark] .colab-df-convert {\n",
              "      background-color: #3B4455;\n",
              "      fill: #D2E3FC;\n",
              "    }\n",
              "\n",
              "    [theme=dark] .colab-df-convert:hover {\n",
              "      background-color: #434B5C;\n",
              "      box-shadow: 0px 1px 3px 1px rgba(0, 0, 0, 0.15);\n",
              "      filter: drop-shadow(0px 1px 2px rgba(0, 0, 0, 0.3));\n",
              "      fill: #FFFFFF;\n",
              "    }\n",
              "  </style>\n",
              "\n",
              "      <script>\n",
              "        const buttonEl =\n",
              "          document.querySelector('#df-057b6a8c-0b9a-4425-9ce6-a77c12a94d6f button.colab-df-convert');\n",
              "        buttonEl.style.display =\n",
              "          google.colab.kernel.accessAllowed ? 'block' : 'none';\n",
              "\n",
              "        async function convertToInteractive(key) {\n",
              "          const element = document.querySelector('#df-057b6a8c-0b9a-4425-9ce6-a77c12a94d6f');\n",
              "          const dataTable =\n",
              "            await google.colab.kernel.invokeFunction('convertToInteractive',\n",
              "                                                     [key], {});\n",
              "          if (!dataTable) return;\n",
              "\n",
              "          const docLinkHtml = 'Like what you see? Visit the ' +\n",
              "            '<a target=\"_blank\" href=https://colab.research.google.com/notebooks/data_table.ipynb>data table notebook</a>'\n",
              "            + ' to learn more about interactive tables.';\n",
              "          element.innerHTML = '';\n",
              "          dataTable['output_type'] = 'display_data';\n",
              "          await google.colab.output.renderOutput(dataTable, element);\n",
              "          const docLink = document.createElement('div');\n",
              "          docLink.innerHTML = docLinkHtml;\n",
              "          element.appendChild(docLink);\n",
              "        }\n",
              "      </script>\n",
              "    </div>\n",
              "  </div>\n",
              "  "
            ]
          },
          "metadata": {},
          "execution_count": 30
        }
      ]
    },
    {
      "cell_type": "code",
      "source": [
        "vocab[10], vocab[59], vocab[39], vocab[6], vocab[215]"
      ],
      "metadata": {
        "colab": {
          "base_uri": "https://localhost:8080/"
        },
        "id": "UJrH1CTELHzU",
        "outputId": "1340cd3e-4243-4dc1-a439-bc418c134ad0"
      },
      "execution_count": 40,
      "outputs": [
        {
          "output_type": "execute_result",
          "data": {
            "text/plain": [
              "('i', 'would', 'like', 'to', 'point')"
            ]
          },
          "metadata": {},
          "execution_count": 40
        }
      ]
    },
    {
      "cell_type": "code",
      "source": [
        "encoded_example.shape"
      ],
      "metadata": {
        "colab": {
          "base_uri": "https://localhost:8080/"
        },
        "id": "5XUdrBWLROx3",
        "outputId": "ef81e24b-ffd6-42c3-953c-da237941a084"
      },
      "execution_count": 66,
      "outputs": [
        {
          "output_type": "execute_result",
          "data": {
            "text/plain": [
              "(3, 567)"
            ]
          },
          "metadata": {},
          "execution_count": 66
        }
      ]
    },
    {
      "cell_type": "markdown",
      "metadata": {
        "id": "F5cjz0bS39IN"
      },
      "source": [
        "With the default settings, the process is not completely reversible. There are three main reasons for that:\n",
        "\n",
        "1. The default value for `preprocessing.TextVectorization`'s `standardize` argument is `\"lower_and_strip_punctuation\"`.\n",
        "2. The limited vocabulary size and lack of character-based fallback results in some unknown tokens."
      ]
    },
    {
      "cell_type": "code",
      "execution_count": 16,
      "metadata": {
        "id": "N_tD0QY5wXaK",
        "colab": {
          "base_uri": "https://localhost:8080/"
        },
        "outputId": "d9100eb0-4c9d-460f-8e0b-9416befbd524"
      },
      "outputs": [
        {
          "output_type": "stream",
          "name": "stdout",
          "text": [
            "Original:  b\"(Spoiler included, some would say)<br /><br />This film is not possible to take seriously. At some parts it is so awfully stupid that I just can't help laughing at it all. Try me for the sequence where Stallone's character jumps some 20 meters with full climbing gear or (and this is really my favorite) snuffs a bad guy by sticking him onto a stalactite. Yeah, what ungodly strength did he muster to accomplish such feats? I dunno, but he sure gives reality a run for the money.\"\n",
            "Round-trip:  [UNK] [UNK] some would [UNK] br this film is not possible to take seriously at some parts it is so [UNK] stupid that i just cant help [UNK] at it all try me for the sequence where [UNK] character [UNK] some 20 [UNK] with full [UNK] [UNK] or and this is really my favorite [UNK] a bad guy by [UNK] him [UNK] a [UNK] [UNK] what [UNK] [UNK] did he [UNK] to [UNK] such [UNK] i [UNK] but he sure gives reality a run for the money                                                                                                                                                                                                                                                                                                                                                                                                                                                                                                                                                                                                                                                                                                                                                                                                                                                                                                                                     \n",
            "\n",
            "Original:  b\"This is the best and most original show seen in years. The more I watch it the more I fall in love with it. The cast is excellent, the writing is great. I personally like every character. However, there is a favorite character for everyone as there is a good mix of personalities and backgrounds just like in real life. I believe ABC has done a disservice to the writers, actors and to the potential audience of this show, to cancel so quickly and not advertise it enough nor give it a real chance to gain a following. There are so few shows I watch anymore as most TV is awful . This show in my opinion was right up there with my favorites Greys Anatomy and Brothers and Sisters. In fact I think the same audience for Brothers and Sisters would love this show if they even knew about it. Why is it always the loser shows that get so much extra time and the winning shows with great potential always get dumped right away. I am so sick of reality shows I do not watch any of them. It was so refreshing to have a new idea for a show and then to hire excellent actors, this show had so much promise. The recent episode was the best one yet as everyone has started to really get into their parts and make the show so real. Please watch this show on ABC's video and let ABC know you wish to have this show back. PLEASE SIGN THE ONLINE PETITION TO ABC: http://www.PetitionOnline.com/gh1215/petition.html\"\n",
            "Round-trip:  this is the best and most original show seen in years the more i watch it the more i fall in love with it the cast is excellent the writing is great i [UNK] like every character however there is a favorite character for everyone as there is a good [UNK] of [UNK] and [UNK] just like in real life i believe [UNK] has done a [UNK] to the writers actors and to the potential audience of this show to [UNK] so quickly and not [UNK] it enough nor give it a real chance to [UNK] a [UNK] there are so few shows i watch [UNK] as most tv is awful this show in my opinion was right up there with my [UNK] [UNK] [UNK] and brothers and [UNK] in fact i think the same audience for brothers and [UNK] would love this show if they even knew about it why is it always the [UNK] shows that get so much [UNK] time and the [UNK] shows with great potential always get [UNK] right away i am so [UNK] of reality shows i do not watch any of them it was so [UNK] to have a new idea for a show and then to [UNK] excellent actors this show had so much [UNK] the [UNK] episode was the best one yet as everyone has started to really get into their parts and make the show so real please watch this show on [UNK] video and let [UNK] know you wish to have this show back please [UNK] the [UNK] [UNK] to [UNK] [UNK]                                                                                                                                                                                                                                                                                                                                                                                                                                                                                                                                                                                                                                                                                                                                                     \n",
            "\n",
            "Original:  b\"The only reason i am bothering to comment on this movie is to save you all 97 minutes of your life and maybe your money.<br /><br />I bought it ex-rental for \\xc2\\xa33.00, it looked interesting, so i took a chance.<br /><br />Within minutes of turning it on i realised i'd made a mistake. The entire cast should be stored away until winter and then thrown on the nearest log fire, where they could meet more of their kind.<br /><br />As for the Devin Hamilton (Writer and Director), he should just be shot, sadly this should have been done before he made this rubbish.<br /><br />Avoid this film, If you see it in the shops run away.<br /><br />1/10\"\n",
            "Round-trip:  the only reason i am [UNK] to comment on this movie is to save you all [UNK] minutes of your life and maybe your [UNK] br i [UNK] it [UNK] for [UNK] it looked interesting so i took a [UNK] br within minutes of [UNK] it on i [UNK] id made a [UNK] the entire cast should be [UNK] away until [UNK] and then [UNK] on the [UNK] [UNK] fire where they could meet more of their [UNK] br as for the [UNK] [UNK] writer and director he should just be shot [UNK] this should have been done before he made this [UNK] br avoid this film if you see it in the [UNK] run [UNK] br [UNK]                                                                                                                                                                                                                                                                                                                                                                                                                                                                                                                                                                                                                                                                                                                                                                                                                                                                                                      \n",
            "\n"
          ]
        }
      ],
      "source": [
        "for n in range(3):\n",
        "  print(\"Original: \", example[n].numpy())\n",
        "  print(\"Round-trip: \", \" \".join(vocab[encoded_example[n]]))\n",
        "  print()"
      ]
    },
    {
      "cell_type": "code",
      "source": [
        "# 인코딩 전\n",
        "print(type(example[0].numpy()))\n",
        "example[0].numpy()"
      ],
      "metadata": {
        "colab": {
          "base_uri": "https://localhost:8080/"
        },
        "id": "QUd4zSSDIiLn",
        "outputId": "4a834a1f-49a2-4cfa-e736-f40530727410"
      },
      "execution_count": 75,
      "outputs": [
        {
          "output_type": "stream",
          "name": "stdout",
          "text": [
            "<class 'bytes'>\n"
          ]
        },
        {
          "output_type": "execute_result",
          "data": {
            "text/plain": [
              "b\"Well, how do you even rate a movie such as this one? Does it even have cinematic value really? It's a movie that tries to get as close to being a snuff movie as possible. Basically the entire movie is purely a bunch of guys torturing a young girl. Not very appealing and on top of that also not that realistic really.<br /><br />It's obvious that the movie tried to be as realistic and shocking as possible. However the movie is just all too fake for that to work out as intended. The slapping and stumping is all soft and fake looking, as well as sounding. They are often just kicking into the floor, rather than into the girl, obviously. Also the way the girl responds to all the torments is pretty tame. I mean if this was real, surely she would had screamed it out. There is more moaning than screaming in this one though.<br /><br />The movie is obviously low budget and it's a valor attempt at trying to achieve something shocking and realistic as well as original and provoking, with very limited resources. Don't really think this movie made much impact though at the time it got released, though it must had done something well, since a total of six sequels got released after this one.<br /><br />Fans of shock and gore will most likely be disappointed by this movie, though there are still some fetish people out there who will get a kick out of this movie.<br /><br />4/10\""
            ]
          },
          "metadata": {},
          "execution_count": 75
        }
      ]
    },
    {
      "cell_type": "code",
      "source": [
        "# 인코딩 후\n",
        "# 달라진 점\n",
        "# 누락 단어 보임 -> [UNK]로 표현\n",
        "# 특수 문자 다 사라짐\n",
        "# 소문자로 통일\n",
        "print(type(\" \".join(vocab[encoded_example[0]])))\n",
        "\" \".join(vocab[encoded_example[0]])"
      ],
      "metadata": {
        "colab": {
          "base_uri": "https://localhost:8080/",
          "height": 125
        },
        "id": "4DxIvhC4IxkN",
        "outputId": "b11a7e99-71fe-47b1-e54f-02f05ed1e99a"
      },
      "execution_count": 76,
      "outputs": [
        {
          "output_type": "stream",
          "name": "stdout",
          "text": [
            "<class 'str'>\n"
          ]
        },
        {
          "output_type": "execute_result",
          "data": {
            "text/plain": [
              "'well how do you even [UNK] a movie such as this one does it even have [UNK] [UNK] really its a movie that tries to get as close to being a [UNK] movie as possible basically the entire movie is [UNK] a bunch of guys [UNK] a young girl not very [UNK] and on top of that also not that realistic [UNK] br its obvious that the movie tried to be as realistic and [UNK] as possible however the movie is just all too [UNK] for that to work out as [UNK] the [UNK] and [UNK] is all [UNK] and [UNK] looking as well as [UNK] they are often just [UNK] into the [UNK] rather than into the girl obviously also the way the girl [UNK] to all the [UNK] is pretty [UNK] i mean if this was real [UNK] she would had [UNK] it out there is more [UNK] than [UNK] in this one [UNK] br the movie is obviously low budget and its a [UNK] attempt at trying to [UNK] something [UNK] and realistic as well as original and [UNK] with very [UNK] [UNK] dont really think this movie made much [UNK] though at the time it got released though it must had done something well since a total of [UNK] [UNK] got released after this [UNK] br fans of [UNK] and gore will most [UNK] be disappointed by this movie though there are still some [UNK] people out there who will get a [UNK] out of this moviebr br [UNK]                                                                                                                                                                                                                                                                                                                          '"
            ],
            "application/vnd.google.colaboratory.intrinsic+json": {
              "type": "string"
            }
          },
          "metadata": {},
          "execution_count": 76
        }
      ]
    },
    {
      "cell_type": "code",
      "source": [
        "vocab[encoded_example[0]]"
      ],
      "metadata": {
        "colab": {
          "base_uri": "https://localhost:8080/"
        },
        "id": "m392902dIqVT",
        "outputId": "3b3cf53c-7a40-46c0-a73d-baef70e08402"
      },
      "execution_count": 72,
      "outputs": [
        {
          "output_type": "execute_result",
          "data": {
            "text/plain": [
              "array(['well', 'how', 'do', 'you', 'even', '[UNK]', 'a', 'movie', 'such',\n",
              "       'as', 'this', 'one', 'does', 'it', 'even', 'have', '[UNK]',\n",
              "       '[UNK]', 'really', 'its', 'a', 'movie', 'that', 'tries', 'to',\n",
              "       'get', 'as', 'close', 'to', 'being', 'a', '[UNK]', 'movie', 'as',\n",
              "       'possible', 'basically', 'the', 'entire', 'movie', 'is', '[UNK]',\n",
              "       'a', 'bunch', 'of', 'guys', '[UNK]', 'a', 'young', 'girl', 'not',\n",
              "       'very', '[UNK]', 'and', 'on', 'top', 'of', 'that', 'also', 'not',\n",
              "       'that', 'realistic', '[UNK]', 'br', 'its', 'obvious', 'that',\n",
              "       'the', 'movie', 'tried', 'to', 'be', 'as', 'realistic', 'and',\n",
              "       '[UNK]', 'as', 'possible', 'however', 'the', 'movie', 'is', 'just',\n",
              "       'all', 'too', '[UNK]', 'for', 'that', 'to', 'work', 'out', 'as',\n",
              "       '[UNK]', 'the', '[UNK]', 'and', '[UNK]', 'is', 'all', '[UNK]',\n",
              "       'and', '[UNK]', 'looking', 'as', 'well', 'as', '[UNK]', 'they',\n",
              "       'are', 'often', 'just', '[UNK]', 'into', 'the', '[UNK]', 'rather',\n",
              "       'than', 'into', 'the', 'girl', 'obviously', 'also', 'the', 'way',\n",
              "       'the', 'girl', '[UNK]', 'to', 'all', 'the', '[UNK]', 'is',\n",
              "       'pretty', '[UNK]', 'i', 'mean', 'if', 'this', 'was', 'real',\n",
              "       '[UNK]', 'she', 'would', 'had', '[UNK]', 'it', 'out', 'there',\n",
              "       'is', 'more', '[UNK]', 'than', '[UNK]', 'in', 'this', 'one',\n",
              "       '[UNK]', 'br', 'the', 'movie', 'is', 'obviously', 'low', 'budget',\n",
              "       'and', 'its', 'a', '[UNK]', 'attempt', 'at', 'trying', 'to',\n",
              "       '[UNK]', 'something', '[UNK]', 'and', 'realistic', 'as', 'well',\n",
              "       'as', 'original', 'and', '[UNK]', 'with', 'very', '[UNK]', '[UNK]',\n",
              "       'dont', 'really', 'think', 'this', 'movie', 'made', 'much',\n",
              "       '[UNK]', 'though', 'at', 'the', 'time', 'it', 'got', 'released',\n",
              "       'though', 'it', 'must', 'had', 'done', 'something', 'well',\n",
              "       'since', 'a', 'total', 'of', '[UNK]', '[UNK]', 'got', 'released',\n",
              "       'after', 'this', '[UNK]', 'br', 'fans', 'of', '[UNK]', 'and',\n",
              "       'gore', 'will', 'most', '[UNK]', 'be', 'disappointed', 'by',\n",
              "       'this', 'movie', 'though', 'there', 'are', 'still', 'some',\n",
              "       '[UNK]', 'people', 'out', 'there', 'who', 'will', 'get', 'a',\n",
              "       '[UNK]', 'out', 'of', 'this', 'moviebr', 'br', '[UNK]', '', '', '',\n",
              "       '', '', '', '', '', '', '', '', '', '', '', '', '', '', '', '', '',\n",
              "       '', '', '', '', '', '', '', '', '', '', '', '', '', '', '', '', '',\n",
              "       '', '', '', '', '', '', '', '', '', '', '', '', '', '', '', '', '',\n",
              "       '', '', '', '', '', '', '', '', '', '', '', '', '', '', '', '', '',\n",
              "       '', '', '', '', '', '', '', '', '', '', '', '', '', '', '', '', '',\n",
              "       '', '', '', '', '', '', '', '', '', '', '', '', '', '', '', '', '',\n",
              "       '', '', '', '', '', '', '', '', '', '', '', '', '', '', '', '', '',\n",
              "       '', '', '', '', '', '', '', '', '', '', '', '', '', '', '', '', '',\n",
              "       '', '', '', '', '', '', '', '', '', '', '', '', '', '', '', '', '',\n",
              "       '', '', '', '', '', '', '', '', '', '', '', '', '', '', '', '', '',\n",
              "       '', '', '', '', '', '', '', '', '', '', '', '', '', '', '', '', '',\n",
              "       '', '', '', '', '', '', '', '', '', '', '', '', '', '', '', '', '',\n",
              "       '', '', '', '', '', '', '', '', '', '', '', '', '', '', '', '', '',\n",
              "       '', '', '', '', '', '', '', '', '', '', '', '', '', '', '', '', '',\n",
              "       '', '', '', '', '', '', '', '', '', '', '', '', '', '', '', '', '',\n",
              "       '', '', '', '', '', '', '', '', '', '', '', '', '', '', '', '', '',\n",
              "       '', '', '', '', '', '', '', '', '', '', '', '', '', '', '', '', '',\n",
              "       '', '', '', '', '', '', '', '', '', '', '', '', '', '', '', '', '',\n",
              "       '', '', '', '', ''], dtype='<U14')"
            ]
          },
          "metadata": {},
          "execution_count": 72
        }
      ]
    },
    {
      "cell_type": "code",
      "source": [
        "len(example)"
      ],
      "metadata": {
        "colab": {
          "base_uri": "https://localhost:8080/"
        },
        "id": "XC62QnC5ErZR",
        "outputId": "028fadb3-c3db-4885-f400-bc37001bb923"
      },
      "execution_count": 69,
      "outputs": [
        {
          "output_type": "execute_result",
          "data": {
            "text/plain": [
              "64"
            ]
          },
          "metadata": {},
          "execution_count": 69
        }
      ]
    },
    {
      "cell_type": "markdown",
      "metadata": {
        "id": "bjUqGVBxGw-t"
      },
      "source": [
        "## Create the model"
      ]
    },
    {
      "cell_type": "markdown",
      "metadata": {
        "id": "W7zsmInBOCPO"
      },
      "source": [
        "![A drawing of the information flow in the model](https://github.com/tensorflow/text/blob/master/docs/tutorials/images/bidirectional.png?raw=1)"
      ]
    },
    {
      "cell_type": "markdown",
      "metadata": {
        "id": "bgs6nnSTGw-t"
      },
      "source": [
        "Above is a diagram of the model. \n",
        "\n",
        "1. This model can be build as a `tf.keras.Sequential`.\n",
        "\n",
        "2. The first layer is the `encoder`, which converts the text to a sequence of token indices.\n",
        "\n",
        "3. After the encoder is an embedding layer. An embedding layer stores one vector per word. When called, it converts the sequences of word indices to sequences of vectors. These vectors are trainable. After training (on enough data), words with similar meanings often have similar vectors.\n",
        "\n",
        "  This index-lookup is much more efficient than the equivalent operation of passing a one-hot encoded vector through a `tf.keras.layers.Dense` layer.\n",
        "\n",
        "4. A recurrent neural network (RNN) processes sequence input by iterating through the elements. RNNs pass the outputs from one timestep to their input on the next timestep.\n",
        "\n",
        "  The `tf.keras.layers.Bidirectional` wrapper can also be used with an RNN layer. This propagates the input forward and backwards through the RNN layer and then concatenates the final output. \n",
        "\n",
        "  * The main advantage of a bidirectional RNN is that the signal from the beginning of the input doesn't need to be processed all the way through every timestep to affect the output.  \n",
        "\n",
        "  * The main disadvantage of a bidirectional RNN is that you can't efficiently stream predictions as words are being added to the end.\n",
        "\n",
        "5. After the RNN has converted the sequence to a single vector the two `layers.Dense` do some final processing, and convert from this vector representation to a single logit as the classification output. \n"
      ]
    },
    {
      "cell_type": "markdown",
      "metadata": {
        "id": "V4fodCI7soQi"
      },
      "source": [
        "The code to implement this is below:"
      ]
    },
    {
      "cell_type": "markdown",
      "source": [
        "### LSTM의 역할\n",
        "* 유사한 맥락에 나타난 단어들끼리는 두 단어 벡터 사이의 거리를 가깝게 하고\n",
        "* 그렇지 않은 단어들끼리는 멀어지게 조금씩 조정"
      ],
      "metadata": {
        "id": "2b8ULohjN0rX"
      }
    },
    {
      "cell_type": "code",
      "execution_count": 17,
      "metadata": {
        "id": "LwfoBkmRYcP3"
      },
      "outputs": [],
      "source": [
        "model = tf.keras.Sequential([\n",
        "    encoder,\n",
        "    # Embedding 과정이 필요한 이유 -> 각 단어를 encoder를 지정된 차원으로 벡터화시켜주기 위함\n",
        "    # 분포 가설에 따라 모든 단어를 고정 차원(64차원)의 벡터로 표현\n",
        "    tf.keras.layers.Embedding(\n",
        "        input_dim=len(encoder.get_vocabulary()),\n",
        "        output_dim=64,\n",
        "        # Use masking to handle the variable sequence lengths\n",
        "        mask_zero=True),\n",
        "    # 양방향 RNN\n",
        "    # 앞 단어만으로 문장 추론 힘든 경우 많음\n",
        "    tf.keras.layers.Bidirectional(tf.keras.layers.LSTM(64)),\n",
        "    tf.keras.layers.Dense(64, activation='relu'),\n",
        "    tf.keras.layers.Dense(1)\n",
        "])"
      ]
    },
    {
      "cell_type": "markdown",
      "metadata": {
        "id": "QIGmIGkkouUb"
      },
      "source": [
        "Please note that Keras sequential model is used here since all the layers in the model only have single input and produce single output. In case you want to use stateful RNN layer, you might want to build your model with Keras functional API or model subclassing so that you can retrieve and reuse the RNN layer states. Please check [Keras RNN guide](https://www.tensorflow.org/guide/keras/rnn#rnn_state_reuse) for more details."
      ]
    },
    {
      "cell_type": "markdown",
      "metadata": {
        "id": "kF-PsCk1LwjY"
      },
      "source": [
        "The embedding layer [uses masking](https://www.tensorflow.org/guide/keras/masking_and_padding) to handle the varying sequence-lengths. All the layers after the `Embedding` support masking:"
      ]
    },
    {
      "cell_type": "code",
      "execution_count": 18,
      "metadata": {
        "id": "87a8-CwfKebw",
        "colab": {
          "base_uri": "https://localhost:8080/"
        },
        "outputId": "1dabbe9f-ae17-4e56-b48e-0cbb3c8d5d0d"
      },
      "outputs": [
        {
          "output_type": "stream",
          "name": "stdout",
          "text": [
            "[False, True, True, True, True]\n"
          ]
        }
      ],
      "source": [
        "# model 총 5개의 layer, encoder도 layer\n",
        "print([layer.supports_masking for layer in model.layers])"
      ]
    },
    {
      "cell_type": "markdown",
      "metadata": {
        "id": "ZlS0iaUIWLpI"
      },
      "source": [
        "To confirm that this works as expected, evaluate a sentence twice. First, alone so there's no padding to mask:"
      ]
    },
    {
      "cell_type": "code",
      "execution_count": 19,
      "metadata": {
        "id": "O41gw3KfWHus",
        "colab": {
          "base_uri": "https://localhost:8080/"
        },
        "outputId": "8aacf59e-6272-4d63-ba09-97775f78aaba"
      },
      "outputs": [
        {
          "output_type": "stream",
          "name": "stdout",
          "text": [
            "1/1 [==============================] - 6s 6s/step\n",
            "[-0.00797682]\n"
          ]
        }
      ],
      "source": [
        "# predict on a sample text without padding.\n",
        "\n",
        "sample_text = ('The movie was cool. The animation and the graphics '\n",
        "               'were out of this world. I would recommend this movie.')\n",
        "predictions = model.predict(np.array([sample_text]))\n",
        "print(predictions[0])"
      ]
    },
    {
      "cell_type": "markdown",
      "metadata": {
        "id": "K0VQmGnEWcuz"
      },
      "source": [
        "Now, evaluate it again in a batch with a longer sentence. The result should be identical:"
      ]
    },
    {
      "cell_type": "code",
      "execution_count": 20,
      "metadata": {
        "id": "UIgpuTeFNDzq",
        "colab": {
          "base_uri": "https://localhost:8080/"
        },
        "outputId": "a9e67467-4618-45c3-be29-d79ac4fa849c"
      },
      "outputs": [
        {
          "output_type": "stream",
          "name": "stdout",
          "text": [
            "1/1 [==============================] - 0s 146ms/step\n",
            "[-0.00797682]\n"
          ]
        }
      ],
      "source": [
        "# predict on a sample text with padding\n",
        "# padding을 넣어도 같은 결과\n",
        "# model.layer.Embedding(mask_zero=True) 파라미터로 가능한 일\n",
        "\n",
        "padding = \"the \" * 2000\n",
        "predictions = model.predict(np.array([sample_text, padding]))\n",
        "print(predictions[0])"
      ]
    },
    {
      "cell_type": "markdown",
      "metadata": {
        "id": "sRI776ZcH3Tf"
      },
      "source": [
        "Compile the Keras model to configure the training process:"
      ]
    },
    {
      "cell_type": "code",
      "execution_count": 21,
      "metadata": {
        "id": "kj2xei41YZjC"
      },
      "outputs": [],
      "source": [
        "model.compile(loss=tf.keras.losses.BinaryCrossentropy(from_logits=True),\n",
        "              optimizer=tf.keras.optimizers.Adam(1e-4),\n",
        "              metrics=['accuracy'])"
      ]
    },
    {
      "cell_type": "markdown",
      "metadata": {
        "id": "zIwH3nto596k"
      },
      "source": [
        "## Train the model"
      ]
    },
    {
      "cell_type": "code",
      "execution_count": 22,
      "metadata": {
        "id": "hw86wWS4YgR2",
        "colab": {
          "base_uri": "https://localhost:8080/"
        },
        "outputId": "7e4852be-46b9-480c-e2a3-0d1c6559f926"
      },
      "outputs": [
        {
          "output_type": "stream",
          "name": "stdout",
          "text": [
            "Epoch 1/10\n",
            "391/391 [==============================] - 41s 86ms/step - loss: 0.6490 - accuracy: 0.5616 - val_loss: 0.5154 - val_accuracy: 0.6964\n",
            "Epoch 2/10\n",
            "391/391 [==============================] - 31s 79ms/step - loss: 0.4565 - accuracy: 0.7752 - val_loss: 0.4135 - val_accuracy: 0.8266\n",
            "Epoch 3/10\n",
            "391/391 [==============================] - 32s 80ms/step - loss: 0.3770 - accuracy: 0.8323 - val_loss: 0.3600 - val_accuracy: 0.8396\n",
            "Epoch 4/10\n",
            "391/391 [==============================] - 31s 80ms/step - loss: 0.3403 - accuracy: 0.8540 - val_loss: 0.3587 - val_accuracy: 0.8292\n",
            "Epoch 5/10\n",
            "391/391 [==============================] - 31s 80ms/step - loss: 0.3236 - accuracy: 0.8624 - val_loss: 0.3339 - val_accuracy: 0.8620\n",
            "Epoch 6/10\n",
            "391/391 [==============================] - 31s 80ms/step - loss: 0.3124 - accuracy: 0.8668 - val_loss: 0.3313 - val_accuracy: 0.8620\n",
            "Epoch 7/10\n",
            "391/391 [==============================] - 32s 81ms/step - loss: 0.3063 - accuracy: 0.8710 - val_loss: 0.3385 - val_accuracy: 0.8589\n",
            "Epoch 8/10\n",
            "391/391 [==============================] - 32s 81ms/step - loss: 0.3030 - accuracy: 0.8717 - val_loss: 0.3460 - val_accuracy: 0.8422\n",
            "Epoch 9/10\n",
            "391/391 [==============================] - 32s 81ms/step - loss: 0.3000 - accuracy: 0.8733 - val_loss: 0.3194 - val_accuracy: 0.8604\n",
            "Epoch 10/10\n",
            "391/391 [==============================] - 31s 77ms/step - loss: 0.2967 - accuracy: 0.8759 - val_loss: 0.3192 - val_accuracy: 0.8578\n"
          ]
        }
      ],
      "source": [
        "history = model.fit(train_dataset, epochs=10,\n",
        "                    validation_data=test_dataset,\n",
        "                    validation_steps=30)"
      ]
    },
    {
      "cell_type": "code",
      "execution_count": 23,
      "metadata": {
        "id": "BaNbXi43YgUT",
        "colab": {
          "base_uri": "https://localhost:8080/"
        },
        "outputId": "16820fa3-c7cf-4a3b-ebd0-19efa2edad7b"
      },
      "outputs": [
        {
          "output_type": "stream",
          "name": "stdout",
          "text": [
            "391/391 [==============================] - 17s 44ms/step - loss: 0.3159 - accuracy: 0.8611\n",
            "Test Loss: 0.3158537745475769\n",
            "Test Accuracy: 0.8611199855804443\n"
          ]
        }
      ],
      "source": [
        "test_loss, test_acc = model.evaluate(test_dataset)\n",
        "\n",
        "print('Test Loss:', test_loss)\n",
        "print('Test Accuracy:', test_acc)"
      ]
    },
    {
      "cell_type": "code",
      "execution_count": 24,
      "metadata": {
        "id": "OZmwt_mzaQJk",
        "colab": {
          "base_uri": "https://localhost:8080/",
          "height": 519
        },
        "outputId": "57ad2a11-6091-4a57-d515-f2c2da2b47f1"
      },
      "outputs": [
        {
          "output_type": "execute_result",
          "data": {
            "text/plain": [
              "(0.0, 0.6666609242558479)"
            ]
          },
          "metadata": {},
          "execution_count": 24
        },
        {
          "output_type": "display_data",
          "data": {
            "text/plain": [
              "<Figure size 1152x576 with 2 Axes>"
            ],
            "image/png": "[encoded data removed]"
          },
          "metadata": {
            "needs_background": "light"
          }
        }
      ],
      "source": [
        "plt.figure(figsize=(16, 8))\n",
        "plt.subplot(1, 2, 1)\n",
        "plot_graphs(history, 'accuracy')\n",
        "plt.ylim(None, 1)\n",
        "plt.subplot(1, 2, 2)\n",
        "plot_graphs(history, 'loss')\n",
        "plt.ylim(0, None)"
      ]
    },
    {
      "cell_type": "markdown",
      "metadata": {
        "id": "DwSE_386uhxD"
      },
      "source": [
        "Run a prediction on a new sentence:\n",
        "\n",
        "If the prediction is >= 0.0, it is positive else it is negative."
      ]
    },
    {
      "cell_type": "code",
      "execution_count": 25,
      "metadata": {
        "id": "ZXgfQSgRW6zU",
        "colab": {
          "base_uri": "https://localhost:8080/"
        },
        "outputId": "c0ea24ed-38ed-47f4-b711-b5a710b452e5"
      },
      "outputs": [
        {
          "output_type": "stream",
          "name": "stdout",
          "text": [
            "1/1 [==============================] - 2s 2s/step\n"
          ]
        }
      ],
      "source": [
        "sample_text = ('The movie was cool. The animation and the graphics '\n",
        "               'were out of this world. I would recommend this movie.')\n",
        "predictions = model.predict(np.array([sample_text]))"
      ]
    },
    {
      "cell_type": "markdown",
      "metadata": {
        "id": "7g1evcaRpTKm"
      },
      "source": [
        "## Stack two or more LSTM layers\n",
        "\n",
        "Keras recurrent layers have two available modes that are controlled by the `return_sequences` constructor argument:\n",
        "\n",
        "* If `False` it returns only the last output for each input sequence (a 2D tensor of shape (batch_size, output_features)). This is the default, used in the previous model.\n",
        "\n",
        "* If `True` the full sequences of successive outputs for each timestep is returned (a 3D tensor of shape `(batch_size, timesteps, output_features)`).\n",
        "\n",
        "Here is what the flow of information looks like with `return_sequences=True`:\n",
        "\n",
        "![layered_bidirectional](https://github.com/tensorflow/text/blob/master/docs/tutorials/images/layered_bidirectional.png?raw=1)"
      ]
    },
    {
      "cell_type": "markdown",
      "metadata": {
        "id": "wbSClCrG1z8l"
      },
      "source": [
        "The interesting thing about using an `RNN` with `return_sequences=True` is that the output still has 3-axes, like the input, so it can be passed to another RNN layer, like this:"
      ]
    },
    {
      "cell_type": "code",
      "execution_count": 26,
      "metadata": {
        "id": "jo1jjO3vn0jo"
      },
      "outputs": [],
      "source": [
        "model = tf.keras.Sequential([\n",
        "    encoder,\n",
        "    # 이중 RNN\n",
        "    tf.keras.layers.Embedding(len(encoder.get_vocabulary()), 64, mask_zero=True),\n",
        "    tf.keras.layers.Bidirectional(tf.keras.layers.LSTM(64,  return_sequences=True)),\n",
        "    tf.keras.layers.Bidirectional(tf.keras.layers.LSTM(32)),\n",
        "    tf.keras.layers.Dense(64, activation='relu'),\n",
        "    tf.keras.layers.Dropout(0.5),\n",
        "    tf.keras.layers.Dense(1)\n",
        "])"
      ]
    },
    {
      "cell_type": "code",
      "execution_count": 27,
      "metadata": {
        "id": "hEPV5jVGp-is"
      },
      "outputs": [],
      "source": [
        "model.compile(loss=tf.keras.losses.BinaryCrossentropy(from_logits=True),\n",
        "              optimizer=tf.keras.optimizers.Adam(1e-4),\n",
        "              metrics=['accuracy'])"
      ]
    },
    {
      "cell_type": "code",
      "execution_count": 28,
      "metadata": {
        "id": "LeSE-YjdqAeN",
        "colab": {
          "base_uri": "https://localhost:8080/"
        },
        "outputId": "31635e1a-2d93-4c44-baaf-9c2bfadd56dd"
      },
      "outputs": [
        {
          "output_type": "stream",
          "name": "stdout",
          "text": [
            "Epoch 1/10\n",
            "391/391 [==============================] - 70s 146ms/step - loss: 0.6188 - accuracy: 0.5958 - val_loss: 0.4275 - val_accuracy: 0.8026\n",
            "Epoch 2/10\n",
            "391/391 [==============================] - 58s 147ms/step - loss: 0.3827 - accuracy: 0.8352 - val_loss: 0.3567 - val_accuracy: 0.8469\n",
            "Epoch 3/10\n",
            "391/391 [==============================] - 53s 134ms/step - loss: 0.3362 - accuracy: 0.8558 - val_loss: 0.3381 - val_accuracy: 0.8557\n",
            "Epoch 4/10\n",
            "391/391 [==============================] - 54s 138ms/step - loss: 0.3227 - accuracy: 0.8629 - val_loss: 0.3301 - val_accuracy: 0.8578\n",
            "Epoch 5/10\n",
            "391/391 [==============================] - 54s 137ms/step - loss: 0.3125 - accuracy: 0.8672 - val_loss: 0.3238 - val_accuracy: 0.8599\n",
            "Epoch 6/10\n",
            "391/391 [==============================] - 53s 134ms/step - loss: 0.3059 - accuracy: 0.8696 - val_loss: 0.3280 - val_accuracy: 0.8615\n",
            "Epoch 7/10\n",
            "391/391 [==============================] - 60s 153ms/step - loss: 0.3029 - accuracy: 0.8722 - val_loss: 0.3302 - val_accuracy: 0.8406\n",
            "Epoch 8/10\n",
            "391/391 [==============================] - 59s 149ms/step - loss: 0.3029 - accuracy: 0.8705 - val_loss: 0.3205 - val_accuracy: 0.8589\n",
            "Epoch 9/10\n",
            "391/391 [==============================] - 55s 141ms/step - loss: 0.2997 - accuracy: 0.8734 - val_loss: 0.3175 - val_accuracy: 0.8625\n",
            "Epoch 10/10\n",
            "391/391 [==============================] - 54s 138ms/step - loss: 0.2968 - accuracy: 0.8722 - val_loss: 0.3154 - val_accuracy: 0.8615\n"
          ]
        }
      ],
      "source": [
        "history = model.fit(train_dataset, epochs=10,\n",
        "                    validation_data=test_dataset,\n",
        "                    validation_steps=30)"
      ]
    },
    {
      "cell_type": "code",
      "execution_count": 29,
      "metadata": {
        "id": "_LdwilM1qPM3",
        "colab": {
          "base_uri": "https://localhost:8080/"
        },
        "outputId": "27ede89c-e1fe-4be5-9f9d-22a02917643d"
      },
      "outputs": [
        {
          "output_type": "stream",
          "name": "stdout",
          "text": [
            "391/391 [==============================] - 29s 74ms/step - loss: 0.3133 - accuracy: 0.8572\n",
            "Test Loss: 0.3132984936237335\n",
            "Test Accuracy: 0.8572400212287903\n"
          ]
        }
      ],
      "source": [
        "test_loss, test_acc = model.evaluate(test_dataset)\n",
        "\n",
        "print('Test Loss:', test_loss)\n",
        "print('Test Accuracy:', test_acc)"
      ]
    },
    {
      "cell_type": "code",
      "execution_count": 30,
      "metadata": {
        "id": "ykUKnAoqbycW",
        "colab": {
          "base_uri": "https://localhost:8080/"
        },
        "outputId": "eb79f91e-8ab6-435f-d8ef-f013ad9328d3"
      },
      "outputs": [
        {
          "output_type": "stream",
          "name": "stdout",
          "text": [
            "1/1 [==============================] - 4s 4s/step\n",
            "[[-1.7926306]]\n"
          ]
        }
      ],
      "source": [
        "# predict on a sample text without padding.\n",
        "\n",
        "sample_text = ('The movie was not good. The animation and the graphics '\n",
        "               'were terrible. I would not recommend this movie.')\n",
        "predictions = model.predict(np.array([sample_text]))\n",
        "print(predictions)"
      ]
    },
    {
      "cell_type": "code",
      "execution_count": 31,
      "metadata": {
        "id": "_YYub0EDtwCu",
        "colab": {
          "base_uri": "https://localhost:8080/",
          "height": 388
        },
        "outputId": "c56d8883-32ea-40f4-afcc-7864cfacbdfe"
      },
      "outputs": [
        {
          "output_type": "display_data",
          "data": {
            "text/plain": [
              "<Figure size 1152x432 with 2 Axes>"
            ],
            "image/png": "[encoded data removed]"
          },
          "metadata": {
            "needs_background": "light"
          }
        }
      ],
      "source": [
        "plt.figure(figsize=(16, 6))\n",
        "plt.subplot(1, 2, 1)\n",
        "plot_graphs(history, 'accuracy')\n",
        "plt.subplot(1, 2, 2)\n",
        "plot_graphs(history, 'loss')"
      ]
    },
    {
      "cell_type": "markdown",
      "metadata": {
        "id": "9xvpE3BaGw_V"
      },
      "source": [
        "Check out other existing recurrent layers such as [GRU layers](https://www.tensorflow.org/api_docs/python/tf/keras/layers/GRU).\n",
        "\n",
        "If you're interested in building custom RNNs, see the [Keras RNN Guide](https://www.tensorflow.org/guide/keras/rnn).\n"
      ]
    },
    {
      "cell_type": "code",
      "source": [],
      "metadata": {
        "id": "41v9DqSBEXB4"
      },
      "execution_count": 31,
      "outputs": []
    }
  ],
  "metadata": {
    "accelerator": "GPU",
    "colab": {
      "provenance": []
    },
    "kernelspec": {
      "display_name": "Python 3",
      "name": "python3"
    }
  },
  "nbformat": 4,
  "nbformat_minor": 0
}