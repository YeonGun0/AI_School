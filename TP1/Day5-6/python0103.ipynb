{
 "cells": [
  {
   "cell_type": "markdown",
   "metadata": {
    "id": "afO9QopdYdsA"
   },
   "source": [
    "<img src=\"https://pandas.pydata.org/docs/_static/pandas.svg\" width=\"300\">"
   ]
  },
  {
   "cell_type": "code",
   "execution_count": 2,
   "metadata": {
    "id": "COhxDJ3WYdsF"
   },
   "outputs": [],
   "source": [
    "# import 라이브러리\n",
    "import pandas as pd\n",
    "import numpy as np"
   ]
  },
  {
   "cell_type": "markdown",
   "metadata": {
    "id": "ASDXq6HyYdsG"
   },
   "source": [
    "## DataFrame\n",
    "\n",
    "<img src=\"https://pandas.pydata.org/docs/_images/01_table_dataframe.svg\">"
   ]
  },
  {
   "cell_type": "code",
   "execution_count": 3,
   "metadata": {
    "id": "NKlbBWLyYdsH"
   },
   "outputs": [
    {
     "data": {
      "text/html": [
       "<div>\n",
       "<style scoped>\n",
       "    .dataframe tbody tr th:only-of-type {\n",
       "        vertical-align: middle;\n",
       "    }\n",
       "\n",
       "    .dataframe tbody tr th {\n",
       "        vertical-align: top;\n",
       "    }\n",
       "\n",
       "    .dataframe thead th {\n",
       "        text-align: right;\n",
       "    }\n",
       "</style>\n",
       "<table border=\"1\" class=\"dataframe\">\n",
       "  <thead>\n",
       "    <tr style=\"text-align: right;\">\n",
       "      <th></th>\n",
       "    </tr>\n",
       "  </thead>\n",
       "  <tbody>\n",
       "  </tbody>\n",
       "</table>\n",
       "</div>"
      ],
      "text/plain": [
       "Empty DataFrame\n",
       "Columns: []\n",
       "Index: []"
      ]
     },
     "execution_count": 3,
     "metadata": {},
     "output_type": "execute_result"
    }
   ],
   "source": [
    "# 빈 df 생성\n",
    "df = pd.DataFrame()\n",
    "df"
   ]
  },
  {
   "cell_type": "code",
   "execution_count": 4,
   "metadata": {
    "id": "4M7aul_LYdsI"
   },
   "outputs": [
    {
     "data": {
      "text/html": [
       "<div>\n",
       "<style scoped>\n",
       "    .dataframe tbody tr th:only-of-type {\n",
       "        vertical-align: middle;\n",
       "    }\n",
       "\n",
       "    .dataframe tbody tr th {\n",
       "        vertical-align: top;\n",
       "    }\n",
       "\n",
       "    .dataframe thead th {\n",
       "        text-align: right;\n",
       "    }\n",
       "</style>\n",
       "<table border=\"1\" class=\"dataframe\">\n",
       "  <thead>\n",
       "    <tr style=\"text-align: right;\">\n",
       "      <th></th>\n",
       "      <th>약품명</th>\n",
       "    </tr>\n",
       "  </thead>\n",
       "  <tbody>\n",
       "    <tr>\n",
       "      <th>0</th>\n",
       "      <td>소화제</td>\n",
       "    </tr>\n",
       "    <tr>\n",
       "      <th>1</th>\n",
       "      <td>감기약</td>\n",
       "    </tr>\n",
       "    <tr>\n",
       "      <th>2</th>\n",
       "      <td>비타민</td>\n",
       "    </tr>\n",
       "    <tr>\n",
       "      <th>3</th>\n",
       "      <td>digestive</td>\n",
       "    </tr>\n",
       "    <tr>\n",
       "      <th>4</th>\n",
       "      <td>Omega3</td>\n",
       "    </tr>\n",
       "    <tr>\n",
       "      <th>5</th>\n",
       "      <td>오메가3</td>\n",
       "    </tr>\n",
       "    <tr>\n",
       "      <th>6</th>\n",
       "      <td>vitamin</td>\n",
       "    </tr>\n",
       "    <tr>\n",
       "      <th>7</th>\n",
       "      <td>Vitamin</td>\n",
       "    </tr>\n",
       "  </tbody>\n",
       "</table>\n",
       "</div>"
      ],
      "text/plain": [
       "         약품명\n",
       "0        소화제\n",
       "1        감기약\n",
       "2        비타민\n",
       "3  digestive\n",
       "4     Omega3\n",
       "5       오메가3\n",
       "6    vitamin\n",
       "7    Vitamin"
      ]
     },
     "execution_count": 4,
     "metadata": {},
     "output_type": "execute_result"
    }
   ],
   "source": [
    "# column 추가\n",
    "df[\"약품명\"] = [\"소화제\", \"감기약\", \"비타민\", \"digestive\", \"Omega3\", \"오메가3\", \"vitamin\", \"Vitamin\"]\n",
    "df"
   ]
  },
  {
   "cell_type": "code",
   "execution_count": 5,
   "metadata": {
    "id": "3k-HC2XuYdsI"
   },
   "outputs": [
    {
     "data": {
      "text/html": [
       "<div>\n",
       "<style scoped>\n",
       "    .dataframe tbody tr th:only-of-type {\n",
       "        vertical-align: middle;\n",
       "    }\n",
       "\n",
       "    .dataframe tbody tr th {\n",
       "        vertical-align: top;\n",
       "    }\n",
       "\n",
       "    .dataframe thead th {\n",
       "        text-align: right;\n",
       "    }\n",
       "</style>\n",
       "<table border=\"1\" class=\"dataframe\">\n",
       "  <thead>\n",
       "    <tr style=\"text-align: right;\">\n",
       "      <th></th>\n",
       "      <th>약품명</th>\n",
       "      <th>가격</th>\n",
       "    </tr>\n",
       "  </thead>\n",
       "  <tbody>\n",
       "    <tr>\n",
       "      <th>0</th>\n",
       "      <td>소화제</td>\n",
       "      <td>3500</td>\n",
       "    </tr>\n",
       "    <tr>\n",
       "      <th>1</th>\n",
       "      <td>감기약</td>\n",
       "      <td>3500</td>\n",
       "    </tr>\n",
       "    <tr>\n",
       "      <th>2</th>\n",
       "      <td>비타민</td>\n",
       "      <td>3500</td>\n",
       "    </tr>\n",
       "    <tr>\n",
       "      <th>3</th>\n",
       "      <td>digestive</td>\n",
       "      <td>3500</td>\n",
       "    </tr>\n",
       "    <tr>\n",
       "      <th>4</th>\n",
       "      <td>Omega3</td>\n",
       "      <td>3500</td>\n",
       "    </tr>\n",
       "    <tr>\n",
       "      <th>5</th>\n",
       "      <td>오메가3</td>\n",
       "      <td>3500</td>\n",
       "    </tr>\n",
       "    <tr>\n",
       "      <th>6</th>\n",
       "      <td>vitamin</td>\n",
       "      <td>3500</td>\n",
       "    </tr>\n",
       "    <tr>\n",
       "      <th>7</th>\n",
       "      <td>Vitamin</td>\n",
       "      <td>3500</td>\n",
       "    </tr>\n",
       "  </tbody>\n",
       "</table>\n",
       "</div>"
      ],
      "text/plain": [
       "         약품명    가격\n",
       "0        소화제  3500\n",
       "1        감기약  3500\n",
       "2        비타민  3500\n",
       "3  digestive  3500\n",
       "4     Omega3  3500\n",
       "5       오메가3  3500\n",
       "6    vitamin  3500\n",
       "7    Vitamin  3500"
      ]
     },
     "execution_count": 5,
     "metadata": {},
     "output_type": "execute_result"
    }
   ],
   "source": [
    "# 가격 col 추가\n",
    "# 하나의 값을 입력하면 일괄적으로 모든 행에 입력 \n",
    "# broadcasting\n",
    "df[\"가격\"] = 3500\n",
    "df"
   ]
  },
  {
   "cell_type": "code",
   "execution_count": 6,
   "metadata": {
    "id": "a0CHuaE8YdsJ"
   },
   "outputs": [
    {
     "data": {
      "text/plain": [
       "0    3500\n",
       "1    3500\n",
       "2    3500\n",
       "3    3500\n",
       "4    3500\n",
       "5    3500\n",
       "6    3500\n",
       "7    3500\n",
       "Name: 가격, dtype: int64"
      ]
     },
     "execution_count": 6,
     "metadata": {},
     "output_type": "execute_result"
    }
   ],
   "source": [
    "# 가격 col만 출력\n",
    "# Seies, 벡터, 1차원\n",
    "df[\"가격\"]"
   ]
  },
  {
   "cell_type": "code",
   "execution_count": 7,
   "metadata": {
    "id": "-k-nlbwkYdsK"
   },
   "outputs": [
    {
     "data": {
      "text/plain": [
       "pandas.core.frame.DataFrame"
      ]
     },
     "execution_count": 7,
     "metadata": {},
     "output_type": "execute_result"
    }
   ],
   "source": [
    "# type of data\n",
    "type(df)"
   ]
  },
  {
   "cell_type": "code",
   "execution_count": 8,
   "metadata": {
    "id": "zgenEmOcYdsK"
   },
   "outputs": [
    {
     "data": {
      "text/plain": [
       "pandas.core.series.Series"
      ]
     },
     "execution_count": 8,
     "metadata": {},
     "output_type": "execute_result"
    }
   ],
   "source": [
    "# type of data\n",
    "type(df['가격'])"
   ]
  },
  {
   "cell_type": "code",
   "execution_count": 9,
   "metadata": {
    "id": "ynR4sdDeYdsL"
   },
   "outputs": [
    {
     "data": {
      "text/plain": [
       "[3500, 3500, 3500, 3500, 3500, 3500, 3500, 3500]"
      ]
     },
     "execution_count": 9,
     "metadata": {},
     "output_type": "execute_result"
    }
   ],
   "source": [
    "# Series를 list로 변환 #1\n",
    "df[\"가격\"].tolist()"
   ]
  },
  {
   "cell_type": "code",
   "execution_count": 10,
   "metadata": {},
   "outputs": [
    {
     "data": {
      "text/plain": [
       "[3500, 3500, 3500, 3500, 3500, 3500, 3500, 3500]"
      ]
     },
     "execution_count": 10,
     "metadata": {},
     "output_type": "execute_result"
    }
   ],
   "source": [
    "# Series를 list로 변환 #2\n",
    "list(df[\"가격\"])"
   ]
  },
  {
   "cell_type": "code",
   "execution_count": 11,
   "metadata": {},
   "outputs": [
    {
     "name": "stdout",
     "output_type": "stream",
     "text": [
      "1.25 µs ± 3.59 ns per loop (mean ± std. dev. of 7 runs, 1000000 loops each)\n"
     ]
    }
   ],
   "source": [
    "# 시간을 측정하는 방법 %timeit\n",
    "%timeit df[\"가격\"].tolist()"
   ]
  },
  {
   "cell_type": "code",
   "execution_count": 12,
   "metadata": {},
   "outputs": [
    {
     "name": "stdout",
     "output_type": "stream",
     "text": [
      "2.45 µs ± 7.64 ns per loop (mean ± std. dev. of 7 runs, 100000 loops each)\n"
     ]
    }
   ],
   "source": [
    "%timeit list(df[\"가격\"])"
   ]
  },
  {
   "cell_type": "markdown",
   "metadata": {
    "id": "WHb7G1Q9YdsL"
   },
   "source": [
    "## Column Update"
   ]
  },
  {
   "cell_type": "code",
   "execution_count": 13,
   "metadata": {
    "id": "ABXY7B5vYdsL"
   },
   "outputs": [
    {
     "data": {
      "text/html": [
       "<div>\n",
       "<style scoped>\n",
       "    .dataframe tbody tr th:only-of-type {\n",
       "        vertical-align: middle;\n",
       "    }\n",
       "\n",
       "    .dataframe tbody tr th {\n",
       "        vertical-align: top;\n",
       "    }\n",
       "\n",
       "    .dataframe thead th {\n",
       "        text-align: right;\n",
       "    }\n",
       "</style>\n",
       "<table border=\"1\" class=\"dataframe\">\n",
       "  <thead>\n",
       "    <tr style=\"text-align: right;\">\n",
       "      <th></th>\n",
       "      <th>약품명</th>\n",
       "      <th>가격</th>\n",
       "    </tr>\n",
       "  </thead>\n",
       "  <tbody>\n",
       "    <tr>\n",
       "      <th>0</th>\n",
       "      <td>소화제</td>\n",
       "      <td>3500.0</td>\n",
       "    </tr>\n",
       "    <tr>\n",
       "      <th>1</th>\n",
       "      <td>감기약</td>\n",
       "      <td>3200.0</td>\n",
       "    </tr>\n",
       "    <tr>\n",
       "      <th>2</th>\n",
       "      <td>비타민</td>\n",
       "      <td>4000.0</td>\n",
       "    </tr>\n",
       "    <tr>\n",
       "      <th>3</th>\n",
       "      <td>digestive</td>\n",
       "      <td>3200.0</td>\n",
       "    </tr>\n",
       "    <tr>\n",
       "      <th>4</th>\n",
       "      <td>Omega3</td>\n",
       "      <td>3700.0</td>\n",
       "    </tr>\n",
       "    <tr>\n",
       "      <th>5</th>\n",
       "      <td>오메가3</td>\n",
       "      <td>NaN</td>\n",
       "    </tr>\n",
       "    <tr>\n",
       "      <th>6</th>\n",
       "      <td>vitamin</td>\n",
       "      <td>2000.0</td>\n",
       "    </tr>\n",
       "    <tr>\n",
       "      <th>7</th>\n",
       "      <td>Vitamin</td>\n",
       "      <td>1000.0</td>\n",
       "    </tr>\n",
       "  </tbody>\n",
       "</table>\n",
       "</div>"
      ],
      "text/plain": [
       "         약품명      가격\n",
       "0        소화제  3500.0\n",
       "1        감기약  3200.0\n",
       "2        비타민  4000.0\n",
       "3  digestive  3200.0\n",
       "4     Omega3  3700.0\n",
       "5       오메가3     NaN\n",
       "6    vitamin  2000.0\n",
       "7    Vitamin  1000.0"
      ]
     },
     "execution_count": 13,
     "metadata": {},
     "output_type": "execute_result"
    }
   ],
   "source": [
    "df[\"가격\"] = [3500, 3200, 4000, 3200, 3700, np.nan, 2000, 1000]\n",
    "df"
   ]
  },
  {
   "cell_type": "markdown",
   "metadata": {
    "id": "JHNqS6NhYdsL"
   },
   "source": [
    "### NaN == 결측치, Not a Number\n",
    "### Type of NaN is \"float\"\n",
    "### 한 column에는 다 같은 type이어야 함"
   ]
  },
  {
   "cell_type": "code",
   "execution_count": 14,
   "metadata": {
    "id": "obPxxMl1YdsM"
   },
   "outputs": [
    {
     "data": {
      "text/html": [
       "<div>\n",
       "<style scoped>\n",
       "    .dataframe tbody tr th:only-of-type {\n",
       "        vertical-align: middle;\n",
       "    }\n",
       "\n",
       "    .dataframe tbody tr th {\n",
       "        vertical-align: top;\n",
       "    }\n",
       "\n",
       "    .dataframe thead th {\n",
       "        text-align: right;\n",
       "    }\n",
       "</style>\n",
       "<table border=\"1\" class=\"dataframe\">\n",
       "  <thead>\n",
       "    <tr style=\"text-align: right;\">\n",
       "      <th></th>\n",
       "      <th>약품명</th>\n",
       "      <th>가격</th>\n",
       "      <th>지역</th>\n",
       "    </tr>\n",
       "  </thead>\n",
       "  <tbody>\n",
       "    <tr>\n",
       "      <th>0</th>\n",
       "      <td>소화제</td>\n",
       "      <td>3500.0</td>\n",
       "      <td>서울</td>\n",
       "    </tr>\n",
       "    <tr>\n",
       "      <th>1</th>\n",
       "      <td>감기약</td>\n",
       "      <td>3200.0</td>\n",
       "      <td>서울</td>\n",
       "    </tr>\n",
       "    <tr>\n",
       "      <th>2</th>\n",
       "      <td>비타민</td>\n",
       "      <td>4000.0</td>\n",
       "      <td>서울</td>\n",
       "    </tr>\n",
       "    <tr>\n",
       "      <th>3</th>\n",
       "      <td>digestive</td>\n",
       "      <td>3200.0</td>\n",
       "      <td>서울</td>\n",
       "    </tr>\n",
       "    <tr>\n",
       "      <th>4</th>\n",
       "      <td>Omega3</td>\n",
       "      <td>3700.0</td>\n",
       "      <td>서울</td>\n",
       "    </tr>\n",
       "    <tr>\n",
       "      <th>5</th>\n",
       "      <td>오메가3</td>\n",
       "      <td>NaN</td>\n",
       "      <td>서울</td>\n",
       "    </tr>\n",
       "    <tr>\n",
       "      <th>6</th>\n",
       "      <td>vitamin</td>\n",
       "      <td>2000.0</td>\n",
       "      <td>서울</td>\n",
       "    </tr>\n",
       "    <tr>\n",
       "      <th>7</th>\n",
       "      <td>Vitamin</td>\n",
       "      <td>1000.0</td>\n",
       "      <td>서울</td>\n",
       "    </tr>\n",
       "  </tbody>\n",
       "</table>\n",
       "</div>"
      ],
      "text/plain": [
       "         약품명      가격  지역\n",
       "0        소화제  3500.0  서울\n",
       "1        감기약  3200.0  서울\n",
       "2        비타민  4000.0  서울\n",
       "3  digestive  3200.0  서울\n",
       "4     Omega3  3700.0  서울\n",
       "5       오메가3     NaN  서울\n",
       "6    vitamin  2000.0  서울\n",
       "7    Vitamin  1000.0  서울"
      ]
     },
     "execution_count": 14,
     "metadata": {},
     "output_type": "execute_result"
    }
   ],
   "source": [
    "# \"지역\" col 추가\n",
    "df[\"지역\"] = \"서울\"\n",
    "df"
   ]
  },
  {
   "cell_type": "code",
   "execution_count": 19,
   "metadata": {
    "id": "Y2idBWJnYdsM"
   },
   "outputs": [
    {
     "data": {
      "text/html": [
       "<div>\n",
       "<style scoped>\n",
       "    .dataframe tbody tr th:only-of-type {\n",
       "        vertical-align: middle;\n",
       "    }\n",
       "\n",
       "    .dataframe tbody tr th {\n",
       "        vertical-align: top;\n",
       "    }\n",
       "\n",
       "    .dataframe thead th {\n",
       "        text-align: right;\n",
       "    }\n",
       "</style>\n",
       "<table border=\"1\" class=\"dataframe\">\n",
       "  <thead>\n",
       "    <tr style=\"text-align: right;\">\n",
       "      <th></th>\n",
       "      <th>약품명</th>\n",
       "      <th>가격</th>\n",
       "      <th>지역</th>\n",
       "      <th>종류</th>\n",
       "      <th>종류2</th>\n",
       "    </tr>\n",
       "  </thead>\n",
       "  <tbody>\n",
       "    <tr>\n",
       "      <th>0</th>\n",
       "      <td>소화제</td>\n",
       "      <td>3500.0</td>\n",
       "      <td>서울</td>\n",
       "      <td>일반의약품</td>\n",
       "      <td>전문의약품</td>\n",
       "    </tr>\n",
       "    <tr>\n",
       "      <th>1</th>\n",
       "      <td>감기약</td>\n",
       "      <td>3200.0</td>\n",
       "      <td>서울</td>\n",
       "      <td>일반의약품</td>\n",
       "      <td>전문의약품</td>\n",
       "    </tr>\n",
       "    <tr>\n",
       "      <th>2</th>\n",
       "      <td>비타민</td>\n",
       "      <td>4000.0</td>\n",
       "      <td>서울</td>\n",
       "      <td>일반의약품</td>\n",
       "      <td>전문의약품</td>\n",
       "    </tr>\n",
       "    <tr>\n",
       "      <th>3</th>\n",
       "      <td>digestive</td>\n",
       "      <td>3200.0</td>\n",
       "      <td>서울</td>\n",
       "      <td>일반의약품</td>\n",
       "      <td>전문의약품</td>\n",
       "    </tr>\n",
       "    <tr>\n",
       "      <th>4</th>\n",
       "      <td>Omega3</td>\n",
       "      <td>3700.0</td>\n",
       "      <td>서울</td>\n",
       "      <td>일반의약품</td>\n",
       "      <td>전문의약품</td>\n",
       "    </tr>\n",
       "    <tr>\n",
       "      <th>5</th>\n",
       "      <td>오메가3</td>\n",
       "      <td>NaN</td>\n",
       "      <td>서울</td>\n",
       "      <td>일반의약품</td>\n",
       "      <td>전문의약품</td>\n",
       "    </tr>\n",
       "    <tr>\n",
       "      <th>6</th>\n",
       "      <td>vitamin</td>\n",
       "      <td>2000.0</td>\n",
       "      <td>서울</td>\n",
       "      <td>일반의약품</td>\n",
       "      <td>전문의약품</td>\n",
       "    </tr>\n",
       "    <tr>\n",
       "      <th>7</th>\n",
       "      <td>Vitamin</td>\n",
       "      <td>1000.0</td>\n",
       "      <td>서울</td>\n",
       "      <td>일반의약품</td>\n",
       "      <td>전문의약품</td>\n",
       "    </tr>\n",
       "  </tbody>\n",
       "</table>\n",
       "</div>"
      ],
      "text/plain": [
       "         약품명      가격  지역     종류    종류2\n",
       "0        소화제  3500.0  서울  일반의약품  전문의약품\n",
       "1        감기약  3200.0  서울  일반의약품  전문의약품\n",
       "2        비타민  4000.0  서울  일반의약품  전문의약품\n",
       "3  digestive  3200.0  서울  일반의약품  전문의약품\n",
       "4     Omega3  3700.0  서울  일반의약품  전문의약품\n",
       "5       오메가3     NaN  서울  일반의약품  전문의약품\n",
       "6    vitamin  2000.0  서울  일반의약품  전문의약품\n",
       "7    Vitamin  1000.0  서울  일반의약품  전문의약품"
      ]
     },
     "execution_count": 19,
     "metadata": {},
     "output_type": "execute_result"
    }
   ],
   "source": [
    "# \"종류\" col 추가, 일반의약품 입력\n",
    "df['종류'] = \"일반의약품\"\n",
    "df[\"종류2\"] = \"전문의약품\"\n",
    "df"
   ]
  },
  {
   "cell_type": "markdown",
   "metadata": {},
   "source": [
    "## Column Delete"
   ]
  },
  {
   "cell_type": "code",
   "execution_count": 16,
   "metadata": {
    "id": "-XZBSo8fYdsM",
    "scrolled": true
   },
   "outputs": [
    {
     "data": {
      "text/html": [
       "<div>\n",
       "<style scoped>\n",
       "    .dataframe tbody tr th:only-of-type {\n",
       "        vertical-align: middle;\n",
       "    }\n",
       "\n",
       "    .dataframe tbody tr th {\n",
       "        vertical-align: top;\n",
       "    }\n",
       "\n",
       "    .dataframe thead th {\n",
       "        text-align: right;\n",
       "    }\n",
       "</style>\n",
       "<table border=\"1\" class=\"dataframe\">\n",
       "  <thead>\n",
       "    <tr style=\"text-align: right;\">\n",
       "      <th></th>\n",
       "      <th>약품명</th>\n",
       "      <th>가격</th>\n",
       "      <th>지역</th>\n",
       "      <th>종류</th>\n",
       "    </tr>\n",
       "  </thead>\n",
       "  <tbody>\n",
       "    <tr>\n",
       "      <th>0</th>\n",
       "      <td>소화제</td>\n",
       "      <td>3500.0</td>\n",
       "      <td>서울</td>\n",
       "      <td>일반의약품</td>\n",
       "    </tr>\n",
       "    <tr>\n",
       "      <th>1</th>\n",
       "      <td>감기약</td>\n",
       "      <td>3200.0</td>\n",
       "      <td>서울</td>\n",
       "      <td>일반의약품</td>\n",
       "    </tr>\n",
       "    <tr>\n",
       "      <th>2</th>\n",
       "      <td>비타민</td>\n",
       "      <td>4000.0</td>\n",
       "      <td>서울</td>\n",
       "      <td>일반의약품</td>\n",
       "    </tr>\n",
       "    <tr>\n",
       "      <th>3</th>\n",
       "      <td>digestive</td>\n",
       "      <td>3200.0</td>\n",
       "      <td>서울</td>\n",
       "      <td>일반의약품</td>\n",
       "    </tr>\n",
       "    <tr>\n",
       "      <th>4</th>\n",
       "      <td>Omega3</td>\n",
       "      <td>3700.0</td>\n",
       "      <td>서울</td>\n",
       "      <td>일반의약품</td>\n",
       "    </tr>\n",
       "    <tr>\n",
       "      <th>5</th>\n",
       "      <td>오메가3</td>\n",
       "      <td>NaN</td>\n",
       "      <td>서울</td>\n",
       "      <td>일반의약품</td>\n",
       "    </tr>\n",
       "    <tr>\n",
       "      <th>6</th>\n",
       "      <td>vitamin</td>\n",
       "      <td>2000.0</td>\n",
       "      <td>서울</td>\n",
       "      <td>일반의약품</td>\n",
       "    </tr>\n",
       "    <tr>\n",
       "      <th>7</th>\n",
       "      <td>Vitamin</td>\n",
       "      <td>1000.0</td>\n",
       "      <td>서울</td>\n",
       "      <td>일반의약품</td>\n",
       "    </tr>\n",
       "  </tbody>\n",
       "</table>\n",
       "</div>"
      ],
      "text/plain": [
       "         약품명      가격  지역     종류\n",
       "0        소화제  3500.0  서울  일반의약품\n",
       "1        감기약  3200.0  서울  일반의약품\n",
       "2        비타민  4000.0  서울  일반의약품\n",
       "3  digestive  3200.0  서울  일반의약품\n",
       "4     Omega3  3700.0  서울  일반의약품\n",
       "5       오메가3     NaN  서울  일반의약품\n",
       "6    vitamin  2000.0  서울  일반의약품\n",
       "7    Vitamin  1000.0  서울  일반의약품"
      ]
     },
     "execution_count": 16,
     "metadata": {},
     "output_type": "execute_result"
    }
   ],
   "source": [
    "# axis : 0은 row를 의미, 1은 col을 의미\n",
    "df.drop(\"종류2\", axis = 1)"
   ]
  },
  {
   "cell_type": "code",
   "execution_count": 17,
   "metadata": {},
   "outputs": [
    {
     "data": {
      "text/html": [
       "<div>\n",
       "<style scoped>\n",
       "    .dataframe tbody tr th:only-of-type {\n",
       "        vertical-align: middle;\n",
       "    }\n",
       "\n",
       "    .dataframe tbody tr th {\n",
       "        vertical-align: top;\n",
       "    }\n",
       "\n",
       "    .dataframe thead th {\n",
       "        text-align: right;\n",
       "    }\n",
       "</style>\n",
       "<table border=\"1\" class=\"dataframe\">\n",
       "  <thead>\n",
       "    <tr style=\"text-align: right;\">\n",
       "      <th></th>\n",
       "      <th>약품명</th>\n",
       "      <th>가격</th>\n",
       "      <th>지역</th>\n",
       "      <th>종류</th>\n",
       "      <th>종류2</th>\n",
       "    </tr>\n",
       "  </thead>\n",
       "  <tbody>\n",
       "    <tr>\n",
       "      <th>0</th>\n",
       "      <td>소화제</td>\n",
       "      <td>3500.0</td>\n",
       "      <td>서울</td>\n",
       "      <td>일반의약품</td>\n",
       "      <td>전문의약품</td>\n",
       "    </tr>\n",
       "    <tr>\n",
       "      <th>1</th>\n",
       "      <td>감기약</td>\n",
       "      <td>3200.0</td>\n",
       "      <td>서울</td>\n",
       "      <td>일반의약품</td>\n",
       "      <td>전문의약품</td>\n",
       "    </tr>\n",
       "    <tr>\n",
       "      <th>2</th>\n",
       "      <td>비타민</td>\n",
       "      <td>4000.0</td>\n",
       "      <td>서울</td>\n",
       "      <td>일반의약품</td>\n",
       "      <td>전문의약품</td>\n",
       "    </tr>\n",
       "    <tr>\n",
       "      <th>3</th>\n",
       "      <td>digestive</td>\n",
       "      <td>3200.0</td>\n",
       "      <td>서울</td>\n",
       "      <td>일반의약품</td>\n",
       "      <td>전문의약품</td>\n",
       "    </tr>\n",
       "    <tr>\n",
       "      <th>4</th>\n",
       "      <td>Omega3</td>\n",
       "      <td>3700.0</td>\n",
       "      <td>서울</td>\n",
       "      <td>일반의약품</td>\n",
       "      <td>전문의약품</td>\n",
       "    </tr>\n",
       "    <tr>\n",
       "      <th>5</th>\n",
       "      <td>오메가3</td>\n",
       "      <td>NaN</td>\n",
       "      <td>서울</td>\n",
       "      <td>일반의약품</td>\n",
       "      <td>전문의약품</td>\n",
       "    </tr>\n",
       "    <tr>\n",
       "      <th>6</th>\n",
       "      <td>vitamin</td>\n",
       "      <td>2000.0</td>\n",
       "      <td>서울</td>\n",
       "      <td>일반의약품</td>\n",
       "      <td>전문의약품</td>\n",
       "    </tr>\n",
       "    <tr>\n",
       "      <th>7</th>\n",
       "      <td>Vitamin</td>\n",
       "      <td>1000.0</td>\n",
       "      <td>서울</td>\n",
       "      <td>일반의약품</td>\n",
       "      <td>전문의약품</td>\n",
       "    </tr>\n",
       "  </tbody>\n",
       "</table>\n",
       "</div>"
      ],
      "text/plain": [
       "         약품명      가격  지역     종류    종류2\n",
       "0        소화제  3500.0  서울  일반의약품  전문의약품\n",
       "1        감기약  3200.0  서울  일반의약품  전문의약품\n",
       "2        비타민  4000.0  서울  일반의약품  전문의약품\n",
       "3  digestive  3200.0  서울  일반의약품  전문의약품\n",
       "4     Omega3  3700.0  서울  일반의약품  전문의약품\n",
       "5       오메가3     NaN  서울  일반의약품  전문의약품\n",
       "6    vitamin  2000.0  서울  일반의약품  전문의약품\n",
       "7    Vitamin  1000.0  서울  일반의약품  전문의약품"
      ]
     },
     "execution_count": 17,
     "metadata": {},
     "output_type": "execute_result"
    }
   ],
   "source": [
    "# 하지만 df에는 삭제되지 않은 모습\n",
    "df"
   ]
  },
  {
   "cell_type": "code",
   "execution_count": 20,
   "metadata": {
    "scrolled": true
   },
   "outputs": [
    {
     "data": {
      "text/html": [
       "<div>\n",
       "<style scoped>\n",
       "    .dataframe tbody tr th:only-of-type {\n",
       "        vertical-align: middle;\n",
       "    }\n",
       "\n",
       "    .dataframe tbody tr th {\n",
       "        vertical-align: top;\n",
       "    }\n",
       "\n",
       "    .dataframe thead th {\n",
       "        text-align: right;\n",
       "    }\n",
       "</style>\n",
       "<table border=\"1\" class=\"dataframe\">\n",
       "  <thead>\n",
       "    <tr style=\"text-align: right;\">\n",
       "      <th></th>\n",
       "      <th>약품명</th>\n",
       "      <th>가격</th>\n",
       "      <th>지역</th>\n",
       "      <th>종류</th>\n",
       "    </tr>\n",
       "  </thead>\n",
       "  <tbody>\n",
       "    <tr>\n",
       "      <th>0</th>\n",
       "      <td>소화제</td>\n",
       "      <td>3500.0</td>\n",
       "      <td>서울</td>\n",
       "      <td>일반의약품</td>\n",
       "    </tr>\n",
       "    <tr>\n",
       "      <th>1</th>\n",
       "      <td>감기약</td>\n",
       "      <td>3200.0</td>\n",
       "      <td>서울</td>\n",
       "      <td>일반의약품</td>\n",
       "    </tr>\n",
       "    <tr>\n",
       "      <th>2</th>\n",
       "      <td>비타민</td>\n",
       "      <td>4000.0</td>\n",
       "      <td>서울</td>\n",
       "      <td>일반의약품</td>\n",
       "    </tr>\n",
       "    <tr>\n",
       "      <th>3</th>\n",
       "      <td>digestive</td>\n",
       "      <td>3200.0</td>\n",
       "      <td>서울</td>\n",
       "      <td>일반의약품</td>\n",
       "    </tr>\n",
       "    <tr>\n",
       "      <th>4</th>\n",
       "      <td>Omega3</td>\n",
       "      <td>3700.0</td>\n",
       "      <td>서울</td>\n",
       "      <td>일반의약품</td>\n",
       "    </tr>\n",
       "    <tr>\n",
       "      <th>5</th>\n",
       "      <td>오메가3</td>\n",
       "      <td>NaN</td>\n",
       "      <td>서울</td>\n",
       "      <td>일반의약품</td>\n",
       "    </tr>\n",
       "    <tr>\n",
       "      <th>6</th>\n",
       "      <td>vitamin</td>\n",
       "      <td>2000.0</td>\n",
       "      <td>서울</td>\n",
       "      <td>일반의약품</td>\n",
       "    </tr>\n",
       "    <tr>\n",
       "      <th>7</th>\n",
       "      <td>Vitamin</td>\n",
       "      <td>1000.0</td>\n",
       "      <td>서울</td>\n",
       "      <td>일반의약품</td>\n",
       "    </tr>\n",
       "  </tbody>\n",
       "</table>\n",
       "</div>"
      ],
      "text/plain": [
       "         약품명      가격  지역     종류\n",
       "0        소화제  3500.0  서울  일반의약품\n",
       "1        감기약  3200.0  서울  일반의약품\n",
       "2        비타민  4000.0  서울  일반의약품\n",
       "3  digestive  3200.0  서울  일반의약품\n",
       "4     Omega3  3700.0  서울  일반의약품\n",
       "5       오메가3     NaN  서울  일반의약품\n",
       "6    vitamin  2000.0  서울  일반의약품\n",
       "7    Vitamin  1000.0  서울  일반의약품"
      ]
     },
     "execution_count": 20,
     "metadata": {},
     "output_type": "execute_result"
    }
   ],
   "source": [
    "# df에도 적용하고 싶다면 변수에 재할당 \n",
    "df = df.drop(\"종류2\", axis = 1)\n",
    "# or inplace = True\n",
    "df.drop(\"종류2\", axis = 1, inplace = True)\n",
    "df\n",
    "# inplace = True 는 권장하지 않음\n",
    "# 현재 Python 개발자 사이에서 inplace 기능을 없애자는 논의 중\n",
    "# Method Chaining의 경우 inplace가 동작하지 않는 경우가 있기 때문, 변수 할당하는 것은 문제 없음"
   ]
  },
  {
   "cell_type": "markdown",
   "metadata": {
    "id": "lp3Cqy1fYdsM"
   },
   "source": [
    "## 데이터 요약"
   ]
  },
  {
   "cell_type": "code",
   "execution_count": 21,
   "metadata": {
    "id": "EjVc6E3fYdsM",
    "scrolled": true
   },
   "outputs": [
    {
     "name": "stdout",
     "output_type": "stream",
     "text": [
      "<class 'pandas.core.frame.DataFrame'>\n",
      "RangeIndex: 8 entries, 0 to 7\n",
      "Data columns (total 4 columns):\n",
      " #   Column  Non-Null Count  Dtype  \n",
      "---  ------  --------------  -----  \n",
      " 0   약품명     8 non-null      object \n",
      " 1   가격      7 non-null      float64\n",
      " 2   지역      8 non-null      object \n",
      " 3   종류      8 non-null      object \n",
      "dtypes: float64(1), object(3)\n",
      "memory usage: 384.0+ bytes\n"
     ]
    }
   ],
   "source": [
    "# info of df\n",
    "df.info()"
   ]
  },
  {
   "cell_type": "code",
   "execution_count": 22,
   "metadata": {
    "id": "Q-GwpX7cYdsN"
   },
   "outputs": [
    {
     "data": {
      "text/plain": [
       "(8, 4)"
      ]
     },
     "execution_count": 22,
     "metadata": {},
     "output_type": "execute_result"
    }
   ],
   "source": [
    "# size of df\n",
    "# attribute로 구현된 것은 \"()\"를 필요로 하지 않음\n",
    "# method로 구현된 것이 끝에 \"()\" 필요\n",
    "# (row, col)\n",
    "df.shape"
   ]
  },
  {
   "cell_type": "code",
   "execution_count": 23,
   "metadata": {
    "id": "FiD_MO86YdsN"
   },
   "outputs": [
    {
     "data": {
      "text/plain": [
       "약품명     object\n",
       "가격     float64\n",
       "지역      object\n",
       "종류      object\n",
       "dtype: object"
      ]
     },
     "execution_count": 23,
     "metadata": {},
     "output_type": "execute_result"
    }
   ],
   "source": [
    "# type of data\n",
    "df.dtypes"
   ]
  },
  {
   "cell_type": "code",
   "execution_count": 24,
   "metadata": {
    "id": "HvW3YjhXYdsN"
   },
   "outputs": [
    {
     "data": {
      "text/html": [
       "<div>\n",
       "<style scoped>\n",
       "    .dataframe tbody tr th:only-of-type {\n",
       "        vertical-align: middle;\n",
       "    }\n",
       "\n",
       "    .dataframe tbody tr th {\n",
       "        vertical-align: top;\n",
       "    }\n",
       "\n",
       "    .dataframe thead th {\n",
       "        text-align: right;\n",
       "    }\n",
       "</style>\n",
       "<table border=\"1\" class=\"dataframe\">\n",
       "  <thead>\n",
       "    <tr style=\"text-align: right;\">\n",
       "      <th></th>\n",
       "      <th>가격</th>\n",
       "    </tr>\n",
       "  </thead>\n",
       "  <tbody>\n",
       "    <tr>\n",
       "      <th>count</th>\n",
       "      <td>7.000000</td>\n",
       "    </tr>\n",
       "    <tr>\n",
       "      <th>mean</th>\n",
       "      <td>2942.857143</td>\n",
       "    </tr>\n",
       "    <tr>\n",
       "      <th>std</th>\n",
       "      <td>1064.357620</td>\n",
       "    </tr>\n",
       "    <tr>\n",
       "      <th>min</th>\n",
       "      <td>1000.000000</td>\n",
       "    </tr>\n",
       "    <tr>\n",
       "      <th>25%</th>\n",
       "      <td>2600.000000</td>\n",
       "    </tr>\n",
       "    <tr>\n",
       "      <th>50%</th>\n",
       "      <td>3200.000000</td>\n",
       "    </tr>\n",
       "    <tr>\n",
       "      <th>75%</th>\n",
       "      <td>3600.000000</td>\n",
       "    </tr>\n",
       "    <tr>\n",
       "      <th>max</th>\n",
       "      <td>4000.000000</td>\n",
       "    </tr>\n",
       "  </tbody>\n",
       "</table>\n",
       "</div>"
      ],
      "text/plain": [
       "                가격\n",
       "count     7.000000\n",
       "mean   2942.857143\n",
       "std    1064.357620\n",
       "min    1000.000000\n",
       "25%    2600.000000\n",
       "50%    3200.000000\n",
       "75%    3600.000000\n",
       "max    4000.000000"
      ]
     },
     "execution_count": 24,
     "metadata": {},
     "output_type": "execute_result"
    }
   ],
   "source": [
    "# df의 요약정보\n",
    "# 수치형 데이터의 기술통계 \n",
    "# NaN 값을 제외하고 계산\n",
    "# ex) 빈도 수, 평균, 표준편차, 최솟값, 사분위수, 최댓값\n",
    "df.describe()"
   ]
  },
  {
   "cell_type": "code",
   "execution_count": 25,
   "metadata": {
    "id": "EviJqO3CYdsN",
    "scrolled": true
   },
   "outputs": [
    {
     "data": {
      "text/html": [
       "<div>\n",
       "<style scoped>\n",
       "    .dataframe tbody tr th:only-of-type {\n",
       "        vertical-align: middle;\n",
       "    }\n",
       "\n",
       "    .dataframe tbody tr th {\n",
       "        vertical-align: top;\n",
       "    }\n",
       "\n",
       "    .dataframe thead th {\n",
       "        text-align: right;\n",
       "    }\n",
       "</style>\n",
       "<table border=\"1\" class=\"dataframe\">\n",
       "  <thead>\n",
       "    <tr style=\"text-align: right;\">\n",
       "      <th></th>\n",
       "      <th>약품명</th>\n",
       "      <th>지역</th>\n",
       "      <th>종류</th>\n",
       "    </tr>\n",
       "  </thead>\n",
       "  <tbody>\n",
       "    <tr>\n",
       "      <th>count</th>\n",
       "      <td>8</td>\n",
       "      <td>8</td>\n",
       "      <td>8</td>\n",
       "    </tr>\n",
       "    <tr>\n",
       "      <th>unique</th>\n",
       "      <td>8</td>\n",
       "      <td>1</td>\n",
       "      <td>1</td>\n",
       "    </tr>\n",
       "    <tr>\n",
       "      <th>top</th>\n",
       "      <td>소화제</td>\n",
       "      <td>서울</td>\n",
       "      <td>일반의약품</td>\n",
       "    </tr>\n",
       "    <tr>\n",
       "      <th>freq</th>\n",
       "      <td>1</td>\n",
       "      <td>8</td>\n",
       "      <td>8</td>\n",
       "    </tr>\n",
       "  </tbody>\n",
       "</table>\n",
       "</div>"
      ],
      "text/plain": [
       "        약품명  지역     종류\n",
       "count     8   8      8\n",
       "unique    8   1      1\n",
       "top     소화제  서울  일반의약품\n",
       "freq      1   8      8"
      ]
     },
     "execution_count": 25,
     "metadata": {},
     "output_type": "execute_result"
    }
   ],
   "source": [
    "# 범주형 데이터의 기술통계\n",
    "# 개수\n",
    "# 고유값, 유일값\n",
    "# 최빈값\n",
    "# 최빈값의 빈도수\n",
    "df.describe(include='object')"
   ]
  },
  {
   "cell_type": "markdown",
   "metadata": {},
   "source": [
    "## 두 개 이상의 col 출력 with list"
   ]
  },
  {
   "cell_type": "code",
   "execution_count": 27,
   "metadata": {},
   "outputs": [
    {
     "data": {
      "text/html": [
       "<div>\n",
       "<style scoped>\n",
       "    .dataframe tbody tr th:only-of-type {\n",
       "        vertical-align: middle;\n",
       "    }\n",
       "\n",
       "    .dataframe tbody tr th {\n",
       "        vertical-align: top;\n",
       "    }\n",
       "\n",
       "    .dataframe thead th {\n",
       "        text-align: right;\n",
       "    }\n",
       "</style>\n",
       "<table border=\"1\" class=\"dataframe\">\n",
       "  <thead>\n",
       "    <tr style=\"text-align: right;\">\n",
       "      <th></th>\n",
       "      <th>약품명</th>\n",
       "      <th>가격</th>\n",
       "    </tr>\n",
       "  </thead>\n",
       "  <tbody>\n",
       "    <tr>\n",
       "      <th>0</th>\n",
       "      <td>소화제</td>\n",
       "      <td>3500.0</td>\n",
       "    </tr>\n",
       "    <tr>\n",
       "      <th>1</th>\n",
       "      <td>감기약</td>\n",
       "      <td>3200.0</td>\n",
       "    </tr>\n",
       "    <tr>\n",
       "      <th>2</th>\n",
       "      <td>비타민</td>\n",
       "      <td>4000.0</td>\n",
       "    </tr>\n",
       "    <tr>\n",
       "      <th>3</th>\n",
       "      <td>digestive</td>\n",
       "      <td>3200.0</td>\n",
       "    </tr>\n",
       "    <tr>\n",
       "      <th>4</th>\n",
       "      <td>Omega3</td>\n",
       "      <td>3700.0</td>\n",
       "    </tr>\n",
       "    <tr>\n",
       "      <th>5</th>\n",
       "      <td>오메가3</td>\n",
       "      <td>NaN</td>\n",
       "    </tr>\n",
       "    <tr>\n",
       "      <th>6</th>\n",
       "      <td>vitamin</td>\n",
       "      <td>2000.0</td>\n",
       "    </tr>\n",
       "    <tr>\n",
       "      <th>7</th>\n",
       "      <td>Vitamin</td>\n",
       "      <td>1000.0</td>\n",
       "    </tr>\n",
       "  </tbody>\n",
       "</table>\n",
       "</div>"
      ],
      "text/plain": [
       "         약품명      가격\n",
       "0        소화제  3500.0\n",
       "1        감기약  3200.0\n",
       "2        비타민  4000.0\n",
       "3  digestive  3200.0\n",
       "4     Omega3  3700.0\n",
       "5       오메가3     NaN\n",
       "6    vitamin  2000.0\n",
       "7    Vitamin  1000.0"
      ]
     },
     "execution_count": 27,
     "metadata": {},
     "output_type": "execute_result"
    }
   ],
   "source": [
    "df[[\"약품명\", \"가격\"]]"
   ]
  },
  {
   "cell_type": "markdown",
   "metadata": {},
   "source": [
    "## row 기준 data 출력"
   ]
  },
  {
   "cell_type": "code",
   "execution_count": 33,
   "metadata": {},
   "outputs": [
    {
     "data": {
      "text/plain": [
       "약품명       비타민\n",
       "가격     4000.0\n",
       "지역         서울\n",
       "종류      일반의약품\n",
       "Name: 2, dtype: object"
      ]
     },
     "execution_count": 33,
     "metadata": {},
     "output_type": "execute_result"
    }
   ],
   "source": [
    "# index 값을 기준으로 data를 가져오는 것\n",
    "# 만약 index가 문자라면 df.loc[\"문자\"]\n",
    "df.loc[2]"
   ]
  },
  {
   "cell_type": "code",
   "execution_count": 31,
   "metadata": {},
   "outputs": [
    {
     "data": {
      "text/html": [
       "<div>\n",
       "<style scoped>\n",
       "    .dataframe tbody tr th:only-of-type {\n",
       "        vertical-align: middle;\n",
       "    }\n",
       "\n",
       "    .dataframe tbody tr th {\n",
       "        vertical-align: top;\n",
       "    }\n",
       "\n",
       "    .dataframe thead th {\n",
       "        text-align: right;\n",
       "    }\n",
       "</style>\n",
       "<table border=\"1\" class=\"dataframe\">\n",
       "  <thead>\n",
       "    <tr style=\"text-align: right;\">\n",
       "      <th></th>\n",
       "      <th>약품명</th>\n",
       "      <th>가격</th>\n",
       "      <th>지역</th>\n",
       "      <th>종류</th>\n",
       "    </tr>\n",
       "  </thead>\n",
       "  <tbody>\n",
       "    <tr>\n",
       "      <th>2</th>\n",
       "      <td>비타민</td>\n",
       "      <td>4000.0</td>\n",
       "      <td>서울</td>\n",
       "      <td>일반의약품</td>\n",
       "    </tr>\n",
       "    <tr>\n",
       "      <th>1</th>\n",
       "      <td>감기약</td>\n",
       "      <td>3200.0</td>\n",
       "      <td>서울</td>\n",
       "      <td>일반의약품</td>\n",
       "    </tr>\n",
       "    <tr>\n",
       "      <th>4</th>\n",
       "      <td>Omega3</td>\n",
       "      <td>3700.0</td>\n",
       "      <td>서울</td>\n",
       "      <td>일반의약품</td>\n",
       "    </tr>\n",
       "  </tbody>\n",
       "</table>\n",
       "</div>"
      ],
      "text/plain": [
       "      약품명      가격  지역     종류\n",
       "2     비타민  4000.0  서울  일반의약품\n",
       "1     감기약  3200.0  서울  일반의약품\n",
       "4  Omega3  3700.0  서울  일반의약품"
      ]
     },
     "execution_count": 31,
     "metadata": {},
     "output_type": "execute_result"
    }
   ],
   "source": [
    "df.loc[[2, 1, 4]]"
   ]
  },
  {
   "cell_type": "code",
   "execution_count": 35,
   "metadata": {
    "scrolled": true
   },
   "outputs": [
    {
     "data": {
      "text/html": [
       "<div>\n",
       "<style scoped>\n",
       "    .dataframe tbody tr th:only-of-type {\n",
       "        vertical-align: middle;\n",
       "    }\n",
       "\n",
       "    .dataframe tbody tr th {\n",
       "        vertical-align: top;\n",
       "    }\n",
       "\n",
       "    .dataframe thead th {\n",
       "        text-align: right;\n",
       "    }\n",
       "</style>\n",
       "<table border=\"1\" class=\"dataframe\">\n",
       "  <thead>\n",
       "    <tr style=\"text-align: right;\">\n",
       "      <th></th>\n",
       "      <th>가격</th>\n",
       "      <th>지역</th>\n",
       "      <th>종류</th>\n",
       "    </tr>\n",
       "    <tr>\n",
       "      <th>약품명</th>\n",
       "      <th></th>\n",
       "      <th></th>\n",
       "      <th></th>\n",
       "    </tr>\n",
       "  </thead>\n",
       "  <tbody>\n",
       "    <tr>\n",
       "      <th>소화제</th>\n",
       "      <td>3500.0</td>\n",
       "      <td>서울</td>\n",
       "      <td>일반의약품</td>\n",
       "    </tr>\n",
       "    <tr>\n",
       "      <th>감기약</th>\n",
       "      <td>3200.0</td>\n",
       "      <td>서울</td>\n",
       "      <td>일반의약품</td>\n",
       "    </tr>\n",
       "    <tr>\n",
       "      <th>비타민</th>\n",
       "      <td>4000.0</td>\n",
       "      <td>서울</td>\n",
       "      <td>일반의약품</td>\n",
       "    </tr>\n",
       "    <tr>\n",
       "      <th>digestive</th>\n",
       "      <td>3200.0</td>\n",
       "      <td>서울</td>\n",
       "      <td>일반의약품</td>\n",
       "    </tr>\n",
       "    <tr>\n",
       "      <th>Omega3</th>\n",
       "      <td>3700.0</td>\n",
       "      <td>서울</td>\n",
       "      <td>일반의약품</td>\n",
       "    </tr>\n",
       "    <tr>\n",
       "      <th>오메가3</th>\n",
       "      <td>NaN</td>\n",
       "      <td>서울</td>\n",
       "      <td>일반의약품</td>\n",
       "    </tr>\n",
       "    <tr>\n",
       "      <th>vitamin</th>\n",
       "      <td>2000.0</td>\n",
       "      <td>서울</td>\n",
       "      <td>일반의약품</td>\n",
       "    </tr>\n",
       "    <tr>\n",
       "      <th>Vitamin</th>\n",
       "      <td>1000.0</td>\n",
       "      <td>서울</td>\n",
       "      <td>일반의약품</td>\n",
       "    </tr>\n",
       "  </tbody>\n",
       "</table>\n",
       "</div>"
      ],
      "text/plain": [
       "               가격  지역     종류\n",
       "약품명                         \n",
       "소화제        3500.0  서울  일반의약품\n",
       "감기약        3200.0  서울  일반의약품\n",
       "비타민        4000.0  서울  일반의약품\n",
       "digestive  3200.0  서울  일반의약품\n",
       "Omega3     3700.0  서울  일반의약품\n",
       "오메가3          NaN  서울  일반의약품\n",
       "vitamin    2000.0  서울  일반의약품\n",
       "Vitamin    1000.0  서울  일반의약품"
      ]
     },
     "execution_count": 35,
     "metadata": {},
     "output_type": "execute_result"
    }
   ],
   "source": [
    "df.set_index(\"약품명\")"
   ]
  },
  {
   "cell_type": "code",
   "execution_count": 56,
   "metadata": {},
   "outputs": [
    {
     "data": {
      "text/plain": [
       "RangeIndex(start=0, stop=8, step=1)"
      ]
     },
     "execution_count": 56,
     "metadata": {},
     "output_type": "execute_result"
    }
   ],
   "source": [
    "# index 출력\n",
    "df.index"
   ]
  },
  {
   "cell_type": "code",
   "execution_count": 55,
   "metadata": {},
   "outputs": [
    {
     "data": {
      "text/plain": [
       "Index(['소화제', '감기약', '비타민', 'digestive', 'Omega3', '오메가3', 'vitamin',\n",
       "       'Vitamin'],\n",
       "      dtype='object', name='약품명')"
      ]
     },
     "execution_count": 55,
     "metadata": {},
     "output_type": "execute_result"
    }
   ],
   "source": [
    "# index 출력\n",
    "df.set_index(\"약품명\").index"
   ]
  },
  {
   "cell_type": "code",
   "execution_count": 36,
   "metadata": {},
   "outputs": [
    {
     "data": {
      "text/html": [
       "<div>\n",
       "<style scoped>\n",
       "    .dataframe tbody tr th:only-of-type {\n",
       "        vertical-align: middle;\n",
       "    }\n",
       "\n",
       "    .dataframe tbody tr th {\n",
       "        vertical-align: top;\n",
       "    }\n",
       "\n",
       "    .dataframe thead th {\n",
       "        text-align: right;\n",
       "    }\n",
       "</style>\n",
       "<table border=\"1\" class=\"dataframe\">\n",
       "  <thead>\n",
       "    <tr style=\"text-align: right;\">\n",
       "      <th></th>\n",
       "      <th>가격</th>\n",
       "      <th>지역</th>\n",
       "      <th>종류</th>\n",
       "    </tr>\n",
       "    <tr>\n",
       "      <th>약품명</th>\n",
       "      <th></th>\n",
       "      <th></th>\n",
       "      <th></th>\n",
       "    </tr>\n",
       "  </thead>\n",
       "  <tbody>\n",
       "    <tr>\n",
       "      <th>소화제</th>\n",
       "      <td>3500.0</td>\n",
       "      <td>서울</td>\n",
       "      <td>일반의약품</td>\n",
       "    </tr>\n",
       "    <tr>\n",
       "      <th>감기약</th>\n",
       "      <td>3200.0</td>\n",
       "      <td>서울</td>\n",
       "      <td>일반의약품</td>\n",
       "    </tr>\n",
       "  </tbody>\n",
       "</table>\n",
       "</div>"
      ],
      "text/plain": [
       "         가격  지역     종류\n",
       "약품명                   \n",
       "소화제  3500.0  서울  일반의약품\n",
       "감기약  3200.0  서울  일반의약품"
      ]
     },
     "execution_count": 36,
     "metadata": {},
     "output_type": "execute_result"
    }
   ],
   "source": [
    "df.set_index(\"약품명\").loc[[\"소화제\", \"감기약\"]]"
   ]
  },
  {
   "cell_type": "code",
   "execution_count": 53,
   "metadata": {},
   "outputs": [
    {
     "data": {
      "text/html": [
       "<div>\n",
       "<style scoped>\n",
       "    .dataframe tbody tr th:only-of-type {\n",
       "        vertical-align: middle;\n",
       "    }\n",
       "\n",
       "    .dataframe tbody tr th {\n",
       "        vertical-align: top;\n",
       "    }\n",
       "\n",
       "    .dataframe thead th {\n",
       "        text-align: right;\n",
       "    }\n",
       "</style>\n",
       "<table border=\"1\" class=\"dataframe\">\n",
       "  <thead>\n",
       "    <tr style=\"text-align: right;\">\n",
       "      <th></th>\n",
       "      <th>level_0</th>\n",
       "      <th>index</th>\n",
       "      <th>약품명</th>\n",
       "      <th>가격</th>\n",
       "      <th>지역</th>\n",
       "      <th>종류</th>\n",
       "    </tr>\n",
       "  </thead>\n",
       "  <tbody>\n",
       "    <tr>\n",
       "      <th>0</th>\n",
       "      <td>0</td>\n",
       "      <td>0</td>\n",
       "      <td>소화제</td>\n",
       "      <td>3500.0</td>\n",
       "      <td>서울</td>\n",
       "      <td>일반의약품</td>\n",
       "    </tr>\n",
       "    <tr>\n",
       "      <th>1</th>\n",
       "      <td>1</td>\n",
       "      <td>1</td>\n",
       "      <td>감기약</td>\n",
       "      <td>3200.0</td>\n",
       "      <td>서울</td>\n",
       "      <td>일반의약품</td>\n",
       "    </tr>\n",
       "    <tr>\n",
       "      <th>2</th>\n",
       "      <td>2</td>\n",
       "      <td>2</td>\n",
       "      <td>비타민</td>\n",
       "      <td>4000.0</td>\n",
       "      <td>서울</td>\n",
       "      <td>일반의약품</td>\n",
       "    </tr>\n",
       "    <tr>\n",
       "      <th>3</th>\n",
       "      <td>3</td>\n",
       "      <td>3</td>\n",
       "      <td>digestive</td>\n",
       "      <td>3200.0</td>\n",
       "      <td>서울</td>\n",
       "      <td>일반의약품</td>\n",
       "    </tr>\n",
       "    <tr>\n",
       "      <th>4</th>\n",
       "      <td>4</td>\n",
       "      <td>4</td>\n",
       "      <td>Omega3</td>\n",
       "      <td>3700.0</td>\n",
       "      <td>서울</td>\n",
       "      <td>일반의약품</td>\n",
       "    </tr>\n",
       "    <tr>\n",
       "      <th>5</th>\n",
       "      <td>5</td>\n",
       "      <td>5</td>\n",
       "      <td>오메가3</td>\n",
       "      <td>NaN</td>\n",
       "      <td>서울</td>\n",
       "      <td>일반의약품</td>\n",
       "    </tr>\n",
       "    <tr>\n",
       "      <th>6</th>\n",
       "      <td>6</td>\n",
       "      <td>6</td>\n",
       "      <td>vitamin</td>\n",
       "      <td>2000.0</td>\n",
       "      <td>서울</td>\n",
       "      <td>일반의약품</td>\n",
       "    </tr>\n",
       "    <tr>\n",
       "      <th>7</th>\n",
       "      <td>7</td>\n",
       "      <td>7</td>\n",
       "      <td>Vitamin</td>\n",
       "      <td>1000.0</td>\n",
       "      <td>서울</td>\n",
       "      <td>일반의약품</td>\n",
       "    </tr>\n",
       "  </tbody>\n",
       "</table>\n",
       "</div>"
      ],
      "text/plain": [
       "   level_0  index        약품명      가격  지역     종류\n",
       "0        0      0        소화제  3500.0  서울  일반의약품\n",
       "1        1      1        감기약  3200.0  서울  일반의약품\n",
       "2        2      2        비타민  4000.0  서울  일반의약품\n",
       "3        3      3  digestive  3200.0  서울  일반의약품\n",
       "4        4      4     Omega3  3700.0  서울  일반의약품\n",
       "5        5      5       오메가3     NaN  서울  일반의약품\n",
       "6        6      6    vitamin  2000.0  서울  일반의약품\n",
       "7        7      7    Vitamin  1000.0  서울  일반의약품"
      ]
     },
     "execution_count": 53,
     "metadata": {},
     "output_type": "execute_result"
    }
   ],
   "source": [
    "df = df.reset_index()\n",
    "df = df.reset_index()\n",
    "df"
   ]
  },
  {
   "cell_type": "code",
   "execution_count": 49,
   "metadata": {},
   "outputs": [
    {
     "data": {
      "text/html": [
       "<div>\n",
       "<style scoped>\n",
       "    .dataframe tbody tr th:only-of-type {\n",
       "        vertical-align: middle;\n",
       "    }\n",
       "\n",
       "    .dataframe tbody tr th {\n",
       "        vertical-align: top;\n",
       "    }\n",
       "\n",
       "    .dataframe thead th {\n",
       "        text-align: right;\n",
       "    }\n",
       "</style>\n",
       "<table border=\"1\" class=\"dataframe\">\n",
       "  <thead>\n",
       "    <tr style=\"text-align: right;\">\n",
       "      <th></th>\n",
       "      <th>약품명</th>\n",
       "      <th>가격</th>\n",
       "      <th>지역</th>\n",
       "      <th>종류</th>\n",
       "    </tr>\n",
       "  </thead>\n",
       "  <tbody>\n",
       "    <tr>\n",
       "      <th>0</th>\n",
       "      <td>소화제</td>\n",
       "      <td>3500.0</td>\n",
       "      <td>서울</td>\n",
       "      <td>일반의약품</td>\n",
       "    </tr>\n",
       "    <tr>\n",
       "      <th>1</th>\n",
       "      <td>감기약</td>\n",
       "      <td>3200.0</td>\n",
       "      <td>서울</td>\n",
       "      <td>일반의약품</td>\n",
       "    </tr>\n",
       "    <tr>\n",
       "      <th>2</th>\n",
       "      <td>비타민</td>\n",
       "      <td>4000.0</td>\n",
       "      <td>서울</td>\n",
       "      <td>일반의약품</td>\n",
       "    </tr>\n",
       "    <tr>\n",
       "      <th>3</th>\n",
       "      <td>digestive</td>\n",
       "      <td>3200.0</td>\n",
       "      <td>서울</td>\n",
       "      <td>일반의약품</td>\n",
       "    </tr>\n",
       "    <tr>\n",
       "      <th>4</th>\n",
       "      <td>Omega3</td>\n",
       "      <td>3700.0</td>\n",
       "      <td>서울</td>\n",
       "      <td>일반의약품</td>\n",
       "    </tr>\n",
       "    <tr>\n",
       "      <th>5</th>\n",
       "      <td>오메가3</td>\n",
       "      <td>NaN</td>\n",
       "      <td>서울</td>\n",
       "      <td>일반의약품</td>\n",
       "    </tr>\n",
       "    <tr>\n",
       "      <th>6</th>\n",
       "      <td>vitamin</td>\n",
       "      <td>2000.0</td>\n",
       "      <td>서울</td>\n",
       "      <td>일반의약품</td>\n",
       "    </tr>\n",
       "    <tr>\n",
       "      <th>7</th>\n",
       "      <td>Vitamin</td>\n",
       "      <td>1000.0</td>\n",
       "      <td>서울</td>\n",
       "      <td>일반의약품</td>\n",
       "    </tr>\n",
       "  </tbody>\n",
       "</table>\n",
       "</div>"
      ],
      "text/plain": [
       "         약품명      가격  지역     종류\n",
       "0        소화제  3500.0  서울  일반의약품\n",
       "1        감기약  3200.0  서울  일반의약품\n",
       "2        비타민  4000.0  서울  일반의약품\n",
       "3  digestive  3200.0  서울  일반의약품\n",
       "4     Omega3  3700.0  서울  일반의약품\n",
       "5       오메가3     NaN  서울  일반의약품\n",
       "6    vitamin  2000.0  서울  일반의약품\n",
       "7    Vitamin  1000.0  서울  일반의약품"
      ]
     },
     "execution_count": 49,
     "metadata": {},
     "output_type": "execute_result"
    }
   ],
   "source": [
    "# col 삭제, list를 이용한 삭제를 지원하지 않음\n",
    "del df[\"index\"]\n",
    "del df[\"level_0\"]\n",
    "df"
   ]
  },
  {
   "cell_type": "code",
   "execution_count": 54,
   "metadata": {},
   "outputs": [
    {
     "data": {
      "text/html": [
       "<div>\n",
       "<style scoped>\n",
       "    .dataframe tbody tr th:only-of-type {\n",
       "        vertical-align: middle;\n",
       "    }\n",
       "\n",
       "    .dataframe tbody tr th {\n",
       "        vertical-align: top;\n",
       "    }\n",
       "\n",
       "    .dataframe thead th {\n",
       "        text-align: right;\n",
       "    }\n",
       "</style>\n",
       "<table border=\"1\" class=\"dataframe\">\n",
       "  <thead>\n",
       "    <tr style=\"text-align: right;\">\n",
       "      <th></th>\n",
       "      <th>약품명</th>\n",
       "      <th>가격</th>\n",
       "      <th>지역</th>\n",
       "      <th>종류</th>\n",
       "    </tr>\n",
       "  </thead>\n",
       "  <tbody>\n",
       "    <tr>\n",
       "      <th>0</th>\n",
       "      <td>소화제</td>\n",
       "      <td>3500.0</td>\n",
       "      <td>서울</td>\n",
       "      <td>일반의약품</td>\n",
       "    </tr>\n",
       "    <tr>\n",
       "      <th>1</th>\n",
       "      <td>감기약</td>\n",
       "      <td>3200.0</td>\n",
       "      <td>서울</td>\n",
       "      <td>일반의약품</td>\n",
       "    </tr>\n",
       "    <tr>\n",
       "      <th>2</th>\n",
       "      <td>비타민</td>\n",
       "      <td>4000.0</td>\n",
       "      <td>서울</td>\n",
       "      <td>일반의약품</td>\n",
       "    </tr>\n",
       "    <tr>\n",
       "      <th>3</th>\n",
       "      <td>digestive</td>\n",
       "      <td>3200.0</td>\n",
       "      <td>서울</td>\n",
       "      <td>일반의약품</td>\n",
       "    </tr>\n",
       "    <tr>\n",
       "      <th>4</th>\n",
       "      <td>Omega3</td>\n",
       "      <td>3700.0</td>\n",
       "      <td>서울</td>\n",
       "      <td>일반의약품</td>\n",
       "    </tr>\n",
       "    <tr>\n",
       "      <th>5</th>\n",
       "      <td>오메가3</td>\n",
       "      <td>NaN</td>\n",
       "      <td>서울</td>\n",
       "      <td>일반의약품</td>\n",
       "    </tr>\n",
       "    <tr>\n",
       "      <th>6</th>\n",
       "      <td>vitamin</td>\n",
       "      <td>2000.0</td>\n",
       "      <td>서울</td>\n",
       "      <td>일반의약품</td>\n",
       "    </tr>\n",
       "    <tr>\n",
       "      <th>7</th>\n",
       "      <td>Vitamin</td>\n",
       "      <td>1000.0</td>\n",
       "      <td>서울</td>\n",
       "      <td>일반의약품</td>\n",
       "    </tr>\n",
       "  </tbody>\n",
       "</table>\n",
       "</div>"
      ],
      "text/plain": [
       "         약품명      가격  지역     종류\n",
       "0        소화제  3500.0  서울  일반의약품\n",
       "1        감기약  3200.0  서울  일반의약품\n",
       "2        비타민  4000.0  서울  일반의약품\n",
       "3  digestive  3200.0  서울  일반의약품\n",
       "4     Omega3  3700.0  서울  일반의약품\n",
       "5       오메가3     NaN  서울  일반의약품\n",
       "6    vitamin  2000.0  서울  일반의약품\n",
       "7    Vitamin  1000.0  서울  일반의약품"
      ]
     },
     "execution_count": 54,
     "metadata": {},
     "output_type": "execute_result"
    }
   ],
   "source": [
    "# list를 이용한 삭제\n",
    "df = df.drop([\"index\", \"level_0\"], axis=1)\n",
    "df"
   ]
  },
  {
   "cell_type": "markdown",
   "metadata": {},
   "source": [
    "## row, col 함께 가져오기"
   ]
  },
  {
   "cell_type": "code",
   "execution_count": 57,
   "metadata": {},
   "outputs": [
    {
     "data": {
      "text/plain": [
       "'소화제'"
      ]
     },
     "execution_count": 57,
     "metadata": {},
     "output_type": "execute_result"
    }
   ],
   "source": [
    "df.loc[0, \"약품명\"]"
   ]
  },
  {
   "cell_type": "code",
   "execution_count": 59,
   "metadata": {},
   "outputs": [
    {
     "data": {
      "text/plain": [
       "'소화제'"
      ]
     },
     "execution_count": 59,
     "metadata": {},
     "output_type": "execute_result"
    }
   ],
   "source": [
    "df.iloc[0, 0]"
   ]
  },
  {
   "cell_type": "code",
   "execution_count": 58,
   "metadata": {},
   "outputs": [
    {
     "data": {
      "text/plain": [
       "0    소화제\n",
       "1    감기약\n",
       "2    비타민\n",
       "Name: 약품명, dtype: object"
      ]
     },
     "execution_count": 58,
     "metadata": {},
     "output_type": "execute_result"
    }
   ],
   "source": [
    "df.loc[[0, 1, 2], \"약품명\"]"
   ]
  },
  {
   "cell_type": "code",
   "execution_count": 61,
   "metadata": {},
   "outputs": [
    {
     "data": {
      "text/html": [
       "<div>\n",
       "<style scoped>\n",
       "    .dataframe tbody tr th:only-of-type {\n",
       "        vertical-align: middle;\n",
       "    }\n",
       "\n",
       "    .dataframe tbody tr th {\n",
       "        vertical-align: top;\n",
       "    }\n",
       "\n",
       "    .dataframe thead th {\n",
       "        text-align: right;\n",
       "    }\n",
       "</style>\n",
       "<table border=\"1\" class=\"dataframe\">\n",
       "  <thead>\n",
       "    <tr style=\"text-align: right;\">\n",
       "      <th></th>\n",
       "      <th>약품명</th>\n",
       "      <th>가격</th>\n",
       "    </tr>\n",
       "  </thead>\n",
       "  <tbody>\n",
       "    <tr>\n",
       "      <th>0</th>\n",
       "      <td>소화제</td>\n",
       "      <td>3500.0</td>\n",
       "    </tr>\n",
       "    <tr>\n",
       "      <th>1</th>\n",
       "      <td>감기약</td>\n",
       "      <td>3200.0</td>\n",
       "    </tr>\n",
       "    <tr>\n",
       "      <th>2</th>\n",
       "      <td>비타민</td>\n",
       "      <td>4000.0</td>\n",
       "    </tr>\n",
       "  </tbody>\n",
       "</table>\n",
       "</div>"
      ],
      "text/plain": [
       "   약품명      가격\n",
       "0  소화제  3500.0\n",
       "1  감기약  3200.0\n",
       "2  비타민  4000.0"
      ]
     },
     "execution_count": 61,
     "metadata": {},
     "output_type": "execute_result"
    }
   ],
   "source": [
    "df.loc[[0, 1, 2], [\"약품명\", \"가격\"]]"
   ]
  },
  {
   "cell_type": "code",
   "execution_count": 62,
   "metadata": {},
   "outputs": [
    {
     "data": {
      "text/html": [
       "<div>\n",
       "<style scoped>\n",
       "    .dataframe tbody tr th:only-of-type {\n",
       "        vertical-align: middle;\n",
       "    }\n",
       "\n",
       "    .dataframe tbody tr th {\n",
       "        vertical-align: top;\n",
       "    }\n",
       "\n",
       "    .dataframe thead th {\n",
       "        text-align: right;\n",
       "    }\n",
       "</style>\n",
       "<table border=\"1\" class=\"dataframe\">\n",
       "  <thead>\n",
       "    <tr style=\"text-align: right;\">\n",
       "      <th></th>\n",
       "      <th>약품명</th>\n",
       "      <th>가격</th>\n",
       "    </tr>\n",
       "  </thead>\n",
       "  <tbody>\n",
       "    <tr>\n",
       "      <th>0</th>\n",
       "      <td>소화제</td>\n",
       "      <td>3500.0</td>\n",
       "    </tr>\n",
       "    <tr>\n",
       "      <th>1</th>\n",
       "      <td>감기약</td>\n",
       "      <td>3200.0</td>\n",
       "    </tr>\n",
       "    <tr>\n",
       "      <th>2</th>\n",
       "      <td>비타민</td>\n",
       "      <td>4000.0</td>\n",
       "    </tr>\n",
       "    <tr>\n",
       "      <th>3</th>\n",
       "      <td>digestive</td>\n",
       "      <td>3200.0</td>\n",
       "    </tr>\n",
       "    <tr>\n",
       "      <th>4</th>\n",
       "      <td>Omega3</td>\n",
       "      <td>3700.0</td>\n",
       "    </tr>\n",
       "    <tr>\n",
       "      <th>5</th>\n",
       "      <td>오메가3</td>\n",
       "      <td>NaN</td>\n",
       "    </tr>\n",
       "    <tr>\n",
       "      <th>6</th>\n",
       "      <td>vitamin</td>\n",
       "      <td>2000.0</td>\n",
       "    </tr>\n",
       "    <tr>\n",
       "      <th>7</th>\n",
       "      <td>Vitamin</td>\n",
       "      <td>1000.0</td>\n",
       "    </tr>\n",
       "  </tbody>\n",
       "</table>\n",
       "</div>"
      ],
      "text/plain": [
       "         약품명      가격\n",
       "0        소화제  3500.0\n",
       "1        감기약  3200.0\n",
       "2        비타민  4000.0\n",
       "3  digestive  3200.0\n",
       "4     Omega3  3700.0\n",
       "5       오메가3     NaN\n",
       "6    vitamin  2000.0\n",
       "7    Vitamin  1000.0"
      ]
     },
     "execution_count": 62,
     "metadata": {},
     "output_type": "execute_result"
    }
   ],
   "source": [
    "df.loc[:, [\"약품명\", \"가격\"]]"
   ]
  },
  {
   "cell_type": "code",
   "execution_count": 63,
   "metadata": {},
   "outputs": [
    {
     "data": {
      "text/html": [
       "<div>\n",
       "<style scoped>\n",
       "    .dataframe tbody tr th:only-of-type {\n",
       "        vertical-align: middle;\n",
       "    }\n",
       "\n",
       "    .dataframe tbody tr th {\n",
       "        vertical-align: top;\n",
       "    }\n",
       "\n",
       "    .dataframe thead th {\n",
       "        text-align: right;\n",
       "    }\n",
       "</style>\n",
       "<table border=\"1\" class=\"dataframe\">\n",
       "  <thead>\n",
       "    <tr style=\"text-align: right;\">\n",
       "      <th></th>\n",
       "      <th>약품명</th>\n",
       "      <th>가격</th>\n",
       "    </tr>\n",
       "  </thead>\n",
       "  <tbody>\n",
       "    <tr>\n",
       "      <th>2</th>\n",
       "      <td>비타민</td>\n",
       "      <td>4000.0</td>\n",
       "    </tr>\n",
       "    <tr>\n",
       "      <th>3</th>\n",
       "      <td>digestive</td>\n",
       "      <td>3200.0</td>\n",
       "    </tr>\n",
       "    <tr>\n",
       "      <th>4</th>\n",
       "      <td>Omega3</td>\n",
       "      <td>3700.0</td>\n",
       "    </tr>\n",
       "    <tr>\n",
       "      <th>5</th>\n",
       "      <td>오메가3</td>\n",
       "      <td>NaN</td>\n",
       "    </tr>\n",
       "  </tbody>\n",
       "</table>\n",
       "</div>"
      ],
      "text/plain": [
       "         약품명      가격\n",
       "2        비타민  4000.0\n",
       "3  digestive  3200.0\n",
       "4     Omega3  3700.0\n",
       "5       오메가3     NaN"
      ]
     },
     "execution_count": 63,
     "metadata": {},
     "output_type": "execute_result"
    }
   ],
   "source": [
    "df.loc[2:5, [\"약품명\", \"가격\"]]"
   ]
  },
  {
   "cell_type": "markdown",
   "metadata": {},
   "source": [
    "## 조건 설정"
   ]
  },
  {
   "cell_type": "code",
   "execution_count": 65,
   "metadata": {},
   "outputs": [
    {
     "data": {
      "text/plain": [
       "0    False\n",
       "1    False\n",
       "2    False\n",
       "3    False\n",
       "4    False\n",
       "5    False\n",
       "6     True\n",
       "7    False\n",
       "Name: 약품명, dtype: bool"
      ]
     },
     "execution_count": 65,
     "metadata": {},
     "output_type": "execute_result"
    }
   ],
   "source": [
    "# .str.contains(\"str\") : str 값을 포함하고 있는 row\n",
    "df[\"약품명\"].str.contains(\"vita\")"
   ]
  },
  {
   "attachments": {
    "image.png": {
     "image/png": "[encoded data removed]"
    }
   },
   "cell_type": "markdown",
   "metadata": {},
   "source": [
    "## Accessors\n",
    "* https://pandas.pydata.org/docs/reference/series.html\n",
    "* Series에만 지원하는 기능\n",
    "\n",
    "![image.png](attachment:image.png)"
   ]
  },
  {
   "cell_type": "code",
   "execution_count": 66,
   "metadata": {},
   "outputs": [
    {
     "data": {
      "text/html": [
       "<div>\n",
       "<style scoped>\n",
       "    .dataframe tbody tr th:only-of-type {\n",
       "        vertical-align: middle;\n",
       "    }\n",
       "\n",
       "    .dataframe tbody tr th {\n",
       "        vertical-align: top;\n",
       "    }\n",
       "\n",
       "    .dataframe thead th {\n",
       "        text-align: right;\n",
       "    }\n",
       "</style>\n",
       "<table border=\"1\" class=\"dataframe\">\n",
       "  <thead>\n",
       "    <tr style=\"text-align: right;\">\n",
       "      <th></th>\n",
       "      <th>약품명</th>\n",
       "      <th>가격</th>\n",
       "      <th>지역</th>\n",
       "      <th>종류</th>\n",
       "    </tr>\n",
       "  </thead>\n",
       "  <tbody>\n",
       "    <tr>\n",
       "      <th>6</th>\n",
       "      <td>vitamin</td>\n",
       "      <td>2000.0</td>\n",
       "      <td>서울</td>\n",
       "      <td>일반의약품</td>\n",
       "    </tr>\n",
       "  </tbody>\n",
       "</table>\n",
       "</div>"
      ],
      "text/plain": [
       "       약품명      가격  지역     종류\n",
       "6  vitamin  2000.0  서울  일반의약품"
      ]
     },
     "execution_count": 66,
     "metadata": {},
     "output_type": "execute_result"
    }
   ],
   "source": [
    "# \"vita\" 값을 약품명에 포함하고 있는 행 출력\n",
    "df[df[\"약품명\"].str.contains(\"vita\")]"
   ]
  },
  {
   "cell_type": "code",
   "execution_count": 69,
   "metadata": {},
   "outputs": [
    {
     "data": {
      "text/plain": [
       "0          소화제\n",
       "1          감기약\n",
       "2          비타민\n",
       "3    digestive\n",
       "4       omega3\n",
       "5         오메가3\n",
       "6      vitamin\n",
       "7      vitamin\n",
       "Name: 약품명, dtype: object"
      ]
     },
     "execution_count": 69,
     "metadata": {},
     "output_type": "execute_result"
    }
   ],
   "source": [
    "# 파이썬은 대소문자를 구문하므로 하나로 통일시켜주는 코드\n",
    "df[\"약품명\"].str.upper()\n",
    "df[\"약품명\"].str.lower()"
   ]
  },
  {
   "cell_type": "markdown",
   "metadata": {},
   "source": [
    "## 파생 변수"
   ]
  },
  {
   "cell_type": "code",
   "execution_count": 74,
   "metadata": {},
   "outputs": [
    {
     "data": {
      "text/html": [
       "<div>\n",
       "<style scoped>\n",
       "    .dataframe tbody tr th:only-of-type {\n",
       "        vertical-align: middle;\n",
       "    }\n",
       "\n",
       "    .dataframe tbody tr th {\n",
       "        vertical-align: top;\n",
       "    }\n",
       "\n",
       "    .dataframe thead th {\n",
       "        text-align: right;\n",
       "    }\n",
       "</style>\n",
       "<table border=\"1\" class=\"dataframe\">\n",
       "  <thead>\n",
       "    <tr style=\"text-align: right;\">\n",
       "      <th></th>\n",
       "      <th>약품명</th>\n",
       "      <th>가격</th>\n",
       "      <th>지역</th>\n",
       "      <th>종류</th>\n",
       "      <th>약품명_소문자</th>\n",
       "    </tr>\n",
       "  </thead>\n",
       "  <tbody>\n",
       "    <tr>\n",
       "      <th>0</th>\n",
       "      <td>소화제</td>\n",
       "      <td>3500.0</td>\n",
       "      <td>서울</td>\n",
       "      <td>일반의약품</td>\n",
       "      <td>소화제</td>\n",
       "    </tr>\n",
       "    <tr>\n",
       "      <th>1</th>\n",
       "      <td>감기약</td>\n",
       "      <td>3200.0</td>\n",
       "      <td>서울</td>\n",
       "      <td>일반의약품</td>\n",
       "      <td>감기약</td>\n",
       "    </tr>\n",
       "    <tr>\n",
       "      <th>2</th>\n",
       "      <td>비타민</td>\n",
       "      <td>4000.0</td>\n",
       "      <td>서울</td>\n",
       "      <td>일반의약품</td>\n",
       "      <td>비타민</td>\n",
       "    </tr>\n",
       "    <tr>\n",
       "      <th>3</th>\n",
       "      <td>digestive</td>\n",
       "      <td>3200.0</td>\n",
       "      <td>서울</td>\n",
       "      <td>일반의약품</td>\n",
       "      <td>digestive</td>\n",
       "    </tr>\n",
       "    <tr>\n",
       "      <th>4</th>\n",
       "      <td>Omega3</td>\n",
       "      <td>3700.0</td>\n",
       "      <td>서울</td>\n",
       "      <td>일반의약품</td>\n",
       "      <td>omega3</td>\n",
       "    </tr>\n",
       "    <tr>\n",
       "      <th>5</th>\n",
       "      <td>오메가3</td>\n",
       "      <td>NaN</td>\n",
       "      <td>서울</td>\n",
       "      <td>일반의약품</td>\n",
       "      <td>오메가3</td>\n",
       "    </tr>\n",
       "    <tr>\n",
       "      <th>6</th>\n",
       "      <td>vitamin</td>\n",
       "      <td>2000.0</td>\n",
       "      <td>서울</td>\n",
       "      <td>일반의약품</td>\n",
       "      <td>vitamin</td>\n",
       "    </tr>\n",
       "    <tr>\n",
       "      <th>7</th>\n",
       "      <td>Vitamin</td>\n",
       "      <td>1000.0</td>\n",
       "      <td>서울</td>\n",
       "      <td>일반의약품</td>\n",
       "      <td>vitamin</td>\n",
       "    </tr>\n",
       "  </tbody>\n",
       "</table>\n",
       "</div>"
      ],
      "text/plain": [
       "         약품명      가격  지역     종류    약품명_소문자\n",
       "0        소화제  3500.0  서울  일반의약품        소화제\n",
       "1        감기약  3200.0  서울  일반의약품        감기약\n",
       "2        비타민  4000.0  서울  일반의약품        비타민\n",
       "3  digestive  3200.0  서울  일반의약품  digestive\n",
       "4     Omega3  3700.0  서울  일반의약품     omega3\n",
       "5       오메가3     NaN  서울  일반의약품       오메가3\n",
       "6    vitamin  2000.0  서울  일반의약품    vitamin\n",
       "7    Vitamin  1000.0  서울  일반의약품    vitamin"
      ]
     },
     "execution_count": 74,
     "metadata": {},
     "output_type": "execute_result"
    }
   ],
   "source": [
    "# 원본을 훼손하지 않기 위해 col 추가\n",
    "df[\"약품명_소문자\"] = df[\"약품명\"].str.lower()\n",
    "df"
   ]
  },
  {
   "cell_type": "code",
   "execution_count": 76,
   "metadata": {},
   "outputs": [
    {
     "data": {
      "text/plain": [
       "0    False\n",
       "1    False\n",
       "2     True\n",
       "3    False\n",
       "4    False\n",
       "5    False\n",
       "6     True\n",
       "7     True\n",
       "Name: 약품명_소문자, dtype: bool"
      ]
     },
     "execution_count": 76,
     "metadata": {},
     "output_type": "execute_result"
    }
   ],
   "source": [
    "# | == or, & == and\n",
    "df[\"약품명_소문자\"].str.contains(\"vita|비타\")"
   ]
  },
  {
   "cell_type": "code",
   "execution_count": 77,
   "metadata": {},
   "outputs": [
    {
     "data": {
      "text/html": [
       "<div>\n",
       "<style scoped>\n",
       "    .dataframe tbody tr th:only-of-type {\n",
       "        vertical-align: middle;\n",
       "    }\n",
       "\n",
       "    .dataframe tbody tr th {\n",
       "        vertical-align: top;\n",
       "    }\n",
       "\n",
       "    .dataframe thead th {\n",
       "        text-align: right;\n",
       "    }\n",
       "</style>\n",
       "<table border=\"1\" class=\"dataframe\">\n",
       "  <thead>\n",
       "    <tr style=\"text-align: right;\">\n",
       "      <th></th>\n",
       "      <th>약품명</th>\n",
       "      <th>가격</th>\n",
       "      <th>지역</th>\n",
       "      <th>종류</th>\n",
       "      <th>약품명_소문자</th>\n",
       "    </tr>\n",
       "  </thead>\n",
       "  <tbody>\n",
       "    <tr>\n",
       "      <th>2</th>\n",
       "      <td>비타민</td>\n",
       "      <td>4000.0</td>\n",
       "      <td>서울</td>\n",
       "      <td>일반의약품</td>\n",
       "      <td>비타민</td>\n",
       "    </tr>\n",
       "    <tr>\n",
       "      <th>6</th>\n",
       "      <td>vitamin</td>\n",
       "      <td>2000.0</td>\n",
       "      <td>서울</td>\n",
       "      <td>일반의약품</td>\n",
       "      <td>vitamin</td>\n",
       "    </tr>\n",
       "    <tr>\n",
       "      <th>7</th>\n",
       "      <td>Vitamin</td>\n",
       "      <td>1000.0</td>\n",
       "      <td>서울</td>\n",
       "      <td>일반의약품</td>\n",
       "      <td>vitamin</td>\n",
       "    </tr>\n",
       "  </tbody>\n",
       "</table>\n",
       "</div>"
      ],
      "text/plain": [
       "       약품명      가격  지역     종류  약품명_소문자\n",
       "2      비타민  4000.0  서울  일반의약품      비타민\n",
       "6  vitamin  2000.0  서울  일반의약품  vitamin\n",
       "7  Vitamin  1000.0  서울  일반의약품  vitamin"
      ]
     },
     "execution_count": 77,
     "metadata": {},
     "output_type": "execute_result"
    }
   ],
   "source": [
    "df[df[\"약품명_소문자\"].str.contains(\"vita|비타\")]"
   ]
  },
  {
   "cell_type": "markdown",
   "metadata": {},
   "source": [
    "## 원하는 data 추출"
   ]
  },
  {
   "cell_type": "code",
   "execution_count": 82,
   "metadata": {},
   "outputs": [
    {
     "data": {
      "text/plain": [
       "0     True\n",
       "1     True\n",
       "2     True\n",
       "3     True\n",
       "4     True\n",
       "5    False\n",
       "6    False\n",
       "7    False\n",
       "Name: 가격, dtype: bool"
      ]
     },
     "execution_count": 82,
     "metadata": {},
     "output_type": "execute_result"
    }
   ],
   "source": [
    "condition = df[\"가격\"] >= 3000\n",
    "condition"
   ]
  },
  {
   "cell_type": "code",
   "execution_count": 83,
   "metadata": {},
   "outputs": [
    {
     "data": {
      "text/html": [
       "<div>\n",
       "<style scoped>\n",
       "    .dataframe tbody tr th:only-of-type {\n",
       "        vertical-align: middle;\n",
       "    }\n",
       "\n",
       "    .dataframe tbody tr th {\n",
       "        vertical-align: top;\n",
       "    }\n",
       "\n",
       "    .dataframe thead th {\n",
       "        text-align: right;\n",
       "    }\n",
       "</style>\n",
       "<table border=\"1\" class=\"dataframe\">\n",
       "  <thead>\n",
       "    <tr style=\"text-align: right;\">\n",
       "      <th></th>\n",
       "      <th>약품명</th>\n",
       "      <th>가격</th>\n",
       "      <th>지역</th>\n",
       "      <th>종류</th>\n",
       "      <th>약품명_소문자</th>\n",
       "    </tr>\n",
       "  </thead>\n",
       "  <tbody>\n",
       "    <tr>\n",
       "      <th>0</th>\n",
       "      <td>소화제</td>\n",
       "      <td>3500.0</td>\n",
       "      <td>서울</td>\n",
       "      <td>일반의약품</td>\n",
       "      <td>소화제</td>\n",
       "    </tr>\n",
       "    <tr>\n",
       "      <th>1</th>\n",
       "      <td>감기약</td>\n",
       "      <td>3200.0</td>\n",
       "      <td>서울</td>\n",
       "      <td>일반의약품</td>\n",
       "      <td>감기약</td>\n",
       "    </tr>\n",
       "    <tr>\n",
       "      <th>2</th>\n",
       "      <td>비타민</td>\n",
       "      <td>4000.0</td>\n",
       "      <td>서울</td>\n",
       "      <td>일반의약품</td>\n",
       "      <td>비타민</td>\n",
       "    </tr>\n",
       "    <tr>\n",
       "      <th>3</th>\n",
       "      <td>digestive</td>\n",
       "      <td>3200.0</td>\n",
       "      <td>서울</td>\n",
       "      <td>일반의약품</td>\n",
       "      <td>digestive</td>\n",
       "    </tr>\n",
       "    <tr>\n",
       "      <th>4</th>\n",
       "      <td>Omega3</td>\n",
       "      <td>3700.0</td>\n",
       "      <td>서울</td>\n",
       "      <td>일반의약품</td>\n",
       "      <td>omega3</td>\n",
       "    </tr>\n",
       "  </tbody>\n",
       "</table>\n",
       "</div>"
      ],
      "text/plain": [
       "         약품명      가격  지역     종류    약품명_소문자\n",
       "0        소화제  3500.0  서울  일반의약품        소화제\n",
       "1        감기약  3200.0  서울  일반의약품        감기약\n",
       "2        비타민  4000.0  서울  일반의약품        비타민\n",
       "3  digestive  3200.0  서울  일반의약품  digestive\n",
       "4     Omega3  3700.0  서울  일반의약품     omega3"
      ]
     },
     "execution_count": 83,
     "metadata": {},
     "output_type": "execute_result"
    }
   ],
   "source": [
    "df[condition]"
   ]
  },
  {
   "cell_type": "code",
   "execution_count": 84,
   "metadata": {},
   "outputs": [
    {
     "data": {
      "text/plain": [
       "0    False\n",
       "1    False\n",
       "2    False\n",
       "3    False\n",
       "4    False\n",
       "5    False\n",
       "6     True\n",
       "7     True\n",
       "Name: 가격, dtype: bool"
      ]
     },
     "execution_count": 84,
     "metadata": {},
     "output_type": "execute_result"
    }
   ],
   "source": [
    "condition = df[\"가격\"] <= 2000\n",
    "condition"
   ]
  },
  {
   "cell_type": "code",
   "execution_count": 85,
   "metadata": {
    "scrolled": true
   },
   "outputs": [
    {
     "data": {
      "text/html": [
       "<div>\n",
       "<style scoped>\n",
       "    .dataframe tbody tr th:only-of-type {\n",
       "        vertical-align: middle;\n",
       "    }\n",
       "\n",
       "    .dataframe tbody tr th {\n",
       "        vertical-align: top;\n",
       "    }\n",
       "\n",
       "    .dataframe thead th {\n",
       "        text-align: right;\n",
       "    }\n",
       "</style>\n",
       "<table border=\"1\" class=\"dataframe\">\n",
       "  <thead>\n",
       "    <tr style=\"text-align: right;\">\n",
       "      <th></th>\n",
       "      <th>약품명</th>\n",
       "      <th>가격</th>\n",
       "      <th>지역</th>\n",
       "      <th>종류</th>\n",
       "      <th>약품명_소문자</th>\n",
       "    </tr>\n",
       "  </thead>\n",
       "  <tbody>\n",
       "    <tr>\n",
       "      <th>6</th>\n",
       "      <td>vitamin</td>\n",
       "      <td>2000.0</td>\n",
       "      <td>서울</td>\n",
       "      <td>일반의약품</td>\n",
       "      <td>vitamin</td>\n",
       "    </tr>\n",
       "    <tr>\n",
       "      <th>7</th>\n",
       "      <td>Vitamin</td>\n",
       "      <td>1000.0</td>\n",
       "      <td>서울</td>\n",
       "      <td>일반의약품</td>\n",
       "      <td>vitamin</td>\n",
       "    </tr>\n",
       "  </tbody>\n",
       "</table>\n",
       "</div>"
      ],
      "text/plain": [
       "       약품명      가격  지역     종류  약품명_소문자\n",
       "6  vitamin  2000.0  서울  일반의약품  vitamin\n",
       "7  Vitamin  1000.0  서울  일반의약품  vitamin"
      ]
     },
     "execution_count": 85,
     "metadata": {},
     "output_type": "execute_result"
    }
   ],
   "source": [
    "df[condition]"
   ]
  },
  {
   "cell_type": "markdown",
   "metadata": {},
   "source": [
    "## 정렬"
   ]
  },
  {
   "cell_type": "code",
   "execution_count": 100,
   "metadata": {},
   "outputs": [
    {
     "data": {
      "text/html": [
       "<div>\n",
       "<style scoped>\n",
       "    .dataframe tbody tr th:only-of-type {\n",
       "        vertical-align: middle;\n",
       "    }\n",
       "\n",
       "    .dataframe tbody tr th {\n",
       "        vertical-align: top;\n",
       "    }\n",
       "\n",
       "    .dataframe thead th {\n",
       "        text-align: right;\n",
       "    }\n",
       "</style>\n",
       "<table border=\"1\" class=\"dataframe\">\n",
       "  <thead>\n",
       "    <tr style=\"text-align: right;\">\n",
       "      <th></th>\n",
       "      <th>약품명</th>\n",
       "      <th>가격</th>\n",
       "      <th>지역</th>\n",
       "      <th>종류</th>\n",
       "      <th>약품명_소문자</th>\n",
       "    </tr>\n",
       "  </thead>\n",
       "  <tbody>\n",
       "    <tr>\n",
       "      <th>2</th>\n",
       "      <td>비타민</td>\n",
       "      <td>4000.0</td>\n",
       "      <td>서울</td>\n",
       "      <td>일반의약품</td>\n",
       "      <td>비타민</td>\n",
       "    </tr>\n",
       "    <tr>\n",
       "      <th>4</th>\n",
       "      <td>Omega3</td>\n",
       "      <td>3700.0</td>\n",
       "      <td>서울</td>\n",
       "      <td>일반의약품</td>\n",
       "      <td>omega3</td>\n",
       "    </tr>\n",
       "    <tr>\n",
       "      <th>0</th>\n",
       "      <td>소화제</td>\n",
       "      <td>3500.0</td>\n",
       "      <td>서울</td>\n",
       "      <td>일반의약품</td>\n",
       "      <td>소화제</td>\n",
       "    </tr>\n",
       "    <tr>\n",
       "      <th>1</th>\n",
       "      <td>감기약</td>\n",
       "      <td>3200.0</td>\n",
       "      <td>서울</td>\n",
       "      <td>일반의약품</td>\n",
       "      <td>감기약</td>\n",
       "    </tr>\n",
       "    <tr>\n",
       "      <th>3</th>\n",
       "      <td>digestive</td>\n",
       "      <td>3200.0</td>\n",
       "      <td>서울</td>\n",
       "      <td>일반의약품</td>\n",
       "      <td>digestive</td>\n",
       "    </tr>\n",
       "    <tr>\n",
       "      <th>6</th>\n",
       "      <td>vitamin</td>\n",
       "      <td>2000.0</td>\n",
       "      <td>서울</td>\n",
       "      <td>일반의약품</td>\n",
       "      <td>vitamin</td>\n",
       "    </tr>\n",
       "    <tr>\n",
       "      <th>7</th>\n",
       "      <td>Vitamin</td>\n",
       "      <td>1000.0</td>\n",
       "      <td>서울</td>\n",
       "      <td>일반의약품</td>\n",
       "      <td>vitamin</td>\n",
       "    </tr>\n",
       "    <tr>\n",
       "      <th>5</th>\n",
       "      <td>오메가3</td>\n",
       "      <td>NaN</td>\n",
       "      <td>서울</td>\n",
       "      <td>일반의약품</td>\n",
       "      <td>오메가3</td>\n",
       "    </tr>\n",
       "  </tbody>\n",
       "</table>\n",
       "</div>"
      ],
      "text/plain": [
       "         약품명      가격  지역     종류    약품명_소문자\n",
       "2        비타민  4000.0  서울  일반의약품        비타민\n",
       "4     Omega3  3700.0  서울  일반의약품     omega3\n",
       "0        소화제  3500.0  서울  일반의약품        소화제\n",
       "1        감기약  3200.0  서울  일반의약품        감기약\n",
       "3  digestive  3200.0  서울  일반의약품  digestive\n",
       "6    vitamin  2000.0  서울  일반의약품    vitamin\n",
       "7    Vitamin  1000.0  서울  일반의약품    vitamin\n",
       "5       오메가3     NaN  서울  일반의약품       오메가3"
      ]
     },
     "execution_count": 100,
     "metadata": {},
     "output_type": "execute_result"
    }
   ],
   "source": [
    "df.sort_values(by=\"가격\", ascending=False)"
   ]
  },
  {
   "cell_type": "code",
   "execution_count": 105,
   "metadata": {},
   "outputs": [
    {
     "data": {
      "text/html": [
       "<div>\n",
       "<style scoped>\n",
       "    .dataframe tbody tr th:only-of-type {\n",
       "        vertical-align: middle;\n",
       "    }\n",
       "\n",
       "    .dataframe tbody tr th {\n",
       "        vertical-align: top;\n",
       "    }\n",
       "\n",
       "    .dataframe thead th {\n",
       "        text-align: right;\n",
       "    }\n",
       "</style>\n",
       "<table border=\"1\" class=\"dataframe\">\n",
       "  <thead>\n",
       "    <tr style=\"text-align: right;\">\n",
       "      <th></th>\n",
       "      <th>약품명</th>\n",
       "      <th>가격</th>\n",
       "      <th>지역</th>\n",
       "      <th>종류</th>\n",
       "      <th>약품명_소문자</th>\n",
       "    </tr>\n",
       "  </thead>\n",
       "  <tbody>\n",
       "    <tr>\n",
       "      <th>4</th>\n",
       "      <td>Omega3</td>\n",
       "      <td>3700.0</td>\n",
       "      <td>서울</td>\n",
       "      <td>일반의약품</td>\n",
       "      <td>omega3</td>\n",
       "    </tr>\n",
       "    <tr>\n",
       "      <th>7</th>\n",
       "      <td>Vitamin</td>\n",
       "      <td>1000.0</td>\n",
       "      <td>서울</td>\n",
       "      <td>일반의약품</td>\n",
       "      <td>vitamin</td>\n",
       "    </tr>\n",
       "    <tr>\n",
       "      <th>3</th>\n",
       "      <td>digestive</td>\n",
       "      <td>3200.0</td>\n",
       "      <td>서울</td>\n",
       "      <td>일반의약품</td>\n",
       "      <td>digestive</td>\n",
       "    </tr>\n",
       "    <tr>\n",
       "      <th>6</th>\n",
       "      <td>vitamin</td>\n",
       "      <td>2000.0</td>\n",
       "      <td>서울</td>\n",
       "      <td>일반의약품</td>\n",
       "      <td>vitamin</td>\n",
       "    </tr>\n",
       "    <tr>\n",
       "      <th>1</th>\n",
       "      <td>감기약</td>\n",
       "      <td>3200.0</td>\n",
       "      <td>서울</td>\n",
       "      <td>일반의약품</td>\n",
       "      <td>감기약</td>\n",
       "    </tr>\n",
       "    <tr>\n",
       "      <th>2</th>\n",
       "      <td>비타민</td>\n",
       "      <td>4000.0</td>\n",
       "      <td>서울</td>\n",
       "      <td>일반의약품</td>\n",
       "      <td>비타민</td>\n",
       "    </tr>\n",
       "    <tr>\n",
       "      <th>0</th>\n",
       "      <td>소화제</td>\n",
       "      <td>3500.0</td>\n",
       "      <td>서울</td>\n",
       "      <td>일반의약품</td>\n",
       "      <td>소화제</td>\n",
       "    </tr>\n",
       "    <tr>\n",
       "      <th>5</th>\n",
       "      <td>오메가3</td>\n",
       "      <td>NaN</td>\n",
       "      <td>서울</td>\n",
       "      <td>일반의약품</td>\n",
       "      <td>오메가3</td>\n",
       "    </tr>\n",
       "  </tbody>\n",
       "</table>\n",
       "</div>"
      ],
      "text/plain": [
       "         약품명      가격  지역     종류    약품명_소문자\n",
       "4     Omega3  3700.0  서울  일반의약품     omega3\n",
       "7    Vitamin  1000.0  서울  일반의약품    vitamin\n",
       "3  digestive  3200.0  서울  일반의약품  digestive\n",
       "6    vitamin  2000.0  서울  일반의약품    vitamin\n",
       "1        감기약  3200.0  서울  일반의약품        감기약\n",
       "2        비타민  4000.0  서울  일반의약품        비타민\n",
       "0        소화제  3500.0  서울  일반의약품        소화제\n",
       "5       오메가3     NaN  서울  일반의약품       오메가3"
      ]
     },
     "execution_count": 105,
     "metadata": {},
     "output_type": "execute_result"
    }
   ],
   "source": [
    "# 다수의 정렬 기준, 각 기준마다 오름차순, 내림차순 리스트로 입력\n",
    "# 모든 기준에 동일한 정렬을 하고 싶다면 ascending에 하나만 입력해도 가능\n",
    "df.sort_values(by=[\"종류\", \"약품명\"], ascending=[False, True])"
   ]
  },
  {
   "cell_type": "markdown",
   "metadata": {},
   "source": [
    "## 파일로 저장하기"
   ]
  },
  {
   "cell_type": "code",
   "execution_count": 106,
   "metadata": {},
   "outputs": [],
   "source": [
    "# 파일 저장, 자동으로 부여되는 index 추가를 원치 않으면 index=False\n",
    "df.to_csv(\"drug.csv\", index=False)"
   ]
  },
  {
   "cell_type": "markdown",
   "metadata": {},
   "source": [
    "## 파일 읽어오기"
   ]
  },
  {
   "cell_type": "code",
   "execution_count": 109,
   "metadata": {},
   "outputs": [
    {
     "data": {
      "text/html": [
       "<div>\n",
       "<style scoped>\n",
       "    .dataframe tbody tr th:only-of-type {\n",
       "        vertical-align: middle;\n",
       "    }\n",
       "\n",
       "    .dataframe tbody tr th {\n",
       "        vertical-align: top;\n",
       "    }\n",
       "\n",
       "    .dataframe thead th {\n",
       "        text-align: right;\n",
       "    }\n",
       "</style>\n",
       "<table border=\"1\" class=\"dataframe\">\n",
       "  <thead>\n",
       "    <tr style=\"text-align: right;\">\n",
       "      <th></th>\n",
       "      <th>약품명</th>\n",
       "      <th>가격</th>\n",
       "      <th>지역</th>\n",
       "      <th>종류</th>\n",
       "      <th>약품명_소문자</th>\n",
       "    </tr>\n",
       "  </thead>\n",
       "  <tbody>\n",
       "    <tr>\n",
       "      <th>0</th>\n",
       "      <td>소화제</td>\n",
       "      <td>3500.0</td>\n",
       "      <td>서울</td>\n",
       "      <td>일반의약품</td>\n",
       "      <td>소화제</td>\n",
       "    </tr>\n",
       "    <tr>\n",
       "      <th>1</th>\n",
       "      <td>감기약</td>\n",
       "      <td>3200.0</td>\n",
       "      <td>서울</td>\n",
       "      <td>일반의약품</td>\n",
       "      <td>감기약</td>\n",
       "    </tr>\n",
       "    <tr>\n",
       "      <th>2</th>\n",
       "      <td>비타민</td>\n",
       "      <td>4000.0</td>\n",
       "      <td>서울</td>\n",
       "      <td>일반의약품</td>\n",
       "      <td>비타민</td>\n",
       "    </tr>\n",
       "    <tr>\n",
       "      <th>3</th>\n",
       "      <td>digestive</td>\n",
       "      <td>3200.0</td>\n",
       "      <td>서울</td>\n",
       "      <td>일반의약품</td>\n",
       "      <td>digestive</td>\n",
       "    </tr>\n",
       "    <tr>\n",
       "      <th>4</th>\n",
       "      <td>Omega3</td>\n",
       "      <td>3700.0</td>\n",
       "      <td>서울</td>\n",
       "      <td>일반의약품</td>\n",
       "      <td>omega3</td>\n",
       "    </tr>\n",
       "    <tr>\n",
       "      <th>5</th>\n",
       "      <td>오메가3</td>\n",
       "      <td>NaN</td>\n",
       "      <td>서울</td>\n",
       "      <td>일반의약품</td>\n",
       "      <td>오메가3</td>\n",
       "    </tr>\n",
       "    <tr>\n",
       "      <th>6</th>\n",
       "      <td>vitamin</td>\n",
       "      <td>2000.0</td>\n",
       "      <td>서울</td>\n",
       "      <td>일반의약품</td>\n",
       "      <td>vitamin</td>\n",
       "    </tr>\n",
       "    <tr>\n",
       "      <th>7</th>\n",
       "      <td>Vitamin</td>\n",
       "      <td>1000.0</td>\n",
       "      <td>서울</td>\n",
       "      <td>일반의약품</td>\n",
       "      <td>vitamin</td>\n",
       "    </tr>\n",
       "  </tbody>\n",
       "</table>\n",
       "</div>"
      ],
      "text/plain": [
       "         약품명      가격  지역     종류    약품명_소문자\n",
       "0        소화제  3500.0  서울  일반의약품        소화제\n",
       "1        감기약  3200.0  서울  일반의약품        감기약\n",
       "2        비타민  4000.0  서울  일반의약품        비타민\n",
       "3  digestive  3200.0  서울  일반의약품  digestive\n",
       "4     Omega3  3700.0  서울  일반의약품     omega3\n",
       "5       오메가3     NaN  서울  일반의약품       오메가3\n",
       "6    vitamin  2000.0  서울  일반의약품    vitamin\n",
       "7    Vitamin  1000.0  서울  일반의약품    vitamin"
      ]
     },
     "execution_count": 109,
     "metadata": {},
     "output_type": "execute_result"
    }
   ],
   "source": [
    "pd.read_csv('drug.csv')"
   ]
  }
 ],
 "metadata": {
  "colab": {
   "provenance": [
    {
     "file_id": "1Jlw3i_5BOPKAtcRioAdpP1I73C6XFzgx",
     "timestamp": 1663651933098
    }
   ]
  },
  "kernelspec": {
   "display_name": "Python 3 (ipykernel)",
   "language": "python",
   "name": "python3"
  },
  "language_info": {
   "codemirror_mode": {
    "name": "ipython",
    "version": 3
   },
   "file_extension": ".py",
   "mimetype": "text/x-python",
   "name": "python",
   "nbconvert_exporter": "python",
   "pygments_lexer": "ipython3",
   "version": "3.8.13"
  },
  "toc": {
   "base_numbering": 1,
   "nav_menu": {},
   "number_sections": true,
   "sideBar": true,
   "skip_h1_title": false,
   "title_cell": "Table of Contents",
   "title_sidebar": "Contents",
   "toc_cell": false,
   "toc_position": {},
   "toc_section_display": true,
   "toc_window_display": false
  },
  "varInspector": {
   "cols": {
    "lenName": 16,
    "lenType": 16,
    "lenVar": 40
   },
   "kernels_config": {
    "python": {
     "delete_cmd_postfix": "",
     "delete_cmd_prefix": "del ",
     "library": "var_list.py",
     "varRefreshCmd": "print(var_dic_list())"
    },
    "r": {
     "delete_cmd_postfix": ") ",
     "delete_cmd_prefix": "rm(",
     "library": "var_list.r",
     "varRefreshCmd": "cat(var_dic_list()) "
    }
   },
   "types_to_exclude": [
    "module",
    "function",
    "builtin_function_or_method",
    "instance",
    "_Feature"
   ],
   "window_display": false
  }
 },
 "nbformat": 4,
 "nbformat_minor": 1
}
