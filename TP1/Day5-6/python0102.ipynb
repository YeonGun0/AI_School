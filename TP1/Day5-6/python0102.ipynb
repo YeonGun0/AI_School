{
 "cells": [
  {
   "cell_type": "markdown",
   "metadata": {
    "id": "io5CnVaLOxnG"
   },
   "source": [
    "## 조건문 : if\n",
    "* https://docs.python.org/ko/3/tutorial/controlflow.html#if-statements"
   ]
  },
  {
   "cell_type": "code",
   "execution_count": 1,
   "metadata": {
    "colab": {
     "base_uri": "https://localhost:8080/"
    },
    "executionInfo": {
     "elapsed": 5516,
     "status": "ok",
     "timestamp": 1663633170321,
     "user": {
      "displayName": "구자현",
      "userId": "11741463190482993752"
     },
     "user_tz": -540
    },
    "id": "SlCIS_85OxnI",
    "outputId": "776945f3-3818-4c06-bede-a26313ae0d8c"
   },
   "outputs": [
    {
     "name": "stdout",
     "output_type": "stream",
     "text": [
      "Please enter an integer: 1423\n"
     ]
    },
    {
     "data": {
      "text/plain": [
       "1423"
      ]
     },
     "execution_count": 1,
     "metadata": {},
     "output_type": "execute_result"
    }
   ],
   "source": [
    "# 입력값 양수 음수 판단\n",
    "x = int(input(\"Please enter an integer: \"))\n",
    "\n",
    "# 입력값이 0보다 크다면, 양수라면 \"양수\" 출력\n",
    "if x > 0:\n",
    "    print(\"양수\")\n",
    "# 입력값이 0과 같다면, \"0\" 출력\n",
    "elif x == 0:\n",
    "    print(\"영\")\n",
    "# 위 두 조건에 해당하지 않는다면, 음수라면 \"음수\" 출력\n",
    "else:\n",
    "    print(\"음수\")"
   ]
  },
  {
   "cell_type": "markdown",
   "metadata": {
    "id": "QK8asXgqOxnI"
   },
   "source": [
    "## 반복문 : for문\n",
    "* https://docs.python.org/ko/3/tutorial/controlflow.html#for-statements"
   ]
  },
  {
   "cell_type": "markdown",
   "metadata": {
    "id": "na9tMUvXOxnJ"
   },
   "source": [
    "### range() 함수\n",
    "* https://docs.python.org/ko/3/tutorial/controlflow.html#the-range-function"
   ]
  },
  {
   "cell_type": "code",
   "execution_count": 4,
   "metadata": {
    "id": "juWbdDlQOxnJ"
   },
   "outputs": [
    {
     "name": "stdout",
     "output_type": "stream",
     "text": [
      "http://naver.com/?page=1\n",
      "http://naver.com/?page=2\n",
      "http://naver.com/?page=3\n",
      "http://naver.com/?page=4\n",
      "http://naver.com/?page=5\n"
     ]
    }
   ],
   "source": [
    "# f-string 를 이용한 URL 페이지 생성\n",
    "# 여러 page에서 데이터를 수집할 때 사용\n",
    "\n",
    "# 한 page에 모든 정보가 있고, 무한 스크롤을 이용해 구현된 웹이라면 while 문을 이용해 data 수집\n",
    "# data가 일정량 이상 수집되면 break\n",
    "\n",
    "# 예) https://naver.com/?page=1\n",
    "for page_num in range(1, 6):\n",
    "    print(f\"http://naver.com/?page={page_num}\")"
   ]
  },
  {
   "cell_type": "code",
   "execution_count": 7,
   "metadata": {},
   "outputs": [
    {
     "name": "stdout",
     "output_type": "stream",
     "text": [
      "http://naver.com/?page=10\n",
      "http://naver.com/?page=9\n",
      "http://naver.com/?page=8\n",
      "http://naver.com/?page=7\n",
      "http://naver.com/?page=6\n",
      "http://naver.com/?page=5\n",
      "http://naver.com/?page=4\n",
      "http://naver.com/?page=3\n",
      "http://naver.com/?page=2\n",
      "http://naver.com/?page=1\n"
     ]
    }
   ],
   "source": [
    "# page 역순으로 URL 접근\n",
    "for page_num in range(10, 0, -1):\n",
    "    print(f\"http://naver.com/?page={page_num}\")"
   ]
  },
  {
   "cell_type": "code",
   "execution_count": 2,
   "metadata": {
    "id": "yby3RDgUOxnK"
   },
   "outputs": [
    {
     "name": "stdout",
     "output_type": "stream",
     "text": [
      "(0, '월')\n",
      "(1, '화')\n",
      "(2, '수')\n",
      "(3, '목')\n",
      "(4, '금')\n",
      "(5, '토')\n",
      "(6, '일')\n"
     ]
    }
   ],
   "source": [
    "# enumerate 를 사용하여 index와 element를 같이 가져올 수 있음 \n",
    "l = [\"월\", \"화\", \"수\", \"목\", \"금\", \"토\", \"일\"]\n",
    "for i in enumerate(l):\n",
    "    print(i)"
   ]
  },
  {
   "cell_type": "code",
   "execution_count": 3,
   "metadata": {},
   "outputs": [
    {
     "name": "stdout",
     "output_type": "stream",
     "text": [
      "0 월\n",
      "1 화\n",
      "2 수\n",
      "3 목\n",
      "4 금\n",
      "5 토\n",
      "6 일\n"
     ]
    }
   ],
   "source": [
    "for idx, element in enumerate(l):\n",
    "    print(idx, element)"
   ]
  },
  {
   "cell_type": "markdown",
   "metadata": {
    "id": "bkBIhD_IOxnL"
   },
   "source": [
    "## 함수\n",
    "* https://docs.python.org/ko/3/tutorial/controlflow.html#defining-functions"
   ]
  },
  {
   "cell_type": "code",
   "execution_count": 11,
   "metadata": {
    "id": "lBQLsklNOxnL"
   },
   "outputs": [],
   "source": [
    "# 전화번호 국번을 반환하는 함수\n",
    "num = \"02-321-1234\""
   ]
  },
  {
   "cell_type": "code",
   "execution_count": 14,
   "metadata": {
    "id": "O8Ne1kvwOxnL"
   },
   "outputs": [
    {
     "name": "stdout",
     "output_type": "stream",
     "text": [
      "02\n"
     ]
    }
   ],
   "source": [
    "def parse_phone(num):\n",
    "    print(num.split('-')[0])\n",
    "\n",
    "parse_phone(num)"
   ]
  },
  {
   "cell_type": "code",
   "execution_count": 32,
   "metadata": {
    "id": "VSy8WVvnOxnL"
   },
   "outputs": [],
   "source": [
    "# 문자열 전처리로 월을 반환하는 함수\n",
    "date = \"2022년 10월 09일\""
   ]
  },
  {
   "cell_type": "code",
   "execution_count": 33,
   "metadata": {
    "id": "fJshfro3OxnL"
   },
   "outputs": [
    {
     "data": {
      "text/plain": [
       "10"
      ]
     },
     "execution_count": 33,
     "metadata": {},
     "output_type": "execute_result"
    }
   ],
   "source": [
    "def find_month(date):\n",
    "    return int(date.split()[1][:-1])\n",
    "    \n",
    "find_month(date)"
   ]
  },
  {
   "cell_type": "markdown",
   "metadata": {
    "id": "63iPG6O_OxnL"
   },
   "source": [
    "## 함수의 Docstring"
   ]
  },
  {
   "cell_type": "code",
   "execution_count": 102,
   "metadata": {
    "id": "X-6FaR15OxnM"
   },
   "outputs": [],
   "source": [
    "# 함수? : docstring 출력\n",
    "# 함수?? : source에 관한 정보\n",
    "\n",
    "# range와 sum의 docstring 출력\n",
    "range?\n",
    "sum??"
   ]
  },
  {
   "cell_type": "markdown",
   "metadata": {
    "id": "x2RkudsyOxnM"
   },
   "source": [
    "## 실습\n",
    "* http://data.seoul.go.kr/dataList/OA-15248/F/1/datasetView.do\n",
    "* 월별 대여현황에서 연령대는 코드로 제공, 해당 코드를 값과 매핑하기 위해 딕셔너리 형태로 가공"
   ]
  },
  {
   "cell_type": "code",
   "execution_count": 88,
   "metadata": {
    "id": "norRJ9x_OxnM"
   },
   "outputs": [
    {
     "data": {
      "text/plain": [
       "['',\n",
       " '10대 : AGE_001',\n",
       " '20대 : AGE_002',\n",
       " '30대 : AGE_003',\n",
       " '40대 : AGE_004',\n",
       " '50대 : AGE_005',\n",
       " '60대 : AGE_006',\n",
       " '70대 : AGE_007',\n",
       " '기타 : AGE_008',\n",
       " '( 비회원, 외국인, 그 이상 등 )']"
      ]
     },
     "execution_count": 88,
     "metadata": {},
     "output_type": "execute_result"
    }
   ],
   "source": [
    "age_code = \"\"\"\n",
    "10대 : AGE_001\n",
    "20대 : AGE_002\n",
    "30대 : AGE_003\n",
    "40대 : AGE_004\n",
    "50대 : AGE_005\n",
    "60대 : AGE_006\n",
    "70대 : AGE_007\n",
    "기타 : AGE_008\n",
    "( 비회원, 외국인, 그 이상 등 )\"\"\"\n",
    "\n",
    "age_code = age_code.split('\\n')\n",
    "\n",
    "age_code"
   ]
  },
  {
   "cell_type": "code",
   "execution_count": 89,
   "metadata": {
    "id": "r2pAO6ALOxnM"
   },
   "outputs": [
    {
     "data": {
      "text/plain": [
       "{'AGE_001': '10대',\n",
       " 'AGE_002': '20대',\n",
       " 'AGE_003': '30대',\n",
       " 'AGE_004': '40대',\n",
       " 'AGE_005': '50대',\n",
       " 'AGE_006': '60대',\n",
       " 'AGE_007': '70대',\n",
       " 'AGE_008': '기타'}"
      ]
     },
     "execution_count": 89,
     "metadata": {},
     "output_type": "execute_result"
    }
   ],
   "source": [
    "age_dict = {}\n",
    "\n",
    "for idx in range(1, 9):\n",
    "    code = age_code[idx]\n",
    "    value, key = code.split(\" : \")\n",
    "    age_dict[key] = value\n",
    "\n",
    "age_dict"
   ]
  },
  {
   "cell_type": "markdown",
   "metadata": {
    "id": "6DoTMr7QOxnM"
   },
   "source": [
    "## 실습 2\n",
    "* 딕셔너리의 결과가 아래와 같이 나오도록 아래의 문자열을 변경해 보세요.\n",
    "```\n",
    "{'경기': '031',\n",
    "'강원': '033',\n",
    "'충남': '041',\n",
    "'충북': '043',\n",
    "'경북': '054',\n",
    "'경남': '055',\n",
    "'전남': '061',\n",
    "'전북': '063'}\n",
    "```"
   ]
  },
  {
   "cell_type": "code",
   "execution_count": 96,
   "metadata": {
    "id": "nvtpbE0ROxnM",
    "outputId": "6582ef9b-f03e-4e2e-d8f2-a05841064a04"
   },
   "outputs": [],
   "source": [
    "phone = \">경기 031 >강원 033 >충남 041 >충북 043 >경북 054 >경남 055 >전남 061 >전북 063\"\n",
    "\n",
    "# phone = ['', '경기 031 ', '강원 033 ', '충남 041 ', '충북 043 ', '경북 054 ', '경남 055 ', '전남 061 ', '전북 063']\n",
    "phone = phone.split(\">\")"
   ]
  },
  {
   "cell_type": "code",
   "execution_count": 97,
   "metadata": {
    "id": "kQ08ukXcOxnM",
    "scrolled": true
   },
   "outputs": [
    {
     "name": "stdout",
     "output_type": "stream",
     "text": [
      "{'경기': '031', '강원': '033', '충남': '041', '충북': '043', '경북': '054', '경남': '055', '전남': '061', '전북': '063'}\n"
     ]
    }
   ],
   "source": [
    "# phone = ['경기 031 ', '강원 033 ', '충남 041 ', '충북 043 ', '경북 054 ', '경남 055 ', '전남 061 ', '전북 063']\n",
    "phone = phone[1:]\n",
    "\n",
    "region_num = {}\n",
    "for element in phone:\n",
    "    region, num = element.split()\n",
    "    region_num[region] = num\n",
    "    \n",
    "print(region_num)"
   ]
  },
  {
   "cell_type": "markdown",
   "metadata": {},
   "source": [
    "## 여러 출력 방법\n",
    "* 내부 구현 방식의 차이\n",
    "* 마지막 줄을 실행하는 것은 ipynb의 기능\n",
    "* 다른 환경에서는 반드시 print 함수를 사용해야 함"
   ]
  },
  {
   "cell_type": "code",
   "execution_count": 98,
   "metadata": {},
   "outputs": [],
   "source": [
    "py = \"Python\\n Class\""
   ]
  },
  {
   "cell_type": "code",
   "execution_count": 99,
   "metadata": {},
   "outputs": [
    {
     "data": {
      "text/plain": [
       "'Python\\n Class'"
      ]
     },
     "execution_count": 99,
     "metadata": {},
     "output_type": "execute_result"
    }
   ],
   "source": [
    "py"
   ]
  },
  {
   "cell_type": "code",
   "execution_count": 100,
   "metadata": {},
   "outputs": [
    {
     "name": "stdout",
     "output_type": "stream",
     "text": [
      "Python\n",
      " Class\n"
     ]
    }
   ],
   "source": [
    "print(py)"
   ]
  },
  {
   "cell_type": "code",
   "execution_count": 101,
   "metadata": {
    "scrolled": true
   },
   "outputs": [
    {
     "data": {
      "text/plain": [
       "\"'Python\\\\n Class'\""
      ]
     },
     "execution_count": 101,
     "metadata": {},
     "output_type": "execute_result"
    }
   ],
   "source": [
    "repr(py)"
   ]
  }
 ],
 "metadata": {
  "colab": {
   "collapsed_sections": [
    "thxfIvC6u4Ga",
    "tMKs81M3sQ9e",
    "uQ0VMYAbu4Gi",
    "ZYBqz3-MsQ94",
    "-mqoFD_Bu4Gv",
    "x4H0bcnisQ-F",
    "Axqztu27sQ-N",
    "Cc2lnQWmsQ-U",
    "AAv0qz8gsQ-o",
    "uzFfT5GTu4Js"
   ],
   "provenance": [
    {
     "file_id": "1PNoeL73A6umiof-fYuzNGVAUo2_nubgK",
     "timestamp": 1663632616890
    }
   ]
  },
  "kernelspec": {
   "display_name": "Python 3 (ipykernel)",
   "language": "python",
   "name": "python3"
  },
  "language_info": {
   "codemirror_mode": {
    "name": "ipython",
    "version": 3
   },
   "file_extension": ".py",
   "mimetype": "text/x-python",
   "name": "python",
   "nbconvert_exporter": "python",
   "pygments_lexer": "ipython3",
   "version": "3.8.13"
  },
  "toc": {
   "base_numbering": 1,
   "nav_menu": {},
   "number_sections": true,
   "sideBar": true,
   "skip_h1_title": false,
   "title_cell": "Table of Contents",
   "title_sidebar": "Contents",
   "toc_cell": false,
   "toc_position": {},
   "toc_section_display": true,
   "toc_window_display": true
  },
  "varInspector": {
   "cols": {
    "lenName": 16,
    "lenType": 16,
    "lenVar": 40
   },
   "kernels_config": {
    "python": {
     "delete_cmd_postfix": "",
     "delete_cmd_prefix": "del ",
     "library": "var_list.py",
     "varRefreshCmd": "print(var_dic_list())"
    },
    "r": {
     "delete_cmd_postfix": ") ",
     "delete_cmd_prefix": "rm(",
     "library": "var_list.r",
     "varRefreshCmd": "cat(var_dic_list()) "
    }
   },
   "types_to_exclude": [
    "module",
    "function",
    "builtin_function_or_method",
    "instance",
    "_Feature"
   ],
   "window_display": false
  }
 },
 "nbformat": 4,
 "nbformat_minor": 1
}
