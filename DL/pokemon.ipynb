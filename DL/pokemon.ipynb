{
 "cells": [
  {
   "cell_type": "markdown",
   "metadata": {
    "id": "fnS6fLgCI5rF"
   },
   "source": [
    "# 라이브러리와 데이터 로드"
   ]
  },
  {
   "cell_type": "code",
   "execution_count": 1,
   "metadata": {
    "id": "sMvxWp-pta6F"
   },
   "outputs": [],
   "source": [
    "import pandas as pd\n",
    "import numpy as np\n",
    "import seaborn as sns\n",
    "import matplotlib.pyplot as plt\n",
    "import os\n",
    "import glob"
   ]
  },
  {
   "cell_type": "code",
   "execution_count": 2,
   "metadata": {
    "colab": {
     "base_uri": "https://localhost:8080/",
     "height": 424
    },
    "id": "b5NQuojKtkvC",
    "outputId": "f3d8a5c4-d6ba-4727-8234-e2f1c823d4a7"
   },
   "outputs": [
    {
     "data": {
      "text/html": [
       "<div>\n",
       "<style scoped>\n",
       "    .dataframe tbody tr th:only-of-type {\n",
       "        vertical-align: middle;\n",
       "    }\n",
       "\n",
       "    .dataframe tbody tr th {\n",
       "        vertical-align: top;\n",
       "    }\n",
       "\n",
       "    .dataframe thead th {\n",
       "        text-align: right;\n",
       "    }\n",
       "</style>\n",
       "<table border=\"1\" class=\"dataframe\">\n",
       "  <thead>\n",
       "    <tr style=\"text-align: right;\">\n",
       "      <th></th>\n",
       "      <th>Name</th>\n",
       "      <th>Type1</th>\n",
       "      <th>Type2</th>\n",
       "    </tr>\n",
       "  </thead>\n",
       "  <tbody>\n",
       "    <tr>\n",
       "      <th>0</th>\n",
       "      <td>bulbasaur</td>\n",
       "      <td>Grass</td>\n",
       "      <td>Poison</td>\n",
       "    </tr>\n",
       "    <tr>\n",
       "      <th>1</th>\n",
       "      <td>ivysaur</td>\n",
       "      <td>Grass</td>\n",
       "      <td>Poison</td>\n",
       "    </tr>\n",
       "    <tr>\n",
       "      <th>2</th>\n",
       "      <td>venusaur</td>\n",
       "      <td>Grass</td>\n",
       "      <td>Poison</td>\n",
       "    </tr>\n",
       "    <tr>\n",
       "      <th>3</th>\n",
       "      <td>charmander</td>\n",
       "      <td>Fire</td>\n",
       "      <td>NaN</td>\n",
       "    </tr>\n",
       "    <tr>\n",
       "      <th>4</th>\n",
       "      <td>charmeleon</td>\n",
       "      <td>Fire</td>\n",
       "      <td>NaN</td>\n",
       "    </tr>\n",
       "    <tr>\n",
       "      <th>...</th>\n",
       "      <td>...</td>\n",
       "      <td>...</td>\n",
       "      <td>...</td>\n",
       "    </tr>\n",
       "    <tr>\n",
       "      <th>804</th>\n",
       "      <td>stakataka</td>\n",
       "      <td>Rock</td>\n",
       "      <td>Steel</td>\n",
       "    </tr>\n",
       "    <tr>\n",
       "      <th>805</th>\n",
       "      <td>blacephalon</td>\n",
       "      <td>Fire</td>\n",
       "      <td>Ghost</td>\n",
       "    </tr>\n",
       "    <tr>\n",
       "      <th>806</th>\n",
       "      <td>zeraora</td>\n",
       "      <td>Electric</td>\n",
       "      <td>NaN</td>\n",
       "    </tr>\n",
       "    <tr>\n",
       "      <th>807</th>\n",
       "      <td>meltan</td>\n",
       "      <td>Steel</td>\n",
       "      <td>NaN</td>\n",
       "    </tr>\n",
       "    <tr>\n",
       "      <th>808</th>\n",
       "      <td>melmetal</td>\n",
       "      <td>Steel</td>\n",
       "      <td>NaN</td>\n",
       "    </tr>\n",
       "  </tbody>\n",
       "</table>\n",
       "<p>809 rows × 3 columns</p>\n",
       "</div>"
      ],
      "text/plain": [
       "            Name     Type1   Type2\n",
       "0      bulbasaur     Grass  Poison\n",
       "1        ivysaur     Grass  Poison\n",
       "2       venusaur     Grass  Poison\n",
       "3     charmander      Fire     NaN\n",
       "4     charmeleon      Fire     NaN\n",
       "..           ...       ...     ...\n",
       "804    stakataka      Rock   Steel\n",
       "805  blacephalon      Fire   Ghost\n",
       "806      zeraora  Electric     NaN\n",
       "807       meltan     Steel     NaN\n",
       "808     melmetal     Steel     NaN\n",
       "\n",
       "[809 rows x 3 columns]"
      ]
     },
     "execution_count": 2,
     "metadata": {},
     "output_type": "execute_result"
    }
   ],
   "source": [
    "name_type = pd.read_csv(\"/Users/jahyeon_gu/Downloads/pokemon.csv\")\n",
    "name_type"
   ]
  },
  {
   "cell_type": "code",
   "execution_count": 3,
   "metadata": {},
   "outputs": [
    {
     "data": {
      "text/html": [
       "<div>\n",
       "<style scoped>\n",
       "    .dataframe tbody tr th:only-of-type {\n",
       "        vertical-align: middle;\n",
       "    }\n",
       "\n",
       "    .dataframe tbody tr th {\n",
       "        vertical-align: top;\n",
       "    }\n",
       "\n",
       "    .dataframe thead th {\n",
       "        text-align: right;\n",
       "    }\n",
       "</style>\n",
       "<table border=\"1\" class=\"dataframe\">\n",
       "  <thead>\n",
       "    <tr style=\"text-align: right;\">\n",
       "      <th></th>\n",
       "      <th>Name</th>\n",
       "      <th>Type1</th>\n",
       "      <th>Type2</th>\n",
       "    </tr>\n",
       "  </thead>\n",
       "  <tbody>\n",
       "    <tr>\n",
       "      <th>0</th>\n",
       "      <td>abomasnow</td>\n",
       "      <td>Grass</td>\n",
       "      <td>Ice</td>\n",
       "    </tr>\n",
       "    <tr>\n",
       "      <th>1</th>\n",
       "      <td>abra</td>\n",
       "      <td>Psychic</td>\n",
       "      <td>NaN</td>\n",
       "    </tr>\n",
       "    <tr>\n",
       "      <th>2</th>\n",
       "      <td>absol</td>\n",
       "      <td>Dark</td>\n",
       "      <td>NaN</td>\n",
       "    </tr>\n",
       "    <tr>\n",
       "      <th>3</th>\n",
       "      <td>accelgor</td>\n",
       "      <td>Bug</td>\n",
       "      <td>NaN</td>\n",
       "    </tr>\n",
       "    <tr>\n",
       "      <th>4</th>\n",
       "      <td>aegislash-blade</td>\n",
       "      <td>Steel</td>\n",
       "      <td>Ghost</td>\n",
       "    </tr>\n",
       "  </tbody>\n",
       "</table>\n",
       "</div>"
      ],
      "text/plain": [
       "              Name    Type1  Type2\n",
       "0        abomasnow    Grass    Ice\n",
       "1             abra  Psychic    NaN\n",
       "2            absol     Dark    NaN\n",
       "3         accelgor      Bug    NaN\n",
       "4  aegislash-blade    Steel  Ghost"
      ]
     },
     "execution_count": 3,
     "metadata": {},
     "output_type": "execute_result"
    }
   ],
   "source": [
    "# 이름순 정렬\n",
    "# drop=True : 새로운 인덱스 컬럼을 만들지 않음\n",
    "name_type = name_type.sort_values(\"Name\").reset_index(drop=True)\n",
    "name_type[:5]"
   ]
  },
  {
   "cell_type": "markdown",
   "metadata": {
    "id": "K4OeyI5VJ1Hk"
   },
   "source": [
    "## 이미지 경로 & 출력"
   ]
  },
  {
   "cell_type": "code",
   "execution_count": 4,
   "metadata": {
    "id": "rl1fGCmZv3M4"
   },
   "outputs": [],
   "source": [
    "PATH = \"/Users/jahyeon_gu/Downloads\""
   ]
  },
  {
   "cell_type": "code",
   "execution_count": 5,
   "metadata": {
    "colab": {
     "base_uri": "https://localhost:8080/"
    },
    "id": "Hq2Nw-91wPab",
    "outputId": "62a0f813-58d4-4679-8599-b97547e20310"
   },
   "outputs": [],
   "source": [
    "img_paths = glob.glob(PATH + \"/images/*\")\n",
    "img_paths.sort()"
   ]
  },
  {
   "cell_type": "code",
   "execution_count": 33,
   "metadata": {},
   "outputs": [
    {
     "data": {
      "text/plain": [
       "['/Users/jahyeon_gu/Downloads/images/abomasnow.png',\n",
       " '/Users/jahyeon_gu/Downloads/images/abra.png',\n",
       " '/Users/jahyeon_gu/Downloads/images/absol.png',\n",
       " '/Users/jahyeon_gu/Downloads/images/accelgor.png',\n",
       " '/Users/jahyeon_gu/Downloads/images/aegislash-blade.png']"
      ]
     },
     "execution_count": 33,
     "metadata": {},
     "output_type": "execute_result"
    }
   ],
   "source": [
    "img_paths[:5]"
   ]
  },
  {
   "cell_type": "code",
   "execution_count": 7,
   "metadata": {
    "colab": {
     "base_uri": "https://localhost:8080/",
     "height": 137
    },
    "id": "KolgZWBRJVPi",
    "outputId": "ce1e2396-7dfc-4503-ef95-cb0774318a99"
   },
   "outputs": [
    {
     "data": {
      "image/png": "[encoded data removed]",
      "text/plain": [
       "<PIL.PngImagePlugin.PngImageFile image mode=RGBA size=120x120>"
      ]
     },
     "execution_count": 7,
     "metadata": {},
     "output_type": "execute_result"
    }
   ],
   "source": [
    "# png 파일\n",
    "# 투명한 배경\n",
    "from PIL import Image\n",
    "\n",
    "Image.open(img_paths[0])"
   ]
  },
  {
   "cell_type": "code",
   "execution_count": 31,
   "metadata": {},
   "outputs": [
    {
     "data": {
      "image/png": "[encoded data removed]",
      "text/plain": [
       "<PIL.JpegImagePlugin.JpegImageFile image mode=RGB size=120x120>"
      ]
     },
     "execution_count": 31,
     "metadata": {},
     "output_type": "execute_result"
    }
   ],
   "source": [
    "# jpg 파일\n",
    "# 하얀 배경\n",
    "Image.open(img_paths[16])"
   ]
  },
  {
   "cell_type": "markdown",
   "metadata": {
    "id": "rlXZ8iXyJ49r"
   },
   "source": [
    "# 전처리 : y 생성"
   ]
  },
  {
   "cell_type": "code",
   "execution_count": 8,
   "metadata": {
    "id": "1Vz5tJdBwTvx"
   },
   "outputs": [],
   "source": [
    "from sklearn.preprocessing import LabelBinarizer\n",
    "\n",
    "encoder = LabelBinarizer()"
   ]
  },
  {
   "cell_type": "code",
   "execution_count": 9,
   "metadata": {
    "colab": {
     "base_uri": "https://localhost:8080/"
    },
    "id": "5CDd5Blv_m9H",
    "outputId": "87de1af8-9464-44aa-a003-34a68c408af2"
   },
   "outputs": [
    {
     "data": {
      "text/plain": [
       "0        Grass\n",
       "1      Psychic\n",
       "2         Dark\n",
       "3          Bug\n",
       "4        Steel\n",
       "        ...   \n",
       "804       Dark\n",
       "805       Dark\n",
       "806     Poison\n",
       "807       Dark\n",
       "808     Dragon\n",
       "Name: Type1, Length: 809, dtype: object"
      ]
     },
     "execution_count": 9,
     "metadata": {},
     "output_type": "execute_result"
    }
   ],
   "source": [
    "name_type[\"Type1\"]"
   ]
  },
  {
   "cell_type": "code",
   "execution_count": 10,
   "metadata": {
    "colab": {
     "base_uri": "https://localhost:8080/"
    },
    "id": "5W_53Y5g1hf2",
    "outputId": "cca40ccf-b11e-42e9-cab2-e736084714a2"
   },
   "outputs": [
    {
     "data": {
      "text/plain": [
       "18"
      ]
     },
     "execution_count": 10,
     "metadata": {},
     "output_type": "execute_result"
    }
   ],
   "source": [
    "name_type[\"Type1\"].nunique()"
   ]
  },
  {
   "cell_type": "code",
   "execution_count": 11,
   "metadata": {
    "colab": {
     "base_uri": "https://localhost:8080/"
    },
    "id": "b9wH-ePI_npD",
    "outputId": "7cbb01bc-0c50-4562-a650-3309423ea64c"
   },
   "outputs": [
    {
     "data": {
      "text/plain": [
       "array([[0, 0, 0, ..., 0, 0, 0],\n",
       "       [0, 0, 0, ..., 0, 0, 0],\n",
       "       [0, 1, 0, ..., 0, 0, 0],\n",
       "       ...,\n",
       "       [0, 0, 0, ..., 0, 0, 0],\n",
       "       [0, 1, 0, ..., 0, 0, 0],\n",
       "       [0, 0, 1, ..., 0, 0, 0]])"
      ]
     },
     "execution_count": 11,
     "metadata": {},
     "output_type": "execute_result"
    }
   ],
   "source": [
    "enc_y = encoder.fit_transform(name_type[\"Type1\"])\n",
    "enc_y"
   ]
  },
  {
   "cell_type": "code",
   "execution_count": 12,
   "metadata": {
    "colab": {
     "base_uri": "https://localhost:8080/"
    },
    "id": "rqHNjgppxM7v",
    "outputId": "d6aeb6c6-97b3-42e9-f9f6-fb682a71c6d5"
   },
   "outputs": [
    {
     "data": {
      "text/plain": [
       "(809, 18)"
      ]
     },
     "execution_count": 12,
     "metadata": {},
     "output_type": "execute_result"
    }
   ],
   "source": [
    "enc_y.shape"
   ]
  },
  {
   "cell_type": "code",
   "execution_count": 13,
   "metadata": {
    "colab": {
     "base_uri": "https://localhost:8080/"
    },
    "id": "iCS6nncvbKrG",
    "outputId": "71c28a5f-1b86-42b9-829f-36028eb9fd03"
   },
   "outputs": [
    {
     "data": {
      "text/plain": [
       "array([0, 0, 0, 0, 0, 0, 0, 0, 0, 1, 0, 0, 0, 0, 0, 0, 0, 0])"
      ]
     },
     "execution_count": 13,
     "metadata": {},
     "output_type": "execute_result"
    }
   ],
   "source": [
    "enc_y[0]"
   ]
  },
  {
   "cell_type": "code",
   "execution_count": 14,
   "metadata": {
    "colab": {
     "base_uri": "https://localhost:8080/"
    },
    "id": "GF5Ys0P2bPYK",
    "outputId": "e5bd1d70-4541-418b-ab77-4f64f96713a5"
   },
   "outputs": [
    {
     "data": {
      "text/plain": [
       "9"
      ]
     },
     "execution_count": 14,
     "metadata": {},
     "output_type": "execute_result"
    }
   ],
   "source": [
    "np.argmax(enc_y[0])"
   ]
  },
  {
   "cell_type": "code",
   "execution_count": 15,
   "metadata": {
    "colab": {
     "base_uri": "https://localhost:8080/",
     "height": 36
    },
    "id": "Hl6lTpdtbSQh",
    "outputId": "d2aa3060-0737-449d-8c1d-5d1f3f49dd6b"
   },
   "outputs": [
    {
     "data": {
      "text/plain": [
       "'Grass'"
      ]
     },
     "execution_count": 15,
     "metadata": {},
     "output_type": "execute_result"
    }
   ],
   "source": [
    "encoder.classes_[np.argmax(enc_y[0])]"
   ]
  },
  {
   "cell_type": "code",
   "execution_count": 16,
   "metadata": {
    "id": "58RBH4Epw6Nj"
   },
   "outputs": [],
   "source": [
    "y = []\n",
    "\n",
    "for i in enc_y:\n",
    "    max_idx = np.argmax(i)\n",
    "    # print(max_idx)\n",
    "    y.append(max_idx)"
   ]
  },
  {
   "cell_type": "code",
   "execution_count": 17,
   "metadata": {
    "colab": {
     "base_uri": "https://localhost:8080/"
    },
    "id": "2rjqguttwj3C",
    "outputId": "e7c826be-7a4d-4c6d-cf1e-31026d871b01"
   },
   "outputs": [
    {
     "data": {
      "text/plain": [
       "array([ 9, 14,  1,  0, 16, 15, 16, 12, 14, 17,  2, 15, 12,  9,  3, 15, 17,\n",
       "       13,  6, 12, 15, 15,  0, 15,  4, 16, 11, 12, 15, 11,  2, 14, 17, 12,\n",
       "        2, 10,  8, 15, 17, 17, 15,  9, 11,  0,  0, 14, 16,  9,  9, 11, 12,\n",
       "       12, 12, 15,  1,  6, 17,  6, 12,  3, 15, 15, 12,  9,  6, 12,  9, 17,\n",
       "       16, 16, 17,  9, 17,  9, 12, 12,  0,  0,  0,  9,  9,  6, 15,  9, 17,\n",
       "       17,  0, 12,  0, 14, 16,  8, 12,  6,  0,  6,  6, 12,  9,  9,  9,  9,\n",
       "        9,  6, 14, 17, 14, 12, 17, 17, 17, 10,  4,  4,  4, 17, 16,  8,  0,\n",
       "        6,  4,  5, 17, 17, 14, 14,  9,  5,  5, 15, 15, 17, 14, 13, 13, 17,\n",
       "        0, 11, 11, 10,  0,  6,  1,  6,  9,  6,  9,  3, 12,  1, 12, 11,  6,\n",
       "       14, 17, 17, 17,  8, 16, 15, 12, 10, 12, 12, 12, 10, 16, 13,  2,  2,\n",
       "       12, 13,  2,  8,  8, 10, 14,  2, 17, 10, 12, 14,  0,  8,  8,  8,  0,\n",
       "        0,  3,  3, 12, 13,  3,  3,  3,  3,  3, 14,  6,  3, 17,  6,  0, 14,\n",
       "       14, 10,  9,  9, 12, 12, 12, 17,  6, 17,  9,  9, 17,  3,  4,  6,  6,\n",
       "       12, 17,  4,  4, 10,  9,  9,  0,  2, 17, 17, 17, 11, 12, 12,  2, 14,\n",
       "        0, 13,  2, 14,  8, 17,  0,  8, 15,  2, 15, 12,  8, 11, 11, 12, 10,\n",
       "       10,  9,  9, 13, 17, 17, 15, 10,  0, 10,  2,  2, 17, 14, 14, 14,  8,\n",
       "        4, 15, 17, 13,  9, 10,  9,  6,  0, 14, 13, 12,  5,  1, 17,  2, 12,\n",
       "        5,  8,  5,  2,  6,  6,  3,  3,  0, 12, 10, 10,  5,  5,  5,  6,  1,\n",
       "       16, 14, 12,  9, 17,  1,  1, 17,  1, 14, 12,  0,  6,  6,  1,  9,  2,\n",
       "       17, 12, 16,  3,  0,  9, 11, 15, 15, 14,  0, 12,  0,  9, 12, 17, 17,\n",
       "       17, 14, 16, 16, 16, 16, 13, 12,  2, 17,  0,  0, 10, 10, 17,  2, 16,\n",
       "        8, 10, 17, 17,  0, 15,  2,  2,  9,  0,  0,  0, 12, 12,  1, 15,  9,\n",
       "       12, 12,  6,  6,  8, 17, 12, 17, 12,  5, 17, 14, 17, 14, 15,  9, 17,\n",
       "        3,  3, 15,  5,  5,  5,  6,  6, 16, 17,  6,  6,  3,  3,  3,  5,  1,\n",
       "       11, 17,  1,  3,  5, 17, 17,  9, 13,  3, 17, 10,  5, 17,  0, 16,  5,\n",
       "        5,  9, 16, 12, 16, 14, 12, 14, 16, 16,  0, 14, 14,  5,  5,  1, 17,\n",
       "       12, 14,  8, 12, 15,  3,  8,  8,  6,  6,  9,  0, 14, 10, 17, 10, 13,\n",
       "       12, 14,  1, 14, 13, 14, 14, 13, 13, 13, 13, 13, 13, 15,  0,  6,  0,\n",
       "       12,  7,  7, 15,  6,  9, 17,  9, 15, 15, 15, 12,  6, 17,  3, 17,  8,\n",
       "       17,  5,  5, 17,  9,  6,  0,  0,  5, 12,  1, 17, 12,  9, 10,  8,  0,\n",
       "       17,  3, 12, 12, 12, 12,  6,  3, 12, 11,  0,  0, 17,  3, 13, 17, 17,\n",
       "       17, 17,  6,  1, 17, 12, 12, 12, 17,  5, 17, 15, 17,  8, 15,  1, 12,\n",
       "        6, 17, 17,  6,  9, 17,  3,  3, 14, 15,  6, 12, 12,  2, 11, 12, 15,\n",
       "       16, 17, 17,  2, 14, 10, 10, 10,  0,  5, 15, 15,  9,  9,  3,  9, 12,\n",
       "        1,  2, 13, 13, 17, 10, 10, 10,  8,  5, 12,  0,  9,  0,  0,  1,  1,\n",
       "        0, 17, 17, 11,  9, 17, 17, 12,  9,  9, 13,  0, 17,  9,  0,  2, 17,\n",
       "       17,  0, 15,  9,  9,  3,  9,  0,  8, 14,  0, 12, 17,  9,  6, 16,  9,\n",
       "        9, 12, 13, 13, 13, 12, 12,  2, 17, 17, 17,  6,  4, 12, 11,  1,  9,\n",
       "       12, 11,  9,  4, 14, 14, 15, 12,  0, 11,  0, 12,  8, 14,  4, 17, 15,\n",
       "       12, 12, 12, 12, 17, 17, 16,  9, 12, 12, 10, 13, 15, 17,  9,  9,  0,\n",
       "       12,  0, 13, 17, 17, 12, 11,  4, 14,  4, 12,  6,  9,  9,  9, 17,  3,\n",
       "       14, 12, 12, 17, 17,  6, 15,  5,  3,  5, 17,  3,  4,  4,  4,  6,  6,\n",
       "        7,  6,  9, 17, 12, 13, 13, 12, 10,  9,  8,  9, 13, 12,  9,  6,  9,\n",
       "       17,  3, 12,  6, 15, 15,  5, 15,  1, 12, 14, 12, 14, 11, 11, 11, 17,\n",
       "        0,  0,  0,  9,  0, 10, 14,  9, 12,  0,  9,  9,  0,  0,  6,  0,  3,\n",
       "        1,  6, 17, 17, 11, 17, 12,  1,  0,  9, 13,  9,  0, 17, 12, 12,  0,\n",
       "       17, 17, 14, 14, 17,  0,  0, 14, 14,  4,  3,  8,  0,  0, 12,  1, 12,\n",
       "        3,  3,  2,  3, 12,  1,  1, 13,  1,  2])"
      ]
     },
     "execution_count": 17,
     "metadata": {},
     "output_type": "execute_result"
    }
   ],
   "source": [
    "y = np.array(y)\n",
    "y"
   ]
  },
  {
   "cell_type": "code",
   "execution_count": 18,
   "metadata": {
    "colab": {
     "base_uri": "https://localhost:8080/"
    },
    "id": "ZWXoFjDE_qBy",
    "outputId": "896b0c8d-a1fa-4b0f-f5b7-9ec3b78dfdf6"
   },
   "outputs": [
    {
     "data": {
      "text/plain": [
       "array(['Bug', 'Dark', 'Dragon', 'Electric', 'Fairy', 'Fighting', 'Fire',\n",
       "       'Flying', 'Ghost', 'Grass', 'Ground', 'Ice', 'Normal', 'Poison',\n",
       "       'Psychic', 'Rock', 'Steel', 'Water'], dtype='<U8')"
      ]
     },
     "execution_count": 18,
     "metadata": {},
     "output_type": "execute_result"
    }
   ],
   "source": [
    "encoder.classes_"
   ]
  },
  {
   "cell_type": "code",
   "execution_count": 19,
   "metadata": {
    "colab": {
     "base_uri": "https://localhost:8080/"
    },
    "id": "gRMBPGqYuMKs",
    "outputId": "4e6167e4-233b-4429-dcdf-e3acd096b7cf"
   },
   "outputs": [
    {
     "data": {
      "text/plain": [
       "18"
      ]
     },
     "execution_count": 19,
     "metadata": {},
     "output_type": "execute_result"
    }
   ],
   "source": [
    "len(encoder.classes_)"
   ]
  },
  {
   "cell_type": "markdown",
   "metadata": {
    "id": "GiEWytMEhYL0"
   },
   "source": [
    "# 전처리 : X"
   ]
  },
  {
   "cell_type": "code",
   "execution_count": 21,
   "metadata": {
    "colab": {
     "base_uri": "https://localhost:8080/"
    },
    "id": "LJenyNpddIjZ",
    "outputId": "f28447ba-52a3-4b48-aa70-59d75a4e5190"
   },
   "outputs": [
    {
     "data": {
      "text/plain": [
       "(120, 120, 3)"
      ]
     },
     "execution_count": 21,
     "metadata": {},
     "output_type": "execute_result"
    }
   ],
   "source": [
    "import cv2\n",
    "\n",
    "cv2.imread(img_paths[0]).shape"
   ]
  },
  {
   "cell_type": "code",
   "execution_count": 22,
   "metadata": {},
   "outputs": [
    {
     "data": {
      "text/plain": [
       "array([[[0, 0, 0],\n",
       "        [0, 0, 0],\n",
       "        [0, 0, 0],\n",
       "        ...,\n",
       "        [0, 0, 0],\n",
       "        [0, 0, 0],\n",
       "        [0, 0, 0]],\n",
       "\n",
       "       [[0, 0, 0],\n",
       "        [0, 0, 0],\n",
       "        [0, 0, 0],\n",
       "        ...,\n",
       "        [0, 0, 0],\n",
       "        [0, 0, 0],\n",
       "        [0, 0, 0]],\n",
       "\n",
       "       [[0, 0, 0],\n",
       "        [0, 0, 0],\n",
       "        [0, 0, 0],\n",
       "        ...,\n",
       "        [0, 0, 0],\n",
       "        [0, 0, 0],\n",
       "        [0, 0, 0]],\n",
       "\n",
       "       ...,\n",
       "\n",
       "       [[0, 0, 0],\n",
       "        [0, 0, 0],\n",
       "        [0, 0, 0],\n",
       "        ...,\n",
       "        [0, 0, 0],\n",
       "        [0, 0, 0],\n",
       "        [0, 0, 0]],\n",
       "\n",
       "       [[0, 0, 0],\n",
       "        [0, 0, 0],\n",
       "        [0, 0, 0],\n",
       "        ...,\n",
       "        [0, 0, 0],\n",
       "        [0, 0, 0],\n",
       "        [0, 0, 0]],\n",
       "\n",
       "       [[0, 0, 0],\n",
       "        [0, 0, 0],\n",
       "        [0, 0, 0],\n",
       "        ...,\n",
       "        [0, 0, 0],\n",
       "        [0, 0, 0],\n",
       "        [0, 0, 0]]], dtype=uint8)"
      ]
     },
     "execution_count": 22,
     "metadata": {},
     "output_type": "execute_result"
    }
   ],
   "source": [
    "# png 파일\n",
    "# 투명한 배경 = 0\n",
    "cv2.imread(img_paths[0])"
   ]
  },
  {
   "cell_type": "code",
   "execution_count": 30,
   "metadata": {
    "colab": {
     "base_uri": "https://localhost:8080/"
    },
    "id": "N7QH5GNHi09B",
    "outputId": "77b030df-5c33-4f5d-e3dd-7b1dda46fe8a"
   },
   "outputs": [
    {
     "data": {
      "text/plain": [
       "array([[[255, 255, 255],\n",
       "        [255, 255, 255],\n",
       "        [255, 255, 255],\n",
       "        ...,\n",
       "        [255, 255, 255],\n",
       "        [255, 255, 255],\n",
       "        [255, 255, 255]],\n",
       "\n",
       "       [[255, 255, 255],\n",
       "        [255, 255, 255],\n",
       "        [255, 255, 255],\n",
       "        ...,\n",
       "        [255, 255, 255],\n",
       "        [255, 255, 255],\n",
       "        [255, 255, 255]],\n",
       "\n",
       "       [[255, 255, 255],\n",
       "        [255, 255, 255],\n",
       "        [255, 255, 255],\n",
       "        ...,\n",
       "        [255, 255, 255],\n",
       "        [255, 255, 255],\n",
       "        [255, 255, 255]],\n",
       "\n",
       "       ...,\n",
       "\n",
       "       [[255, 255, 255],\n",
       "        [255, 255, 255],\n",
       "        [255, 255, 255],\n",
       "        ...,\n",
       "        [255, 255, 255],\n",
       "        [255, 255, 255],\n",
       "        [255, 255, 255]],\n",
       "\n",
       "       [[255, 255, 255],\n",
       "        [255, 255, 255],\n",
       "        [255, 255, 255],\n",
       "        ...,\n",
       "        [255, 255, 255],\n",
       "        [255, 255, 255],\n",
       "        [255, 255, 255]],\n",
       "\n",
       "       [[255, 255, 255],\n",
       "        [255, 255, 255],\n",
       "        [255, 255, 255],\n",
       "        ...,\n",
       "        [255, 255, 255],\n",
       "        [255, 255, 255],\n",
       "        [255, 255, 255]]], dtype=uint8)"
      ]
     },
     "execution_count": 30,
     "metadata": {},
     "output_type": "execute_result"
    }
   ],
   "source": [
    "# jpg 파일\n",
    "# 하얀 배경 = 255\n",
    "cv2.imread(img_paths[16])"
   ]
  },
  {
   "cell_type": "code",
   "execution_count": 36,
   "metadata": {
    "id": "q01bkAkqiDtl"
   },
   "outputs": [],
   "source": [
    "a = (cv2.imread(img_paths[16]) + 1)"
   ]
  },
  {
   "cell_type": "code",
   "execution_count": 41,
   "metadata": {},
   "outputs": [
    {
     "data": {
      "text/plain": [
       "array([[[0, 0, 0],\n",
       "        [0, 0, 0],\n",
       "        [0, 0, 0],\n",
       "        ...,\n",
       "        [0, 0, 0],\n",
       "        [0, 0, 0],\n",
       "        [0, 0, 0]],\n",
       "\n",
       "       [[0, 0, 0],\n",
       "        [0, 0, 0],\n",
       "        [0, 0, 0],\n",
       "        ...,\n",
       "        [0, 0, 0],\n",
       "        [0, 0, 0],\n",
       "        [0, 0, 0]],\n",
       "\n",
       "       [[0, 0, 0],\n",
       "        [0, 0, 0],\n",
       "        [0, 0, 0],\n",
       "        ...,\n",
       "        [0, 0, 0],\n",
       "        [0, 0, 0],\n",
       "        [0, 0, 0]],\n",
       "\n",
       "       ...,\n",
       "\n",
       "       [[0, 0, 0],\n",
       "        [0, 0, 0],\n",
       "        [0, 0, 0],\n",
       "        ...,\n",
       "        [0, 0, 0],\n",
       "        [0, 0, 0],\n",
       "        [0, 0, 0]],\n",
       "\n",
       "       [[0, 0, 0],\n",
       "        [0, 0, 0],\n",
       "        [0, 0, 0],\n",
       "        ...,\n",
       "        [0, 0, 0],\n",
       "        [0, 0, 0],\n",
       "        [0, 0, 0]],\n",
       "\n",
       "       [[0, 0, 0],\n",
       "        [0, 0, 0],\n",
       "        [0, 0, 0],\n",
       "        ...,\n",
       "        [0, 0, 0],\n",
       "        [0, 0, 0],\n",
       "        [0, 0, 0]]], dtype=uint8)"
      ]
     },
     "execution_count": 41,
     "metadata": {},
     "output_type": "execute_result"
    }
   ],
   "source": [
    "# 픽셀 값에 대하여 +1\n",
    "cv2.imread(img_paths[16]) + 1"
   ]
  },
  {
   "cell_type": "code",
   "execution_count": 37,
   "metadata": {
    "colab": {
     "base_uri": "https://localhost:8080/",
     "height": 137
    },
    "id": "Km_M8JsoiQAA",
    "outputId": "bffd95cd-9f7a-4ea1-d497-41e33adcb2eb"
   },
   "outputs": [
    {
     "data": {
      "image/png": "[encoded data removed]",
      "text/plain": [
       "<PIL.Image.Image image mode=RGB size=120x120>"
      ]
     },
     "execution_count": 37,
     "metadata": {},
     "output_type": "execute_result"
    }
   ],
   "source": [
    "# +1 로는 원하는 전처리가 되지 않음\n",
    "Image.fromarray(a)"
   ]
  },
  {
   "attachments": {},
   "cell_type": "markdown",
   "metadata": {},
   "source": [
    "## jpg to png convert library"
   ]
  },
  {
   "cell_type": "code",
   "execution_count": 44,
   "metadata": {
    "colab": {
     "base_uri": "https://localhost:8080/"
    },
    "id": "u2wwmwjGiCeB",
    "outputId": "4bd904e0-dbb9-41bd-dac1-94c57b76b227"
   },
   "outputs": [],
   "source": [
    "# # test\n",
    "# from PIL import Image\n",
    "\n",
    "# im = Image.open(img_paths[16]).convert(\"RGB\")\n",
    "# im.save(f\"{img_paths[16]}.png\", \"png\")"
   ]
  },
  {
   "cell_type": "code",
   "execution_count": 64,
   "metadata": {},
   "outputs": [],
   "source": [
    "a = cv2.imread(\"/Users/jahyeon_gu/Downloads/images/araquanid.jpg\")"
   ]
  },
  {
   "cell_type": "code",
   "execution_count": 61,
   "metadata": {},
   "outputs": [
    {
     "data": {
      "text/plain": [
       "array([[[255, 255, 255],\n",
       "        [255, 255, 255],\n",
       "        [255, 255, 255],\n",
       "        ...,\n",
       "        [255, 255, 255],\n",
       "        [255, 255, 255],\n",
       "        [255, 255, 255]],\n",
       "\n",
       "       [[255, 255, 255],\n",
       "        [255, 255, 255],\n",
       "        [255, 255, 255],\n",
       "        ...,\n",
       "        [255, 255, 255],\n",
       "        [255, 255, 255],\n",
       "        [255, 255, 255]],\n",
       "\n",
       "       [[255, 255, 255],\n",
       "        [255, 255, 255],\n",
       "        [255, 255, 255],\n",
       "        ...,\n",
       "        [255, 255, 255],\n",
       "        [255, 255, 255],\n",
       "        [255, 255, 255]],\n",
       "\n",
       "       ...,\n",
       "\n",
       "       [[255, 255, 255],\n",
       "        [255, 255, 255],\n",
       "        [255, 255, 255],\n",
       "        ...,\n",
       "        [255, 255, 255],\n",
       "        [255, 255, 255],\n",
       "        [255, 255, 255]],\n",
       "\n",
       "       [[255, 255, 255],\n",
       "        [255, 255, 255],\n",
       "        [255, 255, 255],\n",
       "        ...,\n",
       "        [255, 255, 255],\n",
       "        [255, 255, 255],\n",
       "        [255, 255, 255]],\n",
       "\n",
       "       [[255, 255, 255],\n",
       "        [255, 255, 255],\n",
       "        [255, 255, 255],\n",
       "        ...,\n",
       "        [255, 255, 255],\n",
       "        [255, 255, 255],\n",
       "        [255, 255, 255]]], dtype=uint8)"
      ]
     },
     "execution_count": 61,
     "metadata": {},
     "output_type": "execute_result"
    }
   ],
   "source": [
    "a"
   ]
  },
  {
   "attachments": {},
   "cell_type": "markdown",
   "metadata": {},
   "source": [
    "## agumentation"
   ]
  },
  {
   "cell_type": "code",
   "execution_count": 72,
   "metadata": {},
   "outputs": [
    {
     "data": {
      "text/plain": [
       "<matplotlib.image.AxesImage at 0x178747fd0>"
      ]
     },
     "execution_count": 72,
     "metadata": {},
     "output_type": "execute_result"
    },
    {
     "data": {
      "image/png": "[encoded data removed]",
      "text/plain": [
       "<Figure size 640x480 with 1 Axes>"
      ]
     },
     "metadata": {},
     "output_type": "display_data"
    }
   ],
   "source": [
    "import matplotlib.pyplot as plt\n",
    "from tensorflow.keras.preprocessing.image import ImageDataGenerator\n",
    "\n",
    "image = cv2.cvtColor(cv2.imread(img_paths[16]), cv2.COLOR_BGR2RGB)\n",
    "plt.imshow(image)"
   ]
  },
  {
   "cell_type": "code",
   "execution_count": 76,
   "metadata": {
    "colab": {
     "base_uri": "https://localhost:8080/"
    },
    "id": "MRHfVuhO1_As",
    "outputId": "a7abfcd1-62c3-4d73-beb0-a6a7082f9c80"
   },
   "outputs": [
    {
     "data": {
      "text/plain": [
       "<matplotlib.image.AxesImage at 0x178836820>"
      ]
     },
     "execution_count": 76,
     "metadata": {},
     "output_type": "execute_result"
    },
    {
     "data": {
      "image/png": "[encoded data removed]",
      "text/plain": [
       "<Figure size 640x480 with 1 Axes>"
      ]
     },
     "metadata": {},
     "output_type": "display_data"
    }
   ],
   "source": [
    "plt.imshow(image / 255)"
   ]
  },
  {
   "cell_type": "code",
   "execution_count": 77,
   "metadata": {
    "colab": {
     "base_uri": "https://localhost:8080/"
    },
    "id": "qE_Ah-zfrv2a",
    "outputId": "b088820d-763e-4dd3-e926-774f0f62f5e0"
   },
   "outputs": [
    {
     "data": {
      "text/plain": [
       "(0.0, 1.0)"
      ]
     },
     "execution_count": 77,
     "metadata": {},
     "output_type": "execute_result"
    }
   ],
   "source": [
    "np.min(cv2.imread(img_paths[0]) / 255), np.max(cv2.imread(img_paths[0]) / 255)"
   ]
  },
  {
   "cell_type": "code",
   "execution_count": 260,
   "metadata": {
    "colab": {
     "base_uri": "https://localhost:8080/"
    },
    "id": "RgXCc0gpiaIL",
    "outputId": "a0037d7f-95ee-473e-ae55-9fbb96217d20"
   },
   "outputs": [
    {
     "name": "stderr",
     "output_type": "stream",
     "text": [
      "100%|██████████| 809/809 [00:00<00:00, 3924.29it/s]\n"
     ]
    }
   ],
   "source": [
    "from tqdm import tqdm\n",
    "\n",
    "X = []\n",
    "\n",
    "for img_path in tqdm(img_paths):\n",
    "    # cv2.imread는 이미지를 RGB가 아닌 BGR로 받아오기 때문에 바꿔 주어야 함\n",
    "    image = cv2.imread(img_path)\n",
    "    image = cv2.cvtColor(image, cv2.COLOR_BGR2RGB)\n",
    "    image = cv2.resize(image, (120, 120))\n",
    "    X.append(image)"
   ]
  },
  {
   "cell_type": "code",
   "execution_count": 261,
   "metadata": {
    "colab": {
     "base_uri": "https://localhost:8080/"
    },
    "id": "LUSiSAG1iaF2",
    "outputId": "d53324db-b556-41a1-c950-fef13ba12b13"
   },
   "outputs": [
    {
     "data": {
      "text/plain": [
       "809"
      ]
     },
     "execution_count": 261,
     "metadata": {},
     "output_type": "execute_result"
    }
   ],
   "source": [
    "len(X)"
   ]
  },
  {
   "cell_type": "code",
   "execution_count": 262,
   "metadata": {
    "colab": {
     "base_uri": "https://localhost:8080/"
    },
    "id": "bfnwl4LJuIR-",
    "outputId": "c6ca5583-fde5-4c85-b5f5-f9910cf2737b"
   },
   "outputs": [
    {
     "data": {
      "text/plain": [
       "809"
      ]
     },
     "execution_count": 262,
     "metadata": {},
     "output_type": "execute_result"
    }
   ],
   "source": [
    "len(y)"
   ]
  },
  {
   "cell_type": "code",
   "execution_count": 263,
   "metadata": {
    "colab": {
     "base_uri": "https://localhost:8080/"
    },
    "id": "iITNM39h3qG2",
    "outputId": "64f24171-c89e-46cb-9dc6-8288ce41317b"
   },
   "outputs": [
    {
     "data": {
      "text/plain": [
       "numpy.ndarray"
      ]
     },
     "execution_count": 263,
     "metadata": {},
     "output_type": "execute_result"
    }
   ],
   "source": [
    "type(X[0])"
   ]
  },
  {
   "cell_type": "code",
   "execution_count": 264,
   "metadata": {},
   "outputs": [
    {
     "data": {
      "text/plain": [
       "array([[[255, 255, 255],\n",
       "        [255, 255, 255],\n",
       "        [255, 255, 255],\n",
       "        ...,\n",
       "        [255, 255, 255],\n",
       "        [255, 255, 255],\n",
       "        [255, 255, 255]],\n",
       "\n",
       "       [[255, 255, 255],\n",
       "        [255, 255, 255],\n",
       "        [255, 255, 255],\n",
       "        ...,\n",
       "        [255, 255, 255],\n",
       "        [255, 255, 255],\n",
       "        [255, 255, 255]],\n",
       "\n",
       "       [[255, 255, 255],\n",
       "        [255, 255, 255],\n",
       "        [255, 255, 255],\n",
       "        ...,\n",
       "        [255, 255, 255],\n",
       "        [255, 255, 255],\n",
       "        [255, 255, 255]],\n",
       "\n",
       "       ...,\n",
       "\n",
       "       [[255, 255, 255],\n",
       "        [255, 255, 255],\n",
       "        [255, 255, 255],\n",
       "        ...,\n",
       "        [255, 255, 255],\n",
       "        [255, 255, 255],\n",
       "        [255, 255, 255]],\n",
       "\n",
       "       [[255, 255, 255],\n",
       "        [255, 255, 255],\n",
       "        [255, 255, 255],\n",
       "        ...,\n",
       "        [255, 255, 255],\n",
       "        [255, 255, 255],\n",
       "        [255, 255, 255]],\n",
       "\n",
       "       [[255, 255, 255],\n",
       "        [255, 255, 255],\n",
       "        [255, 255, 255],\n",
       "        ...,\n",
       "        [255, 255, 255],\n",
       "        [255, 255, 255],\n",
       "        [255, 255, 255]]], dtype=uint8)"
      ]
     },
     "execution_count": 264,
     "metadata": {},
     "output_type": "execute_result"
    }
   ],
   "source": [
    "test = X[16]\n",
    "test"
   ]
  },
  {
   "cell_type": "code",
   "execution_count": 265,
   "metadata": {},
   "outputs": [
    {
     "data": {
      "text/plain": [
       "(0, 255, 235.60347222222222)"
      ]
     },
     "execution_count": 265,
     "metadata": {},
     "output_type": "execute_result"
    }
   ],
   "source": [
    "np.min(test), np.max(test), np.mean(test)"
   ]
  },
  {
   "cell_type": "code",
   "execution_count": 266,
   "metadata": {
    "colab": {
     "base_uri": "https://localhost:8080/"
    },
    "id": "jlAnDtU5tbnT",
    "outputId": "7c7d5937-984a-4710-f92a-7aabec771123"
   },
   "outputs": [
    {
     "data": {
      "text/plain": [
       "array([[[0, 0, 0],\n",
       "        [0, 0, 0],\n",
       "        [0, 0, 0],\n",
       "        ...,\n",
       "        [0, 0, 0],\n",
       "        [0, 0, 0],\n",
       "        [0, 0, 0]],\n",
       "\n",
       "       [[0, 0, 0],\n",
       "        [0, 0, 0],\n",
       "        [0, 0, 0],\n",
       "        ...,\n",
       "        [0, 0, 0],\n",
       "        [0, 0, 0],\n",
       "        [0, 0, 0]],\n",
       "\n",
       "       [[0, 0, 0],\n",
       "        [0, 0, 0],\n",
       "        [0, 0, 0],\n",
       "        ...,\n",
       "        [0, 0, 0],\n",
       "        [0, 0, 0],\n",
       "        [0, 0, 0]],\n",
       "\n",
       "       ...,\n",
       "\n",
       "       [[0, 0, 0],\n",
       "        [0, 0, 0],\n",
       "        [0, 0, 0],\n",
       "        ...,\n",
       "        [0, 0, 0],\n",
       "        [0, 0, 0],\n",
       "        [0, 0, 0]],\n",
       "\n",
       "       [[0, 0, 0],\n",
       "        [0, 0, 0],\n",
       "        [0, 0, 0],\n",
       "        ...,\n",
       "        [0, 0, 0],\n",
       "        [0, 0, 0],\n",
       "        [0, 0, 0]],\n",
       "\n",
       "       [[0, 0, 0],\n",
       "        [0, 0, 0],\n",
       "        [0, 0, 0],\n",
       "        ...,\n",
       "        [0, 0, 0],\n",
       "        [0, 0, 0],\n",
       "        [0, 0, 0]]], dtype=uint8)"
      ]
     },
     "execution_count": 266,
     "metadata": {},
     "output_type": "execute_result"
    }
   ],
   "source": [
    "a = cv2.imread(img_paths[-1])\n",
    "a"
   ]
  },
  {
   "cell_type": "code",
   "execution_count": 267,
   "metadata": {
    "colab": {
     "base_uri": "https://localhost:8080/",
     "height": 137
    },
    "id": "tM1coI0-tcNM",
    "outputId": "6f97290f-a212-43a3-9900-e1f39b358ba4"
   },
   "outputs": [
    {
     "data": {
      "image/png": "[encoded data removed]",
      "text/plain": [
       "<PIL.Image.Image image mode=RGB size=120x120>"
      ]
     },
     "execution_count": 267,
     "metadata": {},
     "output_type": "execute_result"
    }
   ],
   "source": [
    "Image.fromarray(a)"
   ]
  },
  {
   "cell_type": "code",
   "execution_count": 287,
   "metadata": {
    "id": "g3gGYaKeiaAw"
   },
   "outputs": [],
   "source": [
    "from sklearn.model_selection import train_test_split\n",
    "\n",
    "x_train, x_test, y_train, y_test = train_test_split(X, y, test_size=0.2,\n",
    "                                                    stratify=y, random_state=42)"
   ]
  },
  {
   "cell_type": "code",
   "execution_count": 288,
   "metadata": {
    "colab": {
     "base_uri": "https://localhost:8080/"
    },
    "id": "1oQ9K9Mh-qwL",
    "outputId": "ec3e07a9-13b0-4fd1-f102-82fa8fd8593f"
   },
   "outputs": [
    {
     "data": {
      "text/plain": [
       "list"
      ]
     },
     "execution_count": 288,
     "metadata": {},
     "output_type": "execute_result"
    }
   ],
   "source": [
    "type(x_test)"
   ]
  },
  {
   "cell_type": "code",
   "execution_count": 289,
   "metadata": {
    "colab": {
     "base_uri": "https://localhost:8080/"
    },
    "id": "j5kOk5LU_DZw",
    "outputId": "2909d4e0-2de4-4063-8125-aee837f568e8"
   },
   "outputs": [],
   "source": [
    "x_train = np.array(x_train)\n",
    "x_test = np.array(x_test)\n",
    "y_train = np.array(y_train)\n",
    "y_test = np.array(y_test)"
   ]
  },
  {
   "cell_type": "code",
   "execution_count": 290,
   "metadata": {
    "colab": {
     "base_uri": "https://localhost:8080/",
     "height": 166
    },
    "id": "ZoCewciFtF93",
    "outputId": "8fe32002-b3a1-4e75-b811-04ba8d67656b"
   },
   "outputs": [
    {
     "data": {
      "text/plain": [
       "((647, 120, 120, 3), (647,), (162, 120, 120, 3), (162,))"
      ]
     },
     "execution_count": 290,
     "metadata": {},
     "output_type": "execute_result"
    }
   ],
   "source": [
    "x_train.shape, y_train.shape, x_test.shape, y_test.shape"
   ]
  },
  {
   "cell_type": "code",
   "execution_count": 291,
   "metadata": {},
   "outputs": [],
   "source": [
    "from tensorflow.keras.models import Sequential\n",
    "from tensorflow.keras.layers import RandomFlip, RandomZoom, RandomRotation\n",
    "\n",
    "data_augmentation = Sequential(\n",
    "    [\n",
    "        RandomFlip(\"horizontal\", input_shape=(120, 120, 3)),\n",
    "        RandomRotation(0.1),\n",
    "        RandomZoom(0.1)\n",
    "    ]\n",
    ")"
   ]
  },
  {
   "cell_type": "code",
   "execution_count": 292,
   "metadata": {
    "id": "tT8U4wBPiZ-g"
   },
   "outputs": [],
   "source": [
    "import tensorflow as tf\n",
    "from tensorflow.keras.models import Sequential\n",
    "from tensorflow.keras.layers import Conv2D, MaxPooling2D, Dense, Flatten, Dropout, Rescaling\n",
    "\n",
    "\n",
    "model = Sequential()\n",
    "# 입력층\n",
    "model.add(data_augmentation)\n",
    "# To rescale an input in the [0, 255] range to be in the [0, 1] range, you would pass scale=1./255.\n",
    "# To rescale an input in the [0, 255] range to be in the [-1, 1] range, you would pass scale=1./127.5, offset=-1.\n",
    "model.add(Rescaling(scale=1./255.))\n",
    "\n",
    "model.add(Conv2D(filters=16, kernel_size=(3,3), activation='selu'))\n",
    "model.add(MaxPooling2D(2,2))\n",
    "model.add(Dropout(0.2))\n",
    "model.add(Conv2D(filters=16, kernel_size=(3,3), activation='selu'))\n",
    "model.add(MaxPooling2D(2,2))\n",
    "model.add(Dropout(0.2))\n",
    "\n",
    "# Fully-connected layer\n",
    "\n",
    "# 출력층\n",
    "model.add(Flatten())\n",
    "model.add(Dense(units=128, activation=\"selu\"))\n",
    "model.add(Dense(units=64, activation=\"selu\"))\n",
    "model.add(Dense(units=32, activation=\"selu\"))\n",
    "model.add(Dense(len(encoder.classes_), activation=\"softmax\"))"
   ]
  },
  {
   "cell_type": "code",
   "execution_count": 293,
   "metadata": {
    "colab": {
     "base_uri": "https://localhost:8080/"
    },
    "id": "LzcGO7c-mGV4",
    "outputId": "f4fd3f16-077c-4269-f315-38ac8ab17191"
   },
   "outputs": [
    {
     "name": "stdout",
     "output_type": "stream",
     "text": [
      "Model: \"sequential_22\"\n",
      "_________________________________________________________________\n",
      " Layer (type)                Output Shape              Param #   \n",
      "=================================================================\n",
      " sequential_21 (Sequential)  (None, 120, 120, 3)       0         \n",
      "                                                                 \n",
      " rescaling_12 (Rescaling)    (None, 120, 120, 3)       0         \n",
      "                                                                 \n",
      " conv2d_28 (Conv2D)          (None, 118, 118, 16)      448       \n",
      "                                                                 \n",
      " max_pooling2d_28 (MaxPoolin  (None, 59, 59, 16)       0         \n",
      " g2D)                                                            \n",
      "                                                                 \n",
      " dropout_28 (Dropout)        (None, 59, 59, 16)        0         \n",
      "                                                                 \n",
      " conv2d_29 (Conv2D)          (None, 57, 57, 16)        2320      \n",
      "                                                                 \n",
      " max_pooling2d_29 (MaxPoolin  (None, 28, 28, 16)       0         \n",
      " g2D)                                                            \n",
      "                                                                 \n",
      " dropout_29 (Dropout)        (None, 28, 28, 16)        0         \n",
      "                                                                 \n",
      " flatten_14 (Flatten)        (None, 12544)             0         \n",
      "                                                                 \n",
      " dense_56 (Dense)            (None, 128)               1605760   \n",
      "                                                                 \n",
      " dense_57 (Dense)            (None, 64)                8256      \n",
      "                                                                 \n",
      " dense_58 (Dense)            (None, 32)                2080      \n",
      "                                                                 \n",
      " dense_59 (Dense)            (None, 18)                594       \n",
      "                                                                 \n",
      "=================================================================\n",
      "Total params: 1,619,458\n",
      "Trainable params: 1,619,458\n",
      "Non-trainable params: 0\n",
      "_________________________________________________________________\n"
     ]
    }
   ],
   "source": [
    "model.summary()"
   ]
  },
  {
   "cell_type": "code",
   "execution_count": 294,
   "metadata": {
    "colab": {
     "base_uri": "https://localhost:8080/",
     "height": 1000
    },
    "id": "F4bM88jonSOF",
    "outputId": "061c3e82-e199-43cd-a848-38f0d96d25d7"
   },
   "outputs": [
    {
     "name": "stdout",
     "output_type": "stream",
     "text": [
      "You must install pydot (`pip install pydot`) and install graphviz (see instructions at https://graphviz.gitlab.io/download/) for plot_model/model_to_dot to work.\n"
     ]
    }
   ],
   "source": [
    "from tensorflow.keras.utils import plot_model\n",
    "\n",
    "plot_model(model)"
   ]
  },
  {
   "cell_type": "code",
   "execution_count": 295,
   "metadata": {
    "id": "VPiR9VmImUGM"
   },
   "outputs": [],
   "source": [
    "model.compile(optimizer='adam',\n",
    "              loss=tf.keras.losses.SparseCategoricalCrossentropy(from_logits=True),\n",
    "              metrics=['accuracy'])"
   ]
  },
  {
   "cell_type": "code",
   "execution_count": 296,
   "metadata": {
    "id": "T-8kASyamUEU"
   },
   "outputs": [],
   "source": [
    "from tensorflow.keras.callbacks import EarlyStopping\n",
    "\n",
    "early_stop = EarlyStopping(monitor='val_accuracy', patience=2)"
   ]
  },
  {
   "cell_type": "code",
   "execution_count": 297,
   "metadata": {
    "colab": {
     "base_uri": "https://localhost:8080/"
    },
    "id": "hOV8WBEUmUB2",
    "outputId": "61926124-3dcd-4bd9-deff-92b1439dd86e"
   },
   "outputs": [
    {
     "name": "stdout",
     "output_type": "stream",
     "text": [
      "Epoch 1/10\n"
     ]
    },
    {
     "name": "stderr",
     "output_type": "stream",
     "text": [
      "/Users/jahyeon_gu/tensorflow3.8/envs/tf-cert/lib/python3.8/site-packages/tensorflow/python/util/dispatch.py:1082: UserWarning: \"`sparse_categorical_crossentropy` received `from_logits=True`, but the `output` argument was produced by a sigmoid or softmax activation and thus does not represent logits. Was this intended?\"\n",
      "  return dispatch_target(*args, **kwargs)\n"
     ]
    },
    {
     "ename": "InvalidArgumentError",
     "evalue": "Cannot assign a device for operation sequential_22/sequential_21/random_rotation_6/stateful_uniform/RngReadAndSkip: Could not satisfy explicit device specification '' because the node {{colocation_node sequential_22/sequential_21/random_rotation_6/stateful_uniform/RngReadAndSkip}} was colocated with a group of nodes that required incompatible device '/job:localhost/replica:0/task:0/device:GPU:0'. All available devices [/job:localhost/replica:0/task:0/device:CPU:0, /job:localhost/replica:0/task:0/device:GPU:0]. \nColocation Debug Info:\nColocation group had the following types and supported devices: \nRoot Member(assigned_device_name_index_=2 requested_device_name_='/job:localhost/replica:0/task:0/device:GPU:0' assigned_device_name_='/job:localhost/replica:0/task:0/device:GPU:0' resource_device_name_='/job:localhost/replica:0/task:0/device:GPU:0' supported_device_types_=[CPU] possible_devices_=[]\nRngReadAndSkip: CPU \n_Arg: GPU CPU \n\nColocation members, user-requested devices, and framework assigned devices, if any:\n  sequential_22_sequential_21_random_rotation_6_stateful_uniform_rngreadandskip_resource (_Arg)  framework assigned device=/job:localhost/replica:0/task:0/device:GPU:0\n  sequential_22/sequential_21/random_rotation_6/stateful_uniform/RngReadAndSkip (RngReadAndSkip) \n\n\t [[{{node sequential_22/sequential_21/random_rotation_6/stateful_uniform/RngReadAndSkip}}]] [Op:__inference_train_function_21406]",
     "output_type": "error",
     "traceback": [
      "\u001b[0;31m---------------------------------------------------------------------------\u001b[0m",
      "\u001b[0;31mInvalidArgumentError\u001b[0m                      Traceback (most recent call last)",
      "Cell \u001b[0;32mIn[297], line 1\u001b[0m\n\u001b[0;32m----> 1\u001b[0m history \u001b[39m=\u001b[39m model\u001b[39m.\u001b[39;49mfit(x_train, y_train, validation_data\u001b[39m=\u001b[39;49m(x_test, y_test), epochs\u001b[39m=\u001b[39;49m\u001b[39m10\u001b[39;49m, callbacks\u001b[39m=\u001b[39;49mearly_stop)\n",
      "File \u001b[0;32m~/tensorflow3.8/envs/tf-cert/lib/python3.8/site-packages/keras/utils/traceback_utils.py:67\u001b[0m, in \u001b[0;36mfilter_traceback.<locals>.error_handler\u001b[0;34m(*args, **kwargs)\u001b[0m\n\u001b[1;32m     65\u001b[0m \u001b[39mexcept\u001b[39;00m \u001b[39mException\u001b[39;00m \u001b[39mas\u001b[39;00m e:  \u001b[39m# pylint: disable=broad-except\u001b[39;00m\n\u001b[1;32m     66\u001b[0m   filtered_tb \u001b[39m=\u001b[39m _process_traceback_frames(e\u001b[39m.\u001b[39m__traceback__)\n\u001b[0;32m---> 67\u001b[0m   \u001b[39mraise\u001b[39;00m e\u001b[39m.\u001b[39mwith_traceback(filtered_tb) \u001b[39mfrom\u001b[39;00m \u001b[39mNone\u001b[39m\n\u001b[1;32m     68\u001b[0m \u001b[39mfinally\u001b[39;00m:\n\u001b[1;32m     69\u001b[0m   \u001b[39mdel\u001b[39;00m filtered_tb\n",
      "File \u001b[0;32m~/tensorflow3.8/envs/tf-cert/lib/python3.8/site-packages/tensorflow/python/eager/execute.py:54\u001b[0m, in \u001b[0;36mquick_execute\u001b[0;34m(op_name, num_outputs, inputs, attrs, ctx, name)\u001b[0m\n\u001b[1;32m     52\u001b[0m \u001b[39mtry\u001b[39;00m:\n\u001b[1;32m     53\u001b[0m   ctx\u001b[39m.\u001b[39mensure_initialized()\n\u001b[0;32m---> 54\u001b[0m   tensors \u001b[39m=\u001b[39m pywrap_tfe\u001b[39m.\u001b[39mTFE_Py_Execute(ctx\u001b[39m.\u001b[39m_handle, device_name, op_name,\n\u001b[1;32m     55\u001b[0m                                       inputs, attrs, num_outputs)\n\u001b[1;32m     56\u001b[0m \u001b[39mexcept\u001b[39;00m core\u001b[39m.\u001b[39m_NotOkStatusException \u001b[39mas\u001b[39;00m e:\n\u001b[1;32m     57\u001b[0m   \u001b[39mif\u001b[39;00m name \u001b[39mis\u001b[39;00m \u001b[39mnot\u001b[39;00m \u001b[39mNone\u001b[39;00m:\n",
      "\u001b[0;31mInvalidArgumentError\u001b[0m: Cannot assign a device for operation sequential_22/sequential_21/random_rotation_6/stateful_uniform/RngReadAndSkip: Could not satisfy explicit device specification '' because the node {{colocation_node sequential_22/sequential_21/random_rotation_6/stateful_uniform/RngReadAndSkip}} was colocated with a group of nodes that required incompatible device '/job:localhost/replica:0/task:0/device:GPU:0'. All available devices [/job:localhost/replica:0/task:0/device:CPU:0, /job:localhost/replica:0/task:0/device:GPU:0]. \nColocation Debug Info:\nColocation group had the following types and supported devices: \nRoot Member(assigned_device_name_index_=2 requested_device_name_='/job:localhost/replica:0/task:0/device:GPU:0' assigned_device_name_='/job:localhost/replica:0/task:0/device:GPU:0' resource_device_name_='/job:localhost/replica:0/task:0/device:GPU:0' supported_device_types_=[CPU] possible_devices_=[]\nRngReadAndSkip: CPU \n_Arg: GPU CPU \n\nColocation members, user-requested devices, and framework assigned devices, if any:\n  sequential_22_sequential_21_random_rotation_6_stateful_uniform_rngreadandskip_resource (_Arg)  framework assigned device=/job:localhost/replica:0/task:0/device:GPU:0\n  sequential_22/sequential_21/random_rotation_6/stateful_uniform/RngReadAndSkip (RngReadAndSkip) \n\n\t [[{{node sequential_22/sequential_21/random_rotation_6/stateful_uniform/RngReadAndSkip}}]] [Op:__inference_train_function_21406]"
     ]
    }
   ],
   "source": [
    "history = model.fit(x_train, y_train, validation_data=(x_test, y_test), epochs=10, callbacks=early_stop)"
   ]
  },
  {
   "cell_type": "code",
   "execution_count": 246,
   "metadata": {
    "colab": {
     "base_uri": "https://localhost:8080/",
     "height": 206
    },
    "id": "vRzP8wZyvask",
    "outputId": "029c7c14-85a9-4557-b1f8-9d2acaf246b4"
   },
   "outputs": [
    {
     "data": {
      "text/html": [
       "<div>\n",
       "<style scoped>\n",
       "    .dataframe tbody tr th:only-of-type {\n",
       "        vertical-align: middle;\n",
       "    }\n",
       "\n",
       "    .dataframe tbody tr th {\n",
       "        vertical-align: top;\n",
       "    }\n",
       "\n",
       "    .dataframe thead th {\n",
       "        text-align: right;\n",
       "    }\n",
       "</style>\n",
       "<table border=\"1\" class=\"dataframe\">\n",
       "  <thead>\n",
       "    <tr style=\"text-align: right;\">\n",
       "      <th></th>\n",
       "      <th>loss</th>\n",
       "      <th>accuracy</th>\n",
       "      <th>val_loss</th>\n",
       "      <th>val_accuracy</th>\n",
       "    </tr>\n",
       "  </thead>\n",
       "  <tbody>\n",
       "    <tr>\n",
       "      <th>0</th>\n",
       "      <td>3.051691</td>\n",
       "      <td>0.148377</td>\n",
       "      <td>3.097259</td>\n",
       "      <td>0.148148</td>\n",
       "    </tr>\n",
       "    <tr>\n",
       "      <th>1</th>\n",
       "      <td>2.220290</td>\n",
       "      <td>0.313756</td>\n",
       "      <td>3.373696</td>\n",
       "      <td>0.030864</td>\n",
       "    </tr>\n",
       "    <tr>\n",
       "      <th>2</th>\n",
       "      <td>1.663070</td>\n",
       "      <td>0.545595</td>\n",
       "      <td>3.471775</td>\n",
       "      <td>0.104938</td>\n",
       "    </tr>\n",
       "  </tbody>\n",
       "</table>\n",
       "</div>"
      ],
      "text/plain": [
       "       loss  accuracy  val_loss  val_accuracy\n",
       "0  3.051691  0.148377  3.097259      0.148148\n",
       "1  2.220290  0.313756  3.373696      0.030864\n",
       "2  1.663070  0.545595  3.471775      0.104938"
      ]
     },
     "execution_count": 246,
     "metadata": {},
     "output_type": "execute_result"
    }
   ],
   "source": [
    "df_hist = pd.DataFrame(history.history)\n",
    "df_hist"
   ]
  },
  {
   "cell_type": "code",
   "execution_count": 247,
   "metadata": {
    "colab": {
     "base_uri": "https://localhost:8080/",
     "height": 282
    },
    "id": "G27KekJJvulA",
    "outputId": "7080b0a9-7e9a-4a82-962e-0011bbd4ca3a"
   },
   "outputs": [
    {
     "data": {
      "text/plain": [
       "<AxesSubplot: >"
      ]
     },
     "execution_count": 247,
     "metadata": {},
     "output_type": "execute_result"
    },
    {
     "data": {
      "image/png": "[encoded data removed]",
      "text/plain": [
       "<Figure size 640x480 with 1 Axes>"
      ]
     },
     "metadata": {},
     "output_type": "display_data"
    }
   ],
   "source": [
    "df_hist[[\"loss\", \"val_loss\"]].plot()"
   ]
  },
  {
   "cell_type": "code",
   "execution_count": 248,
   "metadata": {
    "colab": {
     "base_uri": "https://localhost:8080/",
     "height": 282
    },
    "id": "mK18YFx28e5P",
    "outputId": "9224df67-8737-4531-8ea6-4cab8bcc9df8"
   },
   "outputs": [
    {
     "data": {
      "text/plain": [
       "<AxesSubplot: >"
      ]
     },
     "execution_count": 248,
     "metadata": {},
     "output_type": "execute_result"
    },
    {
     "data": {
      "image/png": "[encoded data removed]",
      "text/plain": [
       "<Figure size 640x480 with 1 Axes>"
      ]
     },
     "metadata": {},
     "output_type": "display_data"
    }
   ],
   "source": [
    "df_hist[[\"accuracy\", \"val_accuracy\"]].plot()"
   ]
  },
  {
   "attachments": {},
   "cell_type": "markdown",
   "metadata": {},
   "source": [
    "# 여기서부터 노트북 참고...."
   ]
  },
  {
   "cell_type": "code",
   "execution_count": 298,
   "metadata": {
    "id": "PiJPljgZHHxZ"
   },
   "outputs": [],
   "source": [
    "import os\n",
    "import numpy as np\n",
    "import pandas as pd \n",
    "import cv2 \n",
    "import matplotlib.pyplot as plt"
   ]
  },
  {
   "cell_type": "code",
   "execution_count": 302,
   "metadata": {},
   "outputs": [
    {
     "name": "stdout",
     "output_type": "stream",
     "text": [
      "/Users/jahyeon_gu/Downloads/images\n",
      "/Users/jahyeon_gu/Downloads/images\n"
     ]
    }
   ],
   "source": [
    "from PIL import Image\n",
    "\n",
    "root_dir = \"/Users/jahyeon_gu/Downloads/images\"\n",
    "files = os.path.join(root_dir)\n",
    "print(root_dir)\n",
    "print(files)"
   ]
  },
  {
   "cell_type": "code",
   "execution_count": 304,
   "metadata": {},
   "outputs": [
    {
     "data": {
      "text/plain": [
       "['parasect.png', 'lumineon.png', 'raikou.png', 'comfey.jpg', 'dedenne.png']"
      ]
     },
     "execution_count": 304,
     "metadata": {},
     "output_type": "execute_result"
    }
   ],
   "source": [
    "File_names = os.listdir(files)\n",
    "File_names[:5]"
   ]
  },
  {
   "cell_type": "code",
   "execution_count": 312,
   "metadata": {},
   "outputs": [
    {
     "data": {
      "image/png": "[encoded data removed]",
      "text/plain": [
       "<Figure size 1500x800 with 6 Axes>"
      ]
     },
     "metadata": {},
     "output_type": "display_data"
    }
   ],
   "source": [
    "fig, axes = plt.subplots(2, 3, figsize=(15, 8))\n",
    "\n",
    "# 5개의 파일 이름 추출\n",
    "first_five = File_names[0:6]\n",
    "\n",
    "def subplots():\n",
    "    i = 0\n",
    "    j = 0\n",
    "    k = 0\n",
    "    for k in range(5):\n",
    "        state = os.path.join(root_dir, first_five[k])\n",
    "        img = Image.open(state)\n",
    "        axes[i,j].imshow(img)\n",
    "        \n",
    "        # subplots 자리 조정\n",
    "        if k==2:\n",
    "            i +=1\n",
    "            j = 0\n",
    "        else:\n",
    "            j += 1\n",
    "\n",
    "\n",
    "    # subplot들 간의 사이 간격 조정\n",
    "    plt.tight_layout(pad=2);\n",
    "    \n",
    "subplots()"
   ]
  },
  {
   "cell_type": "code",
   "execution_count": 313,
   "metadata": {},
   "outputs": [
    {
     "data": {
      "text/html": [
       "<div>\n",
       "<style scoped>\n",
       "    .dataframe tbody tr th:only-of-type {\n",
       "        vertical-align: middle;\n",
       "    }\n",
       "\n",
       "    .dataframe tbody tr th {\n",
       "        vertical-align: top;\n",
       "    }\n",
       "\n",
       "    .dataframe thead th {\n",
       "        text-align: right;\n",
       "    }\n",
       "</style>\n",
       "<table border=\"1\" class=\"dataframe\">\n",
       "  <thead>\n",
       "    <tr style=\"text-align: right;\">\n",
       "      <th></th>\n",
       "      <th>Name</th>\n",
       "      <th>Type1</th>\n",
       "      <th>Type2</th>\n",
       "    </tr>\n",
       "  </thead>\n",
       "  <tbody>\n",
       "    <tr>\n",
       "      <th>0</th>\n",
       "      <td>bulbasaur</td>\n",
       "      <td>Grass</td>\n",
       "      <td>Poison</td>\n",
       "    </tr>\n",
       "    <tr>\n",
       "      <th>1</th>\n",
       "      <td>ivysaur</td>\n",
       "      <td>Grass</td>\n",
       "      <td>Poison</td>\n",
       "    </tr>\n",
       "    <tr>\n",
       "      <th>2</th>\n",
       "      <td>venusaur</td>\n",
       "      <td>Grass</td>\n",
       "      <td>Poison</td>\n",
       "    </tr>\n",
       "    <tr>\n",
       "      <th>3</th>\n",
       "      <td>charmander</td>\n",
       "      <td>Fire</td>\n",
       "      <td>NaN</td>\n",
       "    </tr>\n",
       "    <tr>\n",
       "      <th>4</th>\n",
       "      <td>charmeleon</td>\n",
       "      <td>Fire</td>\n",
       "      <td>NaN</td>\n",
       "    </tr>\n",
       "  </tbody>\n",
       "</table>\n",
       "</div>"
      ],
      "text/plain": [
       "         Name  Type1   Type2\n",
       "0   bulbasaur  Grass  Poison\n",
       "1     ivysaur  Grass  Poison\n",
       "2    venusaur  Grass  Poison\n",
       "3  charmander   Fire     NaN\n",
       "4  charmeleon   Fire     NaN"
      ]
     },
     "execution_count": 313,
     "metadata": {},
     "output_type": "execute_result"
    }
   ],
   "source": [
    "data = pd.read_csv(\"/Users/jahyeon_gu/Downloads/pokemon.csv\")\n",
    "\n",
    "data.head()"
   ]
  },
  {
   "cell_type": "code",
   "execution_count": 319,
   "metadata": {},
   "outputs": [
    {
     "name": "stdout",
     "output_type": "stream",
     "text": [
      "('bulbasaur', 'Grass')\n",
      "('ivysaur', 'Grass')\n",
      "('venusaur', 'Grass')\n",
      "('charmander', 'Fire')\n",
      "('charmeleon', 'Fire')\n",
      "('charizard', 'Fire')\n",
      "('squirtle', 'Water')\n",
      "('wartortle', 'Water')\n",
      "('blastoise', 'Water')\n",
      "('caterpie', 'Bug')\n",
      "('metapod', 'Bug')\n",
      "('butterfree', 'Bug')\n",
      "('weedle', 'Bug')\n",
      "('kakuna', 'Bug')\n",
      "('beedrill', 'Bug')\n",
      "('pidgey', 'Normal')\n",
      "('pidgeotto', 'Normal')\n",
      "('pidgeot', 'Normal')\n",
      "('rattata', 'Normal')\n",
      "('raticate', 'Normal')\n",
      "('spearow', 'Normal')\n",
      "('fearow', 'Normal')\n",
      "('ekans', 'Poison')\n",
      "('arbok', 'Poison')\n",
      "('pikachu', 'Electric')\n",
      "('raichu', 'Electric')\n",
      "('sandshrew', 'Ground')\n",
      "('sandslash', 'Ground')\n",
      "('nidoran-f', 'Poison')\n",
      "('nidorina', 'Poison')\n",
      "('nidoqueen', 'Poison')\n",
      "('nidoran-m', 'Poison')\n",
      "('nidorino', 'Poison')\n",
      "('nidoking', 'Poison')\n",
      "('clefairy', 'Fairy')\n",
      "('clefable', 'Fairy')\n",
      "('vulpix', 'Fire')\n",
      "('ninetales', 'Fire')\n",
      "('jigglypuff', 'Normal')\n",
      "('wigglytuff', 'Normal')\n",
      "('zubat', 'Poison')\n",
      "('golbat', 'Poison')\n",
      "('oddish', 'Grass')\n",
      "('gloom', 'Grass')\n",
      "('vileplume', 'Grass')\n",
      "('paras', 'Bug')\n",
      "('parasect', 'Bug')\n",
      "('venonat', 'Bug')\n",
      "('venomoth', 'Bug')\n",
      "('diglett', 'Ground')\n",
      "('dugtrio', 'Ground')\n",
      "('meowth', 'Normal')\n",
      "('persian', 'Normal')\n",
      "('psyduck', 'Water')\n",
      "('golduck', 'Water')\n",
      "('mankey', 'Fighting')\n",
      "('primeape', 'Fighting')\n",
      "('growlithe', 'Fire')\n",
      "('arcanine', 'Fire')\n",
      "('poliwag', 'Water')\n",
      "('poliwhirl', 'Water')\n",
      "('poliwrath', 'Water')\n",
      "('abra', 'Psychic')\n",
      "('kadabra', 'Psychic')\n",
      "('alakazam', 'Psychic')\n",
      "('machop', 'Fighting')\n",
      "('machoke', 'Fighting')\n",
      "('machamp', 'Fighting')\n",
      "('bellsprout', 'Grass')\n",
      "('weepinbell', 'Grass')\n",
      "('victreebel', 'Grass')\n",
      "('tentacool', 'Water')\n",
      "('tentacruel', 'Water')\n",
      "('geodude', 'Rock')\n",
      "('graveler', 'Rock')\n",
      "('golem', 'Rock')\n",
      "('ponyta', 'Fire')\n",
      "('rapidash', 'Fire')\n",
      "('slowpoke', 'Water')\n",
      "('slowbro', 'Water')\n",
      "('magnemite', 'Electric')\n",
      "('magneton', 'Electric')\n",
      "('farfetchd', 'Normal')\n",
      "('doduo', 'Normal')\n",
      "('dodrio', 'Normal')\n",
      "('seel', 'Water')\n",
      "('dewgong', 'Water')\n",
      "('grimer', 'Poison')\n",
      "('muk', 'Poison')\n",
      "('shellder', 'Water')\n",
      "('cloyster', 'Water')\n",
      "('gastly', 'Ghost')\n",
      "('haunter', 'Ghost')\n",
      "('gengar', 'Ghost')\n",
      "('onix', 'Rock')\n",
      "('drowzee', 'Psychic')\n",
      "('hypno', 'Psychic')\n",
      "('krabby', 'Water')\n",
      "('kingler', 'Water')\n",
      "('voltorb', 'Electric')\n",
      "('electrode', 'Electric')\n",
      "('exeggcute', 'Grass')\n",
      "('exeggutor', 'Grass')\n",
      "('cubone', 'Ground')\n",
      "('marowak', 'Ground')\n",
      "('hitmonlee', 'Fighting')\n",
      "('hitmonchan', 'Fighting')\n",
      "('lickitung', 'Normal')\n",
      "('koffing', 'Poison')\n",
      "('weezing', 'Poison')\n",
      "('rhyhorn', 'Ground')\n",
      "('rhydon', 'Ground')\n",
      "('chansey', 'Normal')\n",
      "('tangela', 'Grass')\n",
      "('kangaskhan', 'Normal')\n",
      "('horsea', 'Water')\n",
      "('seadra', 'Water')\n",
      "('goldeen', 'Water')\n",
      "('seaking', 'Water')\n",
      "('staryu', 'Water')\n",
      "('starmie', 'Water')\n",
      "('mr-mime', 'Psychic')\n",
      "('scyther', 'Bug')\n",
      "('jynx', 'Ice')\n",
      "('electabuzz', 'Electric')\n",
      "('magmar', 'Fire')\n",
      "('pinsir', 'Bug')\n",
      "('tauros', 'Normal')\n",
      "('magikarp', 'Water')\n",
      "('gyarados', 'Water')\n",
      "('lapras', 'Water')\n",
      "('ditto', 'Normal')\n",
      "('eevee', 'Normal')\n",
      "('vaporeon', 'Water')\n",
      "('jolteon', 'Electric')\n",
      "('flareon', 'Fire')\n",
      "('porygon', 'Normal')\n",
      "('omanyte', 'Rock')\n",
      "('omastar', 'Rock')\n",
      "('kabuto', 'Rock')\n",
      "('kabutops', 'Rock')\n",
      "('aerodactyl', 'Rock')\n",
      "('snorlax', 'Normal')\n",
      "('articuno', 'Ice')\n",
      "('zapdos', 'Electric')\n",
      "('moltres', 'Fire')\n",
      "('dratini', 'Dragon')\n",
      "('dragonair', 'Dragon')\n",
      "('dragonite', 'Dragon')\n",
      "('mewtwo', 'Psychic')\n",
      "('mew', 'Psychic')\n",
      "('chikorita', 'Grass')\n",
      "('bayleef', 'Grass')\n",
      "('meganium', 'Grass')\n",
      "('cyndaquil', 'Fire')\n",
      "('quilava', 'Fire')\n",
      "('typhlosion', 'Fire')\n",
      "('totodile', 'Water')\n",
      "('croconaw', 'Water')\n",
      "('feraligatr', 'Water')\n",
      "('sentret', 'Normal')\n",
      "('furret', 'Normal')\n",
      "('hoothoot', 'Normal')\n",
      "('noctowl', 'Normal')\n",
      "('ledyba', 'Bug')\n",
      "('ledian', 'Bug')\n",
      "('spinarak', 'Bug')\n",
      "('ariados', 'Bug')\n",
      "('crobat', 'Poison')\n",
      "('chinchou', 'Water')\n",
      "('lanturn', 'Water')\n",
      "('pichu', 'Electric')\n",
      "('cleffa', 'Fairy')\n",
      "('igglybuff', 'Normal')\n",
      "('togepi', 'Fairy')\n",
      "('togetic', 'Fairy')\n",
      "('natu', 'Psychic')\n",
      "('xatu', 'Psychic')\n",
      "('mareep', 'Electric')\n",
      "('flaaffy', 'Electric')\n",
      "('ampharos', 'Electric')\n",
      "('bellossom', 'Grass')\n",
      "('marill', 'Water')\n",
      "('azumarill', 'Water')\n",
      "('sudowoodo', 'Rock')\n",
      "('politoed', 'Water')\n",
      "('hoppip', 'Grass')\n",
      "('skiploom', 'Grass')\n",
      "('jumpluff', 'Grass')\n",
      "('aipom', 'Normal')\n",
      "('sunkern', 'Grass')\n",
      "('sunflora', 'Grass')\n",
      "('yanma', 'Bug')\n",
      "('wooper', 'Water')\n",
      "('quagsire', 'Water')\n",
      "('espeon', 'Psychic')\n",
      "('umbreon', 'Dark')\n",
      "('murkrow', 'Dark')\n",
      "('slowking', 'Water')\n",
      "('misdreavus', 'Ghost')\n",
      "('unown', 'Psychic')\n",
      "('wobbuffet', 'Psychic')\n",
      "('girafarig', 'Normal')\n",
      "('pineco', 'Bug')\n",
      "('forretress', 'Bug')\n",
      "('dunsparce', 'Normal')\n",
      "('gligar', 'Ground')\n",
      "('steelix', 'Steel')\n",
      "('snubbull', 'Fairy')\n",
      "('granbull', 'Fairy')\n",
      "('qwilfish', 'Water')\n",
      "('scizor', 'Bug')\n",
      "('shuckle', 'Bug')\n",
      "('heracross', 'Bug')\n",
      "('sneasel', 'Dark')\n",
      "('teddiursa', 'Normal')\n",
      "('ursaring', 'Normal')\n",
      "('slugma', 'Fire')\n",
      "('magcargo', 'Fire')\n",
      "('swinub', 'Ice')\n",
      "('piloswine', 'Ice')\n",
      "('corsola', 'Water')\n",
      "('remoraid', 'Water')\n",
      "('octillery', 'Water')\n",
      "('delibird', 'Ice')\n",
      "('mantine', 'Water')\n",
      "('skarmory', 'Steel')\n",
      "('houndour', 'Dark')\n",
      "('houndoom', 'Dark')\n",
      "('kingdra', 'Water')\n",
      "('phanpy', 'Ground')\n",
      "('donphan', 'Ground')\n",
      "('porygon2', 'Normal')\n",
      "('stantler', 'Normal')\n",
      "('smeargle', 'Normal')\n",
      "('tyrogue', 'Fighting')\n",
      "('hitmontop', 'Fighting')\n",
      "('smoochum', 'Ice')\n",
      "('elekid', 'Electric')\n",
      "('magby', 'Fire')\n",
      "('miltank', 'Normal')\n",
      "('blissey', 'Normal')\n",
      "('raikou', 'Electric')\n",
      "('entei', 'Fire')\n",
      "('suicune', 'Water')\n",
      "('larvitar', 'Rock')\n",
      "('pupitar', 'Rock')\n",
      "('tyranitar', 'Rock')\n",
      "('lugia', 'Psychic')\n",
      "('ho-oh', 'Fire')\n",
      "('celebi', 'Psychic')\n",
      "('treecko', 'Grass')\n",
      "('grovyle', 'Grass')\n",
      "('sceptile', 'Grass')\n",
      "('torchic', 'Fire')\n",
      "('combusken', 'Fire')\n",
      "('blaziken', 'Fire')\n",
      "('mudkip', 'Water')\n",
      "('marshtomp', 'Water')\n",
      "('swampert', 'Water')\n",
      "('poochyena', 'Dark')\n",
      "('mightyena', 'Dark')\n",
      "('zigzagoon', 'Normal')\n",
      "('linoone', 'Normal')\n",
      "('wurmple', 'Bug')\n",
      "('silcoon', 'Bug')\n",
      "('beautifly', 'Bug')\n",
      "('cascoon', 'Bug')\n",
      "('dustox', 'Bug')\n",
      "('lotad', 'Water')\n",
      "('lombre', 'Water')\n",
      "('ludicolo', 'Water')\n",
      "('seedot', 'Grass')\n",
      "('nuzleaf', 'Grass')\n",
      "('shiftry', 'Grass')\n",
      "('taillow', 'Normal')\n",
      "('swellow', 'Normal')\n",
      "('wingull', 'Water')\n",
      "('pelipper', 'Water')\n",
      "('ralts', 'Psychic')\n",
      "('kirlia', 'Psychic')\n",
      "('gardevoir', 'Psychic')\n",
      "('surskit', 'Bug')\n",
      "('masquerain', 'Bug')\n",
      "('shroomish', 'Grass')\n",
      "('breloom', 'Grass')\n",
      "('slakoth', 'Normal')\n",
      "('vigoroth', 'Normal')\n",
      "('slaking', 'Normal')\n",
      "('nincada', 'Bug')\n",
      "('ninjask', 'Bug')\n",
      "('shedinja', 'Bug')\n",
      "('whismur', 'Normal')\n",
      "('loudred', 'Normal')\n",
      "('exploud', 'Normal')\n",
      "('makuhita', 'Fighting')\n",
      "('hariyama', 'Fighting')\n",
      "('azurill', 'Normal')\n",
      "('nosepass', 'Rock')\n",
      "('skitty', 'Normal')\n",
      "('delcatty', 'Normal')\n",
      "('sableye', 'Dark')\n",
      "('mawile', 'Steel')\n",
      "('aron', 'Steel')\n",
      "('lairon', 'Steel')\n",
      "('aggron', 'Steel')\n",
      "('meditite', 'Fighting')\n",
      "('medicham', 'Fighting')\n",
      "('electrike', 'Electric')\n",
      "('manectric', 'Electric')\n",
      "('plusle', 'Electric')\n",
      "('minun', 'Electric')\n",
      "('volbeat', 'Bug')\n",
      "('illumise', 'Bug')\n",
      "('roselia', 'Grass')\n",
      "('gulpin', 'Poison')\n",
      "('swalot', 'Poison')\n",
      "('carvanha', 'Water')\n",
      "('sharpedo', 'Water')\n",
      "('wailmer', 'Water')\n",
      "('wailord', 'Water')\n",
      "('numel', 'Fire')\n",
      "('camerupt', 'Fire')\n",
      "('torkoal', 'Fire')\n",
      "('spoink', 'Psychic')\n",
      "('grumpig', 'Psychic')\n",
      "('spinda', 'Normal')\n",
      "('trapinch', 'Ground')\n",
      "('vibrava', 'Ground')\n",
      "('flygon', 'Ground')\n",
      "('cacnea', 'Grass')\n",
      "('cacturne', 'Grass')\n",
      "('swablu', 'Normal')\n",
      "('altaria', 'Dragon')\n",
      "('zangoose', 'Normal')\n",
      "('seviper', 'Poison')\n",
      "('lunatone', 'Rock')\n",
      "('solrock', 'Rock')\n",
      "('barboach', 'Water')\n",
      "('whiscash', 'Water')\n",
      "('corphish', 'Water')\n",
      "('crawdaunt', 'Water')\n",
      "('baltoy', 'Ground')\n",
      "('claydol', 'Ground')\n",
      "('lileep', 'Rock')\n",
      "('cradily', 'Rock')\n",
      "('anorith', 'Rock')\n",
      "('armaldo', 'Rock')\n",
      "('feebas', 'Water')\n",
      "('milotic', 'Water')\n",
      "('castform', 'Normal')\n",
      "('kecleon', 'Normal')\n",
      "('shuppet', 'Ghost')\n",
      "('banette', 'Ghost')\n",
      "('duskull', 'Ghost')\n",
      "('dusclops', 'Ghost')\n",
      "('tropius', 'Grass')\n",
      "('chimecho', 'Psychic')\n",
      "('absol', 'Dark')\n",
      "('wynaut', 'Psychic')\n",
      "('snorunt', 'Ice')\n",
      "('glalie', 'Ice')\n",
      "('spheal', 'Ice')\n",
      "('sealeo', 'Ice')\n",
      "('walrein', 'Ice')\n",
      "('clamperl', 'Water')\n",
      "('huntail', 'Water')\n",
      "('gorebyss', 'Water')\n",
      "('relicanth', 'Water')\n",
      "('luvdisc', 'Water')\n",
      "('bagon', 'Dragon')\n",
      "('shelgon', 'Dragon')\n",
      "('salamence', 'Dragon')\n",
      "('beldum', 'Steel')\n",
      "('metang', 'Steel')\n",
      "('metagross', 'Steel')\n",
      "('regirock', 'Rock')\n",
      "('regice', 'Ice')\n",
      "('registeel', 'Steel')\n",
      "('latias', 'Dragon')\n",
      "('latios', 'Dragon')\n",
      "('kyogre', 'Water')\n",
      "('groudon', 'Ground')\n",
      "('rayquaza', 'Dragon')\n",
      "('jirachi', 'Steel')\n",
      "('deoxys-normal', 'Psychic')\n",
      "('turtwig', 'Grass')\n",
      "('grotle', 'Grass')\n",
      "('torterra', 'Grass')\n",
      "('chimchar', 'Fire')\n",
      "('monferno', 'Fire')\n",
      "('infernape', 'Fire')\n",
      "('piplup', 'Water')\n",
      "('prinplup', 'Water')\n",
      "('empoleon', 'Water')\n",
      "('starly', 'Normal')\n",
      "('staravia', 'Normal')\n",
      "('staraptor', 'Normal')\n",
      "('bidoof', 'Normal')\n",
      "('bibarel', 'Normal')\n",
      "('kricketot', 'Bug')\n",
      "('kricketune', 'Bug')\n",
      "('shinx', 'Electric')\n",
      "('luxio', 'Electric')\n",
      "('luxray', 'Electric')\n",
      "('budew', 'Grass')\n",
      "('roserade', 'Grass')\n",
      "('cranidos', 'Rock')\n",
      "('rampardos', 'Rock')\n",
      "('shieldon', 'Rock')\n",
      "('bastiodon', 'Rock')\n",
      "('burmy', 'Bug')\n",
      "('wormadam-plant', 'Bug')\n",
      "('mothim', 'Bug')\n",
      "('combee', 'Bug')\n",
      "('vespiquen', 'Bug')\n",
      "('pachirisu', 'Electric')\n",
      "('buizel', 'Water')\n",
      "('floatzel', 'Water')\n",
      "('cherubi', 'Grass')\n",
      "('cherrim', 'Grass')\n",
      "('shellos', 'Water')\n",
      "('gastrodon', 'Water')\n",
      "('ambipom', 'Normal')\n",
      "('drifloon', 'Ghost')\n",
      "('drifblim', 'Ghost')\n",
      "('buneary', 'Normal')\n",
      "('lopunny', 'Normal')\n",
      "('mismagius', 'Ghost')\n",
      "('honchkrow', 'Dark')\n",
      "('glameow', 'Normal')\n",
      "('purugly', 'Normal')\n",
      "('chingling', 'Psychic')\n",
      "('stunky', 'Poison')\n",
      "('skuntank', 'Poison')\n",
      "('bronzor', 'Steel')\n",
      "('bronzong', 'Steel')\n",
      "('bonsly', 'Rock')\n",
      "('mime-jr', 'Psychic')\n",
      "('happiny', 'Normal')\n",
      "('chatot', 'Normal')\n",
      "('spiritomb', 'Ghost')\n",
      "('gible', 'Dragon')\n",
      "('gabite', 'Dragon')\n",
      "('garchomp', 'Dragon')\n",
      "('munchlax', 'Normal')\n",
      "('riolu', 'Fighting')\n",
      "('lucario', 'Fighting')\n",
      "('hippopotas', 'Ground')\n",
      "('hippowdon', 'Ground')\n",
      "('skorupi', 'Poison')\n",
      "('drapion', 'Poison')\n",
      "('croagunk', 'Poison')\n",
      "('toxicroak', 'Poison')\n",
      "('carnivine', 'Grass')\n",
      "('finneon', 'Water')\n",
      "('lumineon', 'Water')\n",
      "('mantyke', 'Water')\n",
      "('snover', 'Grass')\n",
      "('abomasnow', 'Grass')\n",
      "('weavile', 'Dark')\n",
      "('magnezone', 'Electric')\n",
      "('lickilicky', 'Normal')\n",
      "('rhyperior', 'Ground')\n",
      "('tangrowth', 'Grass')\n",
      "('electivire', 'Electric')\n",
      "('magmortar', 'Fire')\n",
      "('togekiss', 'Fairy')\n",
      "('yanmega', 'Bug')\n",
      "('leafeon', 'Grass')\n",
      "('glaceon', 'Ice')\n",
      "('gliscor', 'Ground')\n",
      "('mamoswine', 'Ice')\n",
      "('porygon-z', 'Normal')\n",
      "('gallade', 'Psychic')\n",
      "('probopass', 'Rock')\n",
      "('dusknoir', 'Ghost')\n",
      "('froslass', 'Ice')\n",
      "('rotom', 'Electric')\n",
      "('uxie', 'Psychic')\n",
      "('mesprit', 'Psychic')\n",
      "('azelf', 'Psychic')\n",
      "('dialga', 'Steel')\n",
      "('palkia', 'Water')\n",
      "('heatran', 'Fire')\n",
      "('regigigas', 'Normal')\n",
      "('giratina-altered', 'Ghost')\n",
      "('cresselia', 'Psychic')\n",
      "('phione', 'Water')\n",
      "('manaphy', 'Water')\n",
      "('darkrai', 'Dark')\n",
      "('shaymin-land', 'Grass')\n",
      "('arceus', 'Normal')\n",
      "('victini', 'Psychic')\n",
      "('snivy', 'Grass')\n",
      "('servine', 'Grass')\n",
      "('serperior', 'Grass')\n",
      "('tepig', 'Fire')\n",
      "('pignite', 'Fire')\n",
      "('emboar', 'Fire')\n",
      "('oshawott', 'Water')\n",
      "('dewott', 'Water')\n",
      "('samurott', 'Water')\n",
      "('patrat', 'Normal')\n",
      "('watchog', 'Normal')\n",
      "('lillipup', 'Normal')\n",
      "('herdier', 'Normal')\n",
      "('stoutland', 'Normal')\n",
      "('purrloin', 'Dark')\n",
      "('liepard', 'Dark')\n",
      "('pansage', 'Grass')\n",
      "('simisage', 'Grass')\n",
      "('pansear', 'Fire')\n",
      "('simisear', 'Fire')\n",
      "('panpour', 'Water')\n",
      "('simipour', 'Water')\n",
      "('munna', 'Psychic')\n",
      "('musharna', 'Psychic')\n",
      "('pidove', 'Normal')\n",
      "('tranquill', 'Normal')\n",
      "('unfezant', 'Normal')\n",
      "('blitzle', 'Electric')\n",
      "('zebstrika', 'Electric')\n",
      "('roggenrola', 'Rock')\n",
      "('boldore', 'Rock')\n",
      "('gigalith', 'Rock')\n",
      "('woobat', 'Psychic')\n",
      "('swoobat', 'Psychic')\n",
      "('drilbur', 'Ground')\n",
      "('excadrill', 'Ground')\n",
      "('audino', 'Normal')\n",
      "('timburr', 'Fighting')\n",
      "('gurdurr', 'Fighting')\n",
      "('conkeldurr', 'Fighting')\n",
      "('tympole', 'Water')\n",
      "('palpitoad', 'Water')\n",
      "('seismitoad', 'Water')\n",
      "('throh', 'Fighting')\n",
      "('sawk', 'Fighting')\n",
      "('sewaddle', 'Bug')\n",
      "('swadloon', 'Bug')\n",
      "('leavanny', 'Bug')\n",
      "('venipede', 'Bug')\n",
      "('whirlipede', 'Bug')\n",
      "('scolipede', 'Bug')\n",
      "('cottonee', 'Grass')\n",
      "('whimsicott', 'Grass')\n",
      "('petilil', 'Grass')\n",
      "('lilligant', 'Grass')\n",
      "('basculin-red-striped', 'Water')\n",
      "('sandile', 'Ground')\n",
      "('krokorok', 'Ground')\n",
      "('krookodile', 'Ground')\n",
      "('darumaka', 'Fire')\n",
      "('darmanitan-standard', 'Fire')\n",
      "('maractus', 'Grass')\n",
      "('dwebble', 'Bug')\n",
      "('crustle', 'Bug')\n",
      "('scraggy', 'Dark')\n",
      "('scrafty', 'Dark')\n",
      "('sigilyph', 'Psychic')\n",
      "('yamask', 'Ghost')\n",
      "('cofagrigus', 'Ghost')\n",
      "('tirtouga', 'Water')\n",
      "('carracosta', 'Water')\n",
      "('archen', 'Rock')\n",
      "('archeops', 'Rock')\n",
      "('trubbish', 'Poison')\n",
      "('garbodor', 'Poison')\n",
      "('zorua', 'Dark')\n",
      "('zoroark', 'Dark')\n",
      "('minccino', 'Normal')\n",
      "('cinccino', 'Normal')\n",
      "('gothita', 'Psychic')\n",
      "('gothorita', 'Psychic')\n",
      "('gothitelle', 'Psychic')\n",
      "('solosis', 'Psychic')\n",
      "('duosion', 'Psychic')\n",
      "('reuniclus', 'Psychic')\n",
      "('ducklett', 'Water')\n",
      "('swanna', 'Water')\n",
      "('vanillite', 'Ice')\n",
      "('vanillish', 'Ice')\n",
      "('vanilluxe', 'Ice')\n",
      "('deerling', 'Normal')\n",
      "('sawsbuck', 'Normal')\n",
      "('emolga', 'Electric')\n",
      "('karrablast', 'Bug')\n",
      "('escavalier', 'Bug')\n",
      "('foongus', 'Grass')\n",
      "('amoonguss', 'Grass')\n",
      "('frillish', 'Water')\n",
      "('jellicent', 'Water')\n",
      "('alomomola', 'Water')\n",
      "('joltik', 'Bug')\n",
      "('galvantula', 'Bug')\n",
      "('ferroseed', 'Grass')\n",
      "('ferrothorn', 'Grass')\n",
      "('klink', 'Steel')\n",
      "('klang', 'Steel')\n",
      "('klinklang', 'Steel')\n",
      "('tynamo', 'Electric')\n",
      "('eelektrik', 'Electric')\n",
      "('eelektross', 'Electric')\n",
      "('elgyem', 'Psychic')\n",
      "('beheeyem', 'Psychic')\n",
      "('litwick', 'Ghost')\n",
      "('lampent', 'Ghost')\n",
      "('chandelure', 'Ghost')\n",
      "('axew', 'Dragon')\n",
      "('fraxure', 'Dragon')\n",
      "('haxorus', 'Dragon')\n",
      "('cubchoo', 'Ice')\n",
      "('beartic', 'Ice')\n",
      "('cryogonal', 'Ice')\n",
      "('shelmet', 'Bug')\n",
      "('accelgor', 'Bug')\n",
      "('stunfisk', 'Ground')\n",
      "('mienfoo', 'Fighting')\n",
      "('mienshao', 'Fighting')\n",
      "('druddigon', 'Dragon')\n",
      "('golett', 'Ground')\n",
      "('golurk', 'Ground')\n",
      "('pawniard', 'Dark')\n",
      "('bisharp', 'Dark')\n",
      "('bouffalant', 'Normal')\n",
      "('rufflet', 'Normal')\n",
      "('braviary', 'Normal')\n",
      "('vullaby', 'Dark')\n",
      "('mandibuzz', 'Dark')\n",
      "('heatmor', 'Fire')\n",
      "('durant', 'Bug')\n",
      "('deino', 'Dark')\n",
      "('zweilous', 'Dark')\n",
      "('hydreigon', 'Dark')\n",
      "('larvesta', 'Bug')\n",
      "('volcarona', 'Bug')\n",
      "('cobalion', 'Steel')\n",
      "('terrakion', 'Rock')\n",
      "('virizion', 'Grass')\n",
      "('tornadus-incarnate', 'Flying')\n",
      "('thundurus-incarnate', 'Electric')\n",
      "('reshiram', 'Dragon')\n",
      "('zekrom', 'Dragon')\n",
      "('landorus-incarnate', 'Ground')\n",
      "('kyurem', 'Dragon')\n",
      "('keldeo-ordinary', 'Water')\n",
      "('meloetta-aria', 'Normal')\n",
      "('genesect', 'Bug')\n",
      "('chespin', 'Grass')\n",
      "('quilladin', 'Grass')\n",
      "('chesnaught', 'Grass')\n",
      "('fennekin', 'Fire')\n",
      "('braixen', 'Fire')\n",
      "('delphox', 'Fire')\n",
      "('froakie', 'Water')\n",
      "('frogadier', 'Water')\n",
      "('greninja', 'Water')\n",
      "('bunnelby', 'Normal')\n",
      "('diggersby', 'Normal')\n",
      "('fletchling', 'Normal')\n",
      "('fletchinder', 'Fire')\n",
      "('talonflame', 'Fire')\n",
      "('scatterbug', 'Bug')\n",
      "('spewpa', 'Bug')\n",
      "('vivillon', 'Bug')\n",
      "('litleo', 'Fire')\n",
      "('pyroar', 'Fire')\n",
      "('flabebe', 'Fairy')\n",
      "('floette', 'Fairy')\n",
      "('florges', 'Fairy')\n",
      "('skiddo', 'Grass')\n",
      "('gogoat', 'Grass')\n",
      "('pancham', 'Fighting')\n",
      "('pangoro', 'Fighting')\n",
      "('furfrou', 'Normal')\n",
      "('espurr', 'Psychic')\n",
      "('meowstic-male', 'Psychic')\n",
      "('honedge', 'Steel')\n",
      "('doublade', 'Steel')\n",
      "('aegislash-blade', 'Steel')\n",
      "('spritzee', 'Fairy')\n",
      "('aromatisse', 'Fairy')\n",
      "('swirlix', 'Fairy')\n",
      "('slurpuff', 'Fairy')\n",
      "('inkay', 'Dark')\n",
      "('malamar', 'Dark')\n",
      "('binacle', 'Rock')\n",
      "('barbaracle', 'Rock')\n",
      "('skrelp', 'Poison')\n",
      "('dragalge', 'Poison')\n",
      "('clauncher', 'Water')\n",
      "('clawitzer', 'Water')\n",
      "('helioptile', 'Electric')\n",
      "('heliolisk', 'Electric')\n",
      "('tyrunt', 'Rock')\n",
      "('tyrantrum', 'Rock')\n",
      "('amaura', 'Rock')\n",
      "('aurorus', 'Rock')\n",
      "('sylveon', 'Fairy')\n",
      "('hawlucha', 'Fighting')\n",
      "('dedenne', 'Electric')\n",
      "('carbink', 'Rock')\n",
      "('goomy', 'Dragon')\n",
      "('sliggoo', 'Dragon')\n",
      "('goodra', 'Dragon')\n",
      "('klefki', 'Steel')\n",
      "('phantump', 'Ghost')\n",
      "('trevenant', 'Ghost')\n",
      "('pumpkaboo-average', 'Ghost')\n",
      "('gourgeist-average', 'Ghost')\n",
      "('bergmite', 'Ice')\n",
      "('avalugg', 'Ice')\n",
      "('noibat', 'Flying')\n",
      "('noivern', 'Flying')\n",
      "('xerneas', 'Fairy')\n",
      "('yveltal', 'Dark')\n",
      "('zygarde-50', 'Dragon')\n",
      "('diancie', 'Rock')\n",
      "('hoopa-confined', 'Psychic')\n",
      "('volcanion', 'Fire')\n",
      "('rowlet', 'Grass')\n",
      "('dartrix', 'Grass')\n",
      "('decidueye', 'Grass')\n",
      "('litten', 'Fire')\n",
      "('torracat', 'Fire')\n",
      "('incineroar', 'Fire')\n",
      "('popplio', 'Water')\n",
      "('brionne', 'Water')\n",
      "('primarina', 'Water')\n",
      "('pikipek', 'Normal')\n",
      "('trumbeak', 'Normal')\n",
      "('toucannon', 'Normal')\n",
      "('yungoos', 'Normal')\n",
      "('gumshoos', 'Normal')\n",
      "('grubbin', 'Bug')\n",
      "('charjabug', 'Bug')\n",
      "('vikavolt', 'Bug')\n",
      "('crabrawler', 'Fighting')\n",
      "('crabominable', 'Fighting')\n",
      "('oricorio-baile', 'Fire')\n",
      "('cutiefly', 'Bug')\n",
      "('ribombee', 'Bug')\n",
      "('rockruff', 'Rock')\n",
      "('lycanroc-midday', 'Rock')\n",
      "('wishiwashi-solo', 'Water')\n",
      "('mareanie', 'Poison')\n",
      "('toxapex', 'Poison')\n",
      "('mudbray', 'Ground')\n",
      "('mudsdale', 'Ground')\n",
      "('dewpider', 'Water')\n",
      "('araquanid', 'Water')\n",
      "('fomantis', 'Grass')\n",
      "('lurantis', 'Grass')\n",
      "('morelull', 'Grass')\n",
      "('shiinotic', 'Grass')\n",
      "('salandit', 'Poison')\n",
      "('salazzle', 'Poison')\n",
      "('stufful', 'Normal')\n",
      "('bewear', 'Normal')\n",
      "('bounsweet', 'Grass')\n",
      "('steenee', 'Grass')\n",
      "('tsareena', 'Grass')\n",
      "('comfey', 'Fairy')\n",
      "('oranguru', 'Normal')\n",
      "('passimian', 'Fighting')\n",
      "('wimpod', 'Bug')\n",
      "('golisopod', 'Bug')\n",
      "('sandygast', 'Ghost')\n",
      "('palossand', 'Ghost')\n",
      "('pyukumuku', 'Water')\n",
      "('type-null', 'Normal')\n",
      "('silvally', 'Normal')\n",
      "('minior-meteor', 'Rock')\n",
      "('komala', 'Normal')\n",
      "('turtonator', 'Fire')\n",
      "('togedemaru', 'Electric')\n",
      "('mimikyu', 'Ghost')\n",
      "('bruxish', 'Water')\n",
      "('drampa', 'Normal')\n",
      "('dhelmise', 'Ghost')\n",
      "('jangmo-o', 'Dragon')\n",
      "('hakamo-o', 'Dragon')\n",
      "('kommo-o', 'Dragon')\n",
      "('tapu-koko', 'Electric')\n",
      "('tapu-lele', 'Psychic')\n",
      "('tapu-bulu', 'Grass')\n",
      "('tapu-fini', 'Water')\n",
      "('cosmog', 'Psychic')\n",
      "('cosmoem', 'Psychic')\n",
      "('solgaleo', 'Psychic')\n",
      "('lunala', 'Psychic')\n",
      "('nihilego', 'Rock')\n",
      "('buzzwole', 'Bug')\n",
      "('pheromosa', 'Bug')\n",
      "('xurkitree', 'Electric')\n",
      "('celesteela', 'Steel')\n",
      "('kartana', 'Grass')\n",
      "('guzzlord', 'Dark')\n",
      "('necrozma', 'Psychic')\n",
      "('magearna', 'Steel')\n",
      "('marshadow', 'Fighting')\n",
      "('poipole', 'Poison')\n",
      "('naganadel', 'Poison')\n",
      "('stakataka', 'Rock')\n",
      "('blacephalon', 'Fire')\n",
      "('zeraora', 'Electric')\n",
      "('meltan', 'Steel')\n",
      "('melmetal', 'Steel')\n"
     ]
    }
   ],
   "source": [
    "# Type1을 label로 사용할 것\n",
    "# 이름과 Type1을 추출하여 답안지(data_dict) 생성\n",
    "data_dict = {}\n",
    "\n",
    "for key, val in zip(data[\"Name\"], data[\"Type1\"]):\n",
    "    data_dict[key] = val\n",
    "\n",
    "for item in data_dict.items():\n",
    "    print(item)"
   ]
  },
  {
   "cell_type": "code",
   "execution_count": 320,
   "metadata": {},
   "outputs": [
    {
     "name": "stdout",
     "output_type": "stream",
     "text": [
      "['Grass' 'Fire' 'Water' 'Bug' 'Normal' 'Poison' 'Electric' 'Ground'\n",
      " 'Fairy' 'Fighting' 'Psychic' 'Rock' 'Ghost' 'Ice' 'Dragon' 'Dark' 'Steel'\n",
      " 'Flying']\n"
     ]
    }
   ],
   "source": [
    "labels = data[\"Type1\"].unique()\n",
    "print(labels)"
   ]
  },
  {
   "cell_type": "code",
   "execution_count": 321,
   "metadata": {},
   "outputs": [
    {
     "name": "stdout",
     "output_type": "stream",
     "text": [
      "{'Grass': 0, 'Fire': 1, 'Water': 2, 'Bug': 3, 'Normal': 4, 'Poison': 5, 'Electric': 6, 'Ground': 7, 'Fairy': 8, 'Fighting': 9, 'Psychic': 10, 'Rock': 11, 'Ghost': 12, 'Ice': 13, 'Dragon': 14, 'Dark': 15, 'Steel': 16, 'Flying': 17}\n"
     ]
    }
   ],
   "source": [
    "# label을 encoding하기 위한 코드\n",
    "ids = [0,1,2,3,4,5,6,7,8,9,10,11,12,13,14,15,16,17]\n",
    "labels_idx = dict(zip(labels,ids))\n",
    "\n",
    "print(labels_idx)"
   ]
  },
  {
   "cell_type": "code",
   "execution_count": 326,
   "metadata": {},
   "outputs": [],
   "source": [
    "final_images = []\n",
    "final_labels = []\n",
    "count = 0\n",
    "\n",
    "for file in File_names:\n",
    "    count += 1\n",
    "\n",
    "    # 이미지 경로에 하나씩 접근, 색상 변경\n",
    "    img = cv2.imread(os.path.join(root_dir, file), cv2.COLOR_BGR2GRAY) \n",
    "\n",
    "    # 파일 이름에서 포켓몬 이름을 추출, 정답지에서 label에 접근\n",
    "    label = labels_idx[data_dict[file.split(\".\")[0]]] \n",
    "\n",
    "    # 추출된 값을 각각 추가\n",
    "    final_images.append(np.array(img))\n",
    "    final_labels.append(np.array(label))\n",
    "    \n",
    "# list를 np.array로 변경하고 색상값 0~1사이 값으로 정규화\n",
    "final_images = np.array(final_images, dtype = np.float32)/255.0\n",
    "\n",
    "# label값 타입 변경\n",
    "final_labels = np.array(final_labels, dtype = np.int8)"
   ]
  },
  {
   "cell_type": "code",
   "execution_count": 327,
   "metadata": {},
   "outputs": [
    {
     "data": {
      "text/plain": [
       "((810, 120, 120, 3), (810,))"
      ]
     },
     "execution_count": 327,
     "metadata": {},
     "output_type": "execute_result"
    }
   ],
   "source": [
    "final_images.shape, final_labels.shape"
   ]
  },
  {
   "cell_type": "code",
   "execution_count": 328,
   "metadata": {},
   "outputs": [
    {
     "name": "stdout",
     "output_type": "stream",
     "text": [
      "Model: \"sequential_23\"\n",
      "_________________________________________________________________\n",
      " Layer (type)                Output Shape              Param #   \n",
      "=================================================================\n",
      " flatten_15 (Flatten)        (None, 43200)             0         \n",
      "                                                                 \n",
      " dense_60 (Dense)            (None, 100)               4320100   \n",
      "                                                                 \n",
      " dense_61 (Dense)            (None, 100)               10100     \n",
      "                                                                 \n",
      " dense_62 (Dense)            (None, 100)               10100     \n",
      "                                                                 \n",
      " dense_63 (Dense)            (None, 18)                1818      \n",
      "                                                                 \n",
      "=================================================================\n",
      "Total params: 4,342,118\n",
      "Trainable params: 4,342,118\n",
      "Non-trainable params: 0\n",
      "_________________________________________________________________\n"
     ]
    }
   ],
   "source": [
    "# 모델 구현\n",
    "import tensorflow as tf\n",
    "from keras.models import Sequential\n",
    "from tensorflow.keras.layers import Dense, Activation, Flatten\n",
    "\n",
    "\n",
    "model = tf.keras.Sequential([\n",
    "    # 입력층\n",
    "    tf.keras.layers.Flatten(input_shape=(120, 120,3)),\n",
    "\n",
    "    # 은닉층\n",
    "    tf.keras.layers.Dense(100, activation='relu'),\n",
    "    tf.keras.layers.Dense(100, activation='relu'),\n",
    "    tf.keras.layers.Dense(100, activation='relu'),\n",
    "\n",
    "    # 출력층\n",
    "    tf.keras.layers.Dense(18)\n",
    "])\n",
    "\n",
    "model.summary()"
   ]
  },
  {
   "cell_type": "code",
   "execution_count": 329,
   "metadata": {},
   "outputs": [],
   "source": [
    "model.compile(optimizer='adam',\n",
    "              loss=tf.keras.losses.SparseCategoricalCrossentropy(from_logits=True),\n",
    "              metrics=['accuracy'])"
   ]
  },
  {
   "cell_type": "code",
   "execution_count": 331,
   "metadata": {},
   "outputs": [
    {
     "name": "stdout",
     "output_type": "stream",
     "text": [
      "Epoch 1/50\n",
      "21/21 [==============================] - 1s 48ms/step - loss: 0.2928 - accuracy: 0.9028 - val_loss: 0.2748 - val_accuracy: 0.9136\n",
      "Epoch 2/50\n",
      " 1/21 [>.............................] - ETA: 0s - loss: 0.0972 - accuracy: 0.9688"
     ]
    },
    {
     "name": "stderr",
     "output_type": "stream",
     "text": [
      "2022-12-11 22:04:50.569598: I tensorflow/core/grappler/optimizers/custom_graph_optimizer_registry.cc:113] Plugin optimizer for device_type GPU is enabled.\n"
     ]
    },
    {
     "name": "stdout",
     "output_type": "stream",
     "text": [
      "21/21 [==============================] - 0s 22ms/step - loss: 0.2909 - accuracy: 0.9028 - val_loss: 0.2759 - val_accuracy: 0.9136\n",
      "Epoch 3/50\n",
      "21/21 [==============================] - 0s 21ms/step - loss: 0.2903 - accuracy: 0.9028 - val_loss: 0.2773 - val_accuracy: 0.9136\n",
      "Epoch 4/50\n",
      "21/21 [==============================] - 0s 21ms/step - loss: 0.2896 - accuracy: 0.9028 - val_loss: 0.2776 - val_accuracy: 0.9136\n",
      "Epoch 5/50\n",
      "21/21 [==============================] - 0s 20ms/step - loss: 0.2895 - accuracy: 0.9028 - val_loss: 0.2783 - val_accuracy: 0.9136\n",
      "Epoch 6/50\n",
      "21/21 [==============================] - 0s 22ms/step - loss: 0.2890 - accuracy: 0.9012 - val_loss: 0.2788 - val_accuracy: 0.9136\n",
      "Epoch 7/50\n",
      "21/21 [==============================] - 0s 21ms/step - loss: 0.2889 - accuracy: 0.8966 - val_loss: 0.2805 - val_accuracy: 0.9136\n",
      "Epoch 8/50\n",
      "21/21 [==============================] - 0s 21ms/step - loss: 0.2884 - accuracy: 0.9012 - val_loss: 0.2805 - val_accuracy: 0.9136\n",
      "Epoch 9/50\n",
      "21/21 [==============================] - 0s 21ms/step - loss: 0.2887 - accuracy: 0.9028 - val_loss: 0.2812 - val_accuracy: 0.9136\n",
      "Epoch 10/50\n",
      "21/21 [==============================] - 0s 22ms/step - loss: 0.2882 - accuracy: 0.8997 - val_loss: 0.2808 - val_accuracy: 0.9136\n",
      "Epoch 11/50\n",
      "21/21 [==============================] - 0s 21ms/step - loss: 0.2882 - accuracy: 0.9059 - val_loss: 0.2825 - val_accuracy: 0.9136\n",
      "Epoch 12/50\n",
      "21/21 [==============================] - 0s 22ms/step - loss: 0.2880 - accuracy: 0.9028 - val_loss: 0.2823 - val_accuracy: 0.9136\n",
      "Epoch 13/50\n",
      "21/21 [==============================] - 0s 20ms/step - loss: 0.2879 - accuracy: 0.9028 - val_loss: 0.2821 - val_accuracy: 0.9136\n",
      "Epoch 14/50\n",
      "21/21 [==============================] - 0s 21ms/step - loss: 0.2879 - accuracy: 0.9028 - val_loss: 0.2830 - val_accuracy: 0.9136\n",
      "Epoch 15/50\n",
      "21/21 [==============================] - 0s 21ms/step - loss: 0.2879 - accuracy: 0.9028 - val_loss: 0.2835 - val_accuracy: 0.9136\n",
      "Epoch 16/50\n",
      "21/21 [==============================] - 0s 21ms/step - loss: 0.2877 - accuracy: 0.9028 - val_loss: 0.2827 - val_accuracy: 0.9136\n",
      "Epoch 17/50\n",
      "21/21 [==============================] - 0s 22ms/step - loss: 0.2877 - accuracy: 0.9028 - val_loss: 0.2839 - val_accuracy: 0.9136\n",
      "Epoch 18/50\n",
      "21/21 [==============================] - 0s 21ms/step - loss: 0.2877 - accuracy: 0.8935 - val_loss: 0.2839 - val_accuracy: 0.9136\n",
      "Epoch 19/50\n",
      "21/21 [==============================] - 0s 21ms/step - loss: 0.2876 - accuracy: 0.9028 - val_loss: 0.2845 - val_accuracy: 0.9136\n",
      "Epoch 20/50\n",
      "21/21 [==============================] - 0s 21ms/step - loss: 0.2875 - accuracy: 0.9028 - val_loss: 0.2849 - val_accuracy: 0.9136\n",
      "Epoch 21/50\n",
      "21/21 [==============================] - 0s 22ms/step - loss: 0.2872 - accuracy: 0.9028 - val_loss: 0.2849 - val_accuracy: 0.9136\n",
      "Epoch 22/50\n",
      "21/21 [==============================] - 0s 22ms/step - loss: 0.2872 - accuracy: 0.9028 - val_loss: 0.2844 - val_accuracy: 0.9136\n",
      "Epoch 23/50\n",
      "21/21 [==============================] - 0s 21ms/step - loss: 0.2872 - accuracy: 0.9028 - val_loss: 0.2850 - val_accuracy: 0.9136\n",
      "Epoch 24/50\n",
      "21/21 [==============================] - 0s 22ms/step - loss: 0.2872 - accuracy: 0.9028 - val_loss: 0.2852 - val_accuracy: 0.9136\n",
      "Epoch 25/50\n",
      "21/21 [==============================] - 0s 22ms/step - loss: 0.2871 - accuracy: 0.9028 - val_loss: 0.2858 - val_accuracy: 0.9136\n",
      "Epoch 26/50\n",
      "21/21 [==============================] - 0s 21ms/step - loss: 0.2872 - accuracy: 0.9028 - val_loss: 0.2869 - val_accuracy: 0.9136\n",
      "Epoch 27/50\n",
      "21/21 [==============================] - 0s 21ms/step - loss: 0.2869 - accuracy: 0.9028 - val_loss: 0.2868 - val_accuracy: 0.9136\n",
      "Epoch 28/50\n",
      "21/21 [==============================] - 0s 21ms/step - loss: 0.2870 - accuracy: 0.9028 - val_loss: 0.2875 - val_accuracy: 0.9136\n",
      "Epoch 29/50\n",
      "21/21 [==============================] - 0s 21ms/step - loss: 0.2869 - accuracy: 0.9012 - val_loss: 0.2872 - val_accuracy: 0.9136\n",
      "Epoch 30/50\n",
      "21/21 [==============================] - 0s 22ms/step - loss: 0.2871 - accuracy: 0.9012 - val_loss: 0.2871 - val_accuracy: 0.9136\n",
      "Epoch 31/50\n",
      "21/21 [==============================] - 0s 21ms/step - loss: 0.2868 - accuracy: 0.9028 - val_loss: 0.2870 - val_accuracy: 0.9136\n",
      "Epoch 32/50\n",
      "21/21 [==============================] - 1s 29ms/step - loss: 0.2867 - accuracy: 0.8997 - val_loss: 0.2858 - val_accuracy: 0.9136\n",
      "Epoch 33/50\n",
      "21/21 [==============================] - 0s 23ms/step - loss: 0.2869 - accuracy: 0.8997 - val_loss: 0.2865 - val_accuracy: 0.9136\n",
      "Epoch 34/50\n",
      "21/21 [==============================] - 0s 21ms/step - loss: 0.2870 - accuracy: 0.9028 - val_loss: 0.2869 - val_accuracy: 0.9136\n",
      "Epoch 35/50\n",
      "21/21 [==============================] - 0s 23ms/step - loss: 0.2868 - accuracy: 0.9028 - val_loss: 0.2870 - val_accuracy: 0.9136\n",
      "Epoch 36/50\n",
      "21/21 [==============================] - 0s 21ms/step - loss: 0.2868 - accuracy: 0.9028 - val_loss: 0.2871 - val_accuracy: 0.9136\n",
      "Epoch 37/50\n",
      "21/21 [==============================] - 0s 21ms/step - loss: 0.2868 - accuracy: 0.9028 - val_loss: 0.2879 - val_accuracy: 0.9136\n",
      "Epoch 38/50\n",
      "21/21 [==============================] - 0s 22ms/step - loss: 0.2869 - accuracy: 0.9028 - val_loss: 0.2885 - val_accuracy: 0.9136\n",
      "Epoch 39/50\n",
      "21/21 [==============================] - 0s 22ms/step - loss: 0.2867 - accuracy: 0.9028 - val_loss: 0.2897 - val_accuracy: 0.9136\n",
      "Epoch 40/50\n",
      "21/21 [==============================] - 0s 21ms/step - loss: 0.2866 - accuracy: 0.9028 - val_loss: 0.2888 - val_accuracy: 0.9136\n",
      "Epoch 41/50\n",
      "21/21 [==============================] - 0s 22ms/step - loss: 0.2868 - accuracy: 0.9028 - val_loss: 0.2891 - val_accuracy: 0.9136\n",
      "Epoch 42/50\n",
      "21/21 [==============================] - 0s 22ms/step - loss: 0.2866 - accuracy: 0.9028 - val_loss: 0.2887 - val_accuracy: 0.9136\n",
      "Epoch 43/50\n",
      "21/21 [==============================] - 0s 20ms/step - loss: 0.2867 - accuracy: 0.9028 - val_loss: 0.2894 - val_accuracy: 0.9136\n",
      "Epoch 44/50\n",
      "21/21 [==============================] - 0s 21ms/step - loss: 0.2866 - accuracy: 0.9028 - val_loss: 0.2903 - val_accuracy: 0.9136\n",
      "Epoch 45/50\n",
      "21/21 [==============================] - 0s 22ms/step - loss: 0.2867 - accuracy: 0.8997 - val_loss: 0.2907 - val_accuracy: 0.9136\n",
      "Epoch 46/50\n",
      "21/21 [==============================] - 0s 22ms/step - loss: 0.2870 - accuracy: 0.9028 - val_loss: 0.2904 - val_accuracy: 0.9136\n",
      "Epoch 47/50\n",
      "21/21 [==============================] - 0s 21ms/step - loss: 0.2869 - accuracy: 0.8997 - val_loss: 0.2906 - val_accuracy: 0.9136\n",
      "Epoch 48/50\n",
      "21/21 [==============================] - 0s 22ms/step - loss: 0.2865 - accuracy: 0.9028 - val_loss: 0.2892 - val_accuracy: 0.9136\n",
      "Epoch 49/50\n",
      "21/21 [==============================] - 0s 21ms/step - loss: 0.2867 - accuracy: 0.8966 - val_loss: 0.2893 - val_accuracy: 0.9136\n",
      "Epoch 50/50\n",
      "21/21 [==============================] - 1s 24ms/step - loss: 0.2867 - accuracy: 0.8966 - val_loss: 0.2901 - val_accuracy: 0.9136\n"
     ]
    }
   ],
   "source": [
    "# 학습\n",
    "history = model.fit(final_images, final_labels, epochs=50, validation_split=0.2)"
   ]
  },
  {
   "cell_type": "code",
   "execution_count": 332,
   "metadata": {},
   "outputs": [
    {
     "name": "stdout",
     "output_type": "stream",
     "text": [
      " 7/26 [=======>......................] - ETA: 0s"
     ]
    },
    {
     "name": "stderr",
     "output_type": "stream",
     "text": [
      "2022-12-11 22:05:19.710230: I tensorflow/core/grappler/optimizers/custom_graph_optimizer_registry.cc:113] Plugin optimizer for device_type GPU is enabled.\n"
     ]
    },
    {
     "name": "stdout",
     "output_type": "stream",
     "text": [
      "26/26 [==============================] - 0s 13ms/step\n",
      "\n",
      " [7.7707685e-10 2.1935711e-09 1.4642438e-14 9.9999952e-01 5.3011855e-14\n",
      " 1.3922194e-14 8.0019671e-09 5.3089337e-07 1.6381646e-15 1.1110621e-12\n",
      " 3.5564181e-08 1.9408286e-12 3.0041288e-13 2.2081028e-16 3.4676282e-14\n",
      " 7.8210795e-19 5.9741832e-19 7.8104255e-18]\n",
      "\n",
      "id that we got from the model as prediction: 3\n",
      "Type of pokemon associted with that id: Bug \n",
      "accuracy of the model 0.8966049551963806\n"
     ]
    }
   ],
   "source": [
    "probability_model = tf.keras.Sequential([model, tf.keras.layers.Softmax()])\n",
    "predictions = probability_model.predict(final_images)\n",
    "\n",
    "print(\"\\n\",predictions[0])\n",
    "id = np.argmax(predictions[0])\n",
    "print(\"\\nid that we got from the model as prediction: {}\\nType of pokemon associted with that id: {} \".format(id,labels[id]))\n",
    "print(\"accuracy of the model\",history.history['accuracy'][-1])"
   ]
  },
  {
   "attachments": {},
   "cell_type": "markdown",
   "metadata": {},
   "source": [
    "# 왜 epoch가 늘어나도 val_accuracy 값이 고정인가????\n",
    "* jpg랑 png, 확장자에 따라 다른 전처리를 하지 않음 -> 필요없는 것인가 내가 잘못 생각한 듯"
   ]
  }
 ],
 "metadata": {
  "colab": {
   "provenance": []
  },
  "kernelspec": {
   "display_name": "Python 3.8.15 ('tf-cert')",
   "language": "python",
   "name": "python3"
  },
  "language_info": {
   "codemirror_mode": {
    "name": "ipython",
    "version": 3
   },
   "file_extension": ".py",
   "mimetype": "text/x-python",
   "name": "python",
   "nbconvert_exporter": "python",
   "pygments_lexer": "ipython3",
   "version": "3.8.15"
  },
  "vscode": {
   "interpreter": {
    "hash": "b37592e24976bbc2b4793f9e16cde29a149096caf81a3ecbdead9daa6a7261c0"
   }
  }
 },
 "nbformat": 4,
 "nbformat_minor": 1
}
