{
 "cells": [
  {
   "cell_type": "markdown",
   "id": "3943f696",
   "metadata": {},
   "source": [
    "# 의약품 처방정보 "
   ]
  },
  {
   "cell_type": "code",
   "execution_count": 2,
   "id": "af7ccb70",
   "metadata": {},
   "outputs": [],
   "source": [
    "# 라이브러리 로드\n",
    "import numpy as np\n",
    "import pandas as pd"
   ]
  },
  {
   "cell_type": "code",
   "execution_count": 3,
   "id": "34486d71",
   "metadata": {},
   "outputs": [
    {
     "data": {
      "text/plain": [
       "['data/HP_T60_2020_1.CSV', 'data/HP_T60_2020_2.CSV', 'data/HP_T60_2020_3.CSV']"
      ]
     },
     "execution_count": 3,
     "metadata": {},
     "output_type": "execute_result"
    }
   ],
   "source": [
    "from glob import glob\n",
    "\n",
    "file_name = sorted(glob(\"data/HP*.CSV\"))\n",
    "file_name"
   ]
  },
  {
   "cell_type": "code",
   "execution_count": 4,
   "id": "b6a36b0f",
   "metadata": {},
   "outputs": [
    {
     "data": {
      "text/plain": [
       "(10923225, 15)"
      ]
     },
     "execution_count": 4,
     "metadata": {},
     "output_type": "execute_result"
    }
   ],
   "source": [
    "raw = pd.read_csv(file_name[2], encoding=\"cp949\")\n",
    "raw.shape"
   ]
  },
  {
   "cell_type": "code",
   "execution_count": 5,
   "id": "ed12573f",
   "metadata": {},
   "outputs": [
    {
     "data": {
      "text/html": [
       "<div>\n",
       "<style scoped>\n",
       "    .dataframe tbody tr th:only-of-type {\n",
       "        vertical-align: middle;\n",
       "    }\n",
       "\n",
       "    .dataframe tbody tr th {\n",
       "        vertical-align: top;\n",
       "    }\n",
       "\n",
       "    .dataframe thead th {\n",
       "        text-align: right;\n",
       "    }\n",
       "</style>\n",
       "<table border=\"1\" class=\"dataframe\">\n",
       "  <thead>\n",
       "    <tr style=\"text-align: right;\">\n",
       "      <th></th>\n",
       "      <th>기준년도</th>\n",
       "      <th>가입자 일련번호</th>\n",
       "      <th>처방내역일련번호</th>\n",
       "      <th>일련번호</th>\n",
       "      <th>성별코드</th>\n",
       "      <th>연령대코드(5세단위)</th>\n",
       "      <th>시도코드</th>\n",
       "      <th>요양개시일자</th>\n",
       "      <th>약품일반성분명코드</th>\n",
       "      <th>1회 투약량</th>\n",
       "      <th>1일투약량</th>\n",
       "      <th>총투여일수</th>\n",
       "      <th>단가</th>\n",
       "      <th>금액</th>\n",
       "      <th>데이터 공개일자</th>\n",
       "    </tr>\n",
       "  </thead>\n",
       "  <tbody>\n",
       "    <tr>\n",
       "      <th>0</th>\n",
       "      <td>2020</td>\n",
       "      <td>666668</td>\n",
       "      <td>5260626</td>\n",
       "      <td>2</td>\n",
       "      <td>1</td>\n",
       "      <td>11</td>\n",
       "      <td>43</td>\n",
       "      <td>2020-04-15</td>\n",
       "      <td>134103ATB</td>\n",
       "      <td>2.00</td>\n",
       "      <td>2</td>\n",
       "      <td>4</td>\n",
       "      <td>476.0</td>\n",
       "      <td>7616</td>\n",
       "      <td>2021-12-29</td>\n",
       "    </tr>\n",
       "    <tr>\n",
       "      <th>1</th>\n",
       "      <td>2020</td>\n",
       "      <td>666668</td>\n",
       "      <td>6859861</td>\n",
       "      <td>1</td>\n",
       "      <td>1</td>\n",
       "      <td>11</td>\n",
       "      <td>43</td>\n",
       "      <td>2020-04-03</td>\n",
       "      <td>146432ASS</td>\n",
       "      <td>20.00</td>\n",
       "      <td>2</td>\n",
       "      <td>3</td>\n",
       "      <td>14.0</td>\n",
       "      <td>1680</td>\n",
       "      <td>2021-12-29</td>\n",
       "    </tr>\n",
       "    <tr>\n",
       "      <th>2</th>\n",
       "      <td>2020</td>\n",
       "      <td>666668</td>\n",
       "      <td>769595</td>\n",
       "      <td>1</td>\n",
       "      <td>1</td>\n",
       "      <td>11</td>\n",
       "      <td>43</td>\n",
       "      <td>2020-11-25</td>\n",
       "      <td>451302ATB</td>\n",
       "      <td>0.25</td>\n",
       "      <td>2</td>\n",
       "      <td>7</td>\n",
       "      <td>53.0</td>\n",
       "      <td>186</td>\n",
       "      <td>2021-12-29</td>\n",
       "    </tr>\n",
       "    <tr>\n",
       "      <th>3</th>\n",
       "      <td>2020</td>\n",
       "      <td>666668</td>\n",
       "      <td>6859861</td>\n",
       "      <td>4</td>\n",
       "      <td>1</td>\n",
       "      <td>11</td>\n",
       "      <td>43</td>\n",
       "      <td>2020-04-03</td>\n",
       "      <td>185102ACH</td>\n",
       "      <td>1.00</td>\n",
       "      <td>1</td>\n",
       "      <td>3</td>\n",
       "      <td>30.0</td>\n",
       "      <td>90</td>\n",
       "      <td>2021-12-29</td>\n",
       "    </tr>\n",
       "    <tr>\n",
       "      <th>4</th>\n",
       "      <td>2020</td>\n",
       "      <td>666668</td>\n",
       "      <td>9307313</td>\n",
       "      <td>2</td>\n",
       "      <td>1</td>\n",
       "      <td>11</td>\n",
       "      <td>43</td>\n",
       "      <td>2020-01-30</td>\n",
       "      <td>260100ACR</td>\n",
       "      <td>1.00</td>\n",
       "      <td>1</td>\n",
       "      <td>3</td>\n",
       "      <td>302.0</td>\n",
       "      <td>906</td>\n",
       "      <td>2021-12-29</td>\n",
       "    </tr>\n",
       "  </tbody>\n",
       "</table>\n",
       "</div>"
      ],
      "text/plain": [
       "   기준년도  가입자 일련번호  처방내역일련번호  일련번호  성별코드  연령대코드(5세단위)  시도코드      요양개시일자  \\\n",
       "0  2020    666668   5260626     2     1           11    43  2020-04-15   \n",
       "1  2020    666668   6859861     1     1           11    43  2020-04-03   \n",
       "2  2020    666668    769595     1     1           11    43  2020-11-25   \n",
       "3  2020    666668   6859861     4     1           11    43  2020-04-03   \n",
       "4  2020    666668   9307313     2     1           11    43  2020-01-30   \n",
       "\n",
       "   약품일반성분명코드  1회 투약량  1일투약량  총투여일수     단가    금액    데이터 공개일자  \n",
       "0  134103ATB    2.00      2      4  476.0  7616  2021-12-29  \n",
       "1  146432ASS   20.00      2      3   14.0  1680  2021-12-29  \n",
       "2  451302ATB    0.25      2      7   53.0   186  2021-12-29  \n",
       "3  185102ACH    1.00      1      3   30.0    90  2021-12-29  \n",
       "4  260100ACR    1.00      1      3  302.0   906  2021-12-29  "
      ]
     },
     "execution_count": 5,
     "metadata": {},
     "output_type": "execute_result"
    }
   ],
   "source": [
    "raw.head()"
   ]
  },
  {
   "cell_type": "markdown",
   "id": "39f8df3e",
   "metadata": {},
   "source": [
    "# 표본 조사를 하기 위해 sampling"
   ]
  },
  {
   "cell_type": "code",
   "execution_count": 6,
   "id": "ec23bac5",
   "metadata": {},
   "outputs": [
    {
     "data": {
      "text/plain": [
       "333333"
      ]
     },
     "execution_count": 6,
     "metadata": {},
     "output_type": "execute_result"
    }
   ],
   "source": [
    "# 가입자 일련번호 고유값 수\n",
    "# 33만명의 환자 데이터가 있음\n",
    "raw[\"가입자 일련번호\"].nunique()"
   ]
  },
  {
   "cell_type": "markdown",
   "id": "258b6093",
   "metadata": {},
   "source": [
    "## numpy 사용"
   ]
  },
  {
   "cell_type": "code",
   "execution_count": 7,
   "id": "73067594",
   "metadata": {},
   "outputs": [
    {
     "data": {
      "text/plain": [
       "array([852193, 932641, 724519, ..., 811241, 885040, 737506])"
      ]
     },
     "execution_count": 7,
     "metadata": {},
     "output_type": "execute_result"
    }
   ],
   "source": [
    "# 10,000명 샘플림\n",
    "\n",
    "# 문서에서 권장하는 random generator\n",
    "# rng = np.random.default_rng(42)\n",
    "\n",
    "# 기존에 쓰이던 random generator 방식\n",
    "# np.random.seed(42)\n",
    "\n",
    "sample_no = np.random.choice(raw[\"가입자 일련번호\"].unique(), 10000)\n",
    "sample_no"
   ]
  },
  {
   "cell_type": "code",
   "execution_count": 8,
   "id": "8f4b043d",
   "metadata": {},
   "outputs": [
    {
     "data": {
      "text/plain": [
       "(316049, 15)"
      ]
     },
     "execution_count": 8,
     "metadata": {},
     "output_type": "execute_result"
    }
   ],
   "source": [
    "# 샘플링한 가입자 일련번호로 전체 데이터 추출\n",
    "df_temp = raw[raw[\"가입자 일련번호\"].isin(sample_no)]\n",
    "df_temp.shape"
   ]
  },
  {
   "cell_type": "code",
   "execution_count": 9,
   "id": "c42809c6",
   "metadata": {},
   "outputs": [
    {
     "data": {
      "text/plain": [
       "9849"
      ]
     },
     "execution_count": 9,
     "metadata": {},
     "output_type": "execute_result"
    }
   ],
   "source": [
    "df_temp[\"가입자 일련번호\"].nunique()"
   ]
  },
  {
   "cell_type": "markdown",
   "id": "fc882c03",
   "metadata": {},
   "source": [
    "## pandas 사용"
   ]
  },
  {
   "cell_type": "code",
   "execution_count": 10,
   "id": "275735c8",
   "metadata": {},
   "outputs": [
    {
     "data": {
      "text/plain": [
       "1762599    720717\n",
       "3591389    776285\n",
       "6467703    864183\n",
       "5303579    828872\n",
       "7208786    886495\n",
       "            ...  \n",
       "267310     674961\n",
       "9148996    945733\n",
       "7664696    900371\n",
       "9529452    957477\n",
       "8173269    915880\n",
       "Name: 가입자 일련번호, Length: 10000, dtype: int64"
      ]
     },
     "execution_count": 10,
     "metadata": {},
     "output_type": "execute_result"
    }
   ],
   "source": [
    "sample_no = raw[\"가입자 일련번호\"].sample(10000, random_state=42)\n",
    "sample_no"
   ]
  },
  {
   "cell_type": "code",
   "execution_count": 11,
   "id": "9a6819e9",
   "metadata": {},
   "outputs": [
    {
     "data": {
      "text/plain": [
       "(769852, 15)"
      ]
     },
     "execution_count": 11,
     "metadata": {},
     "output_type": "execute_result"
    }
   ],
   "source": [
    "df_temp = raw[raw[\"가입자 일련번호\"].isin(sample_no)]\n",
    "df_temp.shape"
   ]
  },
  {
   "cell_type": "code",
   "execution_count": 12,
   "id": "2cc54850",
   "metadata": {},
   "outputs": [
    {
     "data": {
      "text/plain": [
       "9660"
      ]
     },
     "execution_count": 12,
     "metadata": {},
     "output_type": "execute_result"
    }
   ],
   "source": [
    "# 중복된 값이 있을 수 있기 때문에 정확히 10,000개의 데이터는 아님\n",
    "df_temp[\"가입자 일련번호\"].nunique()"
   ]
  },
  {
   "cell_type": "markdown",
   "id": "05acf42a",
   "metadata": {},
   "source": [
    "# 샘플링 파일로 저장"
   ]
  },
  {
   "cell_type": "code",
   "execution_count": 13,
   "id": "ca6404db",
   "metadata": {},
   "outputs": [],
   "source": [
    "df_temp.to_csv(\"data/HP_2020_sample.csv\", index=False)"
   ]
  },
  {
   "cell_type": "code",
   "execution_count": 14,
   "id": "b12403e4",
   "metadata": {},
   "outputs": [
    {
     "data": {
      "text/html": [
       "<div>\n",
       "<style scoped>\n",
       "    .dataframe tbody tr th:only-of-type {\n",
       "        vertical-align: middle;\n",
       "    }\n",
       "\n",
       "    .dataframe tbody tr th {\n",
       "        vertical-align: top;\n",
       "    }\n",
       "\n",
       "    .dataframe thead th {\n",
       "        text-align: right;\n",
       "    }\n",
       "</style>\n",
       "<table border=\"1\" class=\"dataframe\">\n",
       "  <thead>\n",
       "    <tr style=\"text-align: right;\">\n",
       "      <th></th>\n",
       "      <th>기준년도</th>\n",
       "      <th>가입자 일련번호</th>\n",
       "      <th>처방내역일련번호</th>\n",
       "      <th>일련번호</th>\n",
       "      <th>성별코드</th>\n",
       "      <th>연령대코드(5세단위)</th>\n",
       "      <th>시도코드</th>\n",
       "      <th>요양개시일자</th>\n",
       "      <th>약품일반성분명코드</th>\n",
       "      <th>1회 투약량</th>\n",
       "      <th>1일투약량</th>\n",
       "      <th>총투여일수</th>\n",
       "      <th>단가</th>\n",
       "      <th>금액</th>\n",
       "      <th>데이터 공개일자</th>\n",
       "    </tr>\n",
       "  </thead>\n",
       "  <tbody>\n",
       "    <tr>\n",
       "      <th>0</th>\n",
       "      <td>2020</td>\n",
       "      <td>666669</td>\n",
       "      <td>8553063</td>\n",
       "      <td>3</td>\n",
       "      <td>2</td>\n",
       "      <td>9</td>\n",
       "      <td>26</td>\n",
       "      <td>2020-10-11</td>\n",
       "      <td>430102ATB</td>\n",
       "      <td>1.0</td>\n",
       "      <td>2</td>\n",
       "      <td>10</td>\n",
       "      <td>205.0</td>\n",
       "      <td>4100</td>\n",
       "      <td>2021-12-29</td>\n",
       "    </tr>\n",
       "    <tr>\n",
       "      <th>1</th>\n",
       "      <td>2020</td>\n",
       "      <td>666669</td>\n",
       "      <td>8553063</td>\n",
       "      <td>2</td>\n",
       "      <td>2</td>\n",
       "      <td>9</td>\n",
       "      <td>26</td>\n",
       "      <td>2020-10-11</td>\n",
       "      <td>438901ATB</td>\n",
       "      <td>1.0</td>\n",
       "      <td>2</td>\n",
       "      <td>10</td>\n",
       "      <td>70.0</td>\n",
       "      <td>1400</td>\n",
       "      <td>2021-12-29</td>\n",
       "    </tr>\n",
       "    <tr>\n",
       "      <th>2</th>\n",
       "      <td>2020</td>\n",
       "      <td>666669</td>\n",
       "      <td>8553063</td>\n",
       "      <td>4</td>\n",
       "      <td>2</td>\n",
       "      <td>9</td>\n",
       "      <td>26</td>\n",
       "      <td>2020-10-11</td>\n",
       "      <td>374602ATB</td>\n",
       "      <td>1.0</td>\n",
       "      <td>1</td>\n",
       "      <td>10</td>\n",
       "      <td>765.0</td>\n",
       "      <td>7650</td>\n",
       "      <td>2021-12-29</td>\n",
       "    </tr>\n",
       "    <tr>\n",
       "      <th>3</th>\n",
       "      <td>2020</td>\n",
       "      <td>666669</td>\n",
       "      <td>3116013</td>\n",
       "      <td>1</td>\n",
       "      <td>2</td>\n",
       "      <td>9</td>\n",
       "      <td>26</td>\n",
       "      <td>2020-05-02</td>\n",
       "      <td>546600CCM</td>\n",
       "      <td>1.0</td>\n",
       "      <td>1</td>\n",
       "      <td>1</td>\n",
       "      <td>1720.0</td>\n",
       "      <td>1720</td>\n",
       "      <td>2021-12-29</td>\n",
       "    </tr>\n",
       "    <tr>\n",
       "      <th>4</th>\n",
       "      <td>2020</td>\n",
       "      <td>666669</td>\n",
       "      <td>2241712</td>\n",
       "      <td>2</td>\n",
       "      <td>2</td>\n",
       "      <td>9</td>\n",
       "      <td>26</td>\n",
       "      <td>2020-05-30</td>\n",
       "      <td>451202ATE</td>\n",
       "      <td>1.0</td>\n",
       "      <td>2</td>\n",
       "      <td>7</td>\n",
       "      <td>41.0</td>\n",
       "      <td>574</td>\n",
       "      <td>2021-12-29</td>\n",
       "    </tr>\n",
       "    <tr>\n",
       "      <th>...</th>\n",
       "      <td>...</td>\n",
       "      <td>...</td>\n",
       "      <td>...</td>\n",
       "      <td>...</td>\n",
       "      <td>...</td>\n",
       "      <td>...</td>\n",
       "      <td>...</td>\n",
       "      <td>...</td>\n",
       "      <td>...</td>\n",
       "      <td>...</td>\n",
       "      <td>...</td>\n",
       "      <td>...</td>\n",
       "      <td>...</td>\n",
       "      <td>...</td>\n",
       "      <td>...</td>\n",
       "    </tr>\n",
       "    <tr>\n",
       "      <th>769847</th>\n",
       "      <td>2020</td>\n",
       "      <td>999989</td>\n",
       "      <td>1296609</td>\n",
       "      <td>6</td>\n",
       "      <td>2</td>\n",
       "      <td>16</td>\n",
       "      <td>44</td>\n",
       "      <td>2020-09-08</td>\n",
       "      <td>163801ATB</td>\n",
       "      <td>1.0</td>\n",
       "      <td>1</td>\n",
       "      <td>60</td>\n",
       "      <td>30.0</td>\n",
       "      <td>1800</td>\n",
       "      <td>2021-12-29</td>\n",
       "    </tr>\n",
       "    <tr>\n",
       "      <th>769848</th>\n",
       "      <td>2020</td>\n",
       "      <td>999989</td>\n",
       "      <td>1296609</td>\n",
       "      <td>5</td>\n",
       "      <td>2</td>\n",
       "      <td>16</td>\n",
       "      <td>44</td>\n",
       "      <td>2020-09-08</td>\n",
       "      <td>454001ATB</td>\n",
       "      <td>1.0</td>\n",
       "      <td>1</td>\n",
       "      <td>60</td>\n",
       "      <td>612.0</td>\n",
       "      <td>36720</td>\n",
       "      <td>2021-12-29</td>\n",
       "    </tr>\n",
       "    <tr>\n",
       "      <th>769849</th>\n",
       "      <td>2020</td>\n",
       "      <td>999989</td>\n",
       "      <td>1296609</td>\n",
       "      <td>4</td>\n",
       "      <td>2</td>\n",
       "      <td>16</td>\n",
       "      <td>44</td>\n",
       "      <td>2020-09-08</td>\n",
       "      <td>513000ATB</td>\n",
       "      <td>1.0</td>\n",
       "      <td>1</td>\n",
       "      <td>60</td>\n",
       "      <td>190.0</td>\n",
       "      <td>11400</td>\n",
       "      <td>2021-12-29</td>\n",
       "    </tr>\n",
       "    <tr>\n",
       "      <th>769850</th>\n",
       "      <td>2020</td>\n",
       "      <td>999989</td>\n",
       "      <td>1296609</td>\n",
       "      <td>3</td>\n",
       "      <td>2</td>\n",
       "      <td>16</td>\n",
       "      <td>44</td>\n",
       "      <td>2020-09-08</td>\n",
       "      <td>614901ATB</td>\n",
       "      <td>1.0</td>\n",
       "      <td>2</td>\n",
       "      <td>60</td>\n",
       "      <td>152.0</td>\n",
       "      <td>18240</td>\n",
       "      <td>2021-12-29</td>\n",
       "    </tr>\n",
       "    <tr>\n",
       "      <th>769851</th>\n",
       "      <td>2020</td>\n",
       "      <td>999989</td>\n",
       "      <td>1296609</td>\n",
       "      <td>2</td>\n",
       "      <td>2</td>\n",
       "      <td>16</td>\n",
       "      <td>44</td>\n",
       "      <td>2020-09-08</td>\n",
       "      <td>184101ATB</td>\n",
       "      <td>1.0</td>\n",
       "      <td>2</td>\n",
       "      <td>60</td>\n",
       "      <td>322.0</td>\n",
       "      <td>38640</td>\n",
       "      <td>2021-12-29</td>\n",
       "    </tr>\n",
       "  </tbody>\n",
       "</table>\n",
       "<p>769852 rows × 15 columns</p>\n",
       "</div>"
      ],
      "text/plain": [
       "        기준년도  가입자 일련번호  처방내역일련번호  일련번호  성별코드  연령대코드(5세단위)  시도코드      요양개시일자  \\\n",
       "0       2020    666669   8553063     3     2            9    26  2020-10-11   \n",
       "1       2020    666669   8553063     2     2            9    26  2020-10-11   \n",
       "2       2020    666669   8553063     4     2            9    26  2020-10-11   \n",
       "3       2020    666669   3116013     1     2            9    26  2020-05-02   \n",
       "4       2020    666669   2241712     2     2            9    26  2020-05-30   \n",
       "...      ...       ...       ...   ...   ...          ...   ...         ...   \n",
       "769847  2020    999989   1296609     6     2           16    44  2020-09-08   \n",
       "769848  2020    999989   1296609     5     2           16    44  2020-09-08   \n",
       "769849  2020    999989   1296609     4     2           16    44  2020-09-08   \n",
       "769850  2020    999989   1296609     3     2           16    44  2020-09-08   \n",
       "769851  2020    999989   1296609     2     2           16    44  2020-09-08   \n",
       "\n",
       "        약품일반성분명코드  1회 투약량  1일투약량  총투여일수      단가     금액    데이터 공개일자  \n",
       "0       430102ATB     1.0      2     10   205.0   4100  2021-12-29  \n",
       "1       438901ATB     1.0      2     10    70.0   1400  2021-12-29  \n",
       "2       374602ATB     1.0      1     10   765.0   7650  2021-12-29  \n",
       "3       546600CCM     1.0      1      1  1720.0   1720  2021-12-29  \n",
       "4       451202ATE     1.0      2      7    41.0    574  2021-12-29  \n",
       "...           ...     ...    ...    ...     ...    ...         ...  \n",
       "769847  163801ATB     1.0      1     60    30.0   1800  2021-12-29  \n",
       "769848  454001ATB     1.0      1     60   612.0  36720  2021-12-29  \n",
       "769849  513000ATB     1.0      1     60   190.0  11400  2021-12-29  \n",
       "769850  614901ATB     1.0      2     60   152.0  18240  2021-12-29  \n",
       "769851  184101ATB     1.0      2     60   322.0  38640  2021-12-29  \n",
       "\n",
       "[769852 rows x 15 columns]"
      ]
     },
     "execution_count": 14,
     "metadata": {},
     "output_type": "execute_result"
    }
   ],
   "source": [
    "pd.read_csv(\"data/HP_2020_sample.csv\")"
   ]
  }
 ],
 "metadata": {
  "kernelspec": {
   "display_name": "Python 3 (ipykernel)",
   "language": "python",
   "name": "python3"
  },
  "language_info": {
   "codemirror_mode": {
    "name": "ipython",
    "version": 3
   },
   "file_extension": ".py",
   "mimetype": "text/x-python",
   "name": "python",
   "nbconvert_exporter": "python",
   "pygments_lexer": "ipython3",
   "version": "3.8.13"
  },
  "toc": {
   "base_numbering": 1,
   "nav_menu": {},
   "number_sections": true,
   "sideBar": true,
   "skip_h1_title": false,
   "title_cell": "Table of Contents",
   "title_sidebar": "Contents",
   "toc_cell": false,
   "toc_position": {},
   "toc_section_display": true,
   "toc_window_display": false
  }
 },
 "nbformat": 4,
 "nbformat_minor": 5
}
