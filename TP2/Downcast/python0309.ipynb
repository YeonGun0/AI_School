{
 "cells": [
  {
   "cell_type": "code",
   "execution_count": 1,
   "id": "fe12a5c8",
   "metadata": {},
   "outputs": [],
   "source": [
    "import pandas as pd"
   ]
  },
  {
   "cell_type": "markdown",
   "id": "eef28f0b",
   "metadata": {},
   "source": [
    "## 데이터프레임을 두 가지 방법으로 저장"
   ]
  },
  {
   "cell_type": "code",
   "execution_count": 2,
   "id": "be78f7f3",
   "metadata": {},
   "outputs": [],
   "source": [
    "df = pd.DataFrame(data={'col1': [1, 2] , 'col2': [3, 4]})\n",
    "df.to_parquet('df.parquet.gzip', compression='gzip')\n",
    "df.to_csv(\"df.csv\")"
   ]
  },
  {
   "cell_type": "markdown",
   "id": "5be38032",
   "metadata": {},
   "source": [
    "## csv가 parquet보다 용량이 큰 것을 알 수 있음\n",
    "### 왜 그런가?\n",
    "* parquet는 메타 데이터를 포함하고 있기 때문\n",
    "* csv는 메타 데이터를 포함하고 있지 않음"
   ]
  },
  {
   "cell_type": "code",
   "execution_count": 3,
   "id": "753979c3",
   "metadata": {},
   "outputs": [
    {
     "data": {
      "text/plain": [
       "(769852, 15)"
      ]
     },
     "execution_count": 3,
     "metadata": {},
     "output_type": "execute_result"
    }
   ],
   "source": [
    "df = pd.read_csv(\"../Medical/data/HP_2020_sample.csv\")\n",
    "df.shape"
   ]
  },
  {
   "cell_type": "code",
   "execution_count": 5,
   "id": "d573b21b",
   "metadata": {},
   "outputs": [],
   "source": [
    "file_path_parquet = \"df.parquet.gzip\"\n",
    "file_path_csv = \"df.csv\"\n",
    "\n",
    "df.to_parquet(file_path_parquet)\n",
    "df.to_csv(file_path_csv)"
   ]
  },
  {
   "cell_type": "code",
   "execution_count": 7,
   "id": "296ff140",
   "metadata": {},
   "outputs": [
    {
     "data": {
      "text/plain": [
       "('parquet: ', '8,188,325', 'csv:', '67,680,620')"
      ]
     },
     "execution_count": 7,
     "metadata": {},
     "output_type": "execute_result"
    }
   ],
   "source": [
    "# file size 출력\n",
    "# byte 단위\n",
    "import os\n",
    "\n",
    "\"parquet: \", format(os.stat(file_path_parquet).st_size, ','), \"csv:\", format(os.stat(file_path_csv).st_size, ',')"
   ]
  },
  {
   "cell_type": "code",
   "execution_count": 23,
   "id": "65001669",
   "metadata": {},
   "outputs": [
    {
     "data": {
      "text/plain": [
       "('7.81 MB', '64.55 MB', None)"
      ]
     },
     "execution_count": 23,
     "metadata": {},
     "output_type": "execute_result"
    }
   ],
   "source": [
    "def convert_bytes(num):\n",
    "    for file_size in [\"bytes\", \"KB\", \"MB\", \"GB\", \"TB\"]:\n",
    "        if num < 1024:\n",
    "            return f\"{num:.2f} {file_size}\"\n",
    "        num /= 1024\n",
    "        \n",
    "\n",
    "def file_size(file_path):\n",
    "    if os.path.isfile(file_path):\n",
    "        file_info = os.stat(file_path)\n",
    "        return convert_bytes(file_info.st_size)\n",
    "    \n",
    "file_size(file_path_parquet), file_size(file_path_csv), file_size(\"\")"
   ]
  },
  {
   "cell_type": "code",
   "execution_count": 35,
   "id": "6335c22f",
   "metadata": {},
   "outputs": [],
   "source": [
    "def compare_csv_parquet(df):\n",
    "    file_path_parquet = 'df.parquet.gzip'\n",
    "    file_path_csv = 'df.csv'\n",
    "    \n",
    "    df.to_parquet(file_path_parquet)\n",
    "    df.to_csv(file_path_csv)\n",
    "    return {\"parquet\": file_size(file_path_parquet), \"csv\": file_size(file_path_csv)}"
   ]
  },
  {
   "cell_type": "code",
   "execution_count": 36,
   "id": "d079e2fd",
   "metadata": {},
   "outputs": [
    {
     "data": {
      "text/plain": [
       "{'parquet': '244.64 KB', 'csv': '1.21 MB'}"
      ]
     },
     "execution_count": 36,
     "metadata": {},
     "output_type": "execute_result"
    }
   ],
   "source": [
    "df = pd.read_csv(\"../COVID/data/seoul-covid19-2021-12-26.csv\")\n",
    "compare_csv_parquet(df)"
   ]
  },
  {
   "cell_type": "code",
   "execution_count": 37,
   "id": "c24cbdfe",
   "metadata": {},
   "outputs": [
    {
     "name": "stdout",
     "output_type": "stream",
     "text": [
      "<class 'pandas.core.frame.DataFrame'>\n",
      "RangeIndex: 18646 entries, 0 to 18645\n",
      "Data columns (total 8 columns):\n",
      " #   Column      Non-Null Count  Dtype \n",
      "---  ------      --------------  ----- \n",
      " 0   Unnamed: 0  18646 non-null  int64 \n",
      " 1   연번          18646 non-null  int64 \n",
      " 2   환자          18646 non-null  int64 \n",
      " 3   확진일         18646 non-null  object\n",
      " 4   거주지         18646 non-null  object\n",
      " 5   여행력         18646 non-null  object\n",
      " 6   접촉력         18646 non-null  object\n",
      " 7   퇴원현황        369 non-null    object\n",
      "dtypes: int64(3), object(5)\n",
      "memory usage: 1.1+ MB\n",
      "CPU times: user 29.2 ms, sys: 7.07 ms, total: 36.3 ms\n",
      "Wall time: 38 ms\n"
     ]
    }
   ],
   "source": [
    "%time pd.read_csv(file_path_csv).info()"
   ]
  },
  {
   "cell_type": "code",
   "execution_count": 38,
   "id": "01e3f18d",
   "metadata": {},
   "outputs": [
    {
     "name": "stdout",
     "output_type": "stream",
     "text": [
      "<class 'pandas.core.frame.DataFrame'>\n",
      "RangeIndex: 18646 entries, 0 to 18645\n",
      "Data columns (total 7 columns):\n",
      " #   Column  Non-Null Count  Dtype \n",
      "---  ------  --------------  ----- \n",
      " 0   연번      18646 non-null  int64 \n",
      " 1   환자      18646 non-null  int64 \n",
      " 2   확진일     18646 non-null  object\n",
      " 3   거주지     18646 non-null  object\n",
      " 4   여행력     18646 non-null  object\n",
      " 5   접촉력     18646 non-null  object\n",
      " 6   퇴원현황    369 non-null    object\n",
      "dtypes: int64(2), object(5)\n",
      "memory usage: 1019.8+ KB\n",
      "CPU times: user 13.1 ms, sys: 9.94 ms, total: 23.1 ms\n",
      "Wall time: 47.7 ms\n"
     ]
    }
   ],
   "source": [
    "%time pd.read_parquet(file_path_parquet).info()"
   ]
  },
  {
   "cell_type": "markdown",
   "id": "0da4f13d",
   "metadata": {},
   "source": [
    "## Pyspark koalas"
   ]
  },
  {
   "cell_type": "code",
   "execution_count": null,
   "id": "e6073e9d",
   "metadata": {},
   "outputs": [],
   "source": []
  }
 ],
 "metadata": {
  "kernelspec": {
   "display_name": "Python 3 (ipykernel)",
   "language": "python",
   "name": "python3"
  },
  "language_info": {
   "codemirror_mode": {
    "name": "ipython",
    "version": 3
   },
   "file_extension": ".py",
   "mimetype": "text/x-python",
   "name": "python",
   "nbconvert_exporter": "python",
   "pygments_lexer": "ipython3",
   "version": "3.8.13"
  },
  "toc": {
   "base_numbering": 1,
   "nav_menu": {},
   "number_sections": true,
   "sideBar": true,
   "skip_h1_title": false,
   "title_cell": "Table of Contents",
   "title_sidebar": "Contents",
   "toc_cell": false,
   "toc_position": {},
   "toc_section_display": true,
   "toc_window_display": false
  }
 },
 "nbformat": 4,
 "nbformat_minor": 5
}
