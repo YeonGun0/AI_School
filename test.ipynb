{
 "cells": [
  {
   "cell_type": "code",
   "execution_count": 18,
   "metadata": {},
   "outputs": [
    {
     "name": "stdout",
     "output_type": "stream",
     "text": [
      "Nice to meet you.\n"
     ]
    }
   ],
   "source": [
    "import os\n",
    "import sys\n",
    "import urllib.request\n",
    "import json\n",
    "\n",
    "client_id = \"\" # 개발자센터에서 발급받은 Client ID 값\n",
    "client_secret = \"\" # 개발자센터에서 발급받은 Client Secret 값\n",
    "encText = urllib.parse.quote(\"반갑습니다\")\n",
    "data = \"source=ko&target=en&text=\" + encText\n",
    "url = \"https://openapi.naver.com/v1/papago/n2mt\"\n",
    "request = urllib.request.Request(url)\n",
    "request.add_header(\"X-Naver-Client-Id\",client_id)\n",
    "request.add_header(\"X-Naver-Client-Secret\",client_secret)\n",
    "response = urllib.request.urlopen(request, data=data.encode(\"utf-8\"))\n",
    "rescode = response.getcode()\n",
    "if(rescode==200):\n",
    "    response_body = response.read()\n",
    "    json_res = response_body.decode('utf-8')\n",
    "    \n",
    "    json_to_dict = json.loads(json_res)\n",
    "    translated_text = json_to_dict[\"message\"][\"result\"][\"translatedText\"]\n",
    "    print(translated_text)\n",
    "else:\n",
    "    print(\"Error Code:\" + rescode)"
   ]
  },
  {
   "attachments": {},
   "cell_type": "markdown",
   "metadata": {},
   "source": [
    "[key](https://developers.naver.com/apps/#/myapps/TiXmVlMmg4qE9ylDaKY2/overview)"
   ]
  },
  {
   "cell_type": "code",
   "execution_count": 2,
   "metadata": {},
   "outputs": [],
   "source": [
    "import os\n",
    "import sys\n",
    "import urllib.request\n",
    "import json\n",
    "\n",
    "\n",
    "client_id = \"\" \n",
    "client_secret = \"\" \n",
    "\n",
    "def translate_kr_to_en(client_id, client_secret, korean):\n",
    "    client_id = client_id\n",
    "    client_secret = client_secret\n",
    "    encText = urllib.parse.quote(korean)\n",
    "    data = \"source=ko&target=en&text=\" + encText\n",
    "    url = \"https://openapi.naver.com/v1/papago/n2mt\"\n",
    "    request = urllib.request.Request(url)\n",
    "    request.add_header(\"X-Naver-Client-Id\",client_id)\n",
    "    request.add_header(\"X-Naver-Client-Secret\",client_secret)\n",
    "    response = urllib.request.urlopen(request, data=data.encode(\"utf-8\"))\n",
    "    rescode = response.getcode()\n",
    "    if(rescode==200):\n",
    "        response_body = response.read()\n",
    "        json_res = response_body.decode('utf-8')\n",
    "        \n",
    "        json_to_dict = json.loads(json_res)\n",
    "        translated_text = json_to_dict[\"message\"][\"result\"][\"translatedText\"]\n",
    "        \n",
    "        return translated_text\n",
    "    else:\n",
    "        error_msg = \"Error Code:\" + rescode\n",
    "        return error_msg\n",
    "\n",
    "def translate_en_to_kr(client_id, client_secret, korean):\n",
    "    client_id = client_id\n",
    "    client_secret = client_secret\n",
    "    encText = urllib.parse.quote(korean)\n",
    "    data = \"source=en&target=ko&text=\" + encText\n",
    "    url = \"https://openapi.naver.com/v1/papago/n2mt\"\n",
    "    request = urllib.request.Request(url)\n",
    "    request.add_header(\"X-Naver-Client-Id\",client_id)\n",
    "    request.add_header(\"X-Naver-Client-Secret\",client_secret)\n",
    "    response = urllib.request.urlopen(request, data=data.encode(\"utf-8\"))\n",
    "    rescode = response.getcode()\n",
    "    if(rescode==200):\n",
    "        response_body = response.read()\n",
    "        json_res = response_body.decode('utf-8')\n",
    "        \n",
    "        json_to_dict = json.loads(json_res)\n",
    "        translated_text = json_to_dict[\"message\"][\"result\"][\"translatedText\"]\n",
    "        \n",
    "        return translated_text\n",
    "    else:\n",
    "        error_msg = \"Error Code:\" + rescode\n",
    "        return error_msg\n",
    "\n",
    "def translate_kr_to_jn(client_id, client_secret, korean):\n",
    "    client_id = client_id\n",
    "    client_secret = client_secret\n",
    "    encText = urllib.parse.quote(korean)\n",
    "    data = \"source=ko&target=ja&text=\" + encText\n",
    "    url = \"https://openapi.naver.com/v1/papago/n2mt\"\n",
    "    request = urllib.request.Request(url)\n",
    "    request.add_header(\"X-Naver-Client-Id\",client_id)\n",
    "    request.add_header(\"X-Naver-Client-Secret\",client_secret)\n",
    "    response = urllib.request.urlopen(request, data=data.encode(\"utf-8\"))\n",
    "    rescode = response.getcode()\n",
    "    if(rescode==200):\n",
    "        response_body = response.read()\n",
    "        json_res = response_body.decode('utf-8')\n",
    "        \n",
    "        json_to_dict = json.loads(json_res)\n",
    "        translated_text = json_to_dict[\"message\"][\"result\"][\"translatedText\"]\n",
    "        \n",
    "        return translated_text\n",
    "    else:\n",
    "        error_msg = \"Error Code:\" + rescode\n",
    "        return error_msg\n",
    "\n",
    "def translate_jn_to_kr(client_id, client_secret, korean):\n",
    "    client_id = client_id\n",
    "    client_secret = client_secret\n",
    "    encText = urllib.parse.quote(korean)\n",
    "    data = \"source=ja&target=ko&text=\" + encText\n",
    "    url = \"https://openapi.naver.com/v1/papago/n2mt\"\n",
    "    request = urllib.request.Request(url)\n",
    "    request.add_header(\"X-Naver-Client-Id\",client_id)\n",
    "    request.add_header(\"X-Naver-Client-Secret\",client_secret)\n",
    "    response = urllib.request.urlopen(request, data=data.encode(\"utf-8\"))\n",
    "    rescode = response.getcode()\n",
    "    if(rescode==200):\n",
    "        response_body = response.read()\n",
    "        json_res = response_body.decode('utf-8')\n",
    "        \n",
    "        json_to_dict = json.loads(json_res)\n",
    "        translated_text = json_to_dict[\"message\"][\"result\"][\"translatedText\"]\n",
    "        \n",
    "        return translated_text\n",
    "    else:\n",
    "        error_msg = \"Error Code:\" + rescode\n",
    "        return error_msg"
   ]
  },
  {
   "cell_type": "code",
   "execution_count": 25,
   "metadata": {},
   "outputs": [
    {
     "data": {
      "text/plain": [
       "\"Until the day when the East Sea's waters and Baekdusan Mountain are dry and worn away, god protect and preserve our nation.\""
      ]
     },
     "execution_count": 25,
     "metadata": {},
     "output_type": "execute_result"
    }
   ],
   "source": [
    "text = \"동해물과 백두산이 마르고 닳도록 하느님이 보우하사 우리나라 만세\"\n",
    "translate_kr_to_en(client_id, client_secret, text)"
   ]
  },
  {
   "cell_type": "code",
   "execution_count": 4,
   "metadata": {},
   "outputs": [
    {
     "data": {
      "text/plain": [
       "'동해의 물과 백두산이 마르고 닳는 그날까지 하나님께서 우리나라를 지켜주시고 보전해주시는 것이다.'"
      ]
     },
     "execution_count": 4,
     "metadata": {},
     "output_type": "execute_result"
    }
   ],
   "source": [
    "text = \"Until the day when the East Sea's waters and Baekdusan Mountain are dry and worn away, god protect and preserve our nation.\"\n",
    "\n",
    "client_id = \"TiXmVlMmg4qE9ylDaKY2\"\n",
    "client_secret= \"cdigrMHLJD\"\n",
    "\n",
    "translate_en_to_kr(client_id, client_secret, text)"
   ]
  },
  {
   "cell_type": "code",
   "execution_count": 31,
   "metadata": {},
   "outputs": [
    {
     "data": {
      "text/plain": [
       "'東海の水と白頭山が乾くまで神様が歩こう我が国万歳'"
      ]
     },
     "execution_count": 31,
     "metadata": {},
     "output_type": "execute_result"
    }
   ],
   "source": [
    "text = \"동해물과 백두산이 마르고 닳도록 하느님이 보우하사 우리나라 만세\"\n",
    "jp = translate_kr_to_jn(client_id, client_secret, text)\n",
    "jp"
   ]
  },
  {
   "cell_type": "code",
   "execution_count": 32,
   "metadata": {},
   "outputs": [
    {
     "data": {
      "text/plain": [
       "'동해물과 백두산이 마를 때까지 하나님이 걷자 우리나라 만세'"
      ]
     },
     "execution_count": 32,
     "metadata": {},
     "output_type": "execute_result"
    }
   ],
   "source": [
    "translate_jn_to_kr(client_id, client_secret, jp)"
   ]
  },
  {
   "cell_type": "code",
   "execution_count": 24,
   "metadata": {},
   "outputs": [
    {
     "data": {
      "text/plain": [
       "'그들은 모래 속에서 헤엄치고 있어 성수를 빌어 우리 손에서 죄를 씻어내고 있어'"
      ]
     },
     "execution_count": 24,
     "metadata": {},
     "output_type": "execute_result"
    }
   ],
   "source": [
    "text = \"Down in dry county They're swimming in the sand Praying for some holy water To wash the sins from off our hands\"\n",
    "translate_en_to_kr(client_id, client_secret, text)"
   ]
  },
  {
   "cell_type": "code",
   "execution_count": null,
   "metadata": {},
   "outputs": [],
   "source": []
  }
 ],
 "metadata": {
  "colab": {
   "authorship_tag": "ABX9TyMRr6nWOfG3XSNKXjLkRrlD",
   "provenance": []
  },
  "kernelspec": {
   "display_name": "Python 3.8.15 ('tf-cert')",
   "language": "python",
   "name": "python3"
  },
  "language_info": {
   "codemirror_mode": {
    "name": "ipython",
    "version": 3
   },
   "file_extension": ".py",
   "mimetype": "text/x-python",
   "name": "python",
   "nbconvert_exporter": "python",
   "pygments_lexer": "ipython3",
   "version": "3.8.15"
  },
  "toc": {
   "base_numbering": 1,
   "nav_menu": {},
   "number_sections": true,
   "sideBar": true,
   "skip_h1_title": false,
   "title_cell": "Table of Contents",
   "title_sidebar": "Contents",
   "toc_cell": false,
   "toc_position": {},
   "toc_section_display": true,
   "toc_window_display": false
  },
  "vscode": {
   "interpreter": {
    "hash": "b37592e24976bbc2b4793f9e16cde29a149096caf81a3ecbdead9daa6a7261c0"
   }
  }
 },
 "nbformat": 4,
 "nbformat_minor": 1
}
